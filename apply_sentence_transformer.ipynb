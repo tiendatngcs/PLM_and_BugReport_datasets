{
 "cells": [
  {
   "cell_type": "code",
   "execution_count": null,
   "metadata": {},
   "outputs": [],
   "source": []
  },
  {
   "cell_type": "markdown",
   "metadata": {},
   "source": [
    "# imports"
   ]
  },
  {
   "cell_type": "code",
   "execution_count": 1,
   "metadata": {},
   "outputs": [
    {
     "name": "stderr",
     "output_type": "stream",
     "text": [
      "/home/grads/t/tiendat.ng.cs/.local/lib/python3.8/site-packages/tqdm/auto.py:21: TqdmWarning: IProgress not found. Please update jupyter and ipywidgets. See https://ipywidgets.readthedocs.io/en/stable/user_install.html\n",
      "  from .autonotebook import tqdm as notebook_tqdm\n"
     ]
    }
   ],
   "source": [
    "from sentence_transformers import SentenceTransformer, util\n",
    "import torch\n",
    "from transformers import RobertaTokenizer, RobertaConfig, RobertaModel\n",
    "\n",
    "import sqlite3\n",
    "import argparse\n",
    "from tqdm import tqdm\n",
    "import numpy as np\n",
    "from matplotlib import pyplot as plt\n",
    "import os\n",
    "from numpy.linalg import norm\n",
    "import sys\n",
    "from itertools import combinations\n",
    "import random\n",
    "import my_utils"
   ]
  },
  {
   "cell_type": "markdown",
   "metadata": {},
   "source": [
    "# Utils"
   ]
  },
  {
   "cell_type": "code",
   "execution_count": 2,
   "metadata": {},
   "outputs": [],
   "source": [
    "class UnionFind:\n",
    "    def __init__(self):\n",
    "        self.parent = {}  # Dictionary to store parent nodes\n",
    "        self.ranks = {}    # Dictionary to store rank (or size) of each set\n",
    "        self.processed = False\n",
    "        self.project_name = None\n",
    "\n",
    "    def find(self, x):\n",
    "        if x not in self.parent:\n",
    "            self.parent[x] = x\n",
    "            self.ranks[x] = 1\n",
    "            return x\n",
    "\n",
    "        # Path compression\n",
    "        if self.parent[x] != x:\n",
    "            self.parent[x] = self.find(self.parent[x])\n",
    "        return self.parent[x]\n",
    "\n",
    "    def union(self, x, y):\n",
    "        root_x = self.find(x)\n",
    "        root_y = self.find(y)\n",
    "\n",
    "        if root_x != root_y:\n",
    "            if self.ranks[root_x] < self.ranks[root_y]:\n",
    "                self.parent[root_x] = root_y\n",
    "                self.ranks[root_y] += self.ranks[root_x]\n",
    "            else:\n",
    "                self.parent[root_y] = root_x\n",
    "                self.ranks[root_x] += self.ranks[root_y]\n",
    "            \n",
    "    def process_project(self, conn, project_name):\n",
    "        cursor = conn.cursor()\n",
    "        self.project_name = project_name\n",
    "        print(\"Processing\", project_name)\n",
    "        cursor.execute(f\"SELECT * FROM {project_name}\")\n",
    "        for row in cursor.fetchall():\n",
    "            dup_id = int(row[column_names.index(\"dup_id\")])\n",
    "            if dup_id == -1: continue\n",
    "            bug_id = int(row[column_names.index(\"bug_id\")])\n",
    "            assert(dup_id != bug_id)\n",
    "            self.union(bug_id, dup_id)\n",
    "        self.processed = True\n",
    "            \n",
    "    def get_roots(self,):\n",
    "        assert(self.processed)\n",
    "        return list(set(self.parent.values()))\n",
    "    \n",
    "    def get_children(self, parent):\n",
    "        assert(self.processed)\n",
    "        parent = self.find(parent)\n",
    "        children = [key for key, value in self.parent.items() if value == parent]\n",
    "        return children\n",
    "    \n",
    "    def get_all_children(self, ):\n",
    "        return [key for key, value in self.parent.items()]\n",
    "    \n",
    "    def are_dups(this, bug_id1, bug_id2):\n",
    "        if (bug_id1 not in this.parent.keys() or bug_id2 not in this.parent.keys()):\n",
    "            return False\n",
    "        return this.parent[bug_id1] == this.parent[bug_id2]\n",
    "            "
   ]
  },
  {
   "cell_type": "code",
   "execution_count": 3,
   "metadata": {},
   "outputs": [],
   "source": [
    "def get_bug_ids(conn, table_name):\n",
    "    cursor = conn.cursor()\n",
    "    column_name = \"bug_id\"\n",
    "\n",
    "    # Fetch table names using SQL query\n",
    "    cursor.execute(f\"SELECT DISTINCT {column_name} FROM {table_name} ORDER BY {column_name};\")\n",
    "    distinct_values_sorted = cursor.fetchall()\n",
    "\n",
    "    # Extract table names from the result\n",
    "    return [value[0] for value in distinct_values_sorted]"
   ]
  },
  {
   "cell_type": "code",
   "execution_count": 4,
   "metadata": {},
   "outputs": [],
   "source": [
    "def get_column_names(conn, table_name):\n",
    "    cursor = conn.cursor()\n",
    "\n",
    "    # Execute a query to get information about the columns in the specified table\n",
    "    cursor.execute(f\"PRAGMA table_info({table_name});\")\n",
    "    columns_info = cursor.fetchall()\n",
    "\n",
    "    # Extract and return the column names\n",
    "    column_names = [column[1] for column in columns_info]\n",
    "    return column_names"
   ]
  },
  {
   "cell_type": "code",
   "execution_count": 5,
   "metadata": {},
   "outputs": [],
   "source": [
    "def get_code_feature(conn, project_name, bug_id):\n",
    "    cursor = conn.cursor()\n",
    "\n",
    "    # Fetch table names using SQL query\n",
    "    query = f\"SELECT * FROM {project_name} WHERE bug_id = {bug_id};\"\n",
    "    # print(query)\n",
    "    cursor.execute(query)\n",
    "    result = cursor.fetchall()[0]\n",
    "    return result[column_names.index(\"code_feature\")]"
   ]
  },
  {
   "cell_type": "code",
   "execution_count": 6,
   "metadata": {},
   "outputs": [],
   "source": [
    "def get_descriptions(conn, project_name, bug_id):\n",
    "    cursor = conn.cursor()\n",
    "\n",
    "    # Fetch table names using SQL query\n",
    "    query = f\"SELECT * FROM {project_name} WHERE bug_id = {bug_id};\"\n",
    "    # print(query)\n",
    "    cursor.execute(query)\n",
    "    result = cursor.fetchall()[0]\n",
    "    desc = result[column_names.index(\"description\")]\n",
    "    short_desc = result[column_names.index(\"short_desc\")]\n",
    "\n",
    "    # Extract table names from the result\n",
    "    return (desc + \" \\n \" + short_desc).replace(\"\\\\'\", \"'\")"
   ]
  },
  {
   "cell_type": "code",
   "execution_count": 7,
   "metadata": {},
   "outputs": [],
   "source": [
    "def vectorize(description, stride_len, chunk_size):\n",
    "    tokens = tokenizer.tokenize(description)\n",
    "    # if len og token array is < 32, we do nothing as there is not enough information\n",
    "    if (len(tokens) < chunk_size // 2): return None\n",
    "\n",
    "    # remember to add cls and sep token at each chunk\n",
    "    token_ids = tokenizer.convert_tokens_to_ids([tokenizer.cls_token]+tokens+[tokenizer.sep_token])\n",
    "\n",
    "    # divide token ids into batche of chunks\n",
    "    chunk_list=[]\n",
    "    for i in range(0, len(token_ids), stride_len):\n",
    "        chunk = token_ids[i:min(i+chunk_size, len(token_ids))]\n",
    "        assert(len(chunk) <= chunk_size)\n",
    "        if len(chunk) < chunk_size:\n",
    "            # keep going\n",
    "            continue\n",
    "            # if (len(chunk) < chunk_size // 2): continue\n",
    "            # pad_length = chunk_size - len(chunk)\n",
    "            # chunk += [tokenizer.pad_token_id]*pad_length\n",
    "        assert(len(chunk) == chunk_size)\n",
    "        # print(chunk)\n",
    "        chunk_list.append(chunk)\n",
    "\n",
    "    if(len(chunk_list) == 0): return None\n",
    "    chunk_arr = np.array(chunk_list)\n",
    "    # print(\"Chunk arr size{}\".format(chunk_arr.shape))\n",
    "    # context_embedding = model(torch.tensor(token_ids[:512])[None, :])[0]\n",
    "    context_embedding = model(torch.tensor(chunk_arr)[:, :])[0]\n",
    "    return context_embedding.detach().numpy()"
   ]
  },
  {
   "cell_type": "code",
   "execution_count": 8,
   "metadata": {},
   "outputs": [],
   "source": [
    "def get_duplicated_pairs(union_find):\n",
    "    roots = union_find.get_roots()\n",
    "    pairs = []\n",
    "    for root in roots:\n",
    "        group = union_find.get_children(root)\n",
    "        pairs += list(combinations(group, 2))\n",
    "    return pairs"
   ]
  },
  {
   "cell_type": "code",
   "execution_count": 9,
   "metadata": {},
   "outputs": [],
   "source": [
    "def get_non_duplicated_pairs(union_find, conn, size):\n",
    "    from_dup = union_find.get_all_children()\n",
    "    #sample in some other single reports\n",
    "    assert(union_find.processed)\n",
    "    samples = random.sample(get_bug_ids(conn, union_find.project_name), len(from_dup))\n",
    "    \n",
    "    pairs = []\n",
    "    count = 0\n",
    "    while (count < size):\n",
    "        pair = random.sample(samples, 2)\n",
    "        if pair[0] == pair[1] or union_find.are_dups(pair[0], pair[1]):\n",
    "            continue\n",
    "        pairs += [(pair[0], pair[1]),]\n",
    "        count += 1\n",
    "    return pairs"
   ]
  },
  {
   "cell_type": "code",
   "execution_count": 10,
   "metadata": {},
   "outputs": [],
   "source": [
    "def get_mislabels(union_find, bug_ids, anchor_bug_id, threshold):\n",
    "    assert(threshold >= 0 and threshold <= 1)\n",
    "    ret = []\n",
    "    for bug_id in tqdm(bug_ids):\n",
    "        if not union_find.are_dups(anchor_bug_id, bug_id):\n",
    "            sim_score = get_similarity_of_pair((anchor_bug_id, bug_id),)\n",
    "            if sim_score > threshold:\n",
    "                ret += [bug_id]\n",
    "    return ret"
   ]
  },
  {
   "cell_type": "code",
   "execution_count": 11,
   "metadata": {},
   "outputs": [],
   "source": [
    "\n",
    "def get_similarity_of_pair_with_code_feature(conn, project_name, pair):\n",
    "    sent0 = my_utils.get_code_feature(conn, project_name, pair[0])\n",
    "    sent1 = my_utils.get_code_feature(conn, project_name, pair[1])\n",
    "    sent_embedding0 = model.encode(sent0,convert_to_tensor=True)\n",
    "    sent_embedding1 = model.encode(sent1,convert_to_tensor=True)\n",
    "    return util.pytorch_cos_sim(sent_embedding0, sent_embedding1).numpy()[0, 0]\n",
    "\n",
    "\n",
    "def get_similarity_of_pair_with_desc(conn, project_name, pair):\n",
    "    sent0 = my_utils.get_descriptions(conn, project_name, pair[0])\n",
    "    sent1 = my_utils.get_descriptions(conn, project_name, pair[1])\n",
    "    sent_embedding0 = model.encode(sent0,convert_to_tensor=True)\n",
    "    sent_embedding1 = model.encode(sent1,convert_to_tensor=True)\n",
    "    return util.pytorch_cos_sim(sent_embedding0, sent_embedding1).numpy()[0, 0]"
   ]
  },
  {
   "cell_type": "markdown",
   "metadata": {},
   "source": [
    "# Connect to the database"
   ]
  },
  {
   "cell_type": "code",
   "execution_count": 12,
   "metadata": {},
   "outputs": [],
   "source": [
    "database_path = \"./dbrd_w_tech_terms.db\"\n",
    "\n",
    "\n",
    "conn = sqlite3.connect(database_path)\n",
    "cursor = conn.cursor()"
   ]
  },
  {
   "cell_type": "markdown",
   "metadata": {},
   "source": [
    "# getting model"
   ]
  },
  {
   "cell_type": "code",
   "execution_count": 13,
   "metadata": {},
   "outputs": [],
   "source": [
    "model = SentenceTransformer('all-MiniLM-L6-v2')"
   ]
  },
  {
   "cell_type": "markdown",
   "metadata": {},
   "source": [
    "# select eval dataset"
   ]
  },
  {
   "cell_type": "markdown",
   "metadata": {},
   "source": [
    "Contains all reports in all duplicated groups, and a set of samples of single reports\n",
    "From this set, we select positive (duplicated) pairs and negative (non-duplicated pairs). The set of negative pairs is 3 times larger than the duplicated pair.\n",
    "We predict similarity of each selected pair of report then derives means and standard deviation of similarity scores among the positive group and negative group. We expect positive pairs have higher similarity score compared to the negative pairs."
   ]
  },
  {
   "cell_type": "code",
   "execution_count": 13,
   "metadata": {},
   "outputs": [
    {
     "name": "stdout",
     "output_type": "stream",
     "text": [
      "Processing spark\n"
     ]
    }
   ],
   "source": [
    "project_name = \"spark\"\n",
    "\n",
    "bug_ids = get_bug_ids(conn, project_name)\n",
    "\n",
    "column_names = get_column_names(conn, project_name)\n",
    "\n",
    "union_find = UnionFind()\n",
    "union_find.process_project(conn, project_name)"
   ]
  },
  {
   "cell_type": "code",
   "execution_count": 14,
   "metadata": {},
   "outputs": [],
   "source": [
    "positive_set = get_duplicated_pairs(union_find)"
   ]
  },
  {
   "cell_type": "code",
   "execution_count": 15,
   "metadata": {},
   "outputs": [],
   "source": [
    "negative_set = get_non_duplicated_pairs(union_find, conn, len(positive_set)*5)"
   ]
  },
  {
   "cell_type": "code",
   "execution_count": 16,
   "metadata": {},
   "outputs": [
    {
     "data": {
      "text/plain": [
       "513"
      ]
     },
     "execution_count": 16,
     "metadata": {},
     "output_type": "execute_result"
    }
   ],
   "source": [
    "len(positive_set)"
   ]
  },
  {
   "cell_type": "code",
   "execution_count": 17,
   "metadata": {},
   "outputs": [
    {
     "data": {
      "text/plain": [
       "2565"
      ]
     },
     "execution_count": 17,
     "metadata": {},
     "output_type": "execute_result"
    }
   ],
   "source": [
    "len(negative_set)"
   ]
  },
  {
   "cell_type": "code",
   "execution_count": 19,
   "metadata": {},
   "outputs": [],
   "source": [
    "sim_scores_pos = np.array([get_similarity_of_pair_with_code_feature(pair) for pair in positive_set])"
   ]
  },
  {
   "cell_type": "code",
   "execution_count": 20,
   "metadata": {},
   "outputs": [],
   "source": [
    "sim_scores_neg = np.array([get_similarity_of_pair_with_code_feature(pair) for pair in negative_set])"
   ]
  },
  {
   "cell_type": "code",
   "execution_count": 21,
   "metadata": {},
   "outputs": [
    {
     "data": {
      "text/plain": [
       "0.55533105"
      ]
     },
     "execution_count": 21,
     "metadata": {},
     "output_type": "execute_result"
    }
   ],
   "source": [
    "sim_scores_pos.mean()"
   ]
  },
  {
   "cell_type": "code",
   "execution_count": 22,
   "metadata": {},
   "outputs": [
    {
     "data": {
      "text/plain": [
       "0.19933043"
      ]
     },
     "execution_count": 22,
     "metadata": {},
     "output_type": "execute_result"
    }
   ],
   "source": [
    "sim_scores_pos.std()"
   ]
  },
  {
   "cell_type": "code",
   "execution_count": 23,
   "metadata": {},
   "outputs": [
    {
     "data": {
      "text/plain": [
       "0.23833683"
      ]
     },
     "execution_count": 23,
     "metadata": {},
     "output_type": "execute_result"
    }
   ],
   "source": [
    "sim_scores_neg.mean()"
   ]
  },
  {
   "cell_type": "code",
   "execution_count": 24,
   "metadata": {},
   "outputs": [
    {
     "data": {
      "text/plain": [
       "0.15859853"
      ]
     },
     "execution_count": 24,
     "metadata": {},
     "output_type": "execute_result"
    }
   ],
   "source": [
    "sim_scores_neg.std()"
   ]
  },
  {
   "cell_type": "code",
   "execution_count": 25,
   "metadata": {},
   "outputs": [
    {
     "data": {
      "text/plain": [
       "0.69189113"
      ]
     },
     "execution_count": 25,
     "metadata": {},
     "output_type": "execute_result"
    }
   ],
   "source": [
    "sim_scores_neg.max()"
   ]
  },
  {
   "cell_type": "code",
   "execution_count": 26,
   "metadata": {},
   "outputs": [
    {
     "data": {
      "text/plain": [
       "1.0000002"
      ]
     },
     "execution_count": 26,
     "metadata": {},
     "output_type": "execute_result"
    }
   ],
   "source": [
    "sim_scores_pos.max()"
   ]
  },
  {
   "cell_type": "code",
   "execution_count": 27,
   "metadata": {},
   "outputs": [
    {
     "data": {
      "text/plain": [
       "2565"
      ]
     },
     "execution_count": 27,
     "metadata": {},
     "output_type": "execute_result"
    }
   ],
   "source": [
    "len(negative_set)"
   ]
  },
  {
   "cell_type": "markdown",
   "metadata": {},
   "source": [
    "We compare with the similiarty score if the full description is used"
   ]
  },
  {
   "cell_type": "code",
   "execution_count": 29,
   "metadata": {},
   "outputs": [],
   "source": [
    "sim_scores_pos = np.array([get_similarity_of_pair_with_desc(pair) for pair in positive_set])"
   ]
  },
  {
   "cell_type": "code",
   "execution_count": 30,
   "metadata": {},
   "outputs": [],
   "source": [
    "sim_scores_neg = np.array([get_similarity_of_pair_with_desc(pair) for pair in negative_set])"
   ]
  },
  {
   "cell_type": "code",
   "execution_count": 31,
   "metadata": {},
   "outputs": [
    {
     "name": "stdout",
     "output_type": "stream",
     "text": [
      "0.5849161 0.17786817\n",
      "0.22525904 0.14559405\n"
     ]
    }
   ],
   "source": [
    "print(sim_scores_pos.mean(), sim_scores_pos.std())\n",
    "print(sim_scores_neg.mean(), sim_scores_neg.std())"
   ]
  },
  {
   "cell_type": "code",
   "execution_count": null,
   "metadata": {},
   "outputs": [],
   "source": []
  },
  {
   "cell_type": "markdown",
   "metadata": {},
   "source": [
    "# Try on another table"
   ]
  },
  {
   "cell_type": "code",
   "execution_count": 34,
   "metadata": {},
   "outputs": [
    {
     "name": "stdout",
     "output_type": "stream",
     "text": [
      "Processing hadoop\n"
     ]
    }
   ],
   "source": [
    "project_name = \"hadoop\"\n",
    "\n",
    "bug_ids = get_bug_ids(conn, project_name)\n",
    "\n",
    "column_names = get_column_names(conn, project_name)\n",
    "\n",
    "union_find = UnionFind()\n",
    "union_find.process_project(conn, project_name)"
   ]
  },
  {
   "cell_type": "code",
   "execution_count": 35,
   "metadata": {},
   "outputs": [],
   "source": [
    "positive_set = get_duplicated_pairs(union_find)"
   ]
  },
  {
   "cell_type": "code",
   "execution_count": 36,
   "metadata": {},
   "outputs": [],
   "source": [
    "negative_set = get_non_duplicated_pairs(union_find, conn, len(positive_set)*5)"
   ]
  },
  {
   "cell_type": "code",
   "execution_count": 17,
   "metadata": {},
   "outputs": [
    {
     "data": {
      "text/plain": [
       "431"
      ]
     },
     "execution_count": 17,
     "metadata": {},
     "output_type": "execute_result"
    }
   ],
   "source": [
    "len(positive_set)"
   ]
  },
  {
   "cell_type": "code",
   "execution_count": 18,
   "metadata": {},
   "outputs": [
    {
     "data": {
      "text/plain": [
       "2155"
      ]
     },
     "execution_count": 18,
     "metadata": {},
     "output_type": "execute_result"
    }
   ],
   "source": [
    "len(negative_set)"
   ]
  },
  {
   "cell_type": "code",
   "execution_count": 19,
   "metadata": {},
   "outputs": [
    {
     "ename": "NameError",
     "evalue": "name 'get_similarity_of_pair_with_code_feature' is not defined",
     "output_type": "error",
     "traceback": [
      "\u001b[0;31m---------------------------------------------------------------------------\u001b[0m",
      "\u001b[0;31mNameError\u001b[0m                                 Traceback (most recent call last)",
      "\u001b[1;32m/home/grads/t/tiendat.ng.cs/github_repos/PLM_and_BugReport_datasets/apply_sentence_transformer.ipynb Cell 47\u001b[0m line \u001b[0;36m1\n\u001b[0;32m----> <a href='vscode-notebook-cell://ssh-remote%2Bcsce-nguyen-s4.engr.tamu.edu/home/grads/t/tiendat.ng.cs/github_repos/PLM_and_BugReport_datasets/apply_sentence_transformer.ipynb#X64sdnNjb2RlLXJlbW90ZQ%3D%3D?line=0'>1</a>\u001b[0m sim_scores_pos \u001b[39m=\u001b[39m np\u001b[39m.\u001b[39marray([get_similarity_of_pair_with_code_feature(pair) \u001b[39mfor\u001b[39;00m pair \u001b[39min\u001b[39;00m positive_set])\n",
      "\u001b[1;32m/home/grads/t/tiendat.ng.cs/github_repos/PLM_and_BugReport_datasets/apply_sentence_transformer.ipynb Cell 47\u001b[0m line \u001b[0;36m1\n\u001b[0;32m----> <a href='vscode-notebook-cell://ssh-remote%2Bcsce-nguyen-s4.engr.tamu.edu/home/grads/t/tiendat.ng.cs/github_repos/PLM_and_BugReport_datasets/apply_sentence_transformer.ipynb#X64sdnNjb2RlLXJlbW90ZQ%3D%3D?line=0'>1</a>\u001b[0m sim_scores_pos \u001b[39m=\u001b[39m np\u001b[39m.\u001b[39marray([get_similarity_of_pair_with_code_feature(pair) \u001b[39mfor\u001b[39;00m pair \u001b[39min\u001b[39;00m positive_set])\n",
      "\u001b[0;31mNameError\u001b[0m: name 'get_similarity_of_pair_with_code_feature' is not defined"
     ]
    }
   ],
   "source": [
    "sim_scores_pos = np.array([get_similarity_of_pair_with_code_feature(pair) for pair in positive_set])"
   ]
  },
  {
   "cell_type": "code",
   "execution_count": 38,
   "metadata": {},
   "outputs": [],
   "source": [
    "sim_scores_neg = np.array([get_similarity_of_pair_with_code_feature(pair) for pair in negative_set])"
   ]
  },
  {
   "cell_type": "code",
   "execution_count": 39,
   "metadata": {},
   "outputs": [
    {
     "name": "stdout",
     "output_type": "stream",
     "text": [
      "0.57726604 0.25344652\n",
      "0.16706899 0.13918407\n"
     ]
    }
   ],
   "source": [
    "print(sim_scores_pos.mean(), sim_scores_pos.std())\n",
    "print(sim_scores_neg.mean(), sim_scores_neg.std())"
   ]
  },
  {
   "cell_type": "code",
   "execution_count": 40,
   "metadata": {},
   "outputs": [
    {
     "data": {
      "text/plain": [
       "(array([ 5.,  1.,  6.,  7.,  5.,  7.,  6.,  6., 10., 13., 19., 14., 13.,\n",
       "        15., 17., 22., 12., 28., 23., 23., 14., 28., 18., 16., 28., 16.,\n",
       "        16.,  7.,  8., 28.]),\n",
       " array([-0.04722407, -0.0123166 ,  0.02259088,  0.05749836,  0.09240583,\n",
       "         0.12731332,  0.16222079,  0.19712827,  0.23203574,  0.26694322,\n",
       "         0.30185071,  0.33675817,  0.37166566,  0.40657312,  0.44148061,\n",
       "         0.4763881 ,  0.51129556,  0.54620302,  0.58111054,  0.616018  ,\n",
       "         0.65092546,  0.68583292,  0.72074044,  0.7556479 ,  0.79055536,\n",
       "         0.82546288,  0.86037034,  0.8952778 ,  0.93018526,  0.96509278,\n",
       "         1.00000024]),\n",
       " <BarContainer object of 30 artists>)"
      ]
     },
     "execution_count": 40,
     "metadata": {},
     "output_type": "execute_result"
    },
    {
     "data": {
      "image/png": "[encoded data removed]",
      "text/plain": [
       "<Figure size 640x480 with 1 Axes>"
      ]
     },
     "metadata": {},
     "output_type": "display_data"
    }
   ],
   "source": [
    "plt.hist(sim_scores_pos, color='lightblue', ec='black', bins=30)"
   ]
  },
  {
   "cell_type": "code",
   "execution_count": 41,
   "metadata": {},
   "outputs": [
    {
     "data": {
      "text/plain": [
       "(array([  1.,   6.,  32.,  49., 112., 160., 199., 238., 216., 232., 159.,\n",
       "        168., 126., 108.,  80.,  65.,  37.,  49.,  41.,  26.,  16.,   9.,\n",
       "         15.,   4.,   2.,   2.,   0.,   2.,   0.,   1.]),\n",
       " array([-0.15785135, -0.1252148 , -0.09257824, -0.05994168, -0.02730512,\n",
       "         0.00533143,  0.03796799,  0.07060455,  0.10324111,  0.13587767,\n",
       "         0.16851422,  0.20115077,  0.23378734,  0.26642388,  0.29906046,\n",
       "         0.33169702,  0.36433357,  0.39697012,  0.42960668,  0.46224323,\n",
       "         0.49487978,  0.52751637,  0.56015289,  0.59278947,  0.62542605,\n",
       "         0.65806258,  0.69069916,  0.72333568,  0.75597227,  0.78860879,\n",
       "         0.82124537]),\n",
       " <BarContainer object of 30 artists>)"
      ]
     },
     "execution_count": 41,
     "metadata": {},
     "output_type": "execute_result"
    },
    {
     "data": {
      "image/png": "[encoded data removed]",
      "text/plain": [
       "<Figure size 640x480 with 1 Axes>"
      ]
     },
     "metadata": {},
     "output_type": "display_data"
    }
   ],
   "source": [
    "plt.hist(sim_scores_neg, color='lightyellow', ec='black', bins=30)"
   ]
  },
  {
   "cell_type": "markdown",
   "metadata": {},
   "source": [
    "### Then compare with the similarity score if fill desc is used"
   ]
  },
  {
   "cell_type": "code",
   "execution_count": 42,
   "metadata": {},
   "outputs": [],
   "source": [
    "sim_scores_pos = np.array([get_similarity_of_pair_with_desc(pair) for pair in positive_set])"
   ]
  },
  {
   "cell_type": "code",
   "execution_count": 43,
   "metadata": {},
   "outputs": [],
   "source": [
    "sim_scores_neg = np.array([get_similarity_of_pair_with_desc(pair) for pair in negative_set])"
   ]
  },
  {
   "cell_type": "code",
   "execution_count": 44,
   "metadata": {},
   "outputs": [
    {
     "name": "stdout",
     "output_type": "stream",
     "text": [
      "0.6101277 0.21461695\n",
      "0.19208175 0.12956782\n"
     ]
    }
   ],
   "source": [
    "print(sim_scores_pos.mean(), sim_scores_pos.std())\n",
    "print(sim_scores_neg.mean(), sim_scores_neg.std())"
   ]
  },
  {
   "cell_type": "code",
   "execution_count": 45,
   "metadata": {},
   "outputs": [
    {
     "data": {
      "text/plain": [
       "(array([ 1.,  1.,  0.,  1.,  3.,  3.,  6.,  7.,  8.,  8., 10., 12., 15.,\n",
       "        14., 18., 28., 26., 23., 29., 34., 24., 20., 28., 25., 18., 14.,\n",
       "        16.,  5.,  8., 26.]),\n",
       " array([-0.04871121, -0.01375417,  0.02120288,  0.05615992,  0.09111696,\n",
       "         0.12607402,  0.16103105,  0.1959881 ,  0.23094514,  0.26590219,\n",
       "         0.30085924,  0.33581626,  0.37077332,  0.40573037,  0.44068742,\n",
       "         0.47564447,  0.51060152,  0.54555857,  0.58051556,  0.61547261,\n",
       "         0.65042967,  0.68538672,  0.72034377,  0.75530082,  0.79025787,\n",
       "         0.82521492,  0.86017191,  0.89512897,  0.93008602,  0.96504307,\n",
       "         1.00000012]),\n",
       " <BarContainer object of 30 artists>)"
      ]
     },
     "execution_count": 45,
     "metadata": {},
     "output_type": "execute_result"
    },
    {
     "data": {
      "image/png": "[encoded data removed]",
      "text/plain": [
       "<Figure size 640x480 with 1 Axes>"
      ]
     },
     "metadata": {},
     "output_type": "display_data"
    }
   ],
   "source": [
    "plt.hist(sim_scores_pos, color='lightblue', ec='black', bins=30)"
   ]
  },
  {
   "cell_type": "code",
   "execution_count": 46,
   "metadata": {},
   "outputs": [
    {
     "data": {
      "text/plain": [
       "(array([  1.,   2.,   3.,   8.,  32.,  84., 104., 156., 199., 247., 239.,\n",
       "        223., 195., 158., 117.,  99.,  80.,  61.,  47.,  33.,  39.,  15.,\n",
       "          4.,   6.,   1.,   1.,   0.,   0.,   0.,   1.]),\n",
       " array([-0.19080858, -0.15745851, -0.12410844, -0.09075837, -0.0574083 ,\n",
       "        -0.02405823,  0.00929184,  0.04264191,  0.07599198,  0.10934205,\n",
       "         0.14269212,  0.17604218,  0.20939226,  0.24274233,  0.27609241,\n",
       "         0.30944246,  0.34279254,  0.37614262,  0.40949267,  0.44284275,\n",
       "         0.47619283,  0.50954288,  0.54289293,  0.57624304,  0.60959309,\n",
       "         0.64294314,  0.67629325,  0.7096433 ,  0.74299335,  0.77634346,\n",
       "         0.80969352]),\n",
       " <BarContainer object of 30 artists>)"
      ]
     },
     "execution_count": 46,
     "metadata": {},
     "output_type": "execute_result"
    },
    {
     "data": {
      "image/png": "[encoded data removed]",
      "text/plain": [
       "<Figure size 640x480 with 1 Axes>"
      ]
     },
     "metadata": {},
     "output_type": "display_data"
    }
   ],
   "source": [
    "plt.hist(sim_scores_neg, color='lightyellow', ec='black', bins=30)"
   ]
  },
  {
   "cell_type": "markdown",
   "metadata": {},
   "source": [
    "What is the percentage of pairs that has similarity score higher by comparing code features only? In other words, the natural language parts, although providing NL context to the embedding, are not as significant compared to the technical terms."
   ]
  },
  {
   "cell_type": "code",
   "execution_count": 15,
   "metadata": {},
   "outputs": [
    {
     "name": "stdout",
     "output_type": "stream",
     "text": [
      "Processing spark\n",
      "Processing spark\n"
     ]
    },
    {
     "name": "stderr",
     "output_type": "stream",
     "text": [
      "100%|██████████| 9579/9579 [00:00<00:00, 1546706.11it/s]\n",
      "100%|██████████| 513/513 [00:00<00:00, 751284.20it/s]"
     ]
    },
    {
     "name": "stdout",
     "output_type": "stream",
     "text": [
      "194 / 513 (0.37816764132553604) of table spark has higher score with code feature\n"
     ]
    },
    {
     "name": "stderr",
     "output_type": "stream",
     "text": [
      "\n"
     ]
    }
   ],
   "source": [
    "# for (bug_id1, bug_id2) in positive_set:\n",
    "filtered_pairs_for_tables = {}\n",
    "\n",
    "# for project_name in my_utils.table_names:\n",
    "for project_name in [\"spark\"]:\n",
    "    print(f\"Processing {project_name}\")\n",
    "    union_find = my_utils.UnionFind()\n",
    "    union_find.process_project(conn, project_name)\n",
    "    \n",
    "    positive_set = get_duplicated_pairs(union_find)\n",
    "    # negative_set = get_non_duplicated_pairs(union_find, conn, len(positive_set)*5)\n",
    "    sim_scores_pos_w_desc = np.array([get_similarity_of_pair_with_desc(conn, project_name, pair) for pair in positive_set])\n",
    "    sim_scores_pos_w_tech_term = np.array([get_similarity_of_pair_with_code_feature(conn, project_name, pair) for pair in positive_set])\n",
    "\n",
    "    filtered_pairs = []\n",
    "    filtered_score_w_desc = []\n",
    "    filtered_score_w_tech_term = []\n",
    "    for score_w_desc, score_w_tech_term, pair in zip(tqdm(sim_scores_pos_w_desc), sim_scores_pos_w_tech_term, positive_set):\n",
    "        if score_w_tech_term > score_w_desc:\n",
    "            filtered_pairs += [pair,]\n",
    "            filtered_score_w_desc += [score_w_desc]\n",
    "            filtered_score_w_tech_term += [score_w_tech_term]\n",
    "            \n",
    "    filtered_pairs_for_tables[project_name] = (positive_set, filtered_pairs, filtered_score_w_desc, filtered_score_w_tech_term)\n",
    "    print(len(filtered_pairs), \"/\", len(positive_set), f\"({len(filtered_pairs)/len(positive_set)}) of table\", project_name, \"has higher score with code feature\")"
   ]
  },
  {
   "cell_type": "code",
   "execution_count": 16,
   "metadata": {},
   "outputs": [
    {
     "data": {
      "text/plain": [
       "0.37816764132553604"
      ]
     },
     "execution_count": 16,
     "metadata": {},
     "output_type": "execute_result"
    }
   ],
   "source": [
    "len(filtered_pairs) / len(positive_set)"
   ]
  },
  {
   "cell_type": "code",
   "execution_count": 17,
   "metadata": {},
   "outputs": [],
   "source": [
    "filtered_score_w_desc = filtered_pairs_for_tables[\"spark\"][2]\n",
    "filtered_score_w_tech_term = filtered_pairs_for_tables[\"spark\"][3]"
   ]
  },
  {
   "cell_type": "code",
   "execution_count": 18,
   "metadata": {},
   "outputs": [
    {
     "name": "stdout",
     "output_type": "stream",
     "text": [
      "0.54567283 0.6195423\n",
      "0.18566355 0.17498371\n"
     ]
    }
   ],
   "source": [
    "print(np.mean(filtered_pairs_for_tables[\"spark\"][2]), np.mean(filtered_pairs_for_tables[\"spark\"][3]))\n",
    "print(np.std(filtered_pairs_for_tables[\"spark\"][2]), np.std(filtered_pairs_for_tables[\"spark\"][3]))"
   ]
  },
  {
   "cell_type": "code",
   "execution_count": 19,
   "metadata": {},
   "outputs": [
    {
     "name": "stdout",
     "output_type": "stream",
     "text": [
      "0.07386947\n",
      "0.05484709\n",
      "0.3264953\n",
      "1.1920929e-07\n"
     ]
    }
   ],
   "source": [
    "print(np.mean(np.array(filtered_score_w_tech_term) - np.array(filtered_score_w_desc)))\n",
    "print(np.median(np.array(filtered_score_w_tech_term) - np.array(filtered_score_w_desc)))\n",
    "print(np.max(np.array(filtered_score_w_tech_term) - np.array(filtered_score_w_desc)))\n",
    "print(np.min(np.array(filtered_score_w_tech_term) - np.array(filtered_score_w_desc)))"
   ]
  },
  {
   "cell_type": "code",
   "execution_count": 20,
   "metadata": {},
   "outputs": [
    {
     "data": {
      "text/plain": [
       "(array([28., 22., 24.,  8., 13., 15.,  9.,  8., 11.,  7.,  4.,  9.,  2.,\n",
       "         9.,  3.,  8.,  0.,  4.,  3.,  1.,  1.,  0.,  0.,  0.,  0.,  1.,\n",
       "         0.,  0.,  1.,  3.]),\n",
       " array([1.19209290e-07, 1.08832913e-02, 2.17664633e-02, 3.26496363e-02,\n",
       "        4.35328074e-02, 5.44159822e-02, 6.52991533e-02, 7.61823282e-02,\n",
       "        8.70654956e-02, 9.79486704e-02, 1.08831845e-01, 1.19715013e-01,\n",
       "        1.30598187e-01, 1.41481355e-01, 1.52364537e-01, 1.63247705e-01,\n",
       "        1.74130872e-01, 1.85014054e-01, 1.95897222e-01, 2.06780389e-01,\n",
       "        2.17663571e-01, 2.28546739e-01, 2.39429906e-01, 2.50313073e-01,\n",
       "        2.61196256e-01, 2.72079438e-01, 2.82962590e-01, 2.93845773e-01,\n",
       "        3.04728955e-01, 3.15612108e-01, 3.26495290e-01]),\n",
       " <BarContainer object of 30 artists>)"
      ]
     },
     "execution_count": 20,
     "metadata": {},
     "output_type": "execute_result"
    },
    {
     "data": {
      "image/png": "[encoded data removed]",
      "text/plain": [
       "<Figure size 640x480 with 1 Axes>"
      ]
     },
     "metadata": {},
     "output_type": "display_data"
    }
   ],
   "source": [
    "plt.hist(np.array(filtered_score_w_tech_term) - np.array(filtered_score_w_desc), color='lightyellow', ec='black', bins=30)"
   ]
  },
  {
   "cell_type": "code",
   "execution_count": 21,
   "metadata": {},
   "outputs": [],
   "source": [
    "def get_similarity_of_pair_with_code_feature(pair):\n",
    "    sent0 = get_code_feature(conn, project_name, pair[0])\n",
    "    sent1 = get_code_feature(conn, project_name, pair[1])\n",
    "    sent_embedding0 = model.encode(sent0,convert_to_tensor=True)\n",
    "    sent_embedding1 = model.encode(sent1,convert_to_tensor=True)\n",
    "    return util.pytorch_cos_sim(sent_embedding0, sent_embedding1).numpy()[0, 0]"
   ]
  },
  {
   "cell_type": "code",
   "execution_count": 22,
   "metadata": {},
   "outputs": [],
   "source": [
    "def get_similarity_of_pair_with_desc(pair):\n",
    "    sent0 = get_descriptions(conn, project_name, pair[0])\n",
    "    sent1 = get_descriptions(conn, project_name, pair[1])\n",
    "    sent_embedding0 = model.encode(sent0,convert_to_tensor=True)\n",
    "    sent_embedding1 = model.encode(sent1,convert_to_tensor=True)\n",
    "    return util.pytorch_cos_sim(sent_embedding0, sent_embedding1).numpy()[0, 0]"
   ]
  },
  {
   "cell_type": "code",
   "execution_count": 23,
   "metadata": {},
   "outputs": [
    {
     "name": "stdout",
     "output_type": "stream",
     "text": [
      "Processing spark\n"
     ]
    },
    {
     "name": "stderr",
     "output_type": "stream",
     "text": [
      "100%|██████████| 9579/9579 [00:00<00:00, 1589478.10it/s]\n"
     ]
    },
    {
     "ename": "TypeError",
     "evalue": "get_similarity_of_pair_with_code_feature() takes 1 positional argument but 3 were given",
     "output_type": "error",
     "traceback": [
      "\u001b[0;31m---------------------------------------------------------------------------\u001b[0m",
      "\u001b[0;31mTypeError\u001b[0m                                 Traceback (most recent call last)",
      "\u001b[1;32m/home/grads/t/tiendat.ng.cs/github_repos/PLM_and_BugReport_datasets/apply_sentence_transformer.ipynb Cell 66\u001b[0m line \u001b[0;36m1\n\u001b[1;32m      <a href='vscode-notebook-cell://ssh-remote%2Bcsce-nguyen-s4.engr.tamu.edu/home/grads/t/tiendat.ng.cs/github_repos/PLM_and_BugReport_datasets/apply_sentence_transformer.ipynb#Y122sdnNjb2RlLXJlbW90ZQ%3D%3D?line=8'>9</a>\u001b[0m score_w_desc \u001b[39m=\u001b[39m filtered_pairs_for_tables[\u001b[39m\"\u001b[39m\u001b[39mspark\u001b[39m\u001b[39m\"\u001b[39m][\u001b[39m2\u001b[39m][index]\n\u001b[1;32m     <a href='vscode-notebook-cell://ssh-remote%2Bcsce-nguyen-s4.engr.tamu.edu/home/grads/t/tiendat.ng.cs/github_repos/PLM_and_BugReport_datasets/apply_sentence_transformer.ipynb#Y122sdnNjb2RlLXJlbW90ZQ%3D%3D?line=9'>10</a>\u001b[0m score_w_tech_term \u001b[39m=\u001b[39m filtered_pairs_for_tables[\u001b[39m\"\u001b[39m\u001b[39mspark\u001b[39m\u001b[39m\"\u001b[39m][\u001b[39m3\u001b[39m][index]\n\u001b[0;32m---> <a href='vscode-notebook-cell://ssh-remote%2Bcsce-nguyen-s4.engr.tamu.edu/home/grads/t/tiendat.ng.cs/github_repos/PLM_and_BugReport_datasets/apply_sentence_transformer.ipynb#Y122sdnNjb2RlLXJlbW90ZQ%3D%3D?line=10'>11</a>\u001b[0m \u001b[39mprint\u001b[39m(get_similarity_of_pair_with_code_feature(conn, table, (bug_id1, bug_id2)))\n\u001b[1;32m     <a href='vscode-notebook-cell://ssh-remote%2Bcsce-nguyen-s4.engr.tamu.edu/home/grads/t/tiendat.ng.cs/github_repos/PLM_and_BugReport_datasets/apply_sentence_transformer.ipynb#Y122sdnNjb2RlLXJlbW90ZQ%3D%3D?line=12'>13</a>\u001b[0m tech_term1 \u001b[39m=\u001b[39m my_utils\u001b[39m.\u001b[39mget_code_feature(conn, \u001b[39m\"\u001b[39m\u001b[39mspark\u001b[39m\u001b[39m\"\u001b[39m, bug_id1)\n\u001b[1;32m     <a href='vscode-notebook-cell://ssh-remote%2Bcsce-nguyen-s4.engr.tamu.edu/home/grads/t/tiendat.ng.cs/github_repos/PLM_and_BugReport_datasets/apply_sentence_transformer.ipynb#Y122sdnNjb2RlLXJlbW90ZQ%3D%3D?line=13'>14</a>\u001b[0m tech_term2 \u001b[39m=\u001b[39m my_utils\u001b[39m.\u001b[39mget_code_feature(conn, \u001b[39m\"\u001b[39m\u001b[39mspark\u001b[39m\u001b[39m\"\u001b[39m, bug_id2)\n",
      "\u001b[0;31mTypeError\u001b[0m: get_similarity_of_pair_with_code_feature() takes 1 positional argument but 3 were given"
     ]
    }
   ],
   "source": [
    "# index = np.argmax(np.array(filtered_score_w_tech_term) - np.array(filtered_score_w_desc))\n",
    "index = 10\n",
    "table = \"spark\"\n",
    "union_find = my_utils.UnionFind()\n",
    "union_find.process_project(conn, table)\n",
    "\n",
    "bug_id1, bug_id2 = filtered_pairs_for_tables[\"spark\"][1][index]\n",
    "assert(union_find.are_dups(bug_id1, bug_id2))\n",
    "score_w_desc = filtered_pairs_for_tables[\"spark\"][2][index]\n",
    "score_w_tech_term = filtered_pairs_for_tables[\"spark\"][3][index]\n",
    "print(get_similarity_of_pair_with_code_feature(conn, table, (bug_id1, bug_id2)))\n",
    "\n",
    "tech_term1 = my_utils.get_code_feature(conn, \"spark\", bug_id1)\n",
    "tech_term2 = my_utils.get_code_feature(conn, \"spark\", bug_id2)\n",
    "\n",
    "desc1 = my_utils.get_descriptions(conn, \"spark\", bug_id1)\n",
    "desc2 = my_utils.get_descriptions(conn, \"spark\", bug_id2)\n",
    "\n",
    "print(\"score_w_desc\", score_w_desc)\n",
    "print(\"score_w_tech_term\", score_w_tech_term)\n",
    "\n",
    "print(\"\\n\\ntech_term1 ---------------------\\n\")\n",
    "print(tech_term1)\n",
    "print(\"\\n\\ntech_term2 ---------------------\\n\")\n",
    "print(tech_term2)\n",
    "\n",
    "print(\"\\n\\ndesc1 ---------------------\\n\")\n",
    "print(desc1)\n",
    "print(\"\\n\\ndesc2 ---------------------\\n\")\n",
    "print(desc2)\n",
    "\n",
    "# print(tech_term1, tech_term2, desc1, desc2, sep=\"\\n\\n\\n------------------\\n\")"
   ]
  },
  {
   "cell_type": "markdown",
   "metadata": {},
   "source": [
    "## In a duplication recommendation system, how many times the correct duplication is included in the top 10 most similar reports?"
   ]
  },
  {
   "cell_type": "code",
   "execution_count": null,
   "metadata": {},
   "outputs": [],
   "source": []
  },
  {
   "cell_type": "code",
   "execution_count": 14,
   "metadata": {},
   "outputs": [
    {
     "name": "stdout",
     "output_type": "stream",
     "text": [
      "Processing spark\n"
     ]
    },
    {
     "name": "stderr",
     "output_type": "stream",
     "text": [
      "100%|██████████| 9579/9579 [00:00<00:00, 1152928.09it/s]\n",
      "100%|██████████| 1242/1242 [00:48<00:00, 25.70it/s]\n"
     ]
    }
   ],
   "source": [
    "table = \"spark\"\n",
    "union_find = my_utils.UnionFind()\n",
    "union_find.process_project(conn, table)\n",
    "\n",
    "positive_set = get_duplicated_pairs(union_find)\n",
    "negetive_set = get_non_duplicated_pairs(union_find, conn, len(positive_set)*5)\n",
    "\n",
    "bug_ids = list(set([bug_id for t in positive_set for bug_id in t] + [bug_id for t in negetive_set for bug_id in t]))\n",
    "\n",
    "vectors = []\n",
    "for bug_id in tqdm(bug_ids):\n",
    "    desc = my_utils.get_descriptions(conn, table, bug_id)\n",
    "    ten = model.encode(desc,convert_to_tensor=True)\n",
    "    vectors += [ten.detach().numpy().tolist()]"
   ]
  },
  {
   "cell_type": "code",
   "execution_count": 15,
   "metadata": {},
   "outputs": [],
   "source": [
    "def top_closest_values_indeces(k, vectors, q):\n",
    "    # Calculate the absolute differences between each element in L and v\n",
    "    sim_scores = [(my_utils.similarity_score_1d(v, q), i) for i, v in enumerate(vectors)]\n",
    "    # differences = [(util.pytorch_cos_sim(v, q), i) for i, v in enumerate(vectors)]\n",
    "\n",
    "    sim_scores.sort(reverse=True)\n",
    "    # print(sim_scores[:10])\n",
    "\n",
    "    # Extract the top k closest values and their indices in the original list\n",
    "    top_k_indices = [index for _, index in sim_scores[:k]]\n",
    "    return top_k_indices"
   ]
  },
  {
   "cell_type": "code",
   "execution_count": 16,
   "metadata": {},
   "outputs": [
    {
     "name": "stdout",
     "output_type": "stream",
     "text": [
      "br2 is at index 31\n",
      "[476, 588, 573, 80, 168, 479, 1066, 1129, 535, 487, 550, 700, 1229, 154, 1199, 1052, 957, 410, 802, 724, 1167, 241, 480, 40, 634, 854, 260, 1021, 1175, 523, 1116, 475, 511, 919, 1222, 701, 283, 2, 24, 372, 290, 167, 945, 1040, 485, 918, 336, 889, 1069, 308]\n",
      "[13134871, 13283182, 13192953, 13165057, 13132882, 13159454, 13155149, 13229317, 13274530, 13208648, 13250046, 13193902, 13320065, 13198292, 13254305, 13327109, 13293819, 13257285, 13268249, 13169448, 13270507, 13223433, 13216799, 13205726, 13209785, 13252148, 13149828, 13179500, 13344267, 13266286, 13147349, 13134870, 13339920, 13146090, 13213523, 13316791, 13231857, 13213722, 13156462, 13232451, 13322032, 13132872, 13146271, 13138646, 13233216, 13146087, 13322388, 13195031, 13253470, 13158311]\n",
      "13134871\n",
      "13134870\n"
     ]
    }
   ],
   "source": [
    "assert(len(vectors) == len(bug_ids))\n",
    "for bug_id1, bug_id2 in positive_set[10:11]:\n",
    "    assert(union_find.are_dups(bug_id1, bug_id2))\n",
    "    \n",
    "    index1 = bug_ids.index(bug_id1)\n",
    "    index2 = bug_ids.index(bug_id2)\n",
    "    vector1 = vectors[index1]\n",
    "    topk_indeces = top_closest_values_indeces(50, np.array(vectors), np.array(vector1))\n",
    "    \n",
    "    if (index2 not in topk_indeces):\n",
    "        print(\"br2 not in top\")\n",
    "        # id2_not_in_top_50 += 1\n",
    "    else:\n",
    "        print(\"br2 is at index\", topk_indeces.index(index2))\n",
    "        # id2_rank_if_in_top_50 += [topk_indeces.index(index2)]\n",
    "        \n",
    "    print(topk_indeces)\n",
    "    print([bug_ids[i] for i in topk_indeces])\n",
    "    print(bug_id1)\n",
    "    print(bug_id2)\n",
    "    # print(index2 in topk_indeces)\n",
    "    # print(top5)\n",
    "    "
   ]
  },
  {
   "cell_type": "code",
   "execution_count": 17,
   "metadata": {},
   "outputs": [
    {
     "name": "stderr",
     "output_type": "stream",
     "text": [
      "  0%|          | 2/513 [00:00<00:30, 16.59it/s]"
     ]
    },
    {
     "name": "stderr",
     "output_type": "stream",
     "text": [
      "100%|██████████| 513/513 [00:31<00:00, 16.33it/s]\n"
     ]
    },
    {
     "name": "stdout",
     "output_type": "stream",
     "text": [
      "Number of id2 not in top 10: 416\n"
     ]
    },
    {
     "data": {
      "image/png": "[encoded data removed]",
      "text/plain": [
       "<Figure size 640x480 with 1 Axes>"
      ]
     },
     "metadata": {},
     "output_type": "display_data"
    }
   ],
   "source": [
    "\n",
    "assert(len(vectors) == len(bug_ids))\n",
    "id2_not_in_top_10 = 0\n",
    "id2_rank_if_in_top_10 = []\n",
    "for bug_id1, bug_id2 in tqdm(positive_set):\n",
    "    assert(union_find.are_dups(bug_id1, bug_id2))\n",
    "    \n",
    "    index1 = bug_ids.index(bug_id1)\n",
    "    index2 = bug_ids.index(bug_id2)\n",
    "    vector1 = vectors[index1]\n",
    "    topk_indeces = top_closest_values_indeces(10, np.array(vectors), np.array(vector1))\n",
    "    \n",
    "    if (index2 not in topk_indeces):\n",
    "        # print(\"br2 not in top\")\n",
    "        id2_not_in_top_10 += 1\n",
    "    else:\n",
    "        # print(\"br2 is at index\", topk_indeces.index(index2))\n",
    "        id2_rank_if_in_top_10 += [topk_indeces.index(index2)]\n",
    "        \n",
    "    vector2 = vectors[index2]\n",
    "    topk_indeces = top_closest_values_indeces(10, np.array(vectors), np.array(vector2))\n",
    "    \n",
    "    if (index1 not in topk_indeces):\n",
    "        # print(\"br2 not in top\")\n",
    "        id2_not_in_top_10 += 1\n",
    "    else:\n",
    "        # print(\"br2 is at index\", topk_indeces.index(index1))\n",
    "        id2_rank_if_in_top_10 += [topk_indeces.index(index1)]\n",
    "    # print(topk_indeces)\n",
    "    # print([bug_ids[i] for i in topk_indeces])\n",
    "    # print(bug_id1)\n",
    "    # print(bug_id2)\n",
    "    # print(index2 in topk_indeces)\n",
    "    # print(top5)\n",
    "    \n",
    "plt.hist(np.array(id2_rank_if_in_top_10), ec='black', bins=10)\n",
    "print(\"Number of id2 not in top 10:\", id2_not_in_top_10)\n",
    "\n",
    "    "
   ]
  },
  {
   "cell_type": "code",
   "execution_count": 19,
   "metadata": {},
   "outputs": [
    {
     "name": "stdout",
     "output_type": "stream",
     "text": [
      "Average ranking of bug_id2 2.6557377049180326\n"
     ]
    }
   ],
   "source": [
    "print(\"Average ranking of bug_id2\", np.array(id2_rank_if_in_top_10).mean())"
   ]
  },
  {
   "cell_type": "code",
   "execution_count": 23,
   "metadata": {},
   "outputs": [
    {
     "name": "stdout",
     "output_type": "stream",
     "text": [
      "Percentage not nin top: 0.40545808966861596\n"
     ]
    }
   ],
   "source": [
    "print(\"Percentage not in top:\", id2_not_in_top_10/(len(positive_set)*2))"
   ]
  },
  {
   "cell_type": "markdown",
   "metadata": {},
   "source": [
    "Note the case of 13134871 13134870"
   ]
  },
  {
   "cell_type": "code",
   "execution_count": 29,
   "metadata": {},
   "outputs": [
    {
     "name": "stdout",
     "output_type": "stream",
     "text": [
      "\n",
      "\n",
      ">>> spark.sparkContext.emptyRDD().toDF(\"col1 int\").toPandas()\n",
      "  An error occurred while calling o158.getResult.\n",
      ": org.apache.spark.SparkException: Exception thrown in awaitResult:\n",
      "\tat org.apache.spark.util.ThreadUtils$.awaitResult(ThreadUtils.scala:226)\n",
      "\tat org.apache.spark.api.python.PythonServer.getResult(PythonRDD.scala:874)\n",
      "\tat org.apache.spark.api.python.PythonServer.getResult(PythonRDD.scala:870)\n",
      "\tat sun.reflect.NativeMethodAccessorImpl.invoke0(Native Method)\n",
      "\tat sun.reflect.NativeMethodAccessorImpl.invoke(NativeMethodAccessorImpl.java:62)\n",
      "\tat sun.reflect.DelegatingMethodAccessorImpl.invoke(DelegatingMethodAccessorImpl.java:43)\n",
      "\tat java.lang.reflect.Method.invoke(Method.java:498)\n",
      "\tat py4j.reflection.MethodInvoker.invoke(MethodInvoker.java:244)\n",
      "\tat py4j.reflection.ReflectionEngine.invoke(ReflectionEngine.java:357)\n",
      "\tat py4j.Gateway.invoke(Gateway.java:282)\n",
      "\tat py4j.commands.AbstractCommand.invokeMethod(AbstractCommand.java:132)\n",
      "\tat py4j.commands.CallCommand.execute(CallCommand.java:79)\n",
      "\tat py4j.GatewayConnection.run(GatewayConnection.java:238)\n",
      "\tat java.lang.Thread.run(Thread.java:748)\n",
      "Caused by: java.lang.NegativeArraySizeException\n",
      "\tat org.apache.spark.sql.Dataset$$anonfun$collectAsArrowToPython$1$$anonfun$apply$17.apply(Dataset.scala:3293)\n",
      "\tat org.apache.spark.sql.Dataset$$anonfun$collectAsArrowToPython$1$$anonfun$apply$17.apply(Dataset.scala:3287)\n",
      "\tat org.apache.spark.sql.Dataset$$anonfun$52.apply(Dataset.scala:3370)\n",
      "\tat org.apache.spark.sql.execution.SQLExecution$$anonfun$withNewExecutionId$1.apply(SQLExecution.scala:80)\n",
      "\tat org.apache.spark.sql.execution.SQLExecution$.withSQLConfPropagated(SQLExecution.scala:127)\n",
      "\tat org.apache.spark.sql.execution.SQLExecution$.withNewExecutionId(SQLExecution.scala:75)\n",
      "\tat org.apache.spark.sql.Dataset.org$apache$spark$sql$Dataset$$withAction(Dataset.scala:3369)\n",
      "\tat org.apache.spark.sql.Dataset$$anonfun$collectAsArrowToPython$1.apply(Dataset.scala:3287)\n",
      "\tat org.apache.spark.sql.Dataset$$anonfun$collectAsArrowToPython$1.apply(Dataset.scala:3286)\n",
      "\tat org.apache.spark.api.python.PythonRDD$$anonfun$7$$anonfun$apply$3.apply$mcV$sp(PythonRDD.scala:456)\n",
      "\tat org.apache.spark.api.python.PythonRDD$$anonfun$7$$anonfun$apply$3.apply(PythonRDD.scala:456)\n",
      "\tat org.apache.spark.api.python.PythonRDD$$anonfun$7$$anonfun$apply$3.apply(PythonRDD.scala:456)\n",
      "\tat org.apache.spark.util.Utils$.tryWithSafeFinally(Utils.scala:1360)\n",
      "\tat org.apache.spark.api.python.PythonRDD$$anonfun$7.apply(PythonRDD.scala:457)\n",
      "\tat org.apache.spark.api.python.PythonRDD$$anonfun$7.apply(PythonRDD.scala:453)\n",
      "\tat org.apache.spark.api.python.SocketFuncServer.handleConnection(PythonRDD.scala:994)\n",
      "\tat org.apache.spark.api.python.SocketFuncServer.handleConnection(PythonRDD.scala:988)\n",
      "\tat org.apache.spark.api.python.PythonServer$$anonfun$11$$anonfun$apply$9.apply(PythonRDD.scala:853)\n",
      "\tat scala.util.Try$.apply(Try.scala:192)\n",
      "\tat org.apache.spark.api.python.PythonServer$$anonfun$11.apply(PythonRDD.scala:853)\n",
      "\tat org.apache.spark.api.python.PythonServer$$anonfun$11.apply(PythonRDD.scala:852)\n",
      "\tat org.apache.spark.api.python.PythonServer$$anon$1.run(PythonRDD.scala:908)\n",
      "\n",
      "  warnings.warn(msg)\n",
      "Traceback (most recent call last):\n",
      "  File \"<stdin>\", line 1, in <module>\n",
      "  File \"/Users/hyukjin.kwon/workspace/forked/spark/python/pyspark/sql/dataframe.py\", line 2132, in toPandas\n",
      "    batches = self.toDF(*tmp_column_names)._collectAsArrow()\n",
      "  File \"/Users/hyukjin.kwon/workspace/forked/spark/python/pyspark/sql/dataframe.py\", line 2223, in _collectAsArrow\n",
      "    jsocket_auth_server.getResult()  # Join serving thread and raise any exceptions\n",
      "  File \"/Users/hyukjin.kwon/workspace/forked/spark/python/lib/py4j-0.10.7-src.zip/py4j/java_gateway.py\", line 1257, in __call__\n",
      "  File \"/Users/hyukjin.kwon/workspace/forked/spark/python/pyspark/sql/utils.py\", line 63, in deco\n",
      "    return f(*a, **kw)\n",
      "  File \"/Users/hyukjin.kwon/workspace/forked/spark/python/lib/py4j-0.10.7-src.zip/py4j/protocol.py\", line 328, in get_return_value\n",
      "py4j.protocol.Py4JJavaError: An error occurred while calling o158.getResult.\n",
      ": org.apache.spark.SparkException: Exception thrown in awaitResult:\n",
      "\tat org.apache.spark.util.ThreadUtils$.awaitResult(ThreadUtils.scala:226)\n",
      "\tat org.apache.spark.api.python.PythonServer.getResult(PythonRDD.scala:874)\n",
      "\tat org.apache.spark.api.python.PythonServer.getResult(PythonRDD.scala:870)\n",
      "\tat sun.reflect.NativeMethodAccessorImpl.invoke0(Native Method)\n",
      "\tat sun.reflect.NativeMethodAccessorImpl.invoke(NativeMethodAccessorImpl.java:62)\n",
      "\tat sun.reflect.DelegatingMethodAccessorImpl.invoke(DelegatingMethodAccessorImpl.java:43)\n",
      "\tat java.lang.reflect.Method.invoke(Method.java:498)\n",
      "\tat py4j.reflection.MethodInvoker.invoke(MethodInvoker.java:244)\n",
      "\tat py4j.reflection.ReflectionEngine.invoke(ReflectionEngine.java:357)\n",
      "\tat py4j.Gateway.invoke(Gateway.java:282)\n",
      "\tat py4j.commands.AbstractCommand.invokeMethod(AbstractCommand.java:132)\n",
      "\tat py4j.commands.CallCommand.execute(CallCommand.java:79)\n",
      "\tat py4j.GatewayConnection.run(GatewayConnection.java:238)\n",
      "\tat java.lang.Thread.run(Thread.java:748)\n",
      "Caused by: java.lang.NegativeArraySizeException\n",
      "\tat org.apache.spark.sql.Dataset$$anonfun$collectAsArrowToPython$1$$anonfun$apply$17.apply(Dataset.scala:3293)\n",
      "\tat org.apache.spark.sql.Dataset$$anonfun$collectAsArrowToPython$1$$anonfun$apply$17.apply(Dataset.scala:3287)\n",
      "\tat org.apache.spark.sql.Dataset$$anonfun$52.apply(Dataset.scala:3370)\n",
      "\tat org.apache.spark.sql.execution.SQLExecution$$anonfun$withNewExecutionId$1.apply(SQLExecution.scala:80)\n",
      "\tat org.apache.spark.sql.execution.SQLExecution$.withSQLConfPropagated(SQLExecution.scala:127)\n",
      "\tat org.apache.spark.sql.execution.SQLExecution$.withNewExecutionId(SQLExecution.scala:75)\n",
      "\tat org.apache.spark.sql.Dataset.org$apache$spark$sql$Dataset$$withAction(Dataset.scala:3369)\n",
      "\tat org.apache.spark.sql.Dataset$$anonfun$collectAsArrowToPython$1.apply(Dataset.scala:3287)\n",
      "\tat org.apache.spark.sql.Dataset$$anonfun$collectAsArrowToPython$1.apply(Dataset.scala:3286)\n",
      "\tat org.apache.spark.api.python.PythonRDD$$anonfun$7$$anonfun$apply$3.apply$mcV$sp(PythonRDD.scala:456)\n",
      "\tat org.apache.spark.api.python.PythonRDD$$anonfun$7$$anonfun$apply$3.apply(PythonRDD.scala:456)\n",
      "\tat org.apache.spark.api.python.PythonRDD$$anonfun$7$$anonfun$apply$3.apply(PythonRDD.scala:456)\n",
      "\tat org.apache.spark.util.Utils$.tryWithSafeFinally(Utils.scala:1360)\n",
      "\tat org.apache.spark.api.python.PythonRDD$$anonfun$7.apply(PythonRDD.scala:457)\n",
      "\tat org.apache.spark.api.python.PythonRDD$$anonfun$7.apply(PythonRDD.scala:453)\n",
      "\tat org.apache.spark.api.python.SocketFuncServer.handleConnection(PythonRDD.scala:994)\n",
      "\tat org.apache.spark.api.python.SocketFuncServer.handleConnection(PythonRDD.scala:988)\n",
      "\tat org.apache.spark.api.python.PythonServer$$anonfun$11$$anonfun$apply$9.apply(PythonRDD.scala:853)\n",
      "\tat scala.util.Try$.apply(Try.scala:192)\n",
      "\tat org.apache.spark.api.python.PythonServer$$anonfun$11.apply(PythonRDD.scala:853)\n",
      "\tat org.apache.spark.api.python.PythonServer$$anonfun$11.apply(PythonRDD.scala:852)\n",
      "\tat org.apache.spark.api.python.PythonServer$$anon$1.run(PythonRDD.scala:908)\n",
      "\n",
      " \n",
      " toPandas with no partitions should work\n"
     ]
    }
   ],
   "source": [
    "print(my_utils.get_descriptions(conn, table, 13316639))"
   ]
  },
  {
   "cell_type": "code",
   "execution_count": 31,
   "metadata": {},
   "outputs": [
    {
     "name": "stdout",
     "output_type": "stream",
     "text": [
      "An error occurred while calling o105.getParam. : java.util.NoSuchElementException: Param coldStartStrategy does not exist. at org.apache.spark.ml.param.Params$$anonfun$getParam$2.apply(params.scala:601) at org.apache.spark.ml.param.Params$$anonfun$getParam$2.apply(params.scala:601) at scala.Option.getOrElse(Option.scala:121) at org.apache.spark.ml.param.Params$class.getParam(params.scala:600) at org.apache.spark.ml.PipelineStage.getParam(Pipeline.scala:42) at sun.reflect.NativeMethodAccessorImpl.invoke0(Native Method) at sun.reflect.NativeMethodAccessorImpl.invoke(NativeMethodAccessorImpl.java:57) at sun.reflect.DelegatingMethodAccessorImpl.invoke(DelegatingMethodAccessorImpl.java:43) at java.lang.reflect.Method.invoke(Method.java:606) at py4j.reflection.MethodInvoker.invoke(MethodInvoker.java:244) at py4j.reflection.ReflectionEngine.invoke(ReflectionEngine.java:357) at py4j.Gateway.invoke(Gateway.java:280) at py4j.commands.AbstractCommand.invokeMethod(AbstractCommand.java:132) at py4j.commands.CallCommand.execute(CallCommand.java:79) at py4j.GatewayConnection.run(GatewayConnection.java:214) at java.lang.Thread.run(Thread.java:744) \n",
      " Spark ALS : param coldStartStrategy does not exist.\n"
     ]
    }
   ],
   "source": [
    "print(my_utils.get_descriptions(conn, table, 13134871))"
   ]
  },
  {
   "cell_type": "code",
   "execution_count": 30,
   "metadata": {},
   "outputs": [
    {
     "data": {
      "text/plain": [
       "False"
      ]
     },
     "execution_count": 30,
     "metadata": {},
     "output_type": "execute_result"
    }
   ],
   "source": [
    "union_find.are_dups(13134871, 13316639)"
   ]
  },
  {
   "cell_type": "markdown",
   "metadata": {},
   "source": [
    "## Stacktrace might be the cause of high similarity among the reports, we subtract out the stacktrace from each report and try again"
   ]
  },
  {
   "cell_type": "code",
   "execution_count": 14,
   "metadata": {},
   "outputs": [],
   "source": [
    "database_path = \"./dbrd_processed.db\"\n",
    "\n",
    "\n",
    "conn = sqlite3.connect(database_path)\n",
    "cursor = conn.cursor()"
   ]
  },
  {
   "cell_type": "markdown",
   "metadata": {},
   "source": [
    "### Eclipse desc with stacktrace"
   ]
  },
  {
   "cell_type": "code",
   "execution_count": 97,
   "metadata": {},
   "outputs": [
    {
     "name": "stdout",
     "output_type": "stream",
     "text": [
      "Processing eclipse\n"
     ]
    },
    {
     "name": "stderr",
     "output_type": "stream",
     "text": [
      "100%|██████████| 27583/27583 [00:00<00:00, 44796.71it/s]\n",
      "100%|██████████| 2394/2394 [01:06<00:00, 36.17it/s]\n"
     ]
    }
   ],
   "source": [
    "table = \"eclipse\"\n",
    "union_find = my_utils.UnionFind()\n",
    "union_find.process_project(conn, table, min_desc_length=10)\n",
    "\n",
    "positive_set = get_duplicated_pairs(union_find)\n",
    "negetive_set = get_non_duplicated_pairs(union_find, conn, len(positive_set)*5)\n",
    "\n",
    "bug_ids = list(set([bug_id for t in positive_set for bug_id in t] + [bug_id for t in negetive_set for bug_id in t]))\n",
    "\n",
    "vectors = []\n",
    "for bug_id in tqdm(bug_ids):\n",
    "    desc = my_utils.get_descriptions(conn, table, bug_id)\n",
    "    ten = model.encode(desc,convert_to_tensor=True)\n",
    "    vectors += [ten.detach().numpy().tolist()]"
   ]
  },
  {
   "cell_type": "code",
   "execution_count": 98,
   "metadata": {},
   "outputs": [
    {
     "name": "stderr",
     "output_type": "stream",
     "text": [
      "100%|██████████| 1510/1510 [03:22<00:00,  7.47it/s]\n"
     ]
    }
   ],
   "source": [
    "\n",
    "assert(len(vectors) == len(bug_ids))\n",
    "dup_in_top_k_count = 0\n",
    "total_count = 0\n",
    "dup_in_top_k_indeces = []\n",
    "for bug_id1, bug_id2 in tqdm(positive_set):\n",
    "    assert(union_find.are_dups(bug_id1, bug_id2))\n",
    "    \n",
    "    index1 = bug_ids.index(bug_id1)\n",
    "    index2 = bug_ids.index(bug_id2)\n",
    "    vector1 = vectors[index1]\n",
    "    vector2 = vectors[index2]\n",
    "    topk_indeces, sim_scores = top_closest_values_indeces(11, np.array(vectors), np.array(vector1))\n",
    "    \n",
    "    # if (index2 not in topk_indeces):\n",
    "        # print(\"br2 not in top\")\n",
    "        # id2_not_in_top_10 += 1\n",
    "    # else:\n",
    "        # print(\"br2 is at index\", topk_indeces.index(index2))\n",
    "        # id2_rank_if_in_top_10 += [topk_indeces.index(index2)]\n",
    "        \n",
    "    # print(sim_scores)\n",
    "    # print(topk_indeces)\n",
    "    topk = [bug_ids[i] for i in topk_indeces]\n",
    "    # print(topk)\n",
    "    dup_in_top_k = False\n",
    "    for top_bug_id in topk:\n",
    "        if union_find.are_dups(bug_id1, top_bug_id) and bug_id1 != top_bug_id:\n",
    "            dup_in_top_k_count += 1\n",
    "            dup_in_top_k_indeces += [topk.index(top_bug_id)]\n",
    "            dup_in_top_k = True\n",
    "            break\n",
    "    total_count += 1\n",
    "    # print(dup_in_top_k)\n",
    "        \n",
    "    topk_indeces, sim_scores = top_closest_values_indeces(11, np.array(vectors), np.array(vector2))\n",
    "    \n",
    "    # if (index1 not in topk_indeces):\n",
    "        # print(\"br1 not in top\")\n",
    "        # id2_not_in_top_10 += 1\n",
    "    # else:\n",
    "        # print(\"br1 is at index\", topk_indeces.index(index1))\n",
    "        # id2_rank_if_in_top_10 += [topk_indeces.index(index1)]\n",
    "        \n",
    "    # print(sim_scores)\n",
    "    # print(topk_indeces)\n",
    "    \n",
    "    topk = [bug_ids[i] for i in topk_indeces]\n",
    "    # print(topk)\n",
    "    dup_in_top_k = False\n",
    "    for top_bug_id in topk:\n",
    "        if union_find.are_dups(bug_id2, top_bug_id) and bug_id2 != top_bug_id:\n",
    "            dup_in_top_k_count += 1\n",
    "            dup_in_top_k_indeces += [topk.index(top_bug_id)]\n",
    "            dup_in_top_k = True\n",
    "            break\n",
    "    total_count += 1\n",
    "    # print(dup_in_top_k)\n",
    "    # print(bug_id1)\n",
    "    # print(bug_id2)\n",
    "    # print(index2 in topk_indeces)"
   ]
  },
  {
   "cell_type": "code",
   "execution_count": 99,
   "metadata": {},
   "outputs": [
    {
     "data": {
      "text/plain": [
       "2581"
      ]
     },
     "execution_count": 99,
     "metadata": {},
     "output_type": "execute_result"
    }
   ],
   "source": [
    "dup_in_top_k_count"
   ]
  },
  {
   "cell_type": "code",
   "execution_count": 100,
   "metadata": {},
   "outputs": [
    {
     "data": {
      "text/plain": [
       "3020"
      ]
     },
     "execution_count": 100,
     "metadata": {},
     "output_type": "execute_result"
    }
   ],
   "source": [
    "total_count"
   ]
  },
  {
   "cell_type": "code",
   "execution_count": 101,
   "metadata": {},
   "outputs": [
    {
     "data": {
      "text/plain": [
       "0.854635761589404"
      ]
     },
     "execution_count": 101,
     "metadata": {},
     "output_type": "execute_result"
    }
   ],
   "source": [
    "dup_in_top_k_count/total_count"
   ]
  },
  {
   "cell_type": "markdown",
   "metadata": {},
   "source": [
    "### Eclipse desc  without stacktrace "
   ]
  },
  {
   "cell_type": "code",
   "execution_count": 102,
   "metadata": {},
   "outputs": [
    {
     "name": "stdout",
     "output_type": "stream",
     "text": [
      "Processing eclipse\n"
     ]
    },
    {
     "name": "stderr",
     "output_type": "stream",
     "text": [
      "  0%|          | 0/27583 [00:00<?, ?it/s]"
     ]
    },
    {
     "name": "stderr",
     "output_type": "stream",
     "text": [
      "100%|██████████| 27583/27583 [00:00<00:00, 54859.05it/s]\n",
      "100%|██████████| 2394/2394 [01:02<00:00, 38.13it/s]\n"
     ]
    }
   ],
   "source": [
    "table = \"eclipse\"\n",
    "union_find = my_utils.UnionFind()\n",
    "union_find.process_project(conn, table, min_desc_length=10)\n",
    "\n",
    "positive_set = get_duplicated_pairs(union_find)\n",
    "negetive_set = get_non_duplicated_pairs(union_find, conn, len(positive_set)*5)\n",
    "\n",
    "bug_ids = list(set([bug_id for t in positive_set for bug_id in t] + [bug_id for t in negetive_set for bug_id in t]))\n",
    "\n",
    "vectors = []\n",
    "for bug_id in tqdm(bug_ids):\n",
    "    desc = my_utils.get_desc_wo_stacktrace(conn, table, bug_id)\n",
    "    ten = model.encode(desc,convert_to_tensor=True)\n",
    "    vectors += [ten.detach().numpy().tolist()]"
   ]
  },
  {
   "cell_type": "code",
   "execution_count": 103,
   "metadata": {},
   "outputs": [],
   "source": [
    "def top_closest_values_indeces(k, vectors, q):\n",
    "    # Calculate the absolute differences between each element in L and v\n",
    "    sim_scores = [(my_utils.similarity_score_1d(v, q), i) for i, v in enumerate(vectors)]\n",
    "    # differences = [(util.pytorch_cos_sim(v, q), i) for i, v in enumerate(vectors)]\n",
    "\n",
    "    sim_scores.sort(reverse=True)\n",
    "    # print(sim_scores[:10])\n",
    "\n",
    "    # Extract the top k closest values and their indices in the original list\n",
    "    top_k_indices = [index for _, index in sim_scores[:k]]\n",
    "    return top_k_indices, sim_scores"
   ]
  },
  {
   "cell_type": "code",
   "execution_count": 46,
   "metadata": {},
   "outputs": [
    {
     "name": "stderr",
     "output_type": "stream",
     "text": [
      "100%|██████████| 1510/1510 [03:38<00:00,  6.91it/s]\n"
     ]
    },
    {
     "name": "stdout",
     "output_type": "stream",
     "text": [
      "Number of id2 not in top 10: 1339\n"
     ]
    },
    {
     "data": {
      "image/png": "[encoded data removed]",
      "text/plain": [
       "<Figure size 640x480 with 1 Axes>"
      ]
     },
     "metadata": {},
     "output_type": "display_data"
    }
   ],
   "source": [
    "\n",
    "assert(len(vectors) == len(bug_ids))\n",
    "id2_not_in_top_10 = 0\n",
    "id2_rank_if_in_top_10 = []\n",
    "for bug_id1, bug_id2 in tqdm(positive_set):\n",
    "    assert(union_find.are_dups(bug_id1, bug_id2))\n",
    "    \n",
    "    index1 = bug_ids.index(bug_id1)\n",
    "    index2 = bug_ids.index(bug_id2)\n",
    "    vector1 = vectors[index1]\n",
    "    vector2 = vectors[index2]\n",
    "    topk_indeces, _ = top_closest_values_indeces(10, np.array(vectors), np.array(vector1))\n",
    "    \n",
    "    if (index2 not in topk_indeces):\n",
    "        # print(\"br2 not in top\")\n",
    "        id2_not_in_top_10 += 1\n",
    "    else:\n",
    "        # print(\"br2 is at index\", topk_indeces.index(index2))\n",
    "        id2_rank_if_in_top_10 += [topk_indeces.index(index2)]\n",
    "        \n",
    "    topk_indeces, _ = top_closest_values_indeces(10, np.array(vectors), np.array(vector2))\n",
    "    \n",
    "    if (index1 not in topk_indeces):\n",
    "        # print(\"br2 not in top\")\n",
    "        id2_not_in_top_10 += 1\n",
    "    else:\n",
    "        # print(\"br2 is at index\", topk_indeces.index(index1))\n",
    "        id2_rank_if_in_top_10 += [topk_indeces.index(index1)]\n",
    "        \n",
    "    # print(topk_indeces)\n",
    "    # print([bug_ids[i] for i in topk_indeces])\n",
    "    # print(bug_id1)\n",
    "    # print(bug_id2)\n",
    "    # print(index2 in topk_indeces)\n",
    "    # print(top5)\n",
    "    \n",
    "plt.hist(np.array(id2_rank_if_in_top_10), ec='black', bins=10)\n",
    "print(\"Number of id2 not in top 10:\", id2_not_in_top_10)"
   ]
  },
  {
   "cell_type": "code",
   "execution_count": 47,
   "metadata": {},
   "outputs": [
    {
     "name": "stdout",
     "output_type": "stream",
     "text": [
      "Percentage not in top: 0.4433774834437086\n"
     ]
    }
   ],
   "source": [
    "print(\"Percentage not in top:\", id2_not_in_top_10/(len(positive_set)*2))"
   ]
  },
  {
   "cell_type": "code",
   "execution_count": 48,
   "metadata": {},
   "outputs": [
    {
     "name": "stdout",
     "output_type": "stream",
     "text": [
      "Average ranking of bug_id2 2.7840571088637716\n"
     ]
    }
   ],
   "source": [
    "print(\"Average ranking of bug_id2\", np.array(id2_rank_if_in_top_10).mean())"
   ]
  },
  {
   "cell_type": "code",
   "execution_count": 104,
   "metadata": {},
   "outputs": [
    {
     "name": "stderr",
     "output_type": "stream",
     "text": [
      "  0%|          | 0/1510 [00:00<?, ?it/s]"
     ]
    },
    {
     "name": "stderr",
     "output_type": "stream",
     "text": [
      "100%|██████████| 1510/1510 [03:20<00:00,  7.54it/s]\n"
     ]
    }
   ],
   "source": [
    "\n",
    "assert(len(vectors) == len(bug_ids))\n",
    "dup_in_top_k_count = 0\n",
    "total_count = 0\n",
    "dup_in_top_k_indeces = []\n",
    "for bug_id1, bug_id2 in tqdm(positive_set):\n",
    "    assert(union_find.are_dups(bug_id1, bug_id2))\n",
    "    \n",
    "    index1 = bug_ids.index(bug_id1)\n",
    "    index2 = bug_ids.index(bug_id2)\n",
    "    vector1 = vectors[index1]\n",
    "    vector2 = vectors[index2]\n",
    "    topk_indeces, sim_scores = top_closest_values_indeces(11, np.array(vectors), np.array(vector1))\n",
    "    \n",
    "    # if (index2 not in topk_indeces):\n",
    "        # print(\"br2 not in top\")\n",
    "        # id2_not_in_top_10 += 1\n",
    "    # else:\n",
    "        # print(\"br2 is at index\", topk_indeces.index(index2))\n",
    "        # id2_rank_if_in_top_10 += [topk_indeces.index(index2)]\n",
    "        \n",
    "    # print(sim_scores)\n",
    "    # print(topk_indeces)\n",
    "    topk = [bug_ids[i] for i in topk_indeces]\n",
    "    # print(topk)\n",
    "    dup_in_top_k = False\n",
    "    for top_bug_id in topk:\n",
    "        if union_find.are_dups(bug_id1, top_bug_id) and bug_id1 != top_bug_id:\n",
    "            dup_in_top_k_count += 1\n",
    "            dup_in_top_k_indeces += [topk.index(top_bug_id)]\n",
    "            dup_in_top_k = True\n",
    "            break\n",
    "    total_count += 1\n",
    "    # print(dup_in_top_k)\n",
    "        \n",
    "    topk_indeces, sim_scores = top_closest_values_indeces(11, np.array(vectors), np.array(vector2))\n",
    "    \n",
    "    # if (index1 not in topk_indeces):\n",
    "        # print(\"br1 not in top\")\n",
    "        # id2_not_in_top_10 += 1\n",
    "    # else:\n",
    "        # print(\"br1 is at index\", topk_indeces.index(index1))\n",
    "        # id2_rank_if_in_top_10 += [topk_indeces.index(index1)]\n",
    "        \n",
    "    # print(sim_scores)\n",
    "    # print(topk_indeces)\n",
    "    \n",
    "    topk = [bug_ids[i] for i in topk_indeces]\n",
    "    # print(topk)\n",
    "    dup_in_top_k = False\n",
    "    for top_bug_id in topk:\n",
    "        if union_find.are_dups(bug_id2, top_bug_id) and bug_id2 != top_bug_id:\n",
    "            dup_in_top_k_count += 1\n",
    "            dup_in_top_k_indeces += [topk.index(top_bug_id)]\n",
    "            dup_in_top_k = True\n",
    "            break\n",
    "    total_count += 1\n",
    "    # print(dup_in_top_k)\n",
    "    # print(bug_id1)\n",
    "    # print(bug_id2)\n",
    "    # print(index2 in topk_indeces)"
   ]
  },
  {
   "cell_type": "code",
   "execution_count": 105,
   "metadata": {},
   "outputs": [
    {
     "data": {
      "text/plain": [
       "2672"
      ]
     },
     "execution_count": 105,
     "metadata": {},
     "output_type": "execute_result"
    }
   ],
   "source": [
    "dup_in_top_k_count"
   ]
  },
  {
   "cell_type": "code",
   "execution_count": 106,
   "metadata": {},
   "outputs": [
    {
     "data": {
      "text/plain": [
       "3020"
      ]
     },
     "execution_count": 106,
     "metadata": {},
     "output_type": "execute_result"
    }
   ],
   "source": [
    "total_count"
   ]
  },
  {
   "cell_type": "code",
   "execution_count": 108,
   "metadata": {},
   "outputs": [
    {
     "data": {
      "text/plain": [
       "0.8847682119205298"
      ]
     },
     "execution_count": 108,
     "metadata": {},
     "output_type": "execute_result"
    }
   ],
   "source": [
    "dup_in_top_k_count/total_count"
   ]
  },
  {
   "cell_type": "code",
   "execution_count": 26,
   "metadata": {},
   "outputs": [
    {
     "name": "stdout",
     "output_type": "stream",
     "text": [
      "Eclipse 2020-03 hangs after choosing the workspace Eclipse 2020-03 hangs after choosing the workspaceCreated attachment 282870Full thread dumpAll,I've just installed Eclipse 2020-03 C developers version. When I run it - after selecting the workspace - it hangs.The debugging console shows:---osgi> log4j:WARN No appenders could be found for logger (org.eclipse.jgit.internal.storage.file.FileSnapshot).log4j:WARN Please initialize the log4j system properly.---I attach the thread dump.Any idea of what's happening?Regards,  Rosario\n",
      "\n"
     ]
    }
   ],
   "source": [
    "print(my_utils.get_desc_wo_stacktrace(conn, table, 563220))\n",
    "print(my_utils.get_stacktrace(conn, table, 563220))"
   ]
  },
  {
   "cell_type": "code",
   "execution_count": 27,
   "metadata": {},
   "outputs": [
    {
     "name": "stdout",
     "output_type": "stream",
     "text": [
      "Cannot run Eclipse IDE 2020 after installing WSL 2 Cannot run Eclipse IDE 2020 after installing WSL 2Created attachment 283629WSL 2 processes running under eclipse.exeSee https://github.com/microsoft/WSL/issues/5599Some weeks ago I installed WSL 2 on Windows 10.It was working (was able to use \"Ubuntu 20.04 LTS\" virtual machine).Eclipse was also working.After Windows restart (due to Windows Update), Eclipse IDE 2020-06 got stuck in the middle of startup. It has nothing to do with workspace, because even new workspace could not be started.Eclipse IDE 2019 could be started without problems.I opened Task Manager and noticed under eclipse.exe there were some processes for WSL 2.There are 2 workarounds:Workaround 1:Call this in PowerShell:wsl --shutdownEclipse startup will continueWorkaround 2:Open \"Ubuntu 20.04 LTS\" before starting Eclipse.In this case Task Manager shows WSL 2 processes running under \"Ubuntu 20.04 LTS\" instead of \"eclipse.exe\"\n",
      "\n"
     ]
    }
   ],
   "source": [
    "print(my_utils.get_desc_wo_stacktrace(conn, table, 565285))\n",
    "print(my_utils.get_stacktrace(conn, table, 565285))"
   ]
  },
  {
   "cell_type": "code",
   "execution_count": 55,
   "metadata": {},
   "outputs": [
    {
     "name": "stdout",
     "output_type": "stream",
     "text": [
      "Eclipse freeze several times in a day work Eclipse freeze several times in a day workAfter some hours of work I've notice a lots of UI monitor logs (UI freeze):most of them are shorts (less than a seconds)some of them are long greater than 10 secone was of 96 seconds...the positive things is that eclipse has never needed a restart.I'm sending you the full logs for the freezes (I hope this could help to get eclipse betrer and better)Running on  a ubuntu 16.04puginCDTPDTJSDTMYLYNTM with RSE-- Configuration Details --Product: Eclipse IDE 4.8.0.20180531-0839 (org.eclipse.epp.package.cpp.product)Installed Features: org.eclipse.platform 4.8.0.v20180524-1240\n",
      "\n"
     ]
    }
   ],
   "source": [
    "print(my_utils.get_desc_wo_stacktrace(conn, table, 535608))\n",
    "print(my_utils.get_stacktrace(conn, table, 535608))"
   ]
  },
  {
   "cell_type": "code",
   "execution_count": 52,
   "metadata": {},
   "outputs": [
    {
     "name": "stdout",
     "output_type": "stream",
     "text": [
      "Eclipse forced termination status report Eclipse forced termination status reportCreated attachment 282043Eclipse forced termination status reportAfter plug-in installation and eclipse, loading to the workspace is completed, and suddenly the program is forced to end. I will upload the log file. Please analyze it.\n",
      "\n"
     ]
    }
   ],
   "source": [
    "print(my_utils.get_desc_wo_stacktrace(conn, table, 560891))\n",
    "print(my_utils.get_stacktrace(conn, table, 560891))"
   ]
  },
  {
   "cell_type": "code",
   "execution_count": 56,
   "metadata": {},
   "outputs": [
    {
     "name": "stdout",
     "output_type": "stream",
     "text": [
      "Eclipse 2019-09 Core-dumps occasionally Eclipse 2019-09 Core-dumps occasionallyCreated attachment 280208Java 8 - core-dump fileI can consistently reproduce this in Eclipse Java (Oomph) installation on Windows and also in runtime workbench with RCP installation. It only applies to september 2019 release, not to june release.I do not have any useful stacks.## A fatal error has been detected by the Java Runtime Environment:##  EXCEPTION_ACCESS_VIOLATION (0xc0000005) at pc=0x00007ff945295edc, pid=16660, tid=0x0000000000000ec0## JRE version: Java(TM) SE Runtime Environment (8.0_161-b12) (build 1.8.0_161-b12)# Java VM: Java HotSpot(TM) 64-Bit Server VM (25.161-b12 mixed mode windows-amd64 compressed oops)# Problematic frame:# C  [oleacc.dll+0x5edc]## Failed to write core dump. Minidumps are not enabled by default on client versions of Windows## An error report file with more information is saved as:# C:\\eclipse\\e201909rcp\\eclipse\\hs_err_pid16660.log## If you would like to submit a bug report, please visit:#   http://bugreport.java.com/bugreport/crash.jsp# The crash happened outside the Java Virtual Machine in native code.# See problematic frame for where to report the bug.#\n",
      "\n"
     ]
    }
   ],
   "source": [
    "print(my_utils.get_desc_wo_stacktrace(conn, table, 551947))\n",
    "print(my_utils.get_stacktrace(conn, table, 551947))"
   ]
  },
  {
   "cell_type": "code",
   "execution_count": null,
   "metadata": {},
   "outputs": [],
   "source": []
  },
  {
   "cell_type": "markdown",
   "metadata": {},
   "source": [
    "### Spark desc with stacktrace"
   ]
  },
  {
   "cell_type": "code",
   "execution_count": 78,
   "metadata": {},
   "outputs": [
    {
     "name": "stdout",
     "output_type": "stream",
     "text": [
      "Processing spark\n"
     ]
    },
    {
     "name": "stderr",
     "output_type": "stream",
     "text": [
      "100%|██████████| 9579/9579 [00:00<00:00, 32799.62it/s]\n",
      "100%|██████████| 795/795 [00:24<00:00, 32.40it/s]\n"
     ]
    }
   ],
   "source": [
    "table = \"spark\"\n",
    "union_find = my_utils.UnionFind()\n",
    "union_find.process_project(conn, table, min_desc_length=10)\n",
    "\n",
    "positive_set = get_duplicated_pairs(union_find)\n",
    "negetive_set = get_non_duplicated_pairs(union_find, conn, len(positive_set)*5)\n",
    "\n",
    "bug_ids = list(set([bug_id for t in positive_set for bug_id in t] + [bug_id for t in negetive_set for bug_id in t]))\n",
    "\n",
    "vectors = []\n",
    "for bug_id in tqdm(bug_ids):\n",
    "    desc = my_utils.get_descriptions(conn, table, bug_id)\n",
    "    ten = model.encode(desc,convert_to_tensor=True)\n",
    "    vectors += [ten.detach().numpy().tolist()]"
   ]
  },
  {
   "cell_type": "code",
   "execution_count": 79,
   "metadata": {},
   "outputs": [],
   "source": [
    "def top_closest_values_indeces(k, vectors, q):\n",
    "    # Calculate the absolute differences between each element in L and v\n",
    "    sim_scores = [(my_utils.similarity_score_1d(v, q), i) for i, v in enumerate(vectors)]\n",
    "    # differences = [(util.pytorch_cos_sim(v, q), i) for i, v in enumerate(vectors)]\n",
    "\n",
    "    sim_scores.sort(reverse=True)\n",
    "    # print(sim_scores[:10])\n",
    "\n",
    "    # Extract the top k closest values and their indices in the original list\n",
    "    top_k_indices = [index for _, index in sim_scores[:k]]\n",
    "    return top_k_indices, sim_scores"
   ]
  },
  {
   "cell_type": "code",
   "execution_count": 81,
   "metadata": {},
   "outputs": [
    {
     "name": "stderr",
     "output_type": "stream",
     "text": [
      "  0%|          | 0/341 [00:00<?, ?it/s]"
     ]
    },
    {
     "name": "stderr",
     "output_type": "stream",
     "text": [
      "100%|██████████| 341/341 [00:17<00:00, 19.92it/s]\n"
     ]
    }
   ],
   "source": [
    "\n",
    "assert(len(vectors) == len(bug_ids))\n",
    "dup_in_top_k_count = 0\n",
    "total_count = 0\n",
    "dup_in_top_k_indeces = []\n",
    "for bug_id1, bug_id2 in tqdm(positive_set):\n",
    "    assert(union_find.are_dups(bug_id1, bug_id2))\n",
    "    \n",
    "    index1 = bug_ids.index(bug_id1)\n",
    "    index2 = bug_ids.index(bug_id2)\n",
    "    vector1 = vectors[index1]\n",
    "    vector2 = vectors[index2]\n",
    "    topk_indeces, sim_scores = top_closest_values_indeces(10, np.array(vectors), np.array(vector1))\n",
    "    \n",
    "    # if (index2 not in topk_indeces):\n",
    "        # print(\"br2 not in top\")\n",
    "        # id2_not_in_top_10 += 1\n",
    "    # else:\n",
    "        # print(\"br2 is at index\", topk_indeces.index(index2))\n",
    "        # id2_rank_if_in_top_10 += [topk_indeces.index(index2)]\n",
    "        \n",
    "    # print(sim_scores)\n",
    "    # print(topk_indeces)\n",
    "    topk = [bug_ids[i] for i in topk_indeces]\n",
    "    # print(topk)\n",
    "    dup_in_top_k = False\n",
    "    for top_bug_id in topk:\n",
    "        if union_find.are_dups(bug_id1, top_bug_id) and bug_id1 != top_bug_id:\n",
    "            dup_in_top_k_count += 1\n",
    "            dup_in_top_k_indeces += [topk.index(top_bug_id)]\n",
    "            dup_in_top_k = True\n",
    "            break\n",
    "    total_count += 1\n",
    "    # print(dup_in_top_k)\n",
    "        \n",
    "    topk_indeces, sim_scores = top_closest_values_indeces(10, np.array(vectors), np.array(vector2))\n",
    "    \n",
    "    # if (index1 not in topk_indeces):\n",
    "        # print(\"br1 not in top\")\n",
    "        # id2_not_in_top_10 += 1\n",
    "    # else:\n",
    "        # print(\"br1 is at index\", topk_indeces.index(index1))\n",
    "        # id2_rank_if_in_top_10 += [topk_indeces.index(index1)]\n",
    "        \n",
    "    # print(sim_scores)\n",
    "    # print(topk_indeces)\n",
    "    \n",
    "    topk = [bug_ids[i] for i in topk_indeces]\n",
    "    # print(topk)\n",
    "    dup_in_top_k = False\n",
    "    for top_bug_id in topk:\n",
    "        if union_find.are_dups(bug_id2, top_bug_id) and bug_id2 != top_bug_id:\n",
    "            dup_in_top_k_count += 1\n",
    "            dup_in_top_k_indeces += [topk.index(top_bug_id)]\n",
    "            dup_in_top_k = True\n",
    "            break\n",
    "    total_count += 1\n",
    "    # print(dup_in_top_k)\n",
    "    # print(bug_id1)\n",
    "    # print(bug_id2)\n",
    "    # print(index2 in topk_indeces)"
   ]
  },
  {
   "cell_type": "code",
   "execution_count": 82,
   "metadata": {},
   "outputs": [
    {
     "data": {
      "text/plain": [
       "574"
      ]
     },
     "execution_count": 82,
     "metadata": {},
     "output_type": "execute_result"
    }
   ],
   "source": [
    "dup_in_top_k_count"
   ]
  },
  {
   "cell_type": "code",
   "execution_count": 83,
   "metadata": {},
   "outputs": [
    {
     "data": {
      "text/plain": [
       "682"
      ]
     },
     "execution_count": 83,
     "metadata": {},
     "output_type": "execute_result"
    }
   ],
   "source": [
    "total_count"
   ]
  },
  {
   "cell_type": "code",
   "execution_count": 84,
   "metadata": {},
   "outputs": [
    {
     "data": {
      "text/plain": [
       "0.841642228739003"
      ]
     },
     "execution_count": 84,
     "metadata": {},
     "output_type": "execute_result"
    }
   ],
   "source": [
    "dup_in_top_k_count/total_count"
   ]
  },
  {
   "cell_type": "markdown",
   "metadata": {},
   "source": [
    "### Spark desc without stacktrace"
   ]
  },
  {
   "cell_type": "code",
   "execution_count": null,
   "metadata": {},
   "outputs": [],
   "source": []
  },
  {
   "cell_type": "code",
   "execution_count": 85,
   "metadata": {},
   "outputs": [
    {
     "name": "stdout",
     "output_type": "stream",
     "text": [
      "Processing spark\n"
     ]
    },
    {
     "name": "stderr",
     "output_type": "stream",
     "text": [
      "100%|██████████| 9579/9579 [00:00<00:00, 51717.81it/s]\n",
      "100%|██████████| 799/799 [00:23<00:00, 33.50it/s]\n"
     ]
    }
   ],
   "source": [
    "table = \"spark\"\n",
    "union_find = my_utils.UnionFind()\n",
    "union_find.process_project(conn, table, min_desc_length=10)\n",
    "\n",
    "positive_set = get_duplicated_pairs(union_find)\n",
    "negetive_set = get_non_duplicated_pairs(union_find, conn, len(positive_set)*5)\n",
    "\n",
    "bug_ids = list(set([bug_id for t in positive_set for bug_id in t] + [bug_id for t in negetive_set for bug_id in t]))\n",
    "\n",
    "vectors = []\n",
    "for bug_id in tqdm(bug_ids):\n",
    "    desc = my_utils.get_desc_wo_stacktrace(conn, table, bug_id)\n",
    "    ten = model.encode(desc,convert_to_tensor=True)\n",
    "    vectors += [ten.detach().numpy().tolist()]"
   ]
  },
  {
   "cell_type": "code",
   "execution_count": 86,
   "metadata": {},
   "outputs": [
    {
     "name": "stderr",
     "output_type": "stream",
     "text": [
      "  0%|          | 0/341 [00:00<?, ?it/s]"
     ]
    },
    {
     "name": "stderr",
     "output_type": "stream",
     "text": [
      "100%|██████████| 341/341 [00:15<00:00, 21.77it/s]\n"
     ]
    },
    {
     "name": "stdout",
     "output_type": "stream",
     "text": [
      "Number of id2 not in top 10: 184\n"
     ]
    },
    {
     "data": {
      "image/png": "[encoded data removed]",
      "text/plain": [
       "<Figure size 640x480 with 1 Axes>"
      ]
     },
     "metadata": {},
     "output_type": "display_data"
    }
   ],
   "source": [
    "\n",
    "assert(len(vectors) == len(bug_ids))\n",
    "id2_not_in_top_10 = 0\n",
    "id2_rank_if_in_top_10 = []\n",
    "for bug_id1, bug_id2 in tqdm(positive_set):\n",
    "    assert(union_find.are_dups(bug_id1, bug_id2))\n",
    "    \n",
    "    index1 = bug_ids.index(bug_id1)\n",
    "    index2 = bug_ids.index(bug_id2)\n",
    "    vector1 = vectors[index1]\n",
    "    vector2 = vectors[index2]\n",
    "    topk_indeces, _ = top_closest_values_indeces(11, np.array(vectors), np.array(vector1))\n",
    "    \n",
    "    if (index2 not in topk_indeces):\n",
    "        # print(\"br2 not in top\")\n",
    "        id2_not_in_top_10 += 1\n",
    "    else:\n",
    "        # print(\"br2 is at index\", topk_indeces.index(index2))\n",
    "        id2_rank_if_in_top_10 += [topk_indeces.index(index2)]\n",
    "        \n",
    "    topk_indeces, _ = top_closest_values_indeces(11, np.array(vectors), np.array(vector2))\n",
    "    \n",
    "    if (index1 not in topk_indeces):\n",
    "        # print(\"br2 not in top\")\n",
    "        id2_not_in_top_10 += 1\n",
    "    else:\n",
    "        # print(\"br2 is at index\", topk_indeces.index(index1))\n",
    "        id2_rank_if_in_top_10 += [topk_indeces.index(index1)]\n",
    "        \n",
    "    # print(topk_indeces)\n",
    "    # print([bug_ids[i] for i in topk_indeces])\n",
    "    # print(bug_id1)\n",
    "    # print(bug_id2)\n",
    "    # print(index2 in topk_indeces)\n",
    "    # print(top5)\n",
    "    \n",
    "plt.hist(np.array(id2_rank_if_in_top_10), ec='black', bins=10)\n",
    "print(\"Number of id2 not in top 10:\", id2_not_in_top_10)"
   ]
  },
  {
   "cell_type": "code",
   "execution_count": 87,
   "metadata": {},
   "outputs": [
    {
     "name": "stdout",
     "output_type": "stream",
     "text": [
      "Percentage not in top: 0.2697947214076246\n"
     ]
    }
   ],
   "source": [
    "print(\"Percentage not in top:\", id2_not_in_top_10/(len(positive_set)*2))"
   ]
  },
  {
   "cell_type": "code",
   "execution_count": 88,
   "metadata": {},
   "outputs": [
    {
     "name": "stdout",
     "output_type": "stream",
     "text": [
      "Average ranking of bug_id2 2.8493975903614457\n"
     ]
    }
   ],
   "source": [
    "print(\"Average ranking of bug_id2\", np.array(id2_rank_if_in_top_10).mean())"
   ]
  },
  {
   "cell_type": "code",
   "execution_count": 93,
   "metadata": {},
   "outputs": [
    {
     "name": "stderr",
     "output_type": "stream",
     "text": [
      "  0%|          | 0/341 [00:00<?, ?it/s]"
     ]
    },
    {
     "name": "stderr",
     "output_type": "stream",
     "text": [
      "100%|██████████| 341/341 [00:17<00:00, 19.05it/s]\n"
     ]
    }
   ],
   "source": [
    "\n",
    "assert(len(vectors) == len(bug_ids))\n",
    "dup_in_top_k_count = 0\n",
    "total_count = 0\n",
    "dup_in_top_k_indeces = []\n",
    "for bug_id1, bug_id2 in tqdm(positive_set):\n",
    "    assert(union_find.are_dups(bug_id1, bug_id2))\n",
    "    \n",
    "    index1 = bug_ids.index(bug_id1)\n",
    "    index2 = bug_ids.index(bug_id2)\n",
    "    vector1 = vectors[index1]\n",
    "    vector2 = vectors[index2]\n",
    "    topk_indeces, sim_scores = top_closest_values_indeces(11, np.array(vectors), np.array(vector1))\n",
    "    \n",
    "    # if (index2 not in topk_indeces):\n",
    "        # print(\"br2 not in top\")\n",
    "        # id2_not_in_top_10 += 1\n",
    "    # else:\n",
    "        # print(\"br2 is at index\", topk_indeces.index(index2))\n",
    "        # id2_rank_if_in_top_10 += [topk_indeces.index(index2)]\n",
    "        \n",
    "    # print(sim_scores)\n",
    "    # print(topk_indeces)\n",
    "    topk = [bug_ids[i] for i in topk_indeces]\n",
    "    # print(topk)\n",
    "    dup_in_top_k = False\n",
    "    for top_bug_id in topk:\n",
    "        if union_find.are_dups(bug_id1, top_bug_id) and bug_id1 != top_bug_id:\n",
    "            dup_in_top_k_count += 1\n",
    "            dup_in_top_k_indeces += [topk.index(top_bug_id)]\n",
    "            dup_in_top_k = True\n",
    "            break\n",
    "    total_count += 1\n",
    "    # print(dup_in_top_k)\n",
    "        \n",
    "    topk_indeces, sim_scores = top_closest_values_indeces(11, np.array(vectors), np.array(vector2))\n",
    "    \n",
    "    # if (index1 not in topk_indeces):\n",
    "        # print(\"br1 not in top\")\n",
    "        # id2_not_in_top_10 += 1\n",
    "    # else:\n",
    "        # print(\"br1 is at index\", topk_indeces.index(index1))\n",
    "        # id2_rank_if_in_top_10 += [topk_indeces.index(index1)]\n",
    "        \n",
    "    # print(sim_scores)\n",
    "    # print(topk_indeces)\n",
    "    \n",
    "    topk = [bug_ids[i] for i in topk_indeces]\n",
    "    # print(topk)\n",
    "    dup_in_top_k = False\n",
    "    for top_bug_id in topk:\n",
    "        if union_find.are_dups(bug_id2, top_bug_id) and bug_id2 != top_bug_id:\n",
    "            dup_in_top_k_count += 1\n",
    "            dup_in_top_k_indeces += [topk.index(top_bug_id)]\n",
    "            dup_in_top_k = True\n",
    "            break\n",
    "    total_count += 1\n",
    "    # print(dup_in_top_k)\n",
    "    # print(bug_id1)\n",
    "    # print(bug_id2)\n",
    "    # print(index2 in topk_indeces)"
   ]
  },
  {
   "cell_type": "code",
   "execution_count": 94,
   "metadata": {},
   "outputs": [
    {
     "data": {
      "text/plain": [
       "608"
      ]
     },
     "execution_count": 94,
     "metadata": {},
     "output_type": "execute_result"
    }
   ],
   "source": [
    "dup_in_top_k_count"
   ]
  },
  {
   "cell_type": "code",
   "execution_count": 95,
   "metadata": {},
   "outputs": [
    {
     "data": {
      "text/plain": [
       "682"
      ]
     },
     "execution_count": 95,
     "metadata": {},
     "output_type": "execute_result"
    }
   ],
   "source": [
    "total_count"
   ]
  },
  {
   "cell_type": "code",
   "execution_count": 96,
   "metadata": {},
   "outputs": [
    {
     "data": {
      "text/plain": [
       "0.8914956011730205"
      ]
     },
     "execution_count": 96,
     "metadata": {},
     "output_type": "execute_result"
    }
   ],
   "source": [
    "dup_in_top_k_count/total_count"
   ]
  },
  {
   "cell_type": "markdown",
   "metadata": {},
   "source": [
    "### Extracting stacktrace helps improving the ranking of duplicated bug reports"
   ]
  },
  {
   "cell_type": "markdown",
   "metadata": {},
   "source": [
    "### What are the other characteristics that affect the efficient ranking of bug reports"
   ]
  },
  {
   "cell_type": "code",
   "execution_count": 48,
   "metadata": {},
   "outputs": [
    {
     "name": "stdout",
     "output_type": "stream",
     "text": [
      "br2 is at index 7\n",
      "[1080, 374, 1121, 454, 598, 390, 544, 797, 841, 597, 616, 170, 794, 795, 844, 916, 763, 1153, 53, 252, 728, 768, 214, 438, 639, 76, 884, 720, 971, 473, 285, 903, 902, 428, 394, 111, 569, 10, 240, 837, 1243, 373, 1001, 514, 378, 871, 472, 183, 264, 729]\n",
      "[13253656, 13257083, 13278480, 13265758, 13283214, 13167101, 13323696, 13243660, 13227504, 13283213, 13275162, 13264036, 13341955, 13260042, 13293049, 13170657, 13325380, 13245899, 13287805, 13346504, 13243221, 13243496, 13223319, 13232914, 13201616, 13320781, 13219569, 13259547, 13130094, 13347832, 13207386, 13244288, 13244287, 13257445, 13322772, 13189885, 13143707, 13156462, 13182573, 13194719, 13262809, 13207928, 13179431, 13290748, 13158822, 13293226, 13151215, 13223141, 13231857, 13194072]\n",
      "13253656\n",
      "13243660\n"
     ]
    }
   ],
   "source": [
    "assert(len(vectors) == len(bug_ids))\n",
    "index = 11\n",
    "for bug_id1, bug_id2 in positive_set[index:index+1]:\n",
    "    assert(union_find.are_dups(bug_id1, bug_id2))\n",
    "    \n",
    "    index1 = bug_ids.index(bug_id1)\n",
    "    index2 = bug_ids.index(bug_id2)\n",
    "    vector1 = vectors[index1]\n",
    "    topk_indeces = top_closest_values_indeces(50, np.array(vectors), np.array(vector1))\n",
    "    \n",
    "    if (index2 not in topk_indeces):\n",
    "        print(\"br2 not in top\")\n",
    "    else:\n",
    "        print(\"br2 is at index\", topk_indeces.index(index2))\n",
    "        \n",
    "    print(topk_indeces)\n",
    "    print([bug_ids[i] for i in topk_indeces])\n",
    "    print(bug_id1)\n",
    "    print(bug_id2)\n",
    "    # print(index2 in topk_indeces)\n",
    "    # print(top5)"
   ]
  },
  {
   "cell_type": "code",
   "execution_count": 49,
   "metadata": {},
   "outputs": [
    {
     "name": "stdout",
     "output_type": "stream",
     "text": [
      "ANSI SQL: delete and update does not support in Spark ANSI SQL: delete and update does not support in Sparkdelete and update supported in PostgresSQLcreate table emp_test(id int);insert into emp_test values(100);insert into emp_test values(200);select * from emp_test;delete from emp_test where id=100;select * from emp_test;update emp_test set id=500 where id=200;select * from emp_test;\n",
      "\n"
     ]
    }
   ],
   "source": [
    "print(my_utils.get_desc_wo_stacktrace(conn, table, 13253656))\n",
    "print(my_utils.get_stacktrace(conn, table, 13253656))"
   ]
  },
  {
   "cell_type": "code",
   "execution_count": 50,
   "metadata": {},
   "outputs": [
    {
     "name": "stdout",
     "output_type": "stream",
     "text": [
      "DEFAULT option is not supported in Spark DEFAULT option is not supported in SparkPostgreSQL supports default option as below**CREATE TABLE update_test ( a INT DEFAULT 10, b INT);INSERT INTO update_test VALUES (5, 10);INSERT INTO update_test(b) VALUES (15);SELECT * FROM update_test;\n",
      "\n"
     ]
    }
   ],
   "source": [
    "print(my_utils.get_desc_wo_stacktrace(conn, table, 13257083))\n",
    "print(my_utils.get_stacktrace(conn, table, 13257083))"
   ]
  },
  {
   "cell_type": "code",
   "execution_count": 33,
   "metadata": {},
   "outputs": [
    {
     "name": "stdout",
     "output_type": "stream",
     "text": [
      "Document working of Adaptive Document working of Adaptivespark submit --conf spark.lineage.enabled参数是什么意思啊，查了官网，网上，都没有搜到。。配置这个参数有什么益处\n",
      "\n"
     ]
    }
   ],
   "source": [
    "print(my_utils.get_desc_wo_stacktrace(conn, table, 13254983))\n",
    "print(my_utils.get_stacktrace(conn, table, 13254983))"
   ]
  },
  {
   "cell_type": "markdown",
   "metadata": {},
   "source": [
    "# EOF"
   ]
  },
  {
   "cell_type": "code",
   "execution_count": null,
   "metadata": {},
   "outputs": [],
   "source": []
  }
 ],
 "metadata": {
  "kernelspec": {
   "display_name": "Python 3",
   "language": "python",
   "name": "python3"
  },
  "language_info": {
   "codemirror_mode": {
    "name": "ipython",
    "version": 3
   },
   "file_extension": ".py",
   "mimetype": "text/x-python",
   "name": "python",
   "nbconvert_exporter": "python",
   "pygments_lexer": "ipython3",
   "version": "3.8.10"
  }
 },
 "nbformat": 4,
 "nbformat_minor": 2
}
