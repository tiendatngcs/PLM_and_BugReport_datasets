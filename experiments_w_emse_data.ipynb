{
 "cells": [
  {
   "cell_type": "code",
   "execution_count": null,
   "metadata": {},
   "outputs": [],
   "source": []
  },
  {
   "cell_type": "markdown",
   "metadata": {},
   "source": [
    "# Import"
   ]
  },
  {
   "cell_type": "code",
   "execution_count": 2,
   "metadata": {},
   "outputs": [
    {
     "name": "stderr",
     "output_type": "stream",
     "text": [
      "/home/grads/t/tiendat.ng.cs/.local/lib/python3.8/site-packages/tqdm/auto.py:21: TqdmWarning: IProgress not found. Please update jupyter and ipywidgets. See https://ipywidgets.readthedocs.io/en/stable/user_install.html\n",
      "  from .autonotebook import tqdm as notebook_tqdm\n"
     ]
    }
   ],
   "source": [
    "from sentence_transformers import SentenceTransformer, util\n",
    "import torch\n",
    "from transformers import RobertaTokenizer, RobertaConfig, RobertaModel\n",
    "\n",
    "import sqlite3\n",
    "import argparse\n",
    "from tqdm import tqdm\n",
    "import numpy as np\n",
    "from matplotlib import pyplot as plt\n",
    "import os\n",
    "from numpy.linalg import norm\n",
    "import sys\n",
    "from itertools import combinations\n",
    "import random\n",
    "import json\n",
    "import my_utils"
   ]
  },
  {
   "cell_type": "code",
   "execution_count": 3,
   "metadata": {},
   "outputs": [],
   "source": [
    "# exclude stacktrace\n",
    "\n",
    "def remove_stacktrace(dataset):\n",
    "    desc_wo_stacktrace = []\n",
    "    for point in tqdm(dataset):\n",
    "        desc = point[\"description\"]\n",
    "        stacktraces = point[\"stacktrace\"]\n",
    "        for stacktrace in stacktraces:\n",
    "            desc = desc.replace(stacktrace[\"exception\"], \"\")\n",
    "            if stacktrace[\"message\"] is not None: desc = desc.replace(stacktrace[\"message\"], \"\")\n",
    "            if stacktrace[\"frames\"] is not None:\n",
    "                for frame in stacktrace[\"frames\"]:\n",
    "                    desc = desc.replace(frame[\"function\"], \"\")\n",
    "                    desc = desc.replace(frame[\"file\"], \"\")\n",
    "                    desc = desc.replace(str(frame[\"fileline\"]), \"\")\n",
    "        desc = desc.replace(\"\\tat \", \"\")\n",
    "        desc = desc.replace(\"at\\n\", \"\")\n",
    "        desc = desc.replace(\"(:)\", \"\")\n",
    "        desc = desc.split(\"\\n\\n\\n\\n\", 1)[0]\n",
    "        desc = desc.strip()\n",
    "        desc_wo_stacktrace.append(desc)\n",
    "    return desc_wo_stacktrace\n",
    "        "
   ]
  },
  {
   "cell_type": "code",
   "execution_count": 4,
   "metadata": {},
   "outputs": [],
   "source": [
    "def get_duplicated_pairs(union_find):\n",
    "    roots = union_find.get_roots()\n",
    "    pairs = []\n",
    "    for root in tqdm(roots):\n",
    "        group = union_find.get_children(root)\n",
    "        pairs += list(combinations(group, 2))\n",
    "    for pair in tqdm(pairs):\n",
    "        assert(union_find.are_dups(pair[0], pair[1]))\n",
    "    return pairs"
   ]
  },
  {
   "cell_type": "code",
   "execution_count": 5,
   "metadata": {},
   "outputs": [],
   "source": [
    "def get_non_duplicated_pairs(union_find, dataset, idx_to_bug_id, size):\n",
    "    from_dup = union_find.get_all_children()\n",
    "    #sample in some other single reports\n",
    "    assert(union_find.processed)\n",
    "    samples = random.sample(idx_to_bug_id, len(from_dup))\n",
    "    \n",
    "    pairs = []\n",
    "    count = 0\n",
    "    while (count < size):\n",
    "        pair = random.sample(samples, 2)\n",
    "        if pair[0] == pair[1] or union_find.are_dups(pair[0], pair[1]):\n",
    "            continue\n",
    "        pairs += [(pair[0], pair[1]),]\n",
    "        count += 1\n",
    "    for pair in tqdm(pairs):\n",
    "        assert(not union_find.are_dups(pair[0], pair[1]))\n",
    "    return pairs"
   ]
  },
  {
   "cell_type": "code",
   "execution_count": 28,
   "metadata": {},
   "outputs": [],
   "source": [
    "def top_closest_values_indeces(k, vectors, q):\n",
    "    # Calculate the absolute differences between each element in L and v\n",
    "    sim_scores = [(my_utils.similarity_score_1d(v, q), i) for i, v in enumerate(vectors)]\n",
    "    # differences = [(util.pytorch_cos_sim(v, q), i) for i, v in enumerate(vectors)]\n",
    "\n",
    "    sim_scores.sort(reverse=True)\n",
    "    # print(sim_scores[:10])\n",
    "\n",
    "    # Extract the top k closest values and their indices in the original list\n",
    "    top_k_indices = [index for _, index in sim_scores[:k]]\n",
    "    return top_k_indices, sim_scores"
   ]
  },
  {
   "cell_type": "markdown",
   "metadata": {},
   "source": [
    "# Load data"
   ]
  },
  {
   "cell_type": "markdown",
   "metadata": {},
   "source": [
    "Data is downloaded from https://zenodo.org/records/5746044#.Yej5HvtyZH6"
   ]
  },
  {
   "cell_type": "code",
   "execution_count": 6,
   "metadata": {},
   "outputs": [],
   "source": [
    "path_to_datasets = \"/home/grads/t/tiendat.ng.cs/github_repos/MLDatasets/EMSE_data\"\n",
    "\n",
    "projects = {\"campbell_dataset\" : \"campbell_stacktraces.json\", \n",
    "            \"eclipse_2018\" : \"eclipse_stacktraces.json\", \n",
    "            \"gnome_2011\" : \"gnome_stacktraces.json\", \n",
    "            \"netbeans_2016\" : \"netbeans_stacktraces.json\"}"
   ]
  },
  {
   "cell_type": "code",
   "execution_count": 7,
   "metadata": {},
   "outputs": [],
   "source": [
    "# loading netbeans 2016 dataset\n",
    "file_path = os.path.join(path_to_datasets, \"netbeans_2016\", projects[\"netbeans_2016\"])\n",
    "\n",
    "try:\n",
    "    with open(file_path, 'r') as json_file:\n",
    "        dataset = json.load(json_file)\n",
    "    # print(dataset)\n",
    "except json.JSONDecodeError as e:\n",
    "    print(f\"Error decoding JSON: {e}\")\n",
    "except FileNotFoundError:\n",
    "    print(f\"File not found: {file_path}\")"
   ]
  },
  {
   "cell_type": "code",
   "execution_count": 8,
   "metadata": {},
   "outputs": [
    {
     "data": {
      "text/plain": [
       "65417"
      ]
     },
     "execution_count": 8,
     "metadata": {},
     "output_type": "execute_result"
    }
   ],
   "source": [
    "len(dataset)"
   ]
  },
  {
   "cell_type": "code",
   "execution_count": 9,
   "metadata": {},
   "outputs": [
    {
     "name": "stdout",
     "output_type": "stream",
     "text": [
      "13703\n"
     ]
    }
   ],
   "source": [
    "num_br_withduplication = 0\n",
    "for point in dataset:\n",
    "    if point[\"dup_id\"] is not None:\n",
    "        num_br_withduplication += 1\n",
    "print(num_br_withduplication)"
   ]
  },
  {
   "cell_type": "code",
   "execution_count": 10,
   "metadata": {},
   "outputs": [],
   "source": [
    "idx_to_bug_id = []\n",
    "for point in dataset:\n",
    "    idx_to_bug_id.append(point[\"bug_id\"])"
   ]
  },
  {
   "cell_type": "code",
   "execution_count": 11,
   "metadata": {},
   "outputs": [],
   "source": [
    "union_find = my_utils.UnionFind()\n",
    "union_find.process_json_data(dataset, \"netbeans_2016\")"
   ]
  },
  {
   "cell_type": "code",
   "execution_count": 12,
   "metadata": {},
   "outputs": [
    {
     "data": {
      "text/plain": [
       "6840"
      ]
     },
     "execution_count": 12,
     "metadata": {},
     "output_type": "execute_result"
    }
   ],
   "source": [
    "len(union_find.get_roots())"
   ]
  },
  {
   "cell_type": "code",
   "execution_count": 13,
   "metadata": {},
   "outputs": [
    {
     "name": "stderr",
     "output_type": "stream",
     "text": [
      "  0%|          | 0/65417 [00:00<?, ?it/s]"
     ]
    },
    {
     "name": "stderr",
     "output_type": "stream",
     "text": [
      "100%|██████████| 65417/65417 [02:07<00:00, 511.72it/s] \n"
     ]
    }
   ],
   "source": [
    "descs_wo_stacktraces = remove_stacktrace(dataset)"
   ]
  },
  {
   "cell_type": "code",
   "execution_count": 14,
   "metadata": {},
   "outputs": [
    {
     "data": {
      "text/plain": [
       "'This is the Windows Eastern European character encoding, and it is being used to load various resources. (The same problem exists in pre-Gandalf versions.) Presumably you set the encoding to this so\\n that you can load the _cs.properties files internally without hassle, but it is also the encoder that makes its way into the release builds. This converter is supported by the JDK and should be inclu\\nded in any port, but apparently the SGI JDK does not include full I18N support (maybe?) and one person had the following message on startup on Irix (SGI port of JDK 1.1.6):\\n\\njava.io.UnsupportedEncodingException\\n        at sun.io.ByteToCharConverter.getConverter(ByteToCharConverter.java:97)\\n\\n\\n        at java.io.InputStreamReader.<init>(InputStreamReader.java:82)\\n        at\\ncom.netbeans.developer.util.NetbeansBundle.createResourceBundleFromURL(NetbeansBundle.java:319)\\n\\n        at\\ncom.netbeans.developer.util.NetbeansBundle.findBundle(NetbeansBundle.java:294)\\n        at\\ncom.netbeans.developer.util.NetbeansBundle.getBundle(NetbeansBundle.java:258)\\n        at\\ncom.netbeans.developer.util.NetbeansBundle.getBundle(NetbeansBundle.java:235)\\n        at\\ncom.netbeans.developer.top.CoronaTopManager.<clinit>(CoronaTopManager.java:1321)'"
      ]
     },
     "execution_count": 14,
     "metadata": {},
     "output_type": "execute_result"
    }
   ],
   "source": [
    "dataset[1][\"description\"]"
   ]
  },
  {
   "cell_type": "code",
   "execution_count": 15,
   "metadata": {},
   "outputs": [
    {
     "data": {
      "text/plain": [
       "'This is the Windows Eastern European character encoding, and it is being used to load various resources. (The same problem exists in pre-Gandalf versions.) Presumably you set the encoding to this so\\n that you can load the _cs.properties files internally without hassle, but it is also the encoder that makes its way into the release builds. This converter is supported by the JDK and should be inclu\\nded in any port, but apparently the SGI JDK does not include full I18N support (maybe?) and one person had the following message on startup on Irix (SGI port of JDK 1.1.6):\\n\\n\\n        at \\n\\n\\n        at'"
      ]
     },
     "execution_count": 15,
     "metadata": {},
     "output_type": "execute_result"
    }
   ],
   "source": [
    "descs_wo_stacktraces[1]"
   ]
  },
  {
   "cell_type": "markdown",
   "metadata": {},
   "source": [
    "# retry sbert"
   ]
  },
  {
   "cell_type": "code",
   "execution_count": 16,
   "metadata": {},
   "outputs": [],
   "source": [
    "model = SentenceTransformer('all-MiniLM-L6-v2')"
   ]
  },
  {
   "cell_type": "markdown",
   "metadata": {},
   "source": [
    "## when shot desc is used"
   ]
  },
  {
   "cell_type": "markdown",
   "metadata": {},
   "source": [
    "### Compare similarity among positive and negative sets"
   ]
  },
  {
   "cell_type": "code",
   "execution_count": 17,
   "metadata": {},
   "outputs": [
    {
     "name": "stderr",
     "output_type": "stream",
     "text": [
      "  0%|          | 0/6840 [00:00<?, ?it/s]"
     ]
    },
    {
     "name": "stderr",
     "output_type": "stream",
     "text": [
      "100%|██████████| 6840/6840 [00:08<00:00, 765.14it/s]\n",
      "100%|██████████| 45217/45217 [00:00<00:00, 1420926.07it/s]\n",
      "100%|██████████| 45217/45217 [00:00<00:00, 1669091.36it/s]\n"
     ]
    }
   ],
   "source": [
    "positive_set = get_duplicated_pairs(union_find)\n",
    "negative_set = get_non_duplicated_pairs(union_find, dataset, idx_to_bug_id, len(positive_set))"
   ]
  },
  {
   "cell_type": "code",
   "execution_count": 18,
   "metadata": {},
   "outputs": [
    {
     "data": {
      "text/plain": [
       "45217"
      ]
     },
     "execution_count": 18,
     "metadata": {},
     "output_type": "execute_result"
    }
   ],
   "source": [
    "len(positive_set)"
   ]
  },
  {
   "cell_type": "code",
   "execution_count": 19,
   "metadata": {},
   "outputs": [],
   "source": [
    "def get_similarity_of_pair_with_short_desc(dataset, idx_to_bug_id, pair):\n",
    "    index0 = idx_to_bug_id.index(pair[0])\n",
    "    index1 = idx_to_bug_id.index(pair[1])\n",
    "    sent0 = dataset[index0][\"short_desc\"]\n",
    "    sent1 = dataset[index1][\"short_desc\"]\n",
    "    sent_embedding0 = model.encode(sent0,convert_to_tensor=True)\n",
    "    sent_embedding1 = model.encode(sent1,convert_to_tensor=True)\n",
    "    return util.pytorch_cos_sim(sent_embedding0, sent_embedding1).numpy()[0, 0]"
   ]
  },
  {
   "cell_type": "code",
   "execution_count": 20,
   "metadata": {},
   "outputs": [
    {
     "name": "stderr",
     "output_type": "stream",
     "text": [
      "100%|██████████| 45217/45217 [17:56<00:00, 41.99it/s]\n",
      "100%|██████████| 45217/45217 [25:27<00:00, 29.61it/s]  \n"
     ]
    }
   ],
   "source": [
    "sim_scores_pos = np.array([get_similarity_of_pair_with_short_desc(dataset, idx_to_bug_id, pair) for pair in tqdm(positive_set)])\n",
    "sim_scores_neg = np.array([get_similarity_of_pair_with_short_desc(dataset, idx_to_bug_id, pair) for pair in tqdm(negative_set)])"
   ]
  },
  {
   "cell_type": "code",
   "execution_count": 21,
   "metadata": {},
   "outputs": [
    {
     "name": "stdout",
     "output_type": "stream",
     "text": [
      "0.5830284 0.31364092\n",
      "0.20942394 0.13644178\n"
     ]
    }
   ],
   "source": [
    "print(sim_scores_pos.mean(), sim_scores_pos.std())\n",
    "print(sim_scores_neg.mean(), sim_scores_neg.std())"
   ]
  },
  {
   "cell_type": "code",
   "execution_count": 22,
   "metadata": {},
   "outputs": [
    {
     "data": {
      "text/plain": [
       "(array([1.0000e+01, 3.4000e+01, 1.3400e+02, 3.0400e+02, 5.3300e+02,\n",
       "        8.7400e+02, 1.0770e+03, 1.4730e+03, 1.6220e+03, 1.8610e+03,\n",
       "        1.8560e+03, 1.9330e+03, 1.9100e+03, 1.7720e+03, 1.7030e+03,\n",
       "        1.6620e+03, 1.6320e+03, 1.6730e+03, 1.5670e+03, 1.8810e+03,\n",
       "        1.2940e+03, 1.2290e+03, 1.2010e+03, 1.0020e+03, 8.1200e+02,\n",
       "        9.4700e+02, 9.2200e+02, 7.6700e+02, 8.3700e+02, 1.0695e+04]),\n",
       " array([-0.13234377, -0.09459897, -0.05685417, -0.01910937,  0.01863543,\n",
       "         0.05638023,  0.09412503,  0.13186984,  0.16961463,  0.20735943,\n",
       "         0.24510424,  0.28284904,  0.32059383,  0.35833862,  0.39608344,\n",
       "         0.43382823,  0.47157302,  0.50931782,  0.54706264,  0.58480746,\n",
       "         0.62255222,  0.66029704,  0.69804186,  0.73578662,  0.77353144,\n",
       "         0.81127626,  0.84902102,  0.88676584,  0.92451066,  0.96225542,\n",
       "         1.00000024]),\n",
       " <BarContainer object of 30 artists>)"
      ]
     },
     "execution_count": 22,
     "metadata": {},
     "output_type": "execute_result"
    },
    {
     "data": {
      "image/png": "[encoded data removed]",
      "text/plain": [
       "<Figure size 640x480 with 1 Axes>"
      ]
     },
     "metadata": {},
     "output_type": "display_data"
    }
   ],
   "source": [
    "plt.hist(sim_scores_pos, color='lightblue', ec='black', bins=30)"
   ]
  },
  {
   "cell_type": "code",
   "execution_count": 24,
   "metadata": {},
   "outputs": [
    {
     "data": {
      "text/plain": [
       "(array([1.000e+00, 1.200e+01, 1.060e+02, 3.990e+02, 1.100e+03, 2.087e+03,\n",
       "        3.431e+03, 4.738e+03, 5.486e+03, 5.661e+03, 5.437e+03, 4.604e+03,\n",
       "        3.487e+03, 2.626e+03, 1.895e+03, 1.298e+03, 9.260e+02, 7.070e+02,\n",
       "        4.610e+02, 3.270e+02, 1.980e+02, 1.080e+02, 5.800e+01, 2.000e+01,\n",
       "        1.300e+01, 9.000e+00, 4.000e+00, 4.000e+00, 5.000e+00, 9.000e+00]),\n",
       " array([-0.2029227 , -0.16282527, -0.12272785, -0.08263042, -0.04253299,\n",
       "        -0.00243556,  0.03766186,  0.07775929,  0.11785672,  0.15795414,\n",
       "         0.19805157,  0.238149  ,  0.27824643,  0.31834385,  0.35844129,\n",
       "         0.39853871,  0.43863612,  0.47873357,  0.51883101,  0.55892843,\n",
       "         0.59902585,  0.63912326,  0.67922068,  0.71931815,  0.75941557,\n",
       "         0.79951298,  0.8396104 ,  0.87970781,  0.91980529,  0.9599027 ,\n",
       "         1.00000012]),\n",
       " <BarContainer object of 30 artists>)"
      ]
     },
     "execution_count": 24,
     "metadata": {},
     "output_type": "execute_result"
    },
    {
     "data": {
      "image/png": "[encoded data removed]",
      "text/plain": [
       "<Figure size 640x480 with 1 Axes>"
      ]
     },
     "metadata": {},
     "output_type": "display_data"
    }
   ],
   "source": [
    "plt.hist(sim_scores_neg, color='lightyellow', ec='black', bins=30)"
   ]
  },
  {
   "cell_type": "markdown",
   "metadata": {},
   "source": [
    "### Calculate accuracy. Given a query br, see if all of their duplicates are in top 10"
   ]
  },
  {
   "cell_type": "code",
   "execution_count": 27,
   "metadata": {},
   "outputs": [],
   "source": [
    "loaded_data = np.load('netbeans_sbert_short_desc.npz')\n",
    "vectors = [loaded_data[str(b)] for b in tqdm(idx_to_bug_id)]"
   ]
  },
  {
   "cell_type": "code",
   "execution_count": 25,
   "metadata": {},
   "outputs": [],
   "source": [
    "Q_set = union_find.get_all_children()"
   ]
  },
  {
   "cell_type": "code",
   "execution_count": 36,
   "metadata": {},
   "outputs": [
    {
     "name": "stderr",
     "output_type": "stream",
     "text": [
      "100%|██████████| 20543/20543 [3:39:50<00:00,  1.56it/s]  \n"
     ]
    }
   ],
   "source": [
    "accuracies = []\n",
    "\n",
    "for bug_id in tqdm(Q_set):\n",
    "    children = union_find.get_children(bug_id)\n",
    "    assert(bug_id in children)\n",
    "    children.remove(bug_id)\n",
    "    for child in children:\n",
    "        assert(child in idx_to_bug_id)\n",
    "    \n",
    "    vector = loaded_data[str(bug_id)]\n",
    "    # children_vectors = [ loaded_data[str(b)] for b in children]\n",
    "    \n",
    "    topk_indeces, sim_scores = top_closest_values_indeces(11, np.array(vectors), np.array(vector))\n",
    "    \n",
    "    \n",
    "    topk = [idx_to_bug_id[i] for i in topk_indeces]\n",
    "    \n",
    "    if bug_id in topk:\n",
    "        index_to_delete = topk.index(bug_id)\n",
    "        \n",
    "        topk.pop(index_to_delete)\n",
    "        topk_indeces.pop(index_to_delete)\n",
    "        sim_scores.pop(index_to_delete)\n",
    "    \n",
    "    children_is_in_top_k = []\n",
    "    for child in children:\n",
    "        if child in topk:\n",
    "            children_is_in_top_k.append(1)\n",
    "        else:\n",
    "            children_is_in_top_k.append(0)\n",
    "            \n",
    "    children_in_top_k = list(set(children).intersection(set(topk)))\n",
    "    \n",
    "    # print(f\"{len(children_in_top_k)} out of {len(children)} children are in top k, they are {children_in_top_k}\")\n",
    "    accuracy = len(children_in_top_k) / len(children)\n",
    "    accuracies.append(accuracy)"
   ]
  },
  {
   "cell_type": "code",
   "execution_count": 39,
   "metadata": {},
   "outputs": [
    {
     "name": "stdout",
     "output_type": "stream",
     "text": [
      "0.365531834941429 0.4361047363550814\n",
      "1.0 0.0\n"
     ]
    }
   ],
   "source": [
    "print(np.mean(accuracies), np.std(accuracies))\n",
    "print(np.max(accuracies), np.min(accuracies))"
   ]
  },
  {
   "cell_type": "code",
   "execution_count": 40,
   "metadata": {},
   "outputs": [
    {
     "data": {
      "text/plain": [
       "(array([10380.,   149.,   165.,   218.,   164.,   245.,   255.,   347.,\n",
       "           89.,    63.,   429.,    52.,   142.,    60.,     0.,  1063.,\n",
       "           36.,    49.,    73.,    35.,   327.,    65.,   155.,    35.,\n",
       "           99.,    87.,    26.,    17.,     0.,  5718.]),\n",
       " array([0.        , 0.03333333, 0.06666667, 0.1       , 0.13333333,\n",
       "        0.16666667, 0.2       , 0.23333333, 0.26666667, 0.3       ,\n",
       "        0.33333333, 0.36666667, 0.4       , 0.43333333, 0.46666667,\n",
       "        0.5       , 0.53333333, 0.56666667, 0.6       , 0.63333333,\n",
       "        0.66666667, 0.7       , 0.73333333, 0.76666667, 0.8       ,\n",
       "        0.83333333, 0.86666667, 0.9       , 0.93333333, 0.96666667,\n",
       "        1.        ]),\n",
       " <BarContainer object of 30 artists>)"
      ]
     },
     "execution_count": 40,
     "metadata": {},
     "output_type": "execute_result"
    },
    {
     "data": {
      "image/png": "[encoded data removed]",
      "text/plain": [
       "<Figure size 640x480 with 1 Axes>"
      ]
     },
     "metadata": {},
     "output_type": "display_data"
    }
   ],
   "source": [
    "plt.hist(accuracies, color='lightblue', ec='black', bins=30)"
   ]
  },
  {
   "cell_type": "markdown",
   "metadata": {},
   "source": [
    "Number of br with no short desc is insignificant"
   ]
  },
  {
   "cell_type": "code",
   "execution_count": 34,
   "metadata": {},
   "outputs": [
    {
     "name": "stdout",
     "output_type": "stream",
     "text": [
      "4\n"
     ]
    }
   ],
   "source": [
    "num_br_w_empty_short_desc = 0\n",
    "\n",
    "for point in dataset:\n",
    "    short_desc = point[\"short_desc\"]\n",
    "    if len(short_desc) == 0:\n",
    "        num_br_w_empty_short_desc += 1\n",
    "\n",
    "print(num_br_w_empty_short_desc)"
   ]
  },
  {
   "cell_type": "markdown",
   "metadata": {},
   "source": [
    "## when desc with stacktrace is used"
   ]
  },
  {
   "cell_type": "code",
   "execution_count": null,
   "metadata": {},
   "outputs": [],
   "source": [
    "def get_similarity_of_pair_with_desc(dataset, idx_to_bug_id, pair):\n",
    "    index0 = idx_to_bug_id.index(pair[0])\n",
    "    index1 = idx_to_bug_id.index(pair[1])\n",
    "    sent0 = dataset[index0][\"description\"]\n",
    "    sent1 = dataset[index1][\"description\"]\n",
    "    sent_embedding0 = model.encode(sent0,convert_to_tensor=True)\n",
    "    sent_embedding1 = model.encode(sent1,convert_to_tensor=True)\n",
    "    return util.pytorch_cos_sim(sent_embedding0, sent_embedding1).numpy()[0, 0]"
   ]
  },
  {
   "cell_type": "code",
   "execution_count": null,
   "metadata": {},
   "outputs": [],
   "source": [
    "sim_scores_pos = np.array([get_similarity_of_pair_with_desc(dataset, idx_to_bug_id, pair) for pair in positive_set])\n",
    "sim_scores_neg = np.array([get_similarity_of_pair_with_desc(dataset, idx_to_bug_id, pair) for pair in negative_set])"
   ]
  },
  {
   "cell_type": "code",
   "execution_count": null,
   "metadata": {},
   "outputs": [],
   "source": [
    "print(sim_scores_pos.mean(), sim_scores_pos.std())\n",
    "print(sim_scores_neg.mean(), sim_scores_neg.std())"
   ]
  },
  {
   "cell_type": "code",
   "execution_count": null,
   "metadata": {},
   "outputs": [],
   "source": [
    "plt.hist(sim_scores_pos, color='lightblue', ec='black', bins=30)"
   ]
  },
  {
   "cell_type": "code",
   "execution_count": null,
   "metadata": {},
   "outputs": [],
   "source": [
    "plt.hist(sim_scores_neg, color='lightblue', ec='black', bins=30)"
   ]
  },
  {
   "cell_type": "markdown",
   "metadata": {},
   "source": []
  },
  {
   "cell_type": "code",
   "execution_count": null,
   "metadata": {},
   "outputs": [],
   "source": []
  },
  {
   "cell_type": "markdown",
   "metadata": {},
   "source": [
    "sim_scores_pos = np.array([get_similarity_of_pair_with_short_desc(dataset, idx_to_bug_id, pair) for pair in positive_set])\n",
    "sim_scores_neg = np.array([get_similarity_of_pair_with_short_desc(dataset, idx_to_bug_id, pair) for pair in negative_set])"
   ]
  }
 ],
 "metadata": {
  "kernelspec": {
   "display_name": "Python 3",
   "language": "python",
   "name": "python3"
  },
  "language_info": {
   "codemirror_mode": {
    "name": "ipython",
    "version": 3
   },
   "file_extension": ".py",
   "mimetype": "text/x-python",
   "name": "python",
   "nbconvert_exporter": "python",
   "pygments_lexer": "ipython3",
   "version": "3.8.10"
  }
 },
 "nbformat": 4,
 "nbformat_minor": 2
}
