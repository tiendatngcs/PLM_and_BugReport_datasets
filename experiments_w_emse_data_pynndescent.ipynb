{
 "cells": [
  {
   "cell_type": "code",
   "execution_count": null,
   "metadata": {},
   "outputs": [],
   "source": []
  },
  {
   "cell_type": "markdown",
   "metadata": {},
   "source": [
    "# Import"
   ]
  },
  {
   "cell_type": "code",
   "execution_count": 1,
   "metadata": {},
   "outputs": [
    {
     "name": "stderr",
     "output_type": "stream",
     "text": [
      "/home/grads/t/tiendat.ng.cs/.local/lib/python3.8/site-packages/tqdm/auto.py:21: TqdmWarning: IProgress not found. Please update jupyter and ipywidgets. See https://ipywidgets.readthedocs.io/en/stable/user_install.html\n",
      "  from .autonotebook import tqdm as notebook_tqdm\n"
     ]
    }
   ],
   "source": [
    "from sentence_transformers import SentenceTransformer, util\n",
    "import torch\n",
    "from transformers import RobertaTokenizer, RobertaConfig, RobertaModel\n",
    "\n",
    "import pynndescent\n",
    "\n",
    "import sqlite3\n",
    "import argparse\n",
    "from tqdm import tqdm\n",
    "import numpy as np\n",
    "from matplotlib import pyplot as plt\n",
    "import os\n",
    "from numpy.linalg import norm\n",
    "import sys\n",
    "from itertools import combinations\n",
    "import random\n",
    "import json\n",
    "import my_utils"
   ]
  },
  {
   "cell_type": "code",
   "execution_count": 2,
   "metadata": {},
   "outputs": [],
   "source": [
    "# exclude stacktrace\n",
    "\n",
    "def remove_stacktrace(dataset):\n",
    "    desc_wo_stacktrace = []\n",
    "    for point in tqdm(dataset):\n",
    "        desc = point[\"description\"]\n",
    "        stacktraces = point[\"stacktrace\"]\n",
    "        for stacktrace in stacktraces:\n",
    "            desc = desc.replace(stacktrace[\"exception\"], \"\")\n",
    "            if stacktrace[\"message\"] is not None: desc = desc.replace(stacktrace[\"message\"], \"\")\n",
    "            if stacktrace[\"frames\"] is not None:\n",
    "                for frame in stacktrace[\"frames\"]:\n",
    "                    desc = desc.replace(frame[\"function\"], \"\")\n",
    "                    desc = desc.replace(frame[\"file\"], \"\")\n",
    "                    desc = desc.replace(str(frame[\"fileline\"]), \"\")\n",
    "        desc = desc.replace(\"\\tat \", \"\")\n",
    "        desc = desc.replace(\"at\\n\", \"\")\n",
    "        desc = desc.replace(\"(:)\", \"\")\n",
    "        desc = desc.split(\"\\n\\n\\n\\n\", 1)[0]\n",
    "        desc = desc.strip()\n",
    "        desc_wo_stacktrace.append(desc)\n",
    "    return desc_wo_stacktrace\n",
    "        "
   ]
  },
  {
   "cell_type": "code",
   "execution_count": 3,
   "metadata": {},
   "outputs": [],
   "source": [
    "def get_duplicated_pairs(union_find):\n",
    "    roots = union_find.get_roots()\n",
    "    pairs = []\n",
    "    for root in tqdm(roots):\n",
    "        group = union_find.get_children(root)\n",
    "        pairs += list(combinations(group, 2))\n",
    "    for pair in tqdm(pairs):\n",
    "        assert(union_find.are_dups(pair[0], pair[1]))\n",
    "    return pairs"
   ]
  },
  {
   "cell_type": "code",
   "execution_count": 4,
   "metadata": {},
   "outputs": [],
   "source": [
    "def get_non_duplicated_pairs(union_find, dataset, idx_to_bug_id, size):\n",
    "    from_dup = union_find.get_all_children()\n",
    "    #sample in some other single reports\n",
    "    assert(union_find.processed)\n",
    "    samples = random.sample(idx_to_bug_id, len(from_dup))\n",
    "    \n",
    "    pairs = []\n",
    "    count = 0\n",
    "    while (count < size):\n",
    "        pair = random.sample(samples, 2)\n",
    "        if pair[0] == pair[1] or union_find.are_dups(pair[0], pair[1]):\n",
    "            continue\n",
    "        pairs += [(pair[0], pair[1]),]\n",
    "        count += 1\n",
    "    for pair in tqdm(pairs):\n",
    "        assert(not union_find.are_dups(pair[0], pair[1]))\n",
    "    return pairs"
   ]
  },
  {
   "cell_type": "code",
   "execution_count": 5,
   "metadata": {},
   "outputs": [],
   "source": [
    "def top_closest_values_indeces(k, vectors, q):\n",
    "    # Calculate the absolute differences between each element in L and v\n",
    "    sim_scores = [(my_utils.similarity_score_1d(v, q), i) for i, v in enumerate(vectors)]\n",
    "    # differences = [(util.pytorch_cos_sim(v, q), i) for i, v in enumerate(vectors)]\n",
    "\n",
    "    sim_scores.sort(reverse=True)\n",
    "    # print(sim_scores[:10])\n",
    "\n",
    "    # Extract the top k closest values and their indices in the original list\n",
    "    top_k_indices = [index for _, index in sim_scores[:k]]\n",
    "    return top_k_indices, sim_scores"
   ]
  },
  {
   "cell_type": "markdown",
   "metadata": {},
   "source": [
    "# Load data"
   ]
  },
  {
   "cell_type": "markdown",
   "metadata": {},
   "source": [
    "Data is downloaded from https://zenodo.org/records/5746044#.Yej5HvtyZH6"
   ]
  },
  {
   "cell_type": "code",
   "execution_count": 6,
   "metadata": {},
   "outputs": [],
   "source": [
    "path_to_datasets = \"/home/grads/t/tiendat.ng.cs/github_repos/MLDatasets/EMSE_data\"\n",
    "\n",
    "projects = {\"campbell_dataset\" : \"campbell_stacktraces.json\", \n",
    "            \"eclipse_2018\" : \"eclipse_stacktraces.json\", \n",
    "            \"gnome_2011\" : \"gnome_stacktraces.json\", \n",
    "            \"netbeans_2016\" : \"netbeans_stacktraces.json\"}"
   ]
  },
  {
   "cell_type": "code",
   "execution_count": 7,
   "metadata": {},
   "outputs": [],
   "source": [
    "# loading netbeans 2016 dataset\n",
    "file_path = os.path.join(path_to_datasets, \"netbeans_2016\", projects[\"netbeans_2016\"])\n",
    "\n",
    "try:\n",
    "    with open(file_path, 'r') as json_file:\n",
    "        dataset = json.load(json_file)\n",
    "    # print(dataset)\n",
    "except json.JSONDecodeError as e:\n",
    "    print(f\"Error decoding JSON: {e}\")\n",
    "except FileNotFoundError:\n",
    "    print(f\"File not found: {file_path}\")"
   ]
  },
  {
   "cell_type": "code",
   "execution_count": 8,
   "metadata": {},
   "outputs": [
    {
     "data": {
      "text/plain": [
       "65417"
      ]
     },
     "execution_count": 8,
     "metadata": {},
     "output_type": "execute_result"
    }
   ],
   "source": [
    "len(dataset)"
   ]
  },
  {
   "cell_type": "code",
   "execution_count": 9,
   "metadata": {},
   "outputs": [
    {
     "name": "stdout",
     "output_type": "stream",
     "text": [
      "13703\n"
     ]
    }
   ],
   "source": [
    "num_br_withduplication = 0\n",
    "for point in dataset:\n",
    "    if point[\"dup_id\"] is not None:\n",
    "        num_br_withduplication += 1\n",
    "print(num_br_withduplication)"
   ]
  },
  {
   "cell_type": "code",
   "execution_count": 10,
   "metadata": {},
   "outputs": [],
   "source": [
    "idx_to_bug_id = []\n",
    "for point in dataset:\n",
    "    idx_to_bug_id.append(point[\"bug_id\"])"
   ]
  },
  {
   "cell_type": "code",
   "execution_count": 11,
   "metadata": {},
   "outputs": [],
   "source": [
    "union_find = my_utils.UnionFind()\n",
    "union_find.process_json_data(dataset, \"netbeans_2016\")"
   ]
  },
  {
   "cell_type": "code",
   "execution_count": 12,
   "metadata": {},
   "outputs": [
    {
     "data": {
      "text/plain": [
       "6840"
      ]
     },
     "execution_count": 12,
     "metadata": {},
     "output_type": "execute_result"
    }
   ],
   "source": [
    "len(union_find.get_roots())"
   ]
  },
  {
   "cell_type": "code",
   "execution_count": 13,
   "metadata": {},
   "outputs": [
    {
     "name": "stderr",
     "output_type": "stream",
     "text": [
      "  0%|          | 0/65417 [00:00<?, ?it/s]"
     ]
    },
    {
     "name": "stderr",
     "output_type": "stream",
     "text": [
      "100%|██████████| 65417/65417 [02:07<00:00, 511.72it/s] \n"
     ]
    }
   ],
   "source": [
    "descs_wo_stacktraces = remove_stacktrace(dataset)"
   ]
  },
  {
   "cell_type": "code",
   "execution_count": 14,
   "metadata": {},
   "outputs": [
    {
     "data": {
      "text/plain": [
       "'This is the Windows Eastern European character encoding, and it is being used to load various resources. (The same problem exists in pre-Gandalf versions.) Presumably you set the encoding to this so\\n that you can load the _cs.properties files internally without hassle, but it is also the encoder that makes its way into the release builds. This converter is supported by the JDK and should be inclu\\nded in any port, but apparently the SGI JDK does not include full I18N support (maybe?) and one person had the following message on startup on Irix (SGI port of JDK 1.1.6):\\n\\njava.io.UnsupportedEncodingException\\n        at sun.io.ByteToCharConverter.getConverter(ByteToCharConverter.java:97)\\n\\n\\n        at java.io.InputStreamReader.<init>(InputStreamReader.java:82)\\n        at\\ncom.netbeans.developer.util.NetbeansBundle.createResourceBundleFromURL(NetbeansBundle.java:319)\\n\\n        at\\ncom.netbeans.developer.util.NetbeansBundle.findBundle(NetbeansBundle.java:294)\\n        at\\ncom.netbeans.developer.util.NetbeansBundle.getBundle(NetbeansBundle.java:258)\\n        at\\ncom.netbeans.developer.util.NetbeansBundle.getBundle(NetbeansBundle.java:235)\\n        at\\ncom.netbeans.developer.top.CoronaTopManager.<clinit>(CoronaTopManager.java:1321)'"
      ]
     },
     "execution_count": 14,
     "metadata": {},
     "output_type": "execute_result"
    }
   ],
   "source": [
    "dataset[1][\"description\"]"
   ]
  },
  {
   "cell_type": "code",
   "execution_count": 15,
   "metadata": {},
   "outputs": [
    {
     "data": {
      "text/plain": [
       "'This is the Windows Eastern European character encoding, and it is being used to load various resources. (The same problem exists in pre-Gandalf versions.) Presumably you set the encoding to this so\\n that you can load the _cs.properties files internally without hassle, but it is also the encoder that makes its way into the release builds. This converter is supported by the JDK and should be inclu\\nded in any port, but apparently the SGI JDK does not include full I18N support (maybe?) and one person had the following message on startup on Irix (SGI port of JDK 1.1.6):\\n\\n\\n        at \\n\\n\\n        at'"
      ]
     },
     "execution_count": 15,
     "metadata": {},
     "output_type": "execute_result"
    }
   ],
   "source": [
    "descs_wo_stacktraces[1]"
   ]
  },
  {
   "cell_type": "markdown",
   "metadata": {},
   "source": [
    "# feeding sbert vector representations to PyNNDescent"
   ]
  },
  {
   "cell_type": "markdown",
   "metadata": {},
   "source": [
    "## when shot desc is used"
   ]
  },
  {
   "cell_type": "markdown",
   "metadata": {},
   "source": [
    "### Calculate accuracy. Given a query br, see if all of their duplicates are in top 10"
   ]
  },
  {
   "cell_type": "code",
   "execution_count": 102,
   "metadata": {},
   "outputs": [
    {
     "name": "stderr",
     "output_type": "stream",
     "text": [
      "100%|██████████| 65417/65417 [02:15<00:00, 483.55it/s]\n"
     ]
    }
   ],
   "source": [
    "loaded_data = np.load('netbeans_sbert_short_desc.npz')\n",
    "vectors = [loaded_data[str(b)] for b in tqdm(idx_to_bug_id)]"
   ]
  },
  {
   "cell_type": "code",
   "execution_count": 15,
   "metadata": {},
   "outputs": [],
   "source": [
    "Q_set = union_find.get_all_children()"
   ]
  },
  {
   "cell_type": "code",
   "execution_count": 76,
   "metadata": {},
   "outputs": [],
   "source": [
    "index = pynndescent.NNDescent(np.array(vectors), n_neighbors=100, metric=\"cosine\")"
   ]
  },
  {
   "cell_type": "code",
   "execution_count": 77,
   "metadata": {},
   "outputs": [
    {
     "name": "stderr",
     "output_type": "stream",
     "text": [
      "/home/grads/t/tiendat.ng.cs/.local/lib/python3.8/site-packages/scipy/sparse/_index.py:146: SparseEfficiencyWarning: Changing the sparsity structure of a csr_matrix is expensive. lil_matrix is more efficient.\n",
      "  self._set_arrayXarray(i, j, x)\n"
     ]
    }
   ],
   "source": [
    "index.prepare()"
   ]
  },
  {
   "cell_type": "code",
   "execution_count": 83,
   "metadata": {},
   "outputs": [],
   "source": [
    "neighbors = index.query(np.array(vectors)[0:20], 11)"
   ]
  },
  {
   "cell_type": "code",
   "execution_count": 81,
   "metadata": {},
   "outputs": [
    {
     "data": {
      "text/plain": [
       "array([   19,  4920, 15049,  7202, 11718,  4251, 22571,   409,  7784,\n",
       "        2868,  1485], dtype=int32)"
      ]
     },
     "execution_count": 81,
     "metadata": {},
     "output_type": "execute_result"
    }
   ],
   "source": [
    "neighbors[0][19]"
   ]
  },
  {
   "cell_type": "code",
   "execution_count": 125,
   "metadata": {},
   "outputs": [
    {
     "name": "stderr",
     "output_type": "stream",
     "text": [
      "/home/grads/t/tiendat.ng.cs/.local/lib/python3.8/site-packages/scipy/sparse/_index.py:146: SparseEfficiencyWarning: Changing the sparsity structure of a csr_matrix is expensive. lil_matrix is more efficient.\n",
      "  self._set_arrayXarray(i, j, x)\n",
      "100%|██████████| 20543/20543 [00:39<00:00, 519.35it/s]\n",
      "100%|██████████| 20543/20543 [00:31<00:00, 650.08it/s]\n"
     ]
    }
   ],
   "source": [
    "accuracies = []\n",
    "has_duplicate_in_top_5 = []\n",
    "\n",
    "index = pynndescent.NNDescent(np.array(vectors), n_neighbors=100, metric=\"cosine\")\n",
    "index.prepare()\n",
    "\n",
    "Q_vectors = np.array([loaded_data[str(bug_id)] for bug_id in tqdm(Q_set)])\n",
    "\n",
    "# children_lists = [union_find.get_children(bug_id) for bug_id in tqdm(Q_set)]\n",
    "children_lists = []\n",
    "for bug_id in tqdm(Q_set):\n",
    "    children = union_find.get_children(bug_id)\n",
    "    children.remove(bug_id)\n",
    "    children_lists.append(children)\n",
    "\n",
    "\n",
    "\n",
    "topk_indeces, distances = index.query(Q_vectors, 11)\n",
    "\n",
    "for children, topk_idx in zip(children_lists, topk_indeces):\n",
    "    topk = [idx_to_bug_id[i] for i in topk_idx]\n",
    "    children_in_top_k = list(set(children).intersection(set(topk)))\n",
    "    accuracy = len(children_in_top_k) / len(children)\n",
    "    accuracies.append(accuracy)\n",
    "\n",
    "topk_indeces, distances = index.query(Q_vectors, 6)\n",
    "for children, topk_idx in zip(children_lists, topk_indeces):\n",
    "    topk = [idx_to_bug_id[i] for i in topk_idx]\n",
    "    has_dup_in_top = False\n",
    "    for child in children:\n",
    "        if child in topk:\n",
    "            has_dup_in_top = True\n",
    "            break\n",
    "    if has_dup_in_top:\n",
    "        has_duplicate_in_top_5.append(1)\n",
    "    else:\n",
    "        has_duplicate_in_top_5.append(0)\n"
   ]
  },
  {
   "cell_type": "code",
   "execution_count": 126,
   "metadata": {},
   "outputs": [
    {
     "name": "stdout",
     "output_type": "stream",
     "text": [
      "0.3683862248355713 0.43628391174273345\n",
      "1.0 0.0\n"
     ]
    }
   ],
   "source": [
    "print(np.mean(accuracies), np.std(accuracies))\n",
    "print(np.max(accuracies), np.min(accuracies))"
   ]
  },
  {
   "cell_type": "code",
   "execution_count": 127,
   "metadata": {},
   "outputs": [
    {
     "data": {
      "text/plain": [
       "(array([10293.,   149.,   164.,   222.,   197.,   204.,   274.,   330.,\n",
       "           80.,    48.,   461.,    46.,   167.,    45.,     0.,  1117.,\n",
       "           25.,    56.,    71.,    31.,   343.,    66.,   154.,    37.,\n",
       "           80.,    76.,    18.,    25.,     0.,  5764.]),\n",
       " array([0.        , 0.03333333, 0.06666667, 0.1       , 0.13333333,\n",
       "        0.16666667, 0.2       , 0.23333333, 0.26666667, 0.3       ,\n",
       "        0.33333333, 0.36666667, 0.4       , 0.43333333, 0.46666667,\n",
       "        0.5       , 0.53333333, 0.56666667, 0.6       , 0.63333333,\n",
       "        0.66666667, 0.7       , 0.73333333, 0.76666667, 0.8       ,\n",
       "        0.83333333, 0.86666667, 0.9       , 0.93333333, 0.96666667,\n",
       "        1.        ]),\n",
       " <BarContainer object of 30 artists>)"
      ]
     },
     "execution_count": 127,
     "metadata": {},
     "output_type": "execute_result"
    },
    {
     "data": {
      "image/png": "[encoded data removed]",
      "text/plain": [
       "<Figure size 640x480 with 1 Axes>"
      ]
     },
     "metadata": {},
     "output_type": "display_data"
    }
   ],
   "source": [
    "plt.hist(accuracies, color='lightblue', ec='black', bins=30)"
   ]
  },
  {
   "cell_type": "code",
   "execution_count": 128,
   "metadata": {},
   "outputs": [
    {
     "data": {
      "text/plain": [
       "0.45076181667721366"
      ]
     },
     "execution_count": 128,
     "metadata": {},
     "output_type": "execute_result"
    }
   ],
   "source": [
    "np.mean(has_duplicate_in_top_5)"
   ]
  },
  {
   "cell_type": "code",
   "execution_count": 130,
   "metadata": {},
   "outputs": [
    {
     "data": {
      "text/plain": [
       "(array([11283.,  9260.]),\n",
       " array([0. , 0.5, 1. ]),\n",
       " <BarContainer object of 2 artists>)"
      ]
     },
     "execution_count": 130,
     "metadata": {},
     "output_type": "execute_result"
    },
    {
     "data": {
      "image/png": "[encoded data removed]",
      "text/plain": [
       "<Figure size 640x480 with 1 Axes>"
      ]
     },
     "metadata": {},
     "output_type": "display_data"
    }
   ],
   "source": [
    "plt.hist(has_duplicate_in_top_5, color='lightblue', ec='black', bins=2)"
   ]
  },
  {
   "cell_type": "markdown",
   "metadata": {},
   "source": [
    "Number of br with no short desc is insignificant"
   ]
  },
  {
   "cell_type": "code",
   "execution_count": 34,
   "metadata": {},
   "outputs": [
    {
     "name": "stdout",
     "output_type": "stream",
     "text": [
      "4\n"
     ]
    }
   ],
   "source": [
    "num_br_w_empty_short_desc = 0\n",
    "\n",
    "for point in dataset:\n",
    "    short_desc = point[\"short_desc\"]\n",
    "    if len(short_desc) == 0:\n",
    "        num_br_w_empty_short_desc += 1\n",
    "\n",
    "print(num_br_w_empty_short_desc)"
   ]
  },
  {
   "cell_type": "markdown",
   "metadata": {},
   "source": [
    "## when desc with stacktrace is used"
   ]
  },
  {
   "cell_type": "code",
   "execution_count": 136,
   "metadata": {},
   "outputs": [
    {
     "name": "stderr",
     "output_type": "stream",
     "text": [
      "100%|██████████| 65417/65417 [01:24<00:00, 769.94it/s]\n"
     ]
    }
   ],
   "source": [
    "loaded_data = np.load('netbeans_sbert_description.npz')\n",
    "vectors = [loaded_data[str(b)] for b in tqdm(idx_to_bug_id)]"
   ]
  },
  {
   "cell_type": "code",
   "execution_count": 137,
   "metadata": {},
   "outputs": [
    {
     "name": "stderr",
     "output_type": "stream",
     "text": [
      "100%|██████████| 20543/20543 [00:25<00:00, 790.84it/s]\n",
      "100%|██████████| 20543/20543 [00:26<00:00, 777.55it/s]\n"
     ]
    }
   ],
   "source": [
    "accuracies = []\n",
    "has_duplicate_in_top_5 = []\n",
    "\n",
    "index = pynndescent.NNDescent(np.array(vectors), n_neighbors=100, metric=\"cosine\")\n",
    "index.prepare()\n",
    "\n",
    "Q_vectors = np.array([loaded_data[str(bug_id)] for bug_id in tqdm(Q_set)])\n",
    "\n",
    "# children_lists = [union_find.get_children(bug_id) for bug_id in tqdm(Q_set)]\n",
    "children_lists = []\n",
    "for bug_id in tqdm(Q_set):\n",
    "    children = union_find.get_children(bug_id)\n",
    "    children.remove(bug_id)\n",
    "    children_lists.append(children)\n",
    "\n",
    "\n",
    "\n",
    "topk_indeces, distances = index.query(Q_vectors, 11)\n",
    "\n",
    "for children, topk_idx in zip(children_lists, topk_indeces):\n",
    "    topk = [idx_to_bug_id[i] for i in topk_idx]\n",
    "    children_in_top_k = list(set(children).intersection(set(topk)))\n",
    "    accuracy = len(children_in_top_k) / len(children)\n",
    "    accuracies.append(accuracy)\n",
    "\n",
    "topk_indeces, distances = index.query(Q_vectors, 6)\n",
    "for children, topk_idx in zip(children_lists, topk_indeces):\n",
    "    topk = [idx_to_bug_id[i] for i in topk_idx]\n",
    "    has_dup_in_top = False\n",
    "    for child in children:\n",
    "        if child in topk:\n",
    "            has_dup_in_top = True\n",
    "            break\n",
    "    if has_dup_in_top:\n",
    "        has_duplicate_in_top_5.append(1)\n",
    "    else:\n",
    "        has_duplicate_in_top_5.append(0)\n"
   ]
  },
  {
   "cell_type": "code",
   "execution_count": 138,
   "metadata": {},
   "outputs": [
    {
     "name": "stdout",
     "output_type": "stream",
     "text": [
      "0.3096289963663367 0.40407849978002436\n",
      "1.0 0.0\n"
     ]
    }
   ],
   "source": [
    "print(np.mean(accuracies), np.std(accuracies))\n",
    "print(np.max(accuracies), np.min(accuracies))"
   ]
  },
  {
   "cell_type": "code",
   "execution_count": 139,
   "metadata": {},
   "outputs": [
    {
     "data": {
      "text/plain": [
       "(array([1.0969e+04, 1.6900e+02, 1.9300e+02, 2.5400e+02, 2.0600e+02,\n",
       "        2.7700e+02, 2.8300e+02, 3.7100e+02, 1.2300e+02, 2.9000e+01,\n",
       "        6.8100e+02, 5.7000e+01, 2.3800e+02, 3.7000e+01, 7.0000e+00,\n",
       "        1.3720e+03, 3.1000e+01, 6.0000e+01, 1.0000e+02, 2.1000e+01,\n",
       "        3.7100e+02, 4.1000e+01, 1.7000e+02, 2.9000e+01, 8.2000e+01,\n",
       "        3.2000e+01, 1.7000e+01, 1.7000e+01, 0.0000e+00, 4.3060e+03]),\n",
       " array([0.        , 0.03333333, 0.06666667, 0.1       , 0.13333333,\n",
       "        0.16666667, 0.2       , 0.23333333, 0.26666667, 0.3       ,\n",
       "        0.33333333, 0.36666667, 0.4       , 0.43333333, 0.46666667,\n",
       "        0.5       , 0.53333333, 0.56666667, 0.6       , 0.63333333,\n",
       "        0.66666667, 0.7       , 0.73333333, 0.76666667, 0.8       ,\n",
       "        0.83333333, 0.86666667, 0.9       , 0.93333333, 0.96666667,\n",
       "        1.        ]),\n",
       " <BarContainer object of 30 artists>)"
      ]
     },
     "execution_count": 139,
     "metadata": {},
     "output_type": "execute_result"
    },
    {
     "data": {
      "image/png": "[encoded data removed]",
      "text/plain": [
       "<Figure size 640x480 with 1 Axes>"
      ]
     },
     "metadata": {},
     "output_type": "display_data"
    }
   ],
   "source": [
    "plt.hist(accuracies, color='lightblue', ec='black', bins=30)"
   ]
  },
  {
   "cell_type": "code",
   "execution_count": 140,
   "metadata": {},
   "outputs": [
    {
     "data": {
      "text/plain": [
       "0.42097064693569586"
      ]
     },
     "execution_count": 140,
     "metadata": {},
     "output_type": "execute_result"
    }
   ],
   "source": [
    "np.mean(has_duplicate_in_top_5)"
   ]
  },
  {
   "cell_type": "code",
   "execution_count": 141,
   "metadata": {},
   "outputs": [
    {
     "data": {
      "text/plain": [
       "(array([11895.,  8648.]),\n",
       " array([0. , 0.5, 1. ]),\n",
       " <BarContainer object of 2 artists>)"
      ]
     },
     "execution_count": 141,
     "metadata": {},
     "output_type": "execute_result"
    },
    {
     "data": {
      "image/png": "[encoded data removed]",
      "text/plain": [
       "<Figure size 640x480 with 1 Axes>"
      ]
     },
     "metadata": {},
     "output_type": "display_data"
    }
   ],
   "source": [
    "plt.hist(has_duplicate_in_top_5, color='lightblue', ec='black', bins=2)"
   ]
  },
  {
   "cell_type": "markdown",
   "metadata": {},
   "source": []
  },
  {
   "cell_type": "code",
   "execution_count": null,
   "metadata": {},
   "outputs": [],
   "source": []
  },
  {
   "cell_type": "markdown",
   "metadata": {},
   "source": [
    "## when desc without stacktrace is used"
   ]
  },
  {
   "cell_type": "code",
   "execution_count": 142,
   "metadata": {},
   "outputs": [
    {
     "name": "stderr",
     "output_type": "stream",
     "text": [
      "100%|██████████| 65417/65417 [01:35<00:00, 682.56it/s]\n"
     ]
    }
   ],
   "source": [
    "loaded_data = np.load('netbeans_sbert_description_wo_stacktrace.npz')\n",
    "vectors = [loaded_data[str(b)] for b in tqdm(idx_to_bug_id)]"
   ]
  },
  {
   "cell_type": "code",
   "execution_count": 143,
   "metadata": {},
   "outputs": [
    {
     "name": "stderr",
     "output_type": "stream",
     "text": [
      "/home/grads/t/tiendat.ng.cs/.local/lib/python3.8/site-packages/scipy/sparse/_index.py:146: SparseEfficiencyWarning: Changing the sparsity structure of a csr_matrix is expensive. lil_matrix is more efficient.\n",
      "  self._set_arrayXarray(i, j, x)\n",
      "100%|██████████| 20543/20543 [00:29<00:00, 697.62it/s]\n",
      "100%|██████████| 20543/20543 [00:25<00:00, 792.40it/s]\n"
     ]
    }
   ],
   "source": [
    "accuracies = []\n",
    "has_duplicate_in_top_5 = []\n",
    "\n",
    "index = pynndescent.NNDescent(np.array(vectors), n_neighbors=100, metric=\"cosine\")\n",
    "index.prepare()\n",
    "\n",
    "Q_vectors = np.array([loaded_data[str(bug_id)] for bug_id in tqdm(Q_set)])\n",
    "\n",
    "# children_lists = [union_find.get_children(bug_id) for bug_id in tqdm(Q_set)]\n",
    "children_lists = []\n",
    "for bug_id in tqdm(Q_set):\n",
    "    children = union_find.get_children(bug_id)\n",
    "    children.remove(bug_id)\n",
    "    children_lists.append(children)\n",
    "\n",
    "\n",
    "\n",
    "topk_indeces, distances = index.query(Q_vectors, 11)\n",
    "\n",
    "for children, topk_idx in zip(children_lists, topk_indeces):\n",
    "    topk = [idx_to_bug_id[i] for i in topk_idx]\n",
    "    children_in_top_k = list(set(children).intersection(set(topk)))\n",
    "    accuracy = len(children_in_top_k) / len(children)\n",
    "    accuracies.append(accuracy)\n",
    "\n",
    "topk_indeces, distances = index.query(Q_vectors, 6)\n",
    "for children, topk_idx in zip(children_lists, topk_indeces):\n",
    "    topk = [idx_to_bug_id[i] for i in topk_idx]\n",
    "    has_dup_in_top = False\n",
    "    for child in children:\n",
    "        if child in topk:\n",
    "            has_dup_in_top = True\n",
    "            break\n",
    "    if has_dup_in_top:\n",
    "        has_duplicate_in_top_5.append(1)\n",
    "    else:\n",
    "        has_duplicate_in_top_5.append(0)\n"
   ]
  },
  {
   "cell_type": "code",
   "execution_count": 144,
   "metadata": {},
   "outputs": [
    {
     "name": "stdout",
     "output_type": "stream",
     "text": [
      "0.11707573390791866 0.2830871027137146\n",
      "1.0 0.0\n"
     ]
    }
   ],
   "source": [
    "print(np.mean(accuracies), np.std(accuracies))\n",
    "print(np.max(accuracies), np.min(accuracies))"
   ]
  },
  {
   "cell_type": "code",
   "execution_count": 145,
   "metadata": {},
   "outputs": [
    {
     "data": {
      "text/plain": [
       "(array([1.635e+04, 1.800e+02, 1.920e+02, 1.910e+02, 1.290e+02, 1.520e+02,\n",
       "        1.600e+02, 2.340e+02, 3.900e+01, 1.100e+01, 3.430e+02, 1.700e+01,\n",
       "        7.000e+01, 2.200e+01, 0.000e+00, 6.820e+02, 4.000e+00, 1.000e+01,\n",
       "        2.100e+01, 3.000e+00, 1.080e+02, 0.000e+00, 4.400e+01, 2.000e+00,\n",
       "        2.000e+00, 0.000e+00, 0.000e+00, 1.100e+01, 0.000e+00, 1.566e+03]),\n",
       " array([0.        , 0.03333333, 0.06666667, 0.1       , 0.13333333,\n",
       "        0.16666667, 0.2       , 0.23333333, 0.26666667, 0.3       ,\n",
       "        0.33333333, 0.36666667, 0.4       , 0.43333333, 0.46666667,\n",
       "        0.5       , 0.53333333, 0.56666667, 0.6       , 0.63333333,\n",
       "        0.66666667, 0.7       , 0.73333333, 0.76666667, 0.8       ,\n",
       "        0.83333333, 0.86666667, 0.9       , 0.93333333, 0.96666667,\n",
       "        1.        ]),\n",
       " <BarContainer object of 30 artists>)"
      ]
     },
     "execution_count": 145,
     "metadata": {},
     "output_type": "execute_result"
    },
    {
     "data": {
      "image/png": "[encoded data removed]",
      "text/plain": [
       "<Figure size 640x480 with 1 Axes>"
      ]
     },
     "metadata": {},
     "output_type": "display_data"
    }
   ],
   "source": [
    "plt.hist(accuracies, color='lightblue', ec='black', bins=30)"
   ]
  },
  {
   "cell_type": "code",
   "execution_count": 146,
   "metadata": {},
   "outputs": [
    {
     "data": {
      "text/plain": [
       "0.18074283210826073"
      ]
     },
     "execution_count": 146,
     "metadata": {},
     "output_type": "execute_result"
    }
   ],
   "source": [
    "np.mean(has_duplicate_in_top_5)"
   ]
  },
  {
   "cell_type": "code",
   "execution_count": 147,
   "metadata": {},
   "outputs": [
    {
     "data": {
      "text/plain": [
       "(array([16830.,  3713.]),\n",
       " array([0. , 0.5, 1. ]),\n",
       " <BarContainer object of 2 artists>)"
      ]
     },
     "execution_count": 147,
     "metadata": {},
     "output_type": "execute_result"
    },
    {
     "data": {
      "image/png": "[encoded data removed]",
      "text/plain": [
       "<Figure size 640x480 with 1 Axes>"
      ]
     },
     "metadata": {},
     "output_type": "display_data"
    }
   ],
   "source": [
    "plt.hist(has_duplicate_in_top_5, color='lightblue', ec='black', bins=2)"
   ]
  },
  {
   "cell_type": "markdown",
   "metadata": {},
   "source": [
    "## Print and observe duplicates that are not similar"
   ]
  },
  {
   "cell_type": "code",
   "execution_count": null,
   "metadata": {},
   "outputs": [],
   "source": []
  },
  {
   "cell_type": "code",
   "execution_count": 148,
   "metadata": {},
   "outputs": [
    {
     "name": "stderr",
     "output_type": "stream",
     "text": [
      "100%|██████████| 65417/65417 [02:30<00:00, 433.62it/s]\n"
     ]
    }
   ],
   "source": [
    "loaded_data = np.load('netbeans_sbert_description.npz')\n",
    "vectors = [loaded_data[str(b)] for b in tqdm(idx_to_bug_id)]"
   ]
  },
  {
   "cell_type": "code",
   "execution_count": 149,
   "metadata": {},
   "outputs": [
    {
     "name": "stderr",
     "output_type": "stream",
     "text": [
      "100%|██████████| 20543/20543 [00:31<00:00, 649.02it/s]\n",
      "100%|██████████| 20543/20543 [00:31<00:00, 659.04it/s]\n"
     ]
    }
   ],
   "source": [
    "disimilar_duplicates = {}\n",
    "\n",
    "index = pynndescent.NNDescent(np.array(vectors), n_neighbors=100, metric=\"cosine\")\n",
    "index.prepare()\n",
    "\n",
    "Q_vectors = np.array([loaded_data[str(bug_id)] for bug_id in tqdm(Q_set)])\n",
    "\n",
    "# children_lists = [union_find.get_children(bug_id) for bug_id in tqdm(Q_set)]\n",
    "children_lists = []\n",
    "for bug_id in tqdm(Q_set):\n",
    "    children = union_find.get_children(bug_id)\n",
    "    children.remove(bug_id)\n",
    "    children_lists.append(children)\n",
    "\n",
    "\n",
    "\n",
    "topk_indeces, distances = index.query(Q_vectors, 11)\n",
    "\n",
    "for bug_id, children, topk_idx in zip(Q_set, children_lists, topk_indeces):\n",
    "    topk = [idx_to_bug_id[i] for i in topk_idx]\n",
    "    children_not_in_topk = []\n",
    "    for child in children:\n",
    "        if child not in topk:\n",
    "            children_not_in_topk.append(child)\n",
    "    if len(children_not_in_topk) != 0:\n",
    "        disimilar_duplicates[bug_id] = children_not_in_topk\n",
    "    # children_in_top_k = list(set(children).intersection(set(topk)))\n",
    "    # accuracy = len(children_in_top_k) / len(children)\n",
    "    # accuracies.append(accuracy)\n",
    "\n",
    "# topk_indeces, distances = index.query(Q_vectors, 6)\n",
    "# for children, topk_idx in zip(children_lists, topk_indeces):\n",
    "#     topk = [idx_to_bug_id[i] for i in topk_idx]\n",
    "#     has_dup_in_top = False\n",
    "#     for child in children:\n",
    "#         if child in topk:\n",
    "#             has_dup_in_top = True\n",
    "#             break\n",
    "#     if has_dup_in_top:\n",
    "#         has_duplicate_in_top_5.append(1)\n",
    "#     else:\n",
    "#         has_duplicate_in_top_5.append(0)\n"
   ]
  },
  {
   "cell_type": "code",
   "execution_count": 150,
   "metadata": {},
   "outputs": [
    {
     "data": {
      "text/plain": [
       "16243"
      ]
     },
     "execution_count": 150,
     "metadata": {},
     "output_type": "execute_result"
    }
   ],
   "source": [
    "len(disimilar_duplicates.items())"
   ]
  },
  {
   "cell_type": "code",
   "execution_count": 152,
   "metadata": {},
   "outputs": [
    {
     "data": {
      "text/plain": [
       "dict_keys([9049, 8666, 9246, 8117, 9350, 8868, 8413, 9708, 9702, 9805, 9794, 9879, 9860, 9937, 7213, 10131, 10041, 10140, 10198, 10162, 10220, 9757, 10276, 10202, 10322, 10352, 9944, 10397, 10431, 10403, 10433, 10448, 10559, 10457, 10607, 10493, 10614, 10630, 10709, 10327, 10734, 10890, 10878, 10939, 11031, 10362, 11073, 10265, 11093, 11205, 11275, 11238, 11309, 9082, 11322, 11304, 11409, 7158, 11421, 10459, 11488, 11139, 11498, 11528, 11527, 11559, 11020, 11615, 11769, 11468, 11861, 9160, 11973, 12001, 11952, 12095, 12066, 12096, 11533, 12141, 12170, 9512, 12218, 10609, 12345, 12367, 11450, 12376, 12390, 12400, 12441, 12455, 12460, 12495, 12498, 12488, 12574, 12399, 12590, 12061, 12594, 12541, 12600, 11293, 12640, 12696, 12671, 12762, 12770, 12854, 12896, 12883, 12927, 12410, 12985, 12957, 13007, 13092, 12988, 13121, 13123, 12708, 13153, 12890, 13203, 12436, 13258, 13368, 13405, 12732, 13406, 13433, 12249, 13436, 11443, 13513, 13569, 13059, 13640, 13645, 13649, 13706, 13065, 13752, 13730, 13918, 14010, 14003, 14019, 13954, 14031, 12915, 14059, 14149, 14132, 14172, 13620, 14185, 14156, 14192, 14203, 12797, 14229, 14026, 14249, 14266, 14265, 14286, 14284, 14288, 14267, 14302, 14283, 14306, 14380, 14344, 14409, 14457, 14472, 14463, 14494, 14418, 14499, 13643, 14506, 14259, 14573, 11345, 14599, 14606, 14395, 14620, 11838, 14642, 13834, 14690, 14766, 14554, 14827, 14624, 14857, 14780, 14869, 14871, 14879, 14872, 14912, 14933, 14934, 14983, 11766, 15000, 14999, 15014, 15032, 15142, 15159, 15153, 15121, 15254, 15265, 13046, 15288, 15212, 15300, 15301, 15303, 15324, 15306, 15345, 10024, 15346, 15356, 15299, 15385, 15291, 15393, 14803, 15442, 15464, 15474, 15036, 15476, 15501, 15379, 15543, 15329, 15553, 15383, 15555, 15580, 15588, 15592, 15606, 15614, 15603, 15619, 15645, 15569, 15692, 14804, 15693, 15703, 15440, 15795, 15706, 15806, 15663, 15897, 11395, 15921, 15946, 15962, 15961, 15967, 15991, 15475, 16117, 15612, 16118, 16142, 16204, 16309, 11887, 16345, 16354, 16385, 16451, 16448, 16455, 16482, 16467, 16516, 16461, 16521, 16550, 16556, 16592, 16633, 16652, 16759, 16754, 16790, 16291, 16875, 16895, 16744, 16926, 16939, 16983, 16801, 17002, 16941, 17032, 17064, 17104, 17095, 17107, 17165, 16738, 17202, 17157, 17291, 17239, 17293, 17358, 17278, 17372, 17192, 17568, 17420, 17606, 17472, 17701, 16547, 17727, 17769, 17644, 17856, 17798, 17893, 17716, 17899, 17867, 17907, 17935, 17441, 17942, 17943, 17760, 17952, 17971, 17975, 17985, 17854, 18013, 18002, 18071, 18072, 18076, 18098, 18100, 18135, 18149, 14453, 18152, 18067, 18162, 17762, 18194, 18195, 18207, 13884, 18222, 18244, 17166, 18250, 16836, 18251, 18272, 17892, 17186, 18473, 18523, 18178, 18525, 17329, 18538, 18545, 18421, 18566, 18522, 18654, 17909, 18674, 18346, 18685, 17698, 18749, 18736, 18786, 18801, 18089, 18831, 18691, 18885, 18897, 18898, 18785, 18934, 18415, 18943, 18948, 18814, 18954, 18018, 18957, 18958, 18966, 18967, 18975, 18996, 18997, 19015, 19001, 19032, 18776, 19119, 18513, 19206, 15478, 19252, 19290, 17821, 19329, 19304, 19342, 18457, 19396, 19341, 19399, 19432, 19434, 19441, 18515, 19462, 18909, 19503, 19417, 19534, 18208, 19587, 19605, 19530, 19613, 19652, 19403, 19663, 19669, 19737, 19859, 19885, 19884, 19897, 19980, 20091, 19593, 20095, 20096, 18949, 20121, 19584, 19828, 20154, 18611, 20279, 19451, 20281, 20236, 20313, 20411, 20454, 20389, 20489, 20205, 20510, 18678, 20512, 20516, 18705, 20527, 20319, 20531, 20529, 20615, 20617, 20581, 20622, 20325, 20659, 20483, 20679, 20693, 20698, 20879, 19839, 20952, 8434, 20919, 21055, 21097, 20200, 21210, 20704, 21213, 21034, 21225, 21240, 21247, 21307, 21116, 21326, 19810, 21407, 21422, 21436, 21459, 21500, 19949, 21522, 20884, 21531, 21573, 21596, 21696, 17412, 21702, 21718, 21735, 21746, 20880, 21803, 21804, 17207, 21861, 21580, 21910, 21012, 22001, 22043, 22056, 21768, 22071, 22073, 20493, 22106, 21807, 22230, 21692, 22234, 22224, 22314, 22318, 22304, 22326, 22295, 22333, 22352, 19812, 22367, 22346, 22405, 22406, 22429, 22497, 21285, 22517, 22525, 22557, 22576, 22577, 22620, 20031, 22624, 22648, 22661, 22718, 22770, 22767, 22774, 22780, 22835, 22937, 22714, 22942, 22356, 22943, 23013, 23014, 23276, 23226, 23345, 23387, 23439, 23465, 23557, 23638, 23639, 23688, 23732, 20412, 23738, 23740, 23504, 23838, 23863, 24057, 20384, 24138, 24146, 21216, 24238, 23698, 24257, 22663, 24324, 23672, 24341, 24340, 24354, 24412, 24409, 24435, 23042, 24459, 20793, 24530, 24418, 24545, 22669, 24569, 24578, 24463, 24597, 24585, 24656, 24677, 24586, 24680, 24685, 24695, 24690, 24700, 24745, 24825, 24828, 24829, 24832, 24834, 24854, 24386, 24871, 24856, 24925, 24936, 24946, 24939, 24950, 24951, 24956, 25007, 25047, 25057, 25061, 25063, 25065, 25089, 25082, 25099, 25140, 23167, 25147, 25184, 25201, 25080, 25294, 24864, 25306, 25300, 25322, 25349, 25350, 25219, 25437, 25460, 25560, 25612, 25695, 25811, 25419, 25853, 19430, 25890, 25285, 25897, 25911, 25919, 25896, 25941, 25968, 25806, 25970, 25800, 25992, 25999, 23016, 26025, 26032, 26088, 26072, 26096, 26170, 26177, 26156, 26178, 25949, 26189, 26049, 26223, 26124, 26247, 26248, 26296, 26366, 25920, 26391, 26402, 26466, 26499, 26501, 23795, 26502, 26535, 26554, 24443, 26570, 26571, 26600, 25871, 26616, 24918, 26623, 26689, 26696, 26713, 26725, 26731, 26260, 26769, 26777, 26806, 26726, 26820, 26838, 26869, 26244, 26871, 26900, 26916, 26995, 27005, 26929, 27018, 25036, 27029, 27032, 27020, 27039, 27168, 27205, 27220, 27298, 27106, 27412, 27284, 27415, 26588, 27432, 27442, 27451, 23788, 27455, 27095, 27464, 27471, 27196, 27531, 25622, 27532, 27223, 27557, 27565, 27635, 27636, 27287, 27759, 27768, 27787, 27838, 27423, 27858, 26837, 27893, 27894, 20554, 27932, 27968, 28046, 28036, 28051, 28054, 27049, 28078, 28094, 28147, 28165, 28166, 28167, 28168, 28200, 28136, 28209, 28226, 28193, 28302, 27912, 28307, 27408, 28341, 25340, 28386, 28431, 27253, 28506, 27917, 28538, 28556, 28573, 26879, 28576, 28582, 28613, 28620, 28365, 28628, 28659, 28692, 28709, 28766, 28772, 28777, 28825, 28884, 28817, 28888, 28958, 28682, 28966, 29015, 29029, 29047, 29043, 29048, 29102, 29101, 29107, 28978, 29112, 29092, 29116, 29196, 29181, 29206, 29205, 29219, 29224, 16295, 29256, 29270, 29302, 29343, 29396, 29398, 29414, 29471, 28724, 29491, 29514, 29540, 29498, 29558, 26773, 29569, 29613, 27899, 29653, 29692, 26423, 29704, 29740, 25969, 29756, 13779, 29776, 29778, 29768, 29780, 29864, 29889, 29906, 29957, 29890, 30134, 30143, 22689, 30184, 30054, 30190, 28427, 30272, 30294, 30348, 18608, 30356, 30431, 30199, 30470, 30472, 30517, 12907, 30518, 30139, 30524, 30549, 30655, 30194, 30689, 16307, 30699, 30150, 30741, 30771, 30760, 30834, 30765, 30866, 29742, 30873, 30473, 30998, 28442, 31023, 31019, 31024, 31057, 31105, 31211, 30996, 31373, 30559, 31434, 30892, 31505, 31525, 31433, 31526, 31530, 31063, 31542, 31300, 31614, 31582, 31620, 31646, 29625, 31664, 31677, 31355, 31680, 31757, 31619, 31760, 25346, 31831, 26291, 31852, 31883, 31851, 31886, 30935, 31912, 31918, 31397, 31927, 31938, 31573, 31965, 32096, 32108, 32136, 31853, 32159, 32164, 32229, 32232, 32325, 31810, 32509, 32146, 32579, 21115, 32606, 32372, 32607, 32634, 32626, 32641, 31354, 32646, 32638, 32658, 32674, 32673, 32682, 32688, 32697, 29862, 32742, 32795, 32806, 32808, 32810, 32844, 32851, 32837, 32858, 32823, 32861, 32876, 32893, 27909, 32895, 32935, 31772, 32987, 32966, 32990, 33014, 32973, 33040, 33060, 33039, 33066, 33071, 32095, 33078, 32841, 33087, 33097, 33102, 33127, 33144, 27773, 33150, 33193, 30478, 33203, 33306, 32746, 33314, 32970, 33333, 33381, 32637, 33476, 33492, 33502, 33654, 33621, 33697, 33713, 33787, 33822, 33886, 33976, 34016, 32967, 34065, 34141, 34216, 24531, 34246, 34277, 34284, 34076, 34285, 34261, 34318, 34389, 34248, 34491, 34293, 34520, 34534, 34263, 34553, 34558, 34571, 34601, 34635, 34393, 34709, 34715, 34557, 34748, 33133, 34761, 34797, 34804, 34823, 34824, 34849, 34874, 32727, 34875, 34888, 34007, 34896, 34904, 34945, 34822, 34970, 34973, 34931, 34979, 34995, 33481, 35009, 35012, 35030, 35035, 35038, 35080, 30449, 33258, 35141, 33856, 35186, 34348, 35198, 35216, 35220, 35247, 35234, 35264, 33449, 35281, 35310, 35311, 35326, 35347, 35350, 35351, 35353, 32142, 35369, 35368, 35370, 35373, 35374, 35379, 34842, 35384, 35380, 35391, 35400, 35401, 35411, 35420, 35423, 35425, 32461, 35434, 35494, 35507, 35508, 35361, 35513, 35517, 35509, 35543, 35715, 35774, 35491, 35799, 35801, 35017, 35808, 35809, 35820, 35823, 31224, 35837, 29805, 35844, 35873, 35892, 35825, 35920, 35940, 35950, 35851, 35955, 35953, 35973, 35975, 35987, 27572, 36032, 35897, 36045, 35002, 36095, 36102, 34679, 36105, 36155, 35721, 36191, 36206, 36211, 36215, 29781, 36324, 36326, 36357, 36361, 36339, 36368, 36430, 36434, 36207, 36442, 36369, 36458, 36402, 36486, 36446, 36500, 36549, 36551, 36555, 36569, 36577, 34498, 36649, 36681, 36605, 36783, 36400, 36800, 36708, 36810, 33361, 36811, 36816, 34362, 36833, 36837, 36838, 36860, 36864, 36868, 36872, 36971, 36973, 36975, 36976, 36979, 36996, 36997, 37035, 37057, 37062, 37078, 37091, 37104, 37109, 37116, 37134, 37148, 37150, 37153, 37156, 37178, 37180, 37191, 32356, 37219, 37230, 36072, 37262, 37277, 37317, 35870, 37322, 36256, 37412, 37370, 37414, 37426, 37523, 37587, 37577, 37600, 37611, 37623, 37645, 37650, 37660, 37671, 37682, 37684, 37733, 37702, 37785, 34613, 37786, 37800, 37634, 37806, 36849, 37810, 37695, 37894, 37874, 37901, 37981, 38054, 38059, 37994, 38131, 38136, 38148, 35108, 38246, 38321, 38346, 38356, 38155, 38432, 37739, 38439, 38237, 38440, 38455, 38490, 36259, 38510, 38158, 38517, 38566, 38298, 38568, 37787, 38576, 38595, 38320, 38666, 38304, 38671, 38645, 38686, 38693, 38678, 38695, 38699, 37872, 38705, 38610, 38721, 38745, 38748, 38785, 38791, 38792, 38796, 38789, 38806, 38738, 38808, 38820, 38829, 38839, 38844, 38879, 38880, 38934, 38941, 33728, 38997, 39015, 39024, 38960, 39048, 39132, 39137, 38668, 39154, 39170, 39173, 39068, 39202, 39203, 39216, 38687, 39239, 39159, 39252, 39324, 39382, 39444, 39472, 39445, 39571, 39388, 39618, 39620, 39624, 39637, 39672, 39695, 38360, 39706, 37366, 39714, 39716, 39718, 39794, 39802, 39741, 39875, 38423, 39882, 39707, 39923, 39951, 39986, 39999, 40014, 39937, 40029, 40058, 38782, 40080, 40094, 40095, 40114, 40184, 40199, 40200, 40116, 40201, 40204, 40234, 40235, 40189, 40240, 35743, 40272, 40276, 40289, 40313, 40195, 40397, 40371, 40445, 40441, 40457, 40483, 40484, 40514, 40558, 35514, 40586, 40596, 40600, 40614, 39879, 40616, 40632, 38053, 40655, 40680, 40671, 40701, 38569, 40729, 39686, 40731, 40745, 40751, 40772, 40827, 40787, 40833, 40659, 40872, 40887, 40906, 40989, 41037, 41018, 41044, 41047, 41055, 41093, 41096, 41099, 23306, 41107, 41097, 41126, 41143, 41168, 41177, 40466, 41200, 41030, 41279, 40638, 41301, 41302, 41323, 41213, 41324, 41388, 40735, 41390, 41406, 41333, 41462, 41472, 41500, 40125, 41512, 41341, 41515, 41521, 41525, 41595, 41601, 41257, 41611, 41617, 41620, 41661, 41395, 41680, 41682, 41684, 41383, 41686, 41717, 41726, 41729, 40864, 41732, 40293, 41763, 41884, 41879, 41895, 41894, 41899, 41905, 41691, 41909, 41936, 41942, 41937, 42051, 42078, 42123, 42139, 41883, 42145, 42160, 41459, 42171, 42218, 42234, 42088, 42286, 42008, 42307, 36909, 42340, 41495, 42357, 42404, 41133, 42418, 42127, 42447, 42449, 42461, 42486, 41128, 42487, 42502, 41466, 42543, 42546, 42115, 42558, 42571, 42579, 42618, 42604, 42664, 42679, 41903, 42753, 42392, 42760, 42802, 42808, 42764, 42833, 42488, 42867, 42913, 42926, 42949, 42980, 42967, 43005, 42605, 43029, 42998, 43044, 43073, 43114, 43149, 43144, 43187, 43188, 40713, 43215, 42641, 43222, 43168, 43227, 43234, 43250, 43302, 43326, 43376, 43223, 43400, 43404, 43335, 43468, 43473, 43489, 43531, 42637, 43535, 43562, 43513, 43589, 43599, 43519, 43602, 43608, 43587, 43659, 43674, 43691, 43478, 43693, 43698, 43703, 43624, 43758, 43711, 43764, 43403, 43786, 43461, 43788, 43775, 43824, 43826, 43831, 43842, 43857, 34271, 43858, 43905, 43654, 43931, 43870, 43933, 43929, 43955, 44000, 42986, 44010, 44014, 44015, 43658, 44036, 44041, 44063, 44069, 41553, 44085, 44006, 44087, 43989, 44120, 44167, 43750, 44211, 43934, 44220, 43769, 44268, 44308, 44335, 44322, 44385, 44012, 44391, 44247, 44411, 44333, 44480, 43692, 44514, 44504, 44527, 44481, 44532, 44616, 44073, 44626, 44468, 44630, 41048, 44653, 44720, 44084, 44729, 44764, 44777, 44781, 44789, 44406, 44793, 44662, 44794, 44251, 44815, 44426, 44823, 44408, 44830, 44828, 44832, 44334, 44379, 44907, 44768, 44911, 41795, 44931, 44917, 44934, 44950, 44664, 44970, 44992, 44386, 45009, 45011, 44914, 45023, 45028, 43497, 45056, 45116, 45082, 45208, 45163, 45267, 45300, 45309, 42625, 45317, 45359, 45375, 45355, 45474, 45447, 45485, 45388, 45492, 45497, 45500, 45504, 45498, 45508, 45538, 45607, 45415, 45640, 40107, 45649, 45391, 45674, 45249, 45683, 45624, 45697, 44131, 45702, 45708, 45713, 45743, 45749, 45756, 44668, 45775, 37814, 45784, 45790, 44649, 45800, 45809, 45817, 45819, 45850, 45872, 45765, 45873, 45879, 44246, 45882, 45629, 45892, 45890, 45900, 37668, 45901, 45913, 45923, 45954, 45959, 45842, 45983, 46004, 46010, 46043, 46045, 46088, 43333, 46108, 46122, 46078, 46184, 46185, 46205, 45785, 46208, 46215, 46111, 46242, 45868, 46246, 46272, 46303, 46325, 46322, 46328, 46203, 46333, 46349, 46363, 40364, 46365, 46382, 46401, 46280, 46425, 45299, 46439, 46424, 46451, 46267, 46471, 44143, 46502, 46506, 46526, 46545, 46577, 46581, 46594, 46601, 44365, 46605, 46630, 46664, 46700, 46466, 46706, 46719, 46743, 46804, 46790, 46810, 46035, 46812, 46803, 46823, 46757, 46832, 46850, 46291, 46607, 46868, 46871, 46874, 46875, 46880, 46859, 46890, 46905, 46744, 46937, 45918, 46951, 46954, 46956, 46958, 46975, 46989, 46984, 47011, 47016, 47031, 47070, 47094, 47093, 47100, 43578, 47107, 47120, 47137, 47176, 47185, 41796, 47208, 47218, 47223, 47231, 47168, 47235, 47236, 47260, 47259, 47261, 47228, 47287, 47291, 47286, 47293, 46716, 47321, 47347, 47349, 47373, 47420, 47424, 47434, 47264, 47439, 47450, 40987, 47458, 47492, 47521, 47525, 47186, 47590, 47014, 47591, 47600, 47571, 47606, 47608, 47453, 47612, 47438, 47628, 47595, 47637, 47658, 47436, 47677, 47681, 47660, 47687, 47695, 47621, 47720, 47725, 47749, 47519, 47763, 47769, 47484, 47783, 47311, 47833, 47844, 47874, 47877, 47871, 47894, 47937, 47945, 46882, 47980, 48026, 48034, 48035, 47948, 48043, 48044, 47593, 48051, 48055, 48097, 44693, 48105, 48108, 47866, 48125, 48177, 48131, 48199, 38479, 48212, 48244, 47917, 48258, 48252, 48269, 48278, 48134, 48292, 48293, 48295, 48342, 48388, 48411, 48304, 48422, 48436, 48480, 48487, 47121, 48558, 43327, 48590, 48562, 48609, 48500, 48610, 48612, 48621, 48615, 48646, 48644, 48678, 48658, 48690, 48725, 29255, 48739, 48715, 48756, 48742, 48791, 47952, 48800, 48595, 48804, 48808, 48787, 48821, 48849, 38315, 48864, 48764, 48893, 48663, 48897, 48914, 48909, 48957, 48993, 49015, 49032, 47148, 49067, 48860, 49072, 49083, 49254, 49257, 49286, 44536, 49290, 49002, 40115, 49385, 46580, 49401, 49422, 49438, 49437, 49449, 49451, 47523, 49453, 48417, 49500, 49100, 49538, 49567, 49443, 49583, 43843, 49622, 48544, 49681, 49658, 49684, 49705, 49729, 49732, 48638, 49734, 49049, 49747, 49691, 49758, 49772, 49673, 49783, 49822, 49825, 49565, 49866, 49871, 49811, 49879, 49888, 49845, 49901, 49922, 49249, 49925, 49935, 49950, 49972, 49979, 49988, 49951, 49993, 50014, 50016, 50032, 48885, 50036, 50052, 50066, 50082, 50120, 49830, 50131, 48869, 50135, 50138, 50142, 50152, 45505, 50155, 50128, 50184, 50188, 50190, 50198, 46999, 50201, 50194, 50207, 49590, 50210, 50215, 50238, 50246, 50255, 50284, 50293, 50304, 50357, 50377, 50146, 50390, 50395, 49969, 50424, 50448, 50449, 50450, 50451, 50524, 50505, 50528, 50507, 49900, 50533, 50535, 50537, 50553, 50560, 50577, 50631, 50678, 50707, 50721, 50722, 49056, 50726, 50727, 50521, 50731, 50738, 50782, 48963, 50807, 50805, 50820, 50248, 50831, 50614, 50836, 50848, 50706, 50869, 50918, 50920, 50931, 50939, 50941, 50952, 46764, 51008, 51009, 51011, 51012, 51018, 50940, 51027, 51028, 51032, 51037, 51013, 51044, 51043, 51075, 49497, 51088, 51074, 51093, 51095, 47611, 51106, 49916, 51131, 50988, 51144, 51165, 51180, 51195, 50895, 51208, 51213, 51232, 51237, 51260, 51288, 50964, 51323, 51223, 51360, 51383, 51388, 51019, 51396, 51355, 51407, 51438, 51440, 51480, 51154, 51485, 51493, 51494, 51497, 51515, 51517, 51538, 51539, 51541, 51543, 51546, 51548, 51549, 49433, 51554, 48408, 51582, 47739, 51587, 51590, 51592, 51608, 51620, 51624, 51627, 51568, 51634, 50978, 51648, 51650, 51525, 51671, 51677, 51699, 51704, 51626, 51712, 51730, 51751, 51784, 50818, 51785, 51787, 51801, 51816, 51831, 51860, 51881, 51325, 51912, 51915, 51950, 47194, 51960, 51985, 52005, 52015, 52074, 52133, 52163, 52125, 52177, 51688, 52225, 52191, 52249, 48996, 52290, 52309, 52352, 52356, 52348, 52358, 52359, 52403, 49967, 52448, 52410, 52478, 52408, 52518, 50101, 52522, 52036, 52542, 52378, 52550, 52187, 52568, 52625, 52630, 52665, 51361, 52716, 52690, 52722, 52474, 52734, 52740, 52746, 52763, 52723, 52802, 51219, 52815, 52817, 52819, 52822, 52837, 52456, 52855, 52480, 52893, 52899, 51781, 52913, 52921, 52975, 52973, 52979, 53085, 53157, 53194, 53141, 53214, 53183, 53217, 53224, 53229, 53282, 53286, 52914, 53300, 53325, 53389, 52918, 53415, 49269, 53498, 53277, 53508, 53504, 53517, 53630, 53638, 52962, 53643, 52970, 53668, 53600, 53680, 52911, 53683, 53691, 53714, 53451, 53752, 53211, 53773, 52701, 53819, 53347, 53824, 52780, 53855, 53704, 53878, 53666, 53932, 53803, 53983, 54003, 53635, 54004, 53749, 54061, 54002, 54103, 51045, 54154, 54156, 53629, 54215, 54222, 51872, 54231, 54197, 54238, 47273, 54265, 54147, 54300, 54252, 54319, 53823, 54334, 54356, 54378, 54413, 54546, 54329, 54547, 54544, 54587, 54622, 53743, 54670, 54651, 54778, 54858, 54869, 53348, 54880, 54987, 55094, 55106, 55050, 55108, 55109, 55121, 55115, 55186, 55152, 55260, 55337, 52857, 55355, 55323, 55384, 55293, 55390, 55585, 55524, 55636, 55534, 55642, 55723, 55696, 55730, 55678, 55736, 55746, 53114, 55929, 55970, 55944, 55978, 55597, 56020, 56026, 56046, 55693, 56154, 56060, 56181, 56294, 56343, 56268, 56361, 56366, 56370, 56335, 56377, 56687, 56296, 56716, 56744, 56756, 56802, 56407, 56819, 56205, 56897, 56411, 56967, 56971, 51910, 57063, 54149, 57101, 57085, 57177, 57209, 57229, 57234, 57232, 57287, 54342, 57294, 57301, 57305, 57366, 56204, 57374, 57391, 57394, 57395, 57638, 57535, 57682, 57694, 56166, 57720, 57534, 57789, 56932, 57859, 56439, 57952, 58029, 56109, 58036, 57976, 58055, 54791, 58070, 58121, 47337, 58153, 57573, 58193, 58199, 58384, 58383, 58428, 58460, 58391, 58550, 58587, 57886, 58623, 58671, 58228, 58529, 58696, 58695, 58698, 58772, 58778, 58496, 58786, 58805, 58710, 58938, 57272, 58975, 59012, 59075, 59033, 59115, 58389, 59152, 57931, 59200, 59201, 59054, 59212, 59261, 42692, 59291, 58370, 59296, 59361, 59309, 59365, 50992, 59367, 59395, 59460, 59480, 59505, 59468, 59534, 59544, 59497, 59557, 59631, 59643, 59670, 59645, 59700, 59714, 59734, 58930, 59761, 60015, 60032, 59322, 60085, 59940, 60091, 60093, 60182, 60183, 60161, 60204, 55425, 60256, 59882, 60308, 59904, 60335, 59325, 59434, 60439, 60444, 60472, 60371, 60473, 60492, 60514, 60601, 60607, 60383, 60662, 60659, 60680, 59993, 60681, 60717, 60716, 60732, 60740, 60749, 60283, 60773, 60799, 60639, 60800, 57980, 58495, 60823, 60483, 60828, 57736, 60869, 60897, 60785, 60902, 60814, 60911, 60620, 60952, 60964, 60982, 59899, 61026, 60886, 61031, 60668, 61057, 59946, 61101, 61104, 60616, 61136, 61143, 59264, 61163, 61173, 59615, 61182, 61214, 61261, 61341, 61280, 61352, 61388, 58601, 61427, 61428, 61285, 61433, 61323, 61467, 61496, 61498, 61455, 61514, 60693, 61526, 61531, 61576, 61358, 61627, 61547, 61655, 61067, 61658, 61554, 61661, 61664, 61587, 61667, 61593, 61730, 61739, 60341, 61784, 61883, 61899, 60529, 61908, 61911, 54316, 61916, 61847, 61917, 61823, 61941, 61929, 61954, 61992, 62025, 62030, 61510, 62035, 62036, 61724, 62045, 62049, 62053, 60279, 62140, 61938, 62167, 60463, 62191, 61857, 62193, 62057, 62204, 62213, 62224, 61759, 62237, 62243, 62261, 62285, 62289, 62273, 62352, 60672, 62357, 62362, 59739, 62377, 62412, 62407, 62432, 62462, 62468, 62297, 62507, 62509, 62513, 62439, 62520, 62522, 62586, 62596, 62628, 62638, 59421, 62655, 62687, 62688, 62583, 62689, 62299, 62695, 62646, 62731, 59387, 62802, 62684, 62840, 60890, 62881, 62622, 62901, 62588, 62917, 62924, 59277, 62929, 62857, 63038, 56134, 63025, 63109, 63110, 59489, 63119, 63132, 63184, 36847, 63188, 63146, 63193, 63211, 63005, 63213, 62384, 63238, 62514, 63240, 63217, 63242, 63261, 63275, 60016, 63290, 63316, 63315, 63328, 63102, 63340, 63365, 63368, 63298, 63383, 63373, 63395, 63398, 63283, 63418, 62958, 63429, 60759, 63450, 62559, 63451, 63454, 63466, 60596, 63493, 63505, 63427, 63506, 63564, 63591, 63613, 63641, 62892, 63668, 63677, 63644, 63732, 62728, 63737, 63753, 63786, 62303, 63788, 63813, 63760, 63832, 62324, 63833, 61692, 63836, 63700, 63837, 63851, 63597, 63868, 63913, 62251, 63920, 63926, 63814, 63946, 63947, 63927, 63952, 63165, 63986, 63797, 64002, 64003, 64025, 64031, 63544, 63319, 64061, 63476, 64062, 64064, 62247, 64081, 64097, 64098, 64139, 64157, 63705, 64184, 64152, 64188, 64212, 64240, 57811, 64247, 64280, 64283, 64285, 64181, 64311, 64346, 57764, 64351, 64364, 64388, 64565, 64189, 64576, 63195, 64577, 64369, 64586, 64608, 64004, 64611, 49897, 64613, 64627, 64637, 64686, 64743, 64744, 63201, 64781, 64788, 61551, 64814, 64826, 64652, 64842, 64848, 64900, 64901, 64925, 64923, 64933, 64983, 63906, 64995, 65003, 65024, 65067, 65069, 65091, 65112, 65114, 64879, 65131, 61684, 65167, 65183, 65097, 65188, 58436, 65201, 65226, 65237, 65052, 65245, 63594, 65248, 65252, 65270, 50058, 65274, 65310, 65176, 65362, 65341, 65380, 65354, 65398, 65410, 65413, 65424, 63443, 65464, 63547, 65550, 65560, 50872, 65573, 65591, 65599, 65608, 65032, 65611, 65628, 64352, 65632, 63430, 65646, 62512, 65667, 65747, 65752, 65753, 65768, 64543, 65775, 65797, 65456, 65855, 65883, 65886, 65896, 65909, 65910, 65963, 65970, 65988, 66041, 64348, 66053, 61351, 66060, 66047, 66072, 65279, 66074, 65463, 66120, 66147, 65299, 66155, 66159, 65716, 66161, 66177, 66178, 66179, 64705, 66196, 66197, 66207, 66252, 64018, 66264, 66287, 66292, 66095, 66294, 66301, 65917, 66307, 66308, 66240, 66318, 66322, 59589, 66354, 66391, 66427, 61971, 66428, 66429, 66460, 66461, 66462, 66509, 59735, 66565, 65099, 66590, 66452, 66615, 66619, 66497, 66642, 66598, 66659, 66665, 66678, 66693, 66493, 66710, 66181, 66754, 65975, 66806, 66832, 63599, 66841, 64013, 66868, 66567, 66869, 66872, 66877, 66888, 64960, 66896, 66907, 66908, 66355, 66910, 65898, 66914, 66915, 66920, 66900, 66927, 66932, 66934, 61565, 66939, 66943, 67011, 66324, 67049, 67063, 67068, 67069, 66653, 67084, 67089, 67113, 67116, 67115, 67117, 67121, 67146, 65956, 67233, 67315, 67320, 67336, 67344, 67355, 67361, 66755, 67362, 67230, 67375, 66929, 67382, 67383, 66771, 67394, 67390, 67395, 67413, 67414, 67452, 67136, 67467, 67470, 67476, 67484, 67490, 67345, 67508, 62562, 67511, 64769, 67529, 66328, 67531, 67543, 66971, 67555, 67572, 67488, 67573, 66496, 67592, 67606, 65290, 67611, 67625, 67635, 67640, 64266, 67643, 67650, 67695, 67703, 67704, 67706, 67720, 48254, 67726, 67731, 67740, 67743, 67744, 66845, 67746, 67747, 67750, 67767, 67768, 67771, 67772, 67778, 67779, 66986, 67789, 67791, 67798, 67804, 67811, 67814, 67826, 67831, 67837, 66821, 67848, 67697, 67850, 67872, 67876, 66831, 67878, 66195, 67881, 67882, 67883, 67920, 67651, 67930, 67324, 67945, 67958, 67990, 67996, 68009, 68020, 68028, 67718, 67886, 68041, 68067, 68112, 68137, 59076, 68145, 68147, 68172, 60757, 68176, 68183, 68210, 68122, 68219, 67078, 68223, 68243, 68245, 68246, 68258, 67972, 68297, 68305, 59356, 68325, 68327, 61384, 68330, 68197, 68341, 68318, 68364, 68370, 68333, 68379, 68380, 68394, 68400, 64865, 68418, 68434, 68435, 68459, 68358, 68476, 68501, 68509, 67447, 68518, 68481, 68519, 67889, 68534, 68535, 68537, 68543, 65116, 68571, 68577, 68530, 68580, 68573, 68581, 68695, 68702, 68783, 68805, 66395, 68831, 68830, 68833, 68843, 68857, 68863, 64808, 68872, 66295, 68881, 68858, 68882, 68856, 68889, 68901, 68591, 68946, 68958, 68984, 68825, 68988, 68954, 68993, 68942, 68998, 69002, 69008, 66850, 69016, 69028, 69031, 67346, 69037, 69055, 52345, 69106, 69110, 68987, 69121, 69125, 69155, 68354, 69200, 69215, 69227, 65930, 69240, 69205, 69245, 59170, 69266, 69093, 69295, 67565, 69298, 69275, 69305, 69308, 69320, 69049, 69329, 67465, 69345, 69347, 68997, 69375, 69163, 69380, 69385, 69388, 69397, 69402, 69435, 69441, 69460, 69461, 69483, 69503, 69537, 65868, 69563, 69566, 69603, 69614, 69626, 69627, 69635, 69221, 69656, 66855, 69673, 68582, 69675, 69691, 69697, 69165, 69698, 69799, 69807, 69820, 69827, 69845, 69848, 61603, 69859, 69810, 69862, 69868, 69878, 69879, 69887, 69892, 69893, 69904, 69906, 69097, 69922, 69927, 69938, 69954, 69964, 69967, 61632, 69980, 70007, 69066, 70019, 70024, 69925, 70028, 69157, 70030, 69835, 70040, 70041, 68386, 70056, 70057, 70064, 69257, 70093, 66713, 70124, 70125, 70164, 70178, 70189, 70192, 70203, 70209, 68943, 70213, 70214, 70226, 67154, 70264, 70279, 70281, 70245, 70308, 70257, 70346, 68865, 70348, 70350, 70353, 70365, 70386, 70278, 70394, 69479, 70432, 70436, 70439, 70059, 70452, 70316, 70466, 70485, 70495, 70475, 70499, 70500, 70506, 66967, 70512, 70515, 70516, 70530, 70553, 68897, 70556, 70555, 69410, 70564, 70565, 70206, 70602, 70620, 70634, 70638, 70672, 70678, 70609, 70704, 66157, 70711, 70714, 70717, 70735, 70659, 70745, 70751, 66133, 70753, 70768, 70788, 70797, 70811, 70813, 70700, 70847, 70897, 68962, 70899, 70949, 70963, 68982, 70964, 70973, 70827, 70976, 67342, 70987, 70997, 71009, 71013, 71020, 71033, 71041, 71059, 63596, 71063, 71122, 71142, 71145, 71151, 71212, 69437, 71224, 71227, 71253, 70705, 71254, 71294, 71295, 71298, 71325, 70055, 71330, 71345, 71348, 71373, 71343, 71378, 71382, 71387, 71410, 64941, 71424, 71448, 71497, 71442, 71548, 71565, 71604, 71624, 71625, 71644, 71677, 71697, 71703, 71705, 71537, 71716, 71715, 71733, 71336, 71745, 71750, 70301, 71775, 71776, 71803, 70073, 71815, 71710, 71827, 71837, 71873, 71882, 71940, 71953, 71967, 70943, 72021, 59250, 72025, 71957, 72039, 72038, 72045, 70776, 72111, 72058, 72121, 72127, 72137, 72156, 71635, 72157, 72208, 72017, 72217, 72222, 72230, 72232, 72234, 72238, 72251, 72254, 66867, 72259, 72260, 72272, 72278, 64937, 72282, 69849, 72303, 72311, 72343, 72348, 72102, 72350, 72352, 72384, 72423, 72451, 72449, 72453, 72457, 67494, 72462, 72465, 72481, 72503, 72502, 72605, 72618, 72632, 72650, 72674, 72679, 65590, 72836, 72839, 72865, 67387, 72867, 72901, 72903, 71389, 72936, 72975, 72075, 72986, 73006, 73010, 73016, 73018, 73076, 71236, 73090, 72648, 73093, 73109, 73127, 71446, 73152, 73157, 73173, 73185, 73191, 73226, 71744, 73242, 71430, 73275, 72428, 73284, 73270, 73320, 73290, 73321, 71346, 73336, 72203, 73368, 73373, 69951, 73399, 73410, 73417, 73419, 73435, 73471, 72147, 73479, 73382, 73506, 73511, 70087, 73528, 68878, 73550, 73558, 73562, 73576, 73567, 73582, 73583, 73596, 73622, 73647, 66919, 73728, 73749, 73748, 73754, 73755, 73433, 73771, 73784, 73834, 73824, 73859, 73860, 72719, 73868, 73903, 73906, 73926, 73871, 73931, 73932, 73715, 73945, 73632, 73967, 73970, 73982, 70193, 74005, 74026, 74039, 74046, 74055, 72987, 74097, 74100, 74108, 74110, 74117, 73912, 74130, 74145, 74144, 74159, 63955, 74169, 67597, 74205, 74219, 74233, 74271, 74273, 70190, 74292, 74308, 73094, 74337, 72954, 74338, 74366, 74377, 72033, 74388, 74344, 74406, 68279, 74409, 72924, 74421, 74490, 74500, 72737, 74511, 74306, 74529, 74533, 73673, 74550, 73988, 74604, 73548, 74652, 74661, 73061, 74735, 74755, 74028, 74830, 73303, 74873, 70855, 74877, 74883, 74931, 74942, 74926, 74970, 74989, 74991, 75016, 73503, 75032, 75094, 70060, 75134, 75162, 75129, 75163, 75183, 75174, 75192, 75197, 75203, 75214, 75216, 75226, 75217, 75264, 75275, 70322, 75303, 74439, 75304, 75306, 73936, 75307, 75313, 75337, 75343, 75354, 71303, 75360, 75383, 75397, 74447, 75400, 75422, 75458, 75460, 75467, 75473, 75456, 75477, 75487, 75496, 75504, 75531, 75545, 75584, 75130, 75605, 75622, 75598, 75634, 74858, 75646, 75607, 75655, 75725, 75728, 75733, 75732, 75748, 75768, 75767, 75784, 75805, 75806, 74631, 75814, 68225, 75821, 75638, 75831, 75881, 75890, 75887, 75924, 75926, 75479, 75933, 75932, 75934, 75946, 73690, 75952, 75955, 75608, 75997, 76007, 76011, 75750, 76023, 76029, 76036, 76040, 76051, 72020, 76076, 76105, 76133, 71663, 76135, 76168, 76187, 76205, 76227, 76079, 76241, 73235, 76242, 76257, 76269, 76254, 76302, 76307, 75785, 76319, 76106, 76320, 75738, 76328, 76330, 76345, 76258, 76354, 76356, 76359, 76360, 76379, 76333, 76421, 75209, 76444, 76445, 76446, 76167, 76447, 76450, 76470, 72301, 76481, 76484, 76489, 76509, 76516, 76524, 76526, 76538, 76589, 76604, 76642, 76651, 76652, 76676, 76697, 76469, 76712, 76718, 76737, 76775, 70299, 76781, 76810, 76815, 76832, 75676, 76858, 76877, 76878, 75921, 76882, 75228, 76896, 76899, 76897, 76900, 76922, 72223, 76976, 76995, 76999, 77001, 77092, 77096, 65995, 77119, 77125, 75798, 77132, 77135, 77137, 76974, 77177, 77190, 77252, 77265, 76576, 77275, 77185, 77317, 74353, 77325, 58860, 77327, 73541, 77335, 77340, 76285, 77353, 77357, 77361, 77397, 77440, 77458, 77472, 74973, 77494, 77498, 77506, 77508, 73233, 77512, 74323, 77542, 77466, 77572, 77599, 77598, 77614, 74974, 77620, 77643, 76601, 77665, 77682, 77683, 77688, 72565, 77690, 77738, 77791, 75033, 77829, 77835, 77850, 77847, 77865, 77864, 77866, 77878, 77890, 77898, 75734, 77942, 77995, 77457, 78037, 78040, 77872, 78190, 78211, 78214, 78035, 78230, 78031, 78253, 76547, 78480, 78520, 78860, 78861, 78912, 78996, 76111, 79006, 76776, 79009, 79013, 78216, 79037, 79038, 79050, 73011, 79085, 79084, 79089, 79090, 79091, 79095, 79115, 67393, 79119, 79105, 79141, 79143, 79163, 79178, 79184, 79215, 74349, 79296, 78906, 79309, 79330, 77908, 79338, 79367, 61130, 79377, 77912, 79383, 79312, 79395, 76991, 79443, 79455, 78235, 79488, 79529, 79577, 79589, 79609, 79025, 79645, 79648, 76633, 79732, 79765, 79804, 79844, 79867, 79877, 79881, 79934, 79975, 79983, 80004, 80012, 80020, 80072, 80081, 79968, 80094, 80096, 80107, 77695, 80190, 80256, 79721, 80303, 80310, 80324, 80345, 80363, 80380, 80443, 80406, 80467, 80508, 80513, 80534, 80289, 80560, 80600, 80608, 80614, 75749, 80617, 75963, 80655, 80662, 80400, 80670, 80709, 80391, 80737, 72972, 80744, 80760, 80762, 80766, 80771, 80789, 80790, 80811, 80866, 80883, 80893, 78446, 80901, 79447, 80906, 80956, 80994, 81014, 80509, 81040, 80740, 81041, 81042, 81022, 81102, 81110, 81113, 81120, 80609, 81125, 81138, 78016, 81142, 79005, 81159, 81200, 81222, 81263, 41040, 81266, 80711, 81291, 64329, 81294, 81310, 81357, 77106, 81369, 81377, 80676, 81378, 81415, 81445, 81497, 81501, 81505, 81515, 81522, 81502, 81535, 81543, 81550, 81625, 81628, 81633, 81658, 81686, 80864, 81705, 81112, 81720, 81722, 71905, 81740, 81755, 81766, 79172, 81777, 81779, 75878, 81785, 81830, 76879, 81832, 81895, 81946, 81949, 81987, 82005, 82007, 82020, 81329, 82108, 82136, 81711, 82218, 75897, 82222, 82259, 80354, 82264, 70661, 82275, 82350, 79559, 82351, 80051, 82372, 71706, 82401, 73804, 82410, 82429, 79425, 82492, 81312, 82680, 73976, 82733, 82781, 82788, 78889, 82809, 82323, 82813, 82818, 82827, 82849, 82926, 80975, 82930, 82952, 82962, 82972, 83003, 83010, 83013, 82935, 83022, 83023, 83037, 83045, 83061, 83062, 83067, 73795, 83071, 82596, 83131, 83136, 83170, 83172, 83180, 82899, 83294, 83309, 83327, 83349, 82261, 83392, 83325, 83401, 83404, 82048, 83418, 82201, 83422, 80786, 83469, 83512, 83525, 61438, 83526, 83530, 77875, 83596, 83597, 83663, 83667, 82869, 83687, 83346, 83717, 74394, 83729, 83772, 83756, 83849, 83850, 83864, 83804, 83895, 83888, 83960, 71572, 83979, 83997, 84001, 78894, 84009, 84082, 84094, 82243, 84098, 84108, 84111, 84184, 84040, 84254, 74206, 84265, 84268, 84279, 84298, 76474, 84311, 83590, 84400, 83991, 84426, 84424, 84436, 84438, 84433, 84445, 84470, 84472, 80855, 84474, 84495, 84496, 78215, 84569, 84572, 84614, 84653, 84717, 84718, 84835, 84850, 83569, 85011, 83693, 85012, 83953, 85031, 85077, 85087, 83342, 85091, 85103, 85108, 84783, 85109, 85137, 85147, 84932, 85151, 85172, 85141, 85195, 77366, 85206, 85237, 85250, 85268, 85291, 85294, 85304, 85308, 85379, 85403, 80063, 85404, 71473, 85419, 85421, 85453, 85466, 85305, 85498, 85526, 85686, 85720, 85710, 85744, 85745, 82850, 85770, 85818, 85819, 85828, 85834, 82393, 85856, 85857, 83738, 86032, 86073, 86082, 83932, 86283, 86287, 86302, 84448, 86328, 86311, 86333, 86348, 86364, 86403, 86404, 86461, 86419, 86517, 86642, 86657, 86717, 86719, 76891, 86729, 86735, 86738, 86742, 75156, 86746, 80993, 86762, 86805, 67757, 86822, 80839, 86841, 86892, 74412, 86927, 86946, 86959, 87020, 83007, 87050, 87071, 86662, 87163, 87197, 87195, 87279, 87311, 87252, 87314, 87335, 86857, 87346, 87388, 87420, 87425, 80457, 87440, 87489, 85360, 87505, 87568, 87605, 87651, 87503, 87709, 87731, 87767, 87762, 87805, 87806, 87835, 87909, 87551, 87917, 87473, 87926, 87932, 87943, 87971, 87970, 87981, 87991, 88007, 88016, 88094, 87749, 88102, 88160, 86635, 88179, 88183, 88194, 88225, 88226, 88247, 77194, 88385, 88396, 74075, 88402, 88409, 82484, 88412, 88323, 88413, 88458, 88465, 88466, 86251, 88477, 88479, 77255, 88511, 82480, 88521, 77605, 88563, 88566, 88585, 88589, 87067, 88601, 88232, 88607, 88644, 81640, 88659, 88676, 88707, 86703, 88749, 88807, 87239, 88823, 88901, 88781, 88914, 88934, 88101, 88959, 89002, 89107, 88448, 89111, 89118, 89108, 89130, 89151, 88373, 89187, 85556, 89203, 85454, 89332, 88859, 87142, 89344, 88996, 89429, 89434, 89531, 89555, 89556, 89561, 86903, 89576, 89642, 89361, 89658, 84350, 89673, 89672, 89674, 89694, 89699, 89700, 88332, 89701, 89703, 89702, 89704, 89705, 89715, 89753, 89767, 89744, 89793, 89760, 89817, 89707, 89833, 89569, 89909, 89838, 89910, 86326, 89927, 90029, 89328, 90312, 88166, 90338, 90339, 89862, 90342, 88234, 90369, 90380, 90389, 90391, 90393, 90404, 90479, 90317, 90483, 90548, 88274, 90605, 90614, 89031, 90628, 90632, 88099, 90687, 90703, 90375, 90745, 83429, 90784, 90511, 90791, 90775, 90793, 66063, 90814, 90841, 90852, 90898, 90922, 90951, 90987, 89377, 91006, 91038, 85667, 91056, 91093, 91096, 89236, 91138, 91139, 91168, 91181, 91156, 91204, 90443, 91231, 91098, 91234, 89560, 91246, 91237, 91264, 91269, 91303, 91306, 91307, 91363, 90973, 91428, 91037, 91429, 82336, 91443, 91460, 87245, 91495, 85880, 91520, 91522, 91527, 91092, 91606, 91622, 90685, 91633, 91642, 74513, 91694, 91047, 91698, 91739, 90656, 91740, 91758, 91769, 91636, 91804, 91802, 91806, 91835, 91737, 91865, 85816, 91892, 87255, 91914, 91829, 91961, 78769, 91963, 91970, 91980, 91991, 88537, 91996, 92083, 91993, 92106, 82142, 92114, 91715, 92180, 92190, 91937, 92200, 92186, 92202, 92224, 92299, 92050, 92338, 92344, 92336, 92355, 92377, 92430, 92452, 76099, 92466, 92276, 92485, 92520, 92527, 92532, 92549, 92550, 92580, 92606, 92610, 90196, 92645, 92653, 92657, 92348, 92769, 92811, 92819, 91706, 92852, 92287, 92872, 92873, 86437, 92915, 92932, 92933, 93042, 93070, 93081, 93094, 93117, 91690, 93120, 77712, 93135, 72802, 93170, 93280, 93347, 93377, 93382, 93406, 92983, 93420, 93517, 92730, 93571, 93625, 93628, 88766, 93629, 91540, 93656, 93664, 93671, 92457, 93831, 93862, 93684, 93986, 93103, 94167, 90424, 94198, 94282, 94289, 94302, 94303, 94350, 94464, 90755, 94635, 94656, 88971, 94674, 94800, 93466, 94805, 94830, 75167, 94873, 94933, 94956, 93172, 94984, 94988, 94888, 95041, 93966, 95147, 95152, 93195, 95183, 95184, 94939, 95256, 95310, 95245, 95321, 95368, 95425, 95419, 95457, 95495, 94942, 95620, 94797, 95706, 95725, 95676, 95805, 95277, 95817, 95820, 92416, 96046, 96068, 59560, 96083, 96112, 96215, 96271, 95784, 96397, 91075, 96487, 96515, 96529, 96559, 82967, 96574, 96605, 96600, 95664, 96707, 89341, 96721, 96773, 96776, 96894, 96770, 96922, 96829, 96926, 96946, 96590, 97001, 96910, 97010, 96604, 97039, 97047, 97048, 97066, 97071, 97076, 96893, 97077, 97075, 97133, 96519, 97142, 96572, 97143, 97146, 97186, 97207, 97287, 90305, 97310, 97313, 97324, 96039, 97342, 97346, 97356, 97411, 88538, 97418, 82037, 97431, 97466, 97471, 77859, 97509, 97535, 97551, 97425, 97558, 97696, 97765, 97801, 93022, 97833, 97925, 97487, 98059, 98067, 98086, 98122, 98146, 98164, 97955, 98225, 93990, 98233, 93700, 98268, 96888, 97059, 98354, 83350, 98374, 98130, 98622, 97607, 98665, 98564, 98731, 98836, 98861, 98841, 98964, 92341, 99005, 99031, 76914, 99035, 96556, 99040, 98368, 99100, 98760, 99101, 76821, 99103, 99104, 99074, 99108, 99118, 99187, 91628, 99188, 99227, 75849, 99252, 99262, 99289, 97762, 99296, 97697, 99300, 97963, 99322, 99333, 99335, 99343, 95915, 99477, 97448, 99504, 99480, 99527, 99537, 99566, 99589, 99584, 99602, 99604, 99720, 99721, 99723, 99734, 99795, 99892, 99924, 99941, 94397, 99942, 99988, 97507, 99991, 99958, 99994, 99705, 100006, 100012, 98838, 100014, 100046, 100113, 100123, 100129, 100137, 100144, 50392, 100158, 100162, 99014, 100163, 100239, 89708, 100241, 100250, 100272, 100296, 100304, 100345, 100399, 99925, 100415, 100447, 100661, 100754, 100741, 100765, 100827, 47645, 100859, 99661, 100906, 100640, 100930, 100917, 100934, 100932, 100972, 74438, 100974, 101030, 101043, 101044, 98988, 101046, 101035, 101057, 100997, 101074, 101091, 101126, 101127, 101185, 101270, 101148, 101271, 101290, 101297, 101287, 101301, 101326, 101346, 101357, 101359, 101371, 101403, 92734, 101430, 101431, 101507, 101525, 91826, 101567, 101570, 90670, 101599, 101705, 90490, 101713, 101723, 91287, 101725, 101395, 101752, 100764, 101757, 101627, 101793, 101551, 101794, 101833, 101864, 101066, 101892, 101916, 101659, 101956, 101969, 84330, 101947, 99678, 101995, 101998, 101286, 102004, 101063, 102010, 102018, 102026, 102048, 92469, 102072, 102074, 102188, 102061, 102202, 102204, 90227, 102225, 102151, 102228, 102235, 102245, 102246, 102255, 101490, 102264, 101299, 102315, 102317, 102374, 102383, 102322, 102413, 102454, 101804, 102498, 101797, 102524, 102616, 102118, 102642, 102516, 102644, 102646, 102683, 102693, 102766, 102772, 102801, 102813, 102832, 102844, 102846, 102724, 102864, 99531, 102904, 102947, 102959, 102178, 102982, 92306, 102993, 102992, 102995, 91831, 103013, 102804, 103019, 103034, 95838, 103043, 103053, 103057, 103061, 96915, 103088, 102746, 103108, 103104, 103110, 103109, 103147, 103020, 103162, 103112, 103163, 103172, 103091, 103178, 103179, 103188, 103191, 103208, 103215, 38889, 103225, 103239, 103240, 103274, 103295, 103298, 103348, 103358, 103370, 100760, 103386, 102666, 103395, 103397, 103464, 103509, 103522, 101424, 103529, 103532, 103561, 99505, 103580, 103583, 103598, 103600, 103614, 102743, 103663, 89736, 103540, 103698, 103544, 103743, 103799, 103815, 103816, 103844, 103744, 103845, 103868, 103881, 103882, 103939, 103947, 102172, 103953, 103957, 103976, 103987, 103498, 103989, 104034, 102721, 104043, 87903, 104054, 104124, 104127, 104144, 104172, 104102, 104205, 104224, 104237, 104278, 103966, 104283, 104284, 104302, 102759, 104320, 104325, 104338, 103644, 104349, 104351, 101511, 104355, 104359, 104383, 104428, 104469, 104453, 104498, 104503, 104243, 104507, 104303, 104516, 104528, 104529, 104563, 104567, 104568, 100622, 104599, 103653, 104600, 104649, 104682, 104614, 104697, 104704, 104713, 104731, 104732, 98090, 104739, 104782, 100846, 104821, 104899, 104950, 103121, 104955, 101056, 104999, 98802, 105015, 105063, 105066, 97651, 105067, 105096, 105154, 105201, 105193, 105215, 105233, 105249, 105273, 104741, 105302, 105307, 105311, 105360, 104560, 105363, 105369, 105397, 105409, 99063, 105432, 105487, 105500, 105516, 95083, 105532, 105577, 105592, 105299, 105619, 102290, 105647, 105648, 105669, 105710, 105716, 105551, 105737, 100839, 105769, 105385, 105800, 102327, 105801, 105738, 105809, 105827, 105826, 105840, 105849, 105854, 105864, 105883, 102702, 105938, 105950, 105775, 105951, 105952, 105960, 105958, 105965, 105988, 105989, 105874, 106002, 106005, 106017, 106022, 105979, 106032, 106048, 106066, 105900, 106072, 97807, 106073, 106083, 106085, 106092, 105697, 106100, 106155, 106217, 104018, 106226, 106228, 95275, 106229, 106230, 106237, 106246, 106259, 106260, 106272, 106244, 106323, 106336, 106363, 106383, 102673, 106390, 106254, 106404, 106337, 106424, 106457, 106460, 104597, 106498, 106516, 104162, 106543, 106429, 106544, 105126, 106545, 106561, 106351, 106589, 106590, 106626, 106655, 106579, 106687, 106699, 106302, 106717, 106738, 106739, 103649, 106745, 106750, 106765, 106821, 106878, 102845, 106905, 106911, 106917, 106924, 106933, 106811, 106934, 106958, 106959, 106897, 106988, 106641, 106996, 107012, 107025, 107028, 107035, 107041, 107051, 104813, 107053, 107068, 92542, 107085, 106887, 107091, 107099, 107100, 106060, 107132, 106817, 107153, 107169, 107174, 107191, 106661, 107248, 107275, 107138, 107309, 107321, 106456, 107350, 107399, 107407, 107410, 104385, 107440, 100746, 107457, 103808, 107474, 107492, 107225, 107522, 107551, 107454, 107577, 107418, 107640, 106009, 107645, 107229, 107651, 107661, 107778, 106987, 107794, 104802, 107820, 107013, 107845, 107860, 99452, 107882, 107847, 107893, 107901, 107907, 107920, 107953, 107957, 107969, 107996, 108046, 108053, 107573, 108058, 107076, 108081, 108082, 107780, 108090, 108103, 107956, 108122, 108125, 108214, 108184, 108215, 108223, 108224, 107444, 108252, 108256, 108066, 108265, 108336, 103986, 108342, 105641, 108347, 107922, 108366, 108367, 108377, 108403, 108404, 106935, 108418, 108464, 108539, 108541, 108471, 108547, 108556, 108561, 108566, 108579, 96703, 108617, 108655, 108732, 106300, 108758, 108722, 108767, 108779, 108822, 108857, 108995, 108308, 109009, 109019, 109022, 109038, 109069, 109070, 109078, 109095, 105810, 109138, 109152, 109166, 109201, 109230, 109280, 109296, 109309, 102624, 109313, 109338, 109348, 109205, 109350, 109357, 107718, 109378, 108932, 109392, 108387, 109397, 109275, 109420, 109424, 109438, 94002, 109441, 109353, 109442, 109501, 109506, 105531, 109545, 109551, 109494, 109572, 109591, 109592, 109631, 109643, 109239, 109665, 109670, 95535, 109685, 109701, 108889, 109707, 103824, 109711, 109761, 109763, 109802, 109815, 109894, 109236, 109919, 109934, 109935, 109946, 109950, 106484, 109951, 109961, 109966, 92113, 110005, 109684, 110010, 110054, 110069, 104620, 110087, 109489, 110091, 101318, 110121, 106722, 110219, 110228, 109242, 107570, 110298, 110020, 110306, 110307, 107689, 110317, 110322, 110387, 97657, 99030, 110451, 85023, 110486, 110488, 108833, 110537, 109808, 110540, 110583, 110609, 106614, 110616, 110340, 110643, 110681, 110732, 110767, 110347, 110775, 110781, 110805, 110720, 110816, 110823, 108094, 110855, 110857, 110929, 110936, 110889, 110956, 110955, 111007, 107614, 111010, 111014, 110490, 111017, 109143, 111026, 111068, 111091, 111131, 95027, 111170, 111182, 111185, 111181, 111203, 111237, 111236, 111254, 111307, 111319, 111323, 111333, 111399, 111430, 110427, 111431, 111436, 111520, 107697, 111552, 111573, 103954, 111583, 109487, 111586, 111578, 111614, 111610, 111615, 111665, 111667, 111698, 110369, 111819, 111722, 111831, 111848, 111676, 111865, 111890, 111929, 111435, 111944, 111733, 111957, 109943, 111970, 111982, 111986, 111991, 111993, 110647, 111998, 111571, 112013, 112034, 112035, 112036, 112038, 108126, 112041, 105004, 112109, 96715, 112134, 112155, 112166, 111318, 112205, 111419, 112217, 112255, 112303, 111832, 112344, 112375, 102812, 112475, 112324, 112485, 110852, 112506, 112484, 112513, 112493, 112514, 112532, 112472, 112539, 112307, 112543, 112565, 111835, 112574, 107660, 112584, 109891, 112687, 112566, 112705, 99472, 112730, 110008, 112764, 111922, 112801, 112549, 112808, 112813, 110453, 110456, 112862, 112866, 112876, 112878, 112836, 112892, 112537, 112898, 112923, 94858, 112940, 111730, 112945, 112955, 112963, 112946, 112975, 108676, 112998, 112999, 113016, 113092, 108755, 113155, 113172, 113171, 113180, 113186, 111845, 113258, 110829, 113261, 113271, 113283, 113009, 113284, 105218, 113338, 113059, 113385, 113405, 113446, 106218, 113474, 113206, 113487, 112861, 113508, 112384, 113510, 113335, 113593, 113602, 113635, 113630, 113659, 113661, 113663, 113689, 113303, 113703, 95677, 113743, 112927, 113772, 102728, 113781, 94718, 113793, 113469, 113815, 112788, 113825, 113826, 113784, 113845, 113381, 113854, 113838, 113855, 113925, 113423, 113933, 113749, 113940, 113967, 113985, 114003, 114047, 113856, 114049, 108407, 114159, 114177, 114213, 87085, 114240, 113714, 114246, 114250, 114189, 114299, 114305, 72540, 114335, 114367, 114399, 114343, 114407, 114402, 114417, 112837, 114423, 114428, 114387, 114429, 114431, 114437, 114439, 114472, 114515, 114514, 114578, 114594, 114647, 114613, 114658, 101372, 114675, 114688, 110939, 114691, 114701, 114732, 113496, 114741, 110745, 114757, 114764, 106174, 114783, 113803, 114807, 114827, 114899, 114735, 114907, 114920, 112569, 114960, 114984, 115011, 115019, 76087, 115027, 115023, 115034, 70821, 115045, 113518, 115080, 115081, 115093, 114697, 115099, 114493, 115107, 115007, 115142, 115238, 113282, 115287, 111862, 115305, 115370, 115404, 113829, 115494, 91585, 115496, 115395, 115500, 110086, 115530, 115592, 115497, 115594, 115561, 115634, 115646, 115649, 113057, 115650, 115656, 114845, 114527, 115790, 114391, 115795, 115822, 115832, 105847, 115847, 115842, 115848, 115898, 115897, 115901, 115889, 115904, 115935, 115942, 115948, 115950, 116025, 116036, 115182, 116051, 116096, 114485, 116110, 116129, 116216, 112841, 116238, 115949, 116336, 88800, 116356, 116020, 116367, 116373, 90931, 116374, 116385, 116400, 116404, 116452, 116455, 116447, 116487, 116464, 116502, 116524, 116588, 116589, 115690, 116604, 116615, 116286, 116618, 116640, 116636, 116646, 116669, 116698, 116726, 98646, 116733, 114477, 116766, 59436, 116775, 116592, 116778, 116678, 116789, 116804, 115104, 116841, 114812, 116860, 116652, 116877, 116896, 108282, 116903, 116907, 116909, 113674, 116922, 116949, 116954, 117079, 117113, 111876, 117119, 117138, 117141, 117156, 117266, 117267, 117317, 117348, 116439, 117350, 117372, 117397, 115545, 117398, 117491, 117363, 117498, 96269, 117512, 117469, 117521, 117532, 115061, 117541, 117542, 117509, 117544, 117476, 117577, 117536, 117584, 117589, 117596, 117656, 117657, 117659, 117673, 117676, 117702, 117705, 117723, 98361, 117782, 117695, 117838, 117854, 115508, 117858, 117418, 117885, 117414, 117907, 112775, 118004, 112294, 118036, 111985, 118095, 118149, 116879, 118163, 117147, 118169, 118170, 118094, 118172, 117489, 118190, 113374, 118257, 118269, 118024, 118291, 117603, 118323, 116941, 118389, 118196, 118476, 118472, 118492, 118495, 118500, 118507, 118516, 118439, 118540, 116699, 118549, 115340, 118592, 114109, 118610, 118609, 118611, 118618, 118636, 118648, 118657, 118681, 118703, 118754, 117354, 118756, 118781, 118670, 118869, 118779, 118940, 118961, 118691, 118966, 118967, 118982, 116105, 119012, 118758, 119038, 119070, 119076, 118317, 119114, 118786, 119160, 119152, 119183, 117635, 119197, 118797, 119207, 117941, 119209, 119200, 119212, 119219, 118889, 119262, 119266, 119272, 119316, 119405, 119409, 119159, 119410, 112499, 119432, 119445, 65647, 119446, 118548, 119462, 116939, 119551, 74225, 119558, 115254, 119563, 116945, 119576, 116279, 119585, 112978, 119599, 119569, 119673, 119685, 118950, 119718, 119732, 119557, 119737, 119755, 119828, 109509, 119836, 106864, 119883, 93954, 119918, 119940, 118917, 119970, 120031, 120037, 120035, 120043, 118882, 120116, 119439, 120249, 120251, 119098, 120260, 118857, 120303, 115552, 120325, 120310, 120332, 120342, 119567, 120351, 120358, 117727, 120360, 92668, 120368, 119246, 120375, 120319, 120398, 120414, 120415, 93128, 120424, 120451, 120470, 120490, 120456, 120525, 120507, 120540, 120458, 120541, 120631, 120682, 107511, 120693, 120560, 120697, 120698, 120510, 120707, 120268, 120711, 120736, 120694, 120741, 120725, 120760, 120740, 120817, 120818, 95287, 120831, 120666, 120834, 109263, 120840, 120555, 120844, 120854, 120884, 116687, 120906, 120905, 120929, 120841, 120988, 120992, 120014, 120998, 120223, 121073, 121072, 121115, 121134, 121158, 120816, 121161, 121181, 118652, 121192, 121224, 121153, 121231, 121290, 121297, 121350, 121361, 121380, 116833, 121384, 117403, 121397, 121456, 121197, 121526, 121539, 121544, 121575, 121649, 121689, 121695, 104679, 121699, 121765, 121810, 121824, 105790, 121861, 121929, 121915, 122010, 121195, 122025, 122069, 119861, 122077, 122031, 122102, 122086, 122210, 122237, 115659, 122246, 121201, 122295, 116393, 122323, 119723, 122378, 119292, 122411, 116817, 122443, 121777, 122457, 122556, 116082, 122603, 122664, 121517, 122671, 122703, 121289, 122708, 122615, 122736, 122652, 122757, 122878, 122882, 122894, 122814, 122897, 121984, 122917, 122672, 123006, 122662, 123023, 123026, 123029, 123044, 123107, 90590, 123224, 114340, 123291, 123318, 89133, 123319, 123362, 123380, 121975, 123505, 123531, 91542, 123562, 123563, 123384, 123596, 122779, 123641, 121854, 123676, 123679, 123707, 123721, 123755, 123740, 123780, 120777, 123800, 123741, 123861, 123396, 123888, 123929, 124019, 124097, 124167, 118184, 124296, 119067, 124365, 124405, 124413, 124469, 124124, 124477, 124482, 121673, 124492, 121470, 124522, 122522, 124530, 122657, 124531, 124578, 124577, 124677, 124195, 124681, 124691, 124692, 124733, 121568, 124751, 120577, 124823, 124811, 124845, 124857, 122780, 124885, 124670, 124958, 124964, 124982, 124936, 124992, 125020, 125143, 125041, 125168, 125171, 125205, 124707, 125289, 125288, 125322, 125291, 125325, 125334, 125356, 125425, 125429, 123509, 125431, 125467, 124373, 125473, 125483, 125469, 125515, 125514, 125531, 125366, 125563, 124176, 124800, 125570, 125583, 125506, 125598, 124475, 125599, 125609, 125625, 124904, 125626, 125100, 125645, 122631, 125652, 125722, 125231, 125749, 125802, 125834, 125918, 113667, 125965, 125333, 126009, 125466, 126024, 125898, 126025, 126029, 125644, 126138, 126173, 125856, 126203, 102341, 126218, 121488, 126264, 126273, 126276, 126310, 126111, 126326, 89020, 126327, 126325, 126347, 123219, 126355, 126373, 126275, 126374, 126399, 126398, 126402, 126401, 126412, 126430, 126487, 126504, 126521, 126431, 126525, 126229, 126560, 126562, 126576, 126591, 125270, 126616, 125095, 126619, 124495, 126637, 126236, 126652, 126049, 126654, 126658, 126674, 125201, 126746, 126772, 126727, 126785, 126786, 126809, 126665, 126812, 119994, 126830, 126775, 126855, 126881, 126328, 126884, 126164, 126929, 126935, 126949, 126645, 126954, 126393, 126971, 125543, 126976, 127038, 123963, 127084, 126906, 127111, 127109, 127114, 127113, 127115, 127134, 127175, 127176, 127177, 126602, 127197, 126496, 127205, 127211, 127212, 125342, 127214, 127220, 127232, 125693, 127233, 127239, 127242, 127259, 127265, 127308, 127321, 98628, 127326, 127329, 127193, 127382, 127296, 127487, 121674, 127574, 127277, 127583, 127633, 127693, 127694, 127715, 90725, 127955, 127978, 125694, 127983, 128076, 128105, 127705, 128134, 128170, 128190, 128206, 127811, 128221, 127585, 128228, 128230, 128245, 128288, 122314, 128291, 128316, 128304, 128343, 127571, 128350, 128403, 128440, 128351, 128487, 128324, 128535, 128554, 128576, 128600, 120839, 128618, 128629, 117375, 128640, 128688, 128764, 128825, 128393, 128826, 128851, 128449, 128892, 128905, 127533, 128914, 128104, 128958, 128413, 128974, 117623, 129047, 129055, 127755, 129103, 129131, 129134, 129154, 129252, 129249, 129264, 129333, 129345, 111397, 129376, 124021, 129382, 128998, 129443, 129415, 129462, 129227, 129578, 129591, 125795, 129596, 129605, 129614, 129604, 129618, 129629, 129361, 129669, 128970, 129756, 129757, 129537, 129774, 129785, 124867, 129786, 129802, 129792, 129864, 129874, 129951, 129981, 129923, 129990, 130017, 129500, 130035, 130059, 129887, 130074, 130075, 129727, 130103, 130120, 130037, 130122, 130176, 126485, 129893, 130189, 129344, 130215, 130320, 130371, 130377, 130369, 130380, 129900, 130381, 130387, 130390, 130409, 130456, 130411, 130505, 121941, 130524, 116465, 130529, 119882, 130548, 124624, 130551, 130554, 130418, 130594, 130599, 122602, 130628, 130658, 130660, 130671, 130604, 130675, 129097, 130687, 114754, 130728, 130768, 130747, 130793, 130781, 130847, 130859, 130864, 127291, 130868, 129524, 130966, 121264, 130978, 131010, 130394, 131044, 131083, 131084, 131148, 130987, 131149, 130783, 131153, 131170, 125195, 131193, 129848, 131329, 130568, 131335, 131359, 131459, 131511, 131524, 131551, 130806, 131556, 131610, 131620, 131637, 131709, 131689, 131728, 131730, 125860, 131307, 131758, 131559, 131782, 131759, 131514, 131815, 129360, 131844, 131837, 131865, 131881, 128861, 131882, 130709, 131929, 131437, 131931, 132015, 131520, 132043, 131920, 132147, 132180, 63941, 132247, 132262, 132321, 128426, 132377, 132378, 132379, 132437, 132446, 132455, 122030, 132512, 132539, 132549, 132559, 132550, 132601, 131666, 132624, 132627, 128078, 132692, 132158, 132715, 132573, 132833, 132907, 132916, 132028, 132959, 132994, 133062, 133076, 132834, 133089, 133253, 132563, 133279, 131585, 133686, 133687, 133698, 133721, 128274, 133740, 130683, 133806, 133807, 133852, 118059, 133898, 133956, 134085, 134097, 134117, 120033, 134135, 134121, 134164, 134189, 134209, 134230, 128705, 134245, 134293, 132036, 134300, 134367, 134387, 134397, 134464, 134220, 134487, 134424, 134517, 134584, 134595, 134601, 134361, 134645, 134650, 134672, 134678, 134702, 123996, 134725, 134718, 134740, 78982, 134772, 114663, 134777, 134784, 134785, 134821, 130221, 134844, 134873, 132386, 134882, 133278, 134895, 134304, 134897, 134939, 134943, 135176, 135185, 134796, 135202, 123749, 135253, 135266, 130974, 135269, 131619, 135400, 135396, 135401, 135421, 132279, 135435, 135434, 135437, 135436, 135455, 135486, 135516, 135515, 135550, 135551, 135578, 135577, 135588, 135587, 135592, 133092, 135630, 135604, 135651, 128559, 135653, 135662, 135665, 135673, 122795, 135723, 135722, 135765, 132079, 135769, 134122, 135812, 135886, 135906, 134751, 135929, 135907, 135974, 135986, 135968, 135994, 135993, 136014, 135853, 136015, 136044, 134854, 136055, 135290, 136111, 136124, 136123, 136130, 136131, 135868, 136191, 136203, 136222, 136252, 134592, 136276, 135519, 136337, 136336, 136357, 135905, 136457, 136462, 136461, 136616, 136628, 129390, 136645, 136736, 133691, 136751, 132990, 136777, 136779, 135844, 136802, 136804, 136867, 136883, 136888, 136960, 136959, 137032, 136948, 137093, 136920, 137140, 136971, 137150, 137159, 137161, 135467, 137166, 134714, 137176, 137185, 137190, 137184, 137250, 130300, 137294, 137242, 137259, 137322, 137328, 137352, 137370, 114075, 137379, 137396, 114055, 137399, 114386, 137423, 137425, 137429, 137447, 137444, 137448, 137455, 137461, 117386, 137497, 137606, 137643, 137658, 83532, 137682, 137434, 137685, 137697, 137458, 137724, 137542, 137728, 137727, 137735, 137749, 131994, 137811, 137804, 137812, 137843, 132615, 137872, 137666, 137882, 137330, 137888, 137623, 137891, 137905, 137944, 136931, 137947, 137948, 137951, 135659, 137969, 135778, 137987, 137988, 138037, 138058, 138075, 138094, 126145, 138106, 138151, 138150, 138207, 137256, 138215, 128818, 138218, 138083, 138314, 138337, 138391, 138424, 138477, 138381, 138479, 138432, 138536, 138561, 138562, 138566, 138163, 138575, 138224, 138584, 138199, 138601, 138651, 138664, 138693, 127083, 138698, 138719, 138753, 138755, 138810, 138841, 138096, 138865, 138878, 135607, 138897, 138906, 139111, 130307, 139131, 135877, 139149, 138579, 139153, 122184, 139164, 135872, 139171, 139197, 139193, 139207, 138363, 139208, 139214, 137486, 139223, 139228, 138727, 139231, 139232, 139267, 137335, 139281, 137550, 139298, 138881, 139353, 137865, 139359, 138663, 139368, 132179, 139408, 139454, 117910, 139503, 139512, 139151, 139584, 139595, 139607, 139640, 134180, 139677, 139679, 139706, 134404, 139733, 137198, 139745, 139726, 139797, 139791, 139805, 139804, 139831, 139851, 139884, 139901, 139977, 139883, 139981, 139786, 139989, 121049, 139998, 120598, 140012, 139687, 140013, 140029, 139690, 140039, 139768, 140061, 139937, 140067, 139902, 140068, 140077, 139803, 140130, 115120, 139758, 140172, 136561, 140211, 140213, 140214, 136970, 140216, 140217, 122225, 140220, 140159, 140230, 140231, 139544, 140244, 140259, 140261, 140265, 140271, 140272, 140291, 140330, 139952, 140349, 140033, 140353, 140081, 140359, 140363, 139849, 140364, 140373, 140379, 140400, 140402, 140408, 140410, 140418, 132145, 140473, 140475, 140119, 140520, 140526, 140539, 139855, 140555, 140553, 140556, 131583, 140560, 140561, 140584, 140508, 140618, 140557, 140629, 140630, 140672, 140673, 140458, 140694, 140613, 140716, 140732, 140739, 140746, 140747, 140770, 140774, 140724, 140819, 140868, 140876, 139048, 140885, 140887, 140889, 140897, 140941, 140970, 140988, 139182, 140993, 140446, 141000, 140890, 141018, 141032, 140300, 141044, 141049, 140971, 141066, 141101, 139987, 141118, 141129, 141138, 141145, 141149, 141158, 141169, 141180, 141179, 141193, 141204, 141200, 141210, 140351, 141229, 141245, 141250, 141259, 141268, 141270, 141255, 141273, 140952, 141284, 139696, 141341, 141304, 141346, 117148, 141347, 140807, 141354, 141363, 141372, 141385, 141243, 141388, 141390, 141448, 141469, 136996, 141470, 141472, 141478, 141483, 141493, 138642, 141495, 138586, 141496, 141516, 141544, 139672, 141563, 141624, 141626, 141627, 141629, 141630, 141640, 141362, 141649, 141666, 140995, 141674, 138528, 141687, 141061, 141692, 141614, 141695, 141699, 141700, 141702, 132222, 141704, 141379, 141754, 141763, 141076, 141769, 141717, 141771, 140685, 141789, 141281, 141794, 141828, 141830, 141834, 141833, 141839, 141847, 141855, 141722, 141888, 141519, 141911, 141915, 141926, 141342, 141937, 141928, 141956, 141975, 141984, 141497, 141985, 142002, 142008, 116134, 142030, 142080, 142088, 142089, 135679, 142096, 142098, 142104, 142133, 140670, 142134, 142184, 142183, 142191, 141578, 142222, 141590, 142256, 142257, 142267, 142285, 140179, 142311, 142340, 142309, 142357, 142375, 142407, 142405, 142418, 142442, 132580, 142443, 142469, 142347, 142526, 142179, 142527, 142555, 142005, 142580, 135497, 142585, 142667, 142230, 142670, 142685, 142695, 142730, 134572, 142783, 142794, 141151, 142802, 142843, 142866, 142725, 142874, 142745, 142875, 140869, 142877, 142876, 142898, 142545, 142911, 142916, 142921, 142932, 142946, 142972, 142977, 142025, 142993, 143059, 143146, 143148, 142854, 143150, 142584, 143196, 138697, 143202, 143225, 130442, 143246, 142991, 143247, 143255, 143256, 143268, 126312, 143297, 143317, 138790, 143324, 143322, 143327, 143344, 143343, 143348, 143211, 143350, 143379, 143402, 143405, 102403, 143415, 143414, 143418, 143417, 143457, 143486, 143453, 143487, 143496, 143495, 143514, 143555, 143375, 143575, 139593, 143577, 142816, 143581, 143597, 143596, 143610, 143620, 143051, 143654, 143662, 143664, 143667, 143668, 129132, 143682, 143679, 143704, 143700, 143711, 143659, 143712, 143728, 87043, 143733, 143734, 143741, 142924, 143758, 143759, 143760, 143770, 140981, 143774, 143777, 143785, 143797, 143796, 143840, 143848, 141501, 143860, 143877, 95954, 143908, 143911, 143916, 142871, 143928, 143939, 143717, 143945, 143978, 143895, 143986, 143998, 127960, 144005, 143729, 144015, 144068, 144095, 132146, 144101, 144121, 135387, 144125, 132120, 144132, 143623, 144176, 144180, 144182, 144205, 144234, 144238, 144252, 144262, 139053, 144266, 144260, 144300, 144311, 144336, 144386, 144407, 144427, 144456, 144264, 144543, 144545, 134663, 144563, 143306, 144590, 144603, 144183, 144645, 144649, 116237, 144711, 144736, 130514, 144818, 144848, 143652, 144879, 144935, 144938, 144962, 144965, 144966, 144967, 144502, 144989, 144991, 144927, 145009, 145057, 145090, 145092, 145108, 144809, 145114, 145111, 145116, 145139, 145146, 145144, 145153, 145171, 145244, 145254, 145270, 145231, 145291, 142216, 145369, 145183, 145383, 129557, 145419, 144024, 145425, 145428, 134403, 145436, 141171, 145438, 141992, 145442, 145445, 143591, 145489, 145493, 145302, 145502, 145473, 145508, 143206, 145521, 145524, 145533, 145534, 145535, 145494, 145537, 145565, 145568, 145301, 145574, 129682, 145591, 144884, 145599, 145620, 145621, 145628, 145093, 145629, 145635, 145634, 145637, 145640, 145636, 145650, 145718, 145751, 145675, 145761, 145764, 145795, 145824, 145840, 145852, 145853, 145870, 145875, 145876, 145878, 145910, 145915, 145970, 145969, 146088, 146148, 140253, 146149, 146186, 145832, 146195, 146138, 146223, 146250, 146270, 146288, 139309, 146328, 146039, 146390, 142996, 146417, 146442, 142639, 146455, 146453, 146460, 146461, 137359, 146536, 139894, 146594, 146698, 146721, 146677, 146727, 146745, 146747, 146769, 146782, 146784, 145710, 146788, 146789, 144800, 146804, 146817, 146841, 146844, 146845, 146847, 146848, 146913, 146912, 146916, 146935, 146934, 146947, 141131, 146996, 147020, 143964, 147021, 147022, 147037, 146678, 147123, 146381, 147148, 147159, 147044, 147175, 147216, 147221, 147246, 147264, 147279, 147298, 147328, 146754, 147389, 133078, 147413, 147418, 147423, 147452, 142181, 147461, 147516, 147561, 147344, 147585, 147590, 139673, 147651, 147584, 147662, 147656, 147699, 147706, 147708, 146373, 147720, 147702, 147736, 141921, 147771, 147776, 147777, 147765, 147778, 115376, 147783, 147784, 147786, 147796, 147798, 147834, 134342, 147950, 141349, 147999, 143625, 148054, 147899, 148055, 120536, 148065, 147780, 148170, 147233, 148190, 148164, 148250, 148290, 146242, 148297, 148307, 148319, 148168, 148324, 126219, 148350, 148331, 148367, 148322, 148379, 148395, 148388, 148443, 148451, 148458, 148459, 146772, 148176, 148490, 146549, 148494, 143385, 148546, 148557, 148560, 146620, 148583, 148588, 148589, 148610, 148618, 148619, 148604, 148622, 148627, 146558, 148666, 148680, 148686, 148688, 148401, 148698, 148784, 148819, 148406, 148846, 131830, 148851, 148854, 141818, 148855, 148902, 148903, 147848, 148906, 144534, 148912, 134282, 148922, 141728, 148951, 143398, 148956, 148969, 148829, 148981, 148703, 148982, 148542, 149031, 144960, 149047, 149066, 149065, 149074, 149084, 149087, 149089, 149165, 134086, 149166, 149167, 149160, 149189, 139769, 149229, 129819, 149233, 148785, 149272, 149316, 149342, 149343, 148877, 149080, 149368, 149374, 149403, 148746, 149409, 149389, 149426, 149424, 149429, 149462, 149494, 149513, 149091, 149514, 149516, 144177, 149537, 116030, 149581, 149250, 149585, 149597, 149527, 149620, 146724, 149648, 149704, 149734, 149750, 148360, 149765, 149764, 148727, 149788, 149718, 149798, 149797, 149807, 149809, 149815, 139659, 149821, 123299, 149822, 138552, 149830, 136846, 149832, 129631, 149836, 149839, 149841, 149866, 149341, 149867, 149882, 149829, 149910, 143658, 149921, 149940, 141364, 149946, 149956, 150019, 124529, 150032, 145255, 150035, 150038, 138627, 150040, 139692, 150053, 150057, 149698, 150059, 150024, 150065, 144930, 150119, 150122, 150128, 150130, 150177, 150193, 150258, 150257, 150270, 149209, 150312, 139598, 150317, 150063, 150379, 150392, 150424, 150427, 150429, 142344, 150442, 150467, 150466, 150470, 150509, 150549, 150547, 150403, 150580, 137900, 150587, 150597, 149978, 150604, 150674, 146325, 150706, 150716, 150715, 150836, 150907, 150939, 151000, 110813, 151024, 149958, 151240, 150904, 151243, 151112, 151274, 151278, 150796, 151292, 151291, 151311, 143997, 151368, 125107, 151389, 151413, 150775, 151420, 148540, 151422, 141521, 151428, 151445, 151450, 144166, 151452, 151458, 151487, 150034, 151488, 151414, 151521, 151554, 123278, 151560, 151558, 151574, 151579, 151580, 151582, 151377, 151586, 151597, 151498, 151612, 150464, 151650, 151649, 151671, 141445, 151689, 151721, 151835, 145798, 151837, 151855, 151883, 149306, 151911, 151947, 149526, 151949, 151951, 151954, 151958, 151972, 151867, 151975, 152002, 152023, 152075, 152118, 152120, 150577, 152135, 152147, 147920, 152178, 151997, 152179, 152180, 152181, 152182, 152185, 151093, 152199, 152210, 152231, 152206, 152249, 151834, 152255, 152092, 152270, 152291, 151886, 152293, 152312, 152319, 63800, 152349, 152359, 150673, 152381, 152384, 149542, 152385, 152406, 152446, 151537, 152467, 146448, 152485, 151955, 152496, 152497, 152500, 152511, 152514, 152565, 152322, 152602, 152636, 152635, 152697, 152723, 152641, 152742, 152763, 152812, 152863, 152864, 145376, 152907, 152917, 152854, 152936, 148864, 153007, 153008, 149746, 153061, 130998, 153084, 153103, 153180, 145877, 153192, 151406, 153214, 153225, 153239, 153270, 153300, 134880, 153398, 153453, 153403, 153471, 153474, 153494, 153508, 151921, 153519, 152919, 153304, 153526, 153550, 151433, 153551, 153606, 153433, 153667, 153668, 153675, 152520, 153697, 153426, 153698, 131909, 144158, 153715, 123222, 153720, 137816, 153745, 153776, 153781, 153850, 153886, 152642, 153928, 153963, 153994, 153953, 154035, 152559, 154058, 153798, 154076, 154052, 154090, 154129, 150646, 154157, 137074, 154118, 154167, 126553, 154221, 154222, 154263, 142938, 154312, 144512, 154328, 149950, 154348, 154357, 154432, 154428, 154435, 154452, 154454, 151415, 154556, 154406, 154658, 154750, 154751, 154784, 154842, 154881, 150020, 154898, 154906, 154939, 154963, 154969, 152506, 154993, 154994, 155000, 139337, 155010, 154723, 155012, 155046, 150026, 155051, 152251, 155058, 104783, 151872, 155075, 155100, 152525, 154949, 155110, 155161, 155164, 154264, 155236, 155273, 155285, 155301, 154857, 155325, 127368, 155409, 154627, 155421, 155449, 152696, 155475, 122474, 155495, 155505, 155534, 155488, 155550, 153973, 155565, 149231, 154431, 155615, 155671, 122043, 155673, 155701, 154756, 155742, 155753, 144919, 155771, 125672, 155801, 155809, 155813, 155826, 130086, 155835, 154585, 155880, 155221, 155918, 150701, 155950, 149313, 156050, 156058, 156072, 155744, 156087, 156089, 136884, 156186, 152825, 156272, 156297, 156332, 153659, 156335, 156352, 153876, 156362, 156365, 156007, 156374, 150223, 156417, 156418, 156423, 156506, 156505, 156507, 155084, 156550, 156273, 156552, 156426, 156579, 156428, 156582, 156598, 156655, 150765, 156656, 156695, 155559, 156698, 156811, 131598, 156818, 155677, 156625, 156864, 156324, 156966, 140902, 157003, 156961, 157014, 157018, 149183, 157025, 157038, 157042, 157051, 156612, 157207, 157265, 68871, 157274, 156408, 157305, 156524, 156042, 157316, 157315, 157361, 156096, 157363, 157367, 157371, 143969, 157381, 153098, 157426, 152760, 157516, 157522, 157523, 157536, 157266, 157542, 157611, 157646, 155528, 157661, 157454, 157671, 151561, 157675, 157278, 157696, 157695, 157697, 157718, 157292, 157720, 157090, 157731, 157734, 146623, 157750, 138308, 157847, 157880, 157887, 157896, 157906, 156105, 157915, 157457, 157923, 152395, 157933, 157674, 158102, 157787, 158138, 158266, 158265, 158325, 157450, 158328, 158342, 158349, 157965, 158397, 156893, 158401, 142598, 158409, 158419, 158435, 158459, 158421, 158468, 156728, 158476, 156450, 158479, 156496, 158490, 144011, 158508, 158520, 158081, 158533, 158537, 158572, 158573, 113378, 158576, 92334, 158582, 157667, 158584, 158602, 158605, 158613, 158616, 148296, 158617, 158637, 138686, 158638, 157377, 158639, 158719, 127565, 158725, 158726, 158727, 158737, 158634, 158738, 135792, 158770, 158589, 158795, 158799, 158819, 158860, 158551, 158868, 154002, 158942, 158945, 158956, 157827, 158960, 158965, 157898, 158982, 156351, 159002, 157128, 159009, 153417, 159010, 159040, 158760, 159047, 155233, 159070, 159108, 158811, 159109, 159001, 159143, 159162, 159169, 159170, 159224, 159136, 159228, 158927, 159245, 159277, 156990, 159288, 159294, 148899, 159327, 149398, 159342, 156941, 159347, 157560, 159369, 159379, 158735, 159390, 159393, 159396, 159252, 159403, 159406, 159268, 159417, 154000, 159489, 159439, 159490, 159022, 159517, 159515, 159526, 156209, 159536, 159554, 159559, 159144, 159206, 157326, 159593, 152010, 159602, 159601, 159603, 159608, 159418, 159311, 159646, 159649, 159683, 159745, 159764, 159780, 159776, 159784, 159813, 159828, 159857, 159867, 159872, 159884, 159282, 159905, 159902, 159932, 155095, 159956, 158422, 159964, 159983, 159984, 144615, 159987, 159995, 149347, 160004, 159887, 160014, 153947, 160036, 160041, 160054, 155969, 160088, 158380, 160099, 159258, 160115, 160130, 160158, 159542, 160217, 160240, 160243, 160098, 160263, 160186, 160264, 160138, 160273, 160293, 128915, 160297, 160317, 160092, 160318, 160327, 160355, 160256, 160366, 160431, 160461, 160464, 160466, 152466, 160509, 156713, 160524, 160533, 137962, 160569, 160575, 160583, 160593, 160592, 160606, 160624, 160634, 160719, 160714, 160733, 160761, 160785, 152165, 160790, 159207, 160807, 160814, 158103, 160834, 160836, 160840, 122575, 160854, 160858, 160436, 160863, 160756, 160865, 160826, 160878, 160889, 156611, 160895, 160896, 160909, 160941, 159845, 160991, 161009, 158756, 161014, 160754, 161033, 161042, 161056, 160956, 161064, 160691, 161134, 161159, 161167, 161192, 161090, 161222, 161272, 161273, 156889, 161279, 161289, 161299, 161302, 161372, 161387, 161248, 161390, 161414, 161415, 161461, 161511, 161536, 158527, 161539, 160439, 161613, 160298, 161615, 160516, 161669, 161735, 157383, 161744, 161786, 160955, 161798, 161806, 161808, 161823, 161841, 161855, 161866, 161904, 161760, 161909, 161926, 161751, 161937, 159264, 161957, 159538, 161958, 161962, 161994, 161193, 161995, 161996, 161998, 162035, 162058, 162067, 161893, 162085, 161968, 162092, 162100, 162110, 162119, 160990, 162124, 152718, 162130, 162131, 162177, 161832, 162184, 162216, 162046, 162223, 129958, 162225, 162227, 141397, 162246, 162254, 162325, 162101, 162335, 162338, 162339, 162343, 162352, 162363, 162291, 162368, 156012, 162379, 162390, 162394, 162174, 162443, 162444, 162446, 160927, 162482, 162483, 162531, 162513, 162532, 162535, 162558, 161074, 162566, 162584, 162452, 162614, 162641, 162647, 150540, 162658, 162656, 162674, 162687, 162717, 161960, 162719, 162214, 162723, 162734, 162778, 162550, 162789, 162465, 162816, 162797, 162825, 162827, 162809, 162831, 162833, 162857, 162877, 162893, 157948, 162894, 162925, 162946, 162834, 162950, 162965, 162133, 162995, 162999, 163000, 163020, 163021, 157161, 163031, 163032, 163038, 163048, 163054, 163056, 163053, 163064, 163097, 163116, 163149, 162907, 163162, 163167, 162892, 163185, 161053, 163196, 163203, 163241, 163262, 163264, 163284, 163306, 163319, 163324, 163329, 158077, 163351, 163354, 163128, 163383, 163389, 163403, 163161, 163404, 163420, 163317, 163433, 163263, 163501, 161406, 163655, 157243, 163671, 149755, 163797, 163816, 163808, 163830, 163850, 163113, 163853, 163860, 163925, 163973, 163974, 163976, 122953, 163984, 163983, 161396, 163989, 148754, 163993, 154425, 163996, 164013, 164012, 164048, 163238, 164064, 162097, 164067, 164071, 164017, 164085, 163215, 164092, 163703, 148863, 164136, 164145, 152605, 159502, 164199, 158823, 164212, 164218, 164249, 164250, 163211, 164254, 164259, 164264, 164275, 164317, 164327, 164339, 164370, 164374, 164391, 164420, 164457, 164287, 164461, 162947, 164468, 122707, 164478, 164503, 164507, 164527, 164542, 164205, 164545, 161898, 164549, 154894, 164580, 164595, 164642, 164649, 163981, 164654, 164672, 158740, 164703, 160846, 164705, 164690, 164708, 164713, 164717, 164202, 164721, 162451, 164734, 164735, 164753, 163469, 164754, 164761, 164414, 164765, 151232, 164822, 164856, 150136, 164878, 163025, 164883, 164888, 164896, 164771, 164901, 164763, 164927, 164923, 164929, 165085, 165115, 164395, 165150, 165201, 165205, 165294, 163434, 165296, 164615, 165327, 165401, 165440, 165169, 165496, 165547, 163564, 165595, 155787, 165658, 164890, 165754, 165798, 165796, 165812, 165529, 165813, 165814, 165843, 165347, 165932, 165905, 165954, 165970, 165990, 165998, 164960, 166007, 166026, 166062, 152650, 166136, 166191, 166210, 165774, 166219, 166218, 166220, 166227, 166229, 166237, 156031, 166267, 162198, 166281, 166286, 166299, 165204, 166314, 165747, 162077, 166343, 166332, 166355, 165869, 166363, 166387, 166467, 118791, 166468, 166513, 164913, 166534, 166318, 166577, 166580, 166582, 166661, 166666, 166691, 161723, 166708, 158703, 157358, 166725, 166735, 166768, 166770, 150295, 166854, 166899, 166947, 166957, 166959, 166966, 166922, 166995, 151973, 167038, 166982, 167068, 167118, 167131, 160595, 167149, 167182, 162927, 167183, 167190, 167139, 167201, 167215, 162499, 167251, 167253, 167191, 167255, 166703, 167261, 167239, 167268, 167240, 167269, 167274, 167273, 158750, 164591, 167358, 167494, 167478, 167580, 167579, 167588, 145775, 167605, 167563, 167617, 167668, 124943, 167670, 166825, 167697, 167699, 167707, 167722, 167775, 167850, 167882, 167888, 167903, 153375, 167905, 167915, 153269, 167943, 166092, 167976, 167977, 167985, 167027, 168017, 168065, 168082, 168094, 167422, 168115, 167158, 168117, 135476, 168130, 168147, 159004, 168158, 168176, 166868, 168210, 168261, 168301, 168309, 165999, 168311, 122621, 168344, 140766, 168356, 165567, 168364, 168392, 168410, 156907, 168429, 127117, 168470, 168565, 168587, 168614, 166849, 168636, 168214, 168641, 168645, 168713, 156369, 168063, 168758, 168757, 168764, 124804, 168777, 168784, 168787, 168190, 168797, 168841, 168880, 168941, 160766, 168988, 167783, 169008, 155329, 169093, 169120, 169046, 169142, 168590, 169247, 168672, 166803, 169294, 169378, 167978, 169434, 168407, 169462, 169499, 157706, 169525, 159093, 169536, 169570, 168889, 169588, 163022, 169596, 169619, 167770, 169621, 169627, 169643, 169654, 169661, 169584, 169721, 169758, 169840, 169843, 167784, 169857, 169882, 169916, 169920, 159576, 169927, 169994, 169992, 170012, 170020, 168250, 170026, 170094, 170101, 170122, 170025, 170123, 170148, 170183, 170206, 170209, 164208, 170223, 170228, 170235, 167837, 170285, 170290, 170337, 170353, 170366, 170365, 170414, 164969, 170422, 169803, 170426, 170437, 170442, 170468, 170476, 170492, 169010, 170513, 167019, 170527, 170047, 170568, 169538, 170606, 170624, 166047, 170627, 170376, 170691, 170701, 170822, 169402, 170843, 170869, 169856, 170873, 170886, 170909, 170323, 170925, 170948, 170487, 171082, 171109, 170095, 171146, 171192, 171215, 171268, 171177, 171411, 171421, 171323, 171452, 170302, 171505, 171339, 171547, 150699, 171607, 171609, 171651, 171660, 171278, 171668, 170402, 171676, 171693, 170615, 171695, 169352, 171756, 171186, 171758, 144758, 171768, 171846, 171850, 118158, 171852, 171882, 171728, 171896, 171899, 171902, 164429, 171903, 171916, 171944, 171954, 171694, 171962, 171968, 150517, 171975, 171704, 172011, 172018, 172099, 160332, 172104, 172124, 171914, 172152, 172169, 172208, 172220, 172264, 171123, 172411, 172435, 172469, 172437, 172470, 172479, 172439, 172485, 172510, 172237, 172537, 158722, 172562, 172588, 172436, 172605, 172609, 172623, 172630, 172650, 172652, 172659, 172669, 172680, 172682, 172706, 172734, 172757, 172760, 172786, 172050, 172796, 172816, 172825, 172513, 172838, 172862, 172672, 172878, 172914, 172948, 173004, 171316, 173051, 169363, 173067, 172631, 173096, 166328, 173106, 172691, 173162, 172773, 173166, 173217, 173218, 173221, 170814, 173288, 173290, 173298, 173328, 172745, 173409, 173418, 173419, 173450, 173382, 173459, 173460, 173490, 173503, 173514, 172103, 173524, 173677, 173902, 159079, 173911, 148004, 173930, 173944, 164941, 173956, 162530, 173988, 173992, 173995, 174004, 174003, 174035, 174027, 174037, 174080, 174136, 163593, 174189, 174208, 174216, 174238, 174267, 174283, 174304, 168442, 174352, 174365, 174370, 174383, 174405, 174424, 174429, 174457, 174512, 174524, 170935, 174533, 174534, 174602, 173824, 174607, 170490, 174652, 174687, 144970, 174856, 174948, 174694, 174951, 174967, 172777, 174979, 174982, 174981, 175037, 175071, 175076, 175095, 174412, 175174, 175224, 169309, 175251, 173517, 175305, 175297, 175326, 166924, 175384, 166367, 175389, 175265, 175610, 174887, 175659, 171761, 175661, 175637, 175679, 175660, 175730, 175775, 175051, 175778, 175786, 175797, 175808, 175815, 175907, 175132, 175984, 175760, 175988, 155207, 175993, 176014, 176029, 176038, 175959, 176044, 168012, 174201, 176110, 176042, 176147, 176172, 164679, 176187, 176188, 176215, 176269, 175839, 176360, 166904, 176380, 176403, 176438, 176451, 168285, 176464, 171714, 176534, 176545, 176563, 176572, 176337, 176577, 176616, 176684, 175387, 176695, 172110, 176715, 176737, 176743, 162625, 176789, 174165, 176815, 171275, 176828, 170341, 176846, 156876, 176871, 176881, 176884, 176890, 176895, 176887, 176958, 176979, 169336, 176981, 177019, 176931, 177025, 177075, 145894, 177091, 176074, 177092, 177149, 171197, 177167, 177174, 177177, 175934, 177184, 177172, 177200, 177231, 177267, 177268, 177272, 177277, 177294, 176827, 177300, 177302, 177316, 177355, 177359, 177361, 177364, 176141, 177365, 177369, 176115, 177403, 176396, 177405, 173203, 177419, 177422, 176785, 177423, 177450, 176793, 177544, 177617, 153286, 177625, 176292, 177627, 177643, 174191, 177682, 177763, 169731, 177766, 168225, 177774, 177299, 177776, 177785, 177801, 177857, 177862, 177892, 177895, 176070, 177914, 177915, 177921, 177933, 177947, 177956, 177963, 169424, 178038, 178042, 166236, 178088, 178113, 177389, 178118, 175092, 178127, 173266, 178187, 138602, 178212, 178198, 178215, 178174, 178309, 178329, 172080, 178338, 174055, 178370, 178371, 178408, 175769, 178504, 171237, 178521, 178520, 178554, 176798, 178486, 178566, 178579, 178583, 175991, 178589, 178606, 178580, 178612, 178621, 178622, 178633, 178440, 178640, 178652, 177425, 178672, 158575, 178727, 178813, 178829, 178919, 178935, 178922, 178957, 178964, 178996, 178986, 179004, 179028, 179074, 179098, 179129, 174259, 179211, 171656, 179250, 179254, 157780, 179376, 179404, 179362, 179415, 177295, 179437, 179275, 179491, 176776, 179497, 179635, 179724, 179655, 179725, 179728, 179711, 179748, 179072, 179765, 179666, 179781, 179761, 179788, 179796, 179951, 146416, 179969, 179968, 179985, 180035, 179051, 180040, 180039, 180041, 179933, 180089, 180164, 180166, 179927, 180186, 180191, 175034, 180217, 180225, 176806, 180298, 130383, 180313, 177573, 180318, 180330, 180140, 180370, 180371, 180382, 180388, 180408, 160729, 180470, 180525, 180573, 179286, 180647, 168138, 180674, 161652, 180683, 180691, 180730, 180738, 180744, 180773, 180044, 180872, 180876, 180125, 180901, 180857, 180960, 180957, 180962, 181004, 181016, 181110, 181131, 181155, 175785, 181208, 181233, 181269, 181183, 181332, 178673, 181333, 181253, 181372, 181409, 178439, 181436, 177477, 181394, 181470, 181478, 181460, 181479, 181501, 179284, 181582, 180404, 181583, 181124, 181618, 181546, 181621, 181666, 181701, 181671, 181711, 181736, 181754, 181779, 179855, 181785, 181803, 181857, 181921, 181480, 181942, 181943, 181806, 181956, 181961, 182000, 180699, 182020, 182023, 182021, 182043, 181936, 182069, 182070, 182090, 177222, 182106, 182095, 182123, 182127, 181752, 156094, 182189, 182194, 182221, 182279, 181864, 182334, 182422, 181390, 182423, 181730, 182424, 182431, 182436, 182451, 182035, 182430, 182518, 181248, 182542, 180241, 182543, 182544, 182603, 162645, 182623, 182640, 182625, 182647, 182643, 182666, 182667, 182559, 182671, 182504, 182674, 182731, 182737, 182545, 182738, 182746, 182765, 182769, 182677, 182771, 182780, 182814, 182783, 181294, 182843, 182864, 182739, 182875, 182898, 182660, 182916, 182915, 182939, 182943, 180222, 182953, 182952, 182954, 182955, 182981, 182994, 183010, 183013, 183037, 183084, 183089, 183092, 183123, 183132, 183133, 183154, 183174, 183183, 183191, 183216, 181177, 183248, 183246, 183272, 183279, 183302, 173147, 183309, 183103, 183310, 183312, 183338, 183368, 179421, 183392, 183394, 180295, 183436, 181349, 183525, 183582, 183515, 183625, 183607, 183690, 183726, 178144, 183729, 183463, 176963, 183746, 183775, 167055, 183790, 183796, 183801, 183741, 183808, 174274, 183841, 181796, 183860, 183868, 183785, 183878, 183595, 183889, 183898, 140167, 183940, 183966, 183987, 183952, 184008, 183999, 184009, 184101, 180980, 184106, 183199, 184115, 184159, 178584, 184173, 184189, 184116, 184195, 183969, 184212, 184247, 184337, 184360, 184363, 184066, 184390, 184439, 184376, 184444, 183493, 184127, 184486, 184482, 184496, 184504, 184508, 181807, 184511, 184516, 184518, 184464, 184520, 184554, 184558, 184575, 184672, 180366, 184704, 144886, 184771, 184061, 184800, 184841, 184700, 184857, 184866, 184843, 184892, 184898, 184934, 184951, 184950, 184957, 183640, 184981, 184986, 185026, 184974, 185029, 133234, 185046, 183696, 185063, 184921, 154880, 185100, 185118, 185120, 183823, 185163, 185223, 183378, 185230, 185264, 184971, 185313, 154991, 185330, 185329, 185357, 182808, 185364, 185371, 184854, 185383, 185382, 185390, 185396, 185399, 185432, 167927, 185455, 185032, 185461, 180484, 185513, 185531, 183816, 185576, 185444, 185608, 184367, 185655, 183067, 185656, 185666, 179020, 185692, 185728, 183138, 185745, 185743, 185750, 185767, 185800, 185346, 185858, 184047, 185860, 184120, 185862, 185467, 185865, 177027, 185872, 185051, 185916, 185918, 185929, 185933, 185911, 185962, 185979, 185172, 186055, 152334, 186056, 160409, 186083, 186110, 186122, 186129, 183955, 186130, 186136, 174450, 186149, 186162, 186174, 186047, 186185, 186186, 186187, 186212, 186086, 186222, 186229, 186254, 186279, 186233, 186298, 186280, 186328, 182061, 186352, 185464, 186362, 186359, 186403, 186420, 186385, 186422, 175821, 186430, 186442, 186469, 186483, 186472, 186486, 186297, 186497, 184183, 186504, 186511, 186547, 186555, 182606, 186556, 186613, 183357, 186631, 186630, 186667, 186669, 177678, 186696, 186740, 186782, 186862, 186872, 186909, 186913, 186931, 186482, 184565, 186993, 187030, 187032, 186893, 187045, 187079, 187090, 181075, 187170, 187255, 187262, 187274, 187294, 187341, 187358, 187362, 187413, 187361, 187415, 187471, 187470, 187507, 187323, 187531, 187060, 187536, 187537, 187540, 187575, 187617, 187618, 187626, 179892, 187633, 187641, 178299, 187645, 187658, 181182, 187702, 187724, 187765, 187801, 187824, 183756, 187834, 187835, 187867, 181290, 187910, 187920, 187942, 185458, 187971, 178317, 187977, 184717, 188042, 188062, 188108, 186523, 188246, 188059, 188277, 188275, 188290, 188301, 176617, 188312, 188334, 188381, 188325, 188383, 188392, 188405, 187466, 188407, 188362, 188413, 188363, 188419, 183456, 188437, 188443, 188472, 177688, 188476, 188496, 186290, 188499, 188522, 188369, 188535, 188534, 188574, 188586, 188585, 188599, 188628, 188629, 188673, 187120, 188680, 188697, 188701, 188709, 188731, 188750, 188772, 188778, 188796, 188802, 188827, 188881, 188952, 183173, 188968, 189006, 189021, 186349, 189035, 188518, 189042, 186811, 189067, 189093, 189095, 189122, 189173, 189177, 189181, 189188, 189198, 189221, 185548, 189237, 189280, 177426, 189283, 189328, 185870, 189338, 189427, 188347, 189441, 189447, 187950, 189474, 189530, 185074, 189539, 189551, 189573, 189588, 189641, 189640, 189655, 189400, 189681, 187330, 189682, 161435, 189689, 186813, 189728, 189762, 179100, 189763, 179542, 189764, 187066, 189806, 189855, 188082, 189864, 189871, 177707, 189893, 189932, 189945, 189953, 189954, 189686, 189966, 189974, 189975, 189978, 190034, 190040, 184595, 190041, 190062, 189675, 190089, 186606, 190103, 189604, 190112, 190118, 186101, 190126, 190138, 190101, 190180, 189332, 190221, 190261, 190268, 190270, 190302, 190354, 190356, 190370, 187044, 190371, 190428, 190440, 190459, 190553, 187677, 190573, 187520, 190577, 190492, 190619, 190655, 190654, 190657, 185685, 190667, 190678, 190679, 190711, 190728, 190798, 188999, 190803, 189307, 190836, 190900, 190937, 190936, 190944, 189837, 190960, 163256, 191073, 190895, 191074, 191093, 190997, 191126, 189887, 191139, 191142, 191159, 191173, 191191, 191192, 189782, 189625, 191199, 191217, 187004, 191257, 191276, 191175, 177607, 191328, 191184, 191377, 191395, 191421, 191433, 191117, 191454, 191220, 191470, 191383, 191494, 191065, 191502, 188809, 191505, 191594, 187289, 191620, 190119, 191647, 191682, 191710, 188320, 191711, 191781, 191784, 191794, 191813, 191822, 191687, 191942, 191973, 191999, 191701, 192027, 192026, 192088, 192091, 191968, 192116, 192185, 192199, 192161, 192222, 191270, 192223, 192232, 191993, 192273, 191873, 192300, 190024, 192337, 191601, 192349, 192365, 192391, 192045, 192397, 192412, 192415, 192420, 192432, 192447, 192492, 192504, 192506, 192509, 192518, 186327, 192521, 191912, 192523, 192572, 176399, 192587, 192617, 192620, 177460, 192649, 192678, 192699, 192646, 192736, 191947, 192753, 192342, 192788, 189948, 192801, 192530, 192813, 192208, 192826, 191029, 192849, 192526, 192871, 192881, 187484, 192885, 192892, 192900, 192932, 192928, 192944, 192953, 192963, 192941, 192969, 192973, 192974, 192978, 192930, 192993, 193001, 193006, 193015, 193019, 193020, 193032, 192996, 193038, 193043, 193044, 193048, 193051, 193068, 193070, 193079, 192246, 193080, 193069, 193085, 193086, 193092, 193094, 193104, 192387, 193106, 192022, 193117, 193121, 193126, 193108, 193133, 179981, 193136, 193170, 193176, 193184, 193189, 193159, 193190, 193161, 193208, 192543, 193210, 193299, 193321, 193322, 193327, 193354, 193362, 186474, 193364, 193383, 193388, 193409, 193408, 193410, 193411, 193412, 186203, 193439, 193444, 193443, 193464, 190970, 193502, 192480, 193516, 193523, 193340, 193533, 193541, 193554, 193559, 193575, 193568, 193577, 193580, 193607, 193610, 193637, 193660, 193665, 193679, 193674, 193680, 193682, 193696, 193698, 193701, 193700, 193704, 193717, 191658, 193719, 193480, 193721, 193728, 193619, 193732, 193737, 193784, 189541, 193800, 193089, 193801, 183001, 193817, 193819, 193824, 193830, 193858, 193861, 193645, 193880, 193895, 193900, 193910, 193941, 193961, 193983, 193995, 194001, 194004, 194026, 194035, 192334, 194075, 194079, 194159, 194135, 194191, 194194, 193296, 194212, 194211, 194217, 194248, 194040, 194249, 194255, 194260, 194269, 194262, 194273, 193740, 194295, 194320, 193875, 194321, 194352, 194355, 193926, 194366, 194367, 193609, 194386, 194391, 194395, 194400, 192177, 194402, 194416, 194318, 194454, 194455, 193456, 194464, 169706, 194467, 194470, 194476, 194489, 194225, 194490, 194492, 191606, 194496, 194519, 193422, 194554, 143766, 194558, 194566, 194565, 194567, 194588, 194589, 194600, 193305, 194603, 194647, 194198, 194666, 194612, 194672, 194728, 194751, 192955, 194755, 194756, 192765, 194761, 194762, 194779, 194488, 194802, 194818, 194819, 194824, 194843, 142832, 194850, 194854, 194853, 194861, 194863, 194869, 194888, 192633, 194901, 194909, 194932, 194957, 194964, 194962, 194975, 193954, 194984, 194985, 195035, 195036, 195038, 192295, 195065, 193862, 195072, 195073, 195077, 195089, 195093, 195098, 195104, 195111, 190967, 195116, 195119, 195140, 195151, 193261, 195160, 195153, 195169, 194394, 195181, 195198, 195205, 195208, 195210, 195227, 195248, 195258, 193632, 195269, 195272, 195273, 195299, 195312, 184901, 195313, 195317, 195322, 195328, 195329, 194013, 195332, 195333, 195335, 195347, 195348, 195349, 195351, 195352, 195353, 195355, 195364, 195390, 195404, 195424, 195427, 195429, 195432, 184499, 195452, 195453, 195451, 195476, 195483, 195484, 195499, 195509, 193271, 195518, 195522, 195534, 195541, 195556, 193017, 195558, 195564, 192310, 195566, 195567, 195593, 195145, 195654, 195656, 195671, 195675, 195676, 195677, 195679, 195701, 190096, 195727, 168973, 195746, 195767, 192723, 195778, 195800, 195801, 195807, 195835, 195461, 195842, 195854, 195003, 195889, 193242, 195890, 195891, 195895, 194696, 195922, 194196, 195935, 195959, 195357, 195981, 196006, 196015, 196019, 196023, 196038, 195359, 196040, 184669, 196049, 193826, 196059, 196068, 196073, 196079, 196082, 195921, 195850, 196098, 196065, 196099, 196129, 196150, 196154, 194500, 196168, 196176, 196195, 196205, 170434, 196207, 196273, 193022, 196317, 196326, 196332, 196347, 196093, 196359, 193188, 196365, 195275, 196383, 194780, 188065, 196464, 194094, 196535, 196521, 196540, 196541, 187844, 196550, 196552, 196318, 196557, 196559, 196568, 196208, 196608, 180972, 196611, 196627, 196631, 196700, 196715, 196716, 196725, 196735, 196775, 193263, 196796, 140472, 196808, 196126, 196815, 196827, 196143, 196828, 196838, 161035, 196845, 163878, 196858, 193045, 196862, 191517, 196880, 196792, 196892, 196896, 196898, 196904, 196903, 196924, 181651, 196976, 196984, 186864, 196996, 197001, 197034, 197055, 191770, 197056, 196734, 197081, 192610, 197083, 197082, 197100, 197114, 197112, 197121, 197128, 197130, 197154, 197146, 197182, 197185, 197197, 197224, 197231, 196506, 197237, 197238, 197255, 197259, 197274, 126170, 197293, 186213, 197301, 172534, 197323, 196272, 197365, 197288, 197460, 197490, 197492, 197491, 197606, 197635, 197636, 197648, 197682, 197689, 197651, 197717, 197723, 197752, 179621, 197755, 197785, 197787, 197790, 197798, 197824, 197827, 197653, 197835, 197841, 136214, 197863, 192884, 197881, 197898, 193953, 197950, 192164, 197979, 198024, 198030, 198043, 198077, 198150, 198157, 196909, 198163, 197715, 198190, 198298, 198323, 198324, 198328, 198225, 198360, 195642, 198406, 198415, 198438, 198499, 198506, 198521, 198037, 198554, 198569, 198582, 186084, 198607, 197510, 198635, 198640, 198669, 198701, 198721, 198724, 198679, 198726, 198741, 198865, 198928, 198939, 198972, 199002, 193661, 199019, 199100, 199109, 195384, 199120, 197378, 199178, 199179, 199201, 199186, 199206, 199205, 199208, 199235, 197770, 199243, 197826, 199252, 199284, 199285, 199294, 197605, 199326, 199337, 199308, 199339, 199356, 189306, 199388, 199409, 199428, 199426, 199433, 199447, 199483, 199484, 197994, 183317, 199606, 199609, 199623, 194123, 199636, 199666, 199671, 199674, 199703, 199753, 199759, 199768, 199791, 199926, 199937, 189385, 199943, 199957, 199103, 200057, 200064, 200094, 200059, 200108, 198156, 200110, 200158, 200184, 199325, 200225, 200179, 200262, 200265, 200315, 200333, 200440, 200452, 200453, 200256, 200457, 195667, 200531, 200534, 200551, 200548, 200574, 200585, 200590, 200603, 200609, 200608, 200652, 200718, 200697, 200719, 200723, 200741, 200759, 200763, 200280, 200767, 200820, 199450, 187195, 200918, 200964, 200972, 200975, 201021, 201040, 201069, 201075, 201076, 201077, 201078, 201079, 201081, 201084, 201086, 201114, 201136, 201206, 200744, 201266, 201323, 201331, 201379, 201467, 201518, 201523, 201554, 201134, 201587, 195096, 185018, 201617, 201646, 201568, 201710, 201716, 201760, 201845, 201722, 201897, 201914, 201928, 201947, 201955, 201922, 202048, 182911, 202095, 202101, 202109, 201465, 202214, 202224, 202219, 202229, 202274, 202334, 193441, 202353, 201519, 202376, 201843, 202399, 202406, 202413, 202414, 201209, 202448, 200507, 202461, 200469, 202497, 202508, 202436, 202522, 202542, 188933, 202576, 202585, 202588, 202589, 202594, 202597, 202492, 202599, 202603, 202267, 202630, 202674, 202686, 202700, 202731, 202518, 202714, 202761, 202774, 202787, 202792, 202816, 202817, 202829, 202837, 202858, 202899, 202907, 202863, 202934, 202972, 187469, 203077, 203099, 203181, 203185, 203186, 203189, 203202, 203225, 203197, 203228, 203250, 203251, 203263, 203268, 203286, 203290, 203301, 203302, 203318, 203417, 203424, 203464, 203493, 202813, 203505, 203511, 202692, 203534, 202734, 203555, 203564, 202996, 203586, 191874, 203639, 202977, 203667, 203663, 203686, 203725, 202649, 203726, 203728, 202439, 203382, 203790, 202526, 203805, 196293, 203815, 202836, 203841, 203848, 203852, 203860, 199651, 203873, 203908, 203923, 203924, 203955, 203992, 204002, 204064, 203540, 204080, 204095, 203144, 204098, 204117, 195388, 204138, 204182, 203994, 204203, 204222, 204230, 204233, 204243, 203384, 204244, 179243, 204256, 201057, 204272, 199744, 204293, 204316, 196276, 204317, 204333, 204354, 204359, 204350, 204363, 204377, 204384, 204395, 204397, 204400, 204401, 204407, 204457, 204406, 204464, 204466, 202913, 204468, 204432, 204489, 204499, 199354, 204500, 204503, 204502, 204537, 204575, 204579, 204604, 204609, 204622, 199861, 204651, 199233, 204668, 204700, 204706, 204721, 202189, 204740, 204751, 203610, 204759, 204764, 204274, 204327, 204810, 204824, 204849, 204890, 204899, 204929, 194758, 204936, 204937, 204947, 204971, 204982, 205034, 202238, 205060, 205082, 205088, 201614, 205106, 204963, 205116, 205126, 202911, 205165, 199551, 205168, 197024, 205233, 205246, 205217, 205260, 205265, 202639, 205290, 205291, 205337, 205387, 204781, 205404, 205407, 205423, 205425, 205437, 205451, 205457, 203190, 205465, 205501, 205538, 205556, 205561, 205580, 195156, 205598, 205624, 205628, 205635, 205611, 205642, 205661, 205663, 205664, 205680, 205688, 203227, 205706, 200343, 205747, 205019, 205916, 205934, 205949, 206016, 204988, 206068, 188662, 206132, 205653, 206176, 206178, 206179, 195267, 206185, 206192, 206204, 187529, 206205, 205542, 206211, 206268, 206153, 206291, 206294, 206307, 206336, 206339, 206343, 206345, 192339, 206347, 206285, 206368, 206358, 206371, 205786, 206406, 204110, 206452, 206468, 206425, 206485, 206534, 206467, 206535, 206541, 206590, 202800, 206612, 206657, 206696, 205820, 206706, 177991, 206733, 206620, 206743, 206749, 206771, 205487, 206780, 206807, 206880, 200512, 206889, 206862, 206893, 206894, 206895, 206904, 190269, 206906, 206910, 206914, 206849, 206924, 206929, 206994, 204603, 206995, 206958, 207006, 207008, 207064, 207134, 207205, 207214, 206461, 207222, 204525, 207263, 207264, 207313, 207314, 207368, 207370, 207391, 207478, 207498, 204242, 207535, 207539, 207215, 207551, 207604, 195055, 207610, 207456, 207631, 207035, 207632, 207648, 207678, 207563, 207701, 207690, 207722, 206127, 207757, 207783, 207797, 199013, 207828, 201380, 207837, 207848, 203588, 207849, 207873, 201598, 207894, 207927, 207718, 207940, 206826, 208116, 204788, 208122, 207476, 208137, 207883, 208220, 208236, 208184, 208243, 208234, 208260, 208261, 208262, 208263, 208277, 208298, 208308, 200506, 208325, 208357, 208362, 208388, 208428, 206401, 208480, 192710, 187703, 208497, 207180, 208511, 207948, 208579, 201450, 208580, 208578, 208587, 208588, 208589, 195720, 202335, 208746, 205405, 208760, 208770, 208613, 208773, 208807, 208739, 208623, 208845, 186541, 208876, 205267, 208882, 205597, 209052, 208564, 209077, 209079, 208950, 209095, 209087, 209118, 209242, 209260, 208361, 209270, 209271, 209128, 209299, 209143, 209303, 209295, 209304, 207419, 209334, 208322, 209348, 209359, 209333, 209390, 155903, 209400, 209420, 209422, 209426, 209424, 209430, 209431, 209444, 208369, 209449, 209459, 209466, 209496, 209536, 209539, 209542, 209650, 209655, 209657, 209704, 209710, 208709, 209749, 209677, 209777, 209629, 209796, 209809, 209806, 209810, 209792, 209841, 209785, 209842, 209868, 209878, 209879, 209903, 209904, 209913, 209944, 209201, 209980, 209886, 209981, 210009, 210013, 210022, 210024, 210043, 209670, 210044, 210070, 210112, 210146, 210152, 210156, 209834, 210170, 210173, 210201, 210211, 210206, 210217, 210234, 210236, 208690, 210237, 207019, 210245, 210260, 205223, 210261, 210277, 210176, 210280, 210285, 210287, 208774, 210288, 210305, 210311, 210058, 210504, 210547, 183779, 210550, 209675, 210561, 210514, 210610, 210622, 210631, 210655, 210635, 210656, 210659, 210660, 210675, 210122, 210690, 210509, 210693, 210707, 203843, 210713, 205591, 210733, 210744, 210756, 206111, 210757, 210761, 210767, 210572, 210780, 210800, 210873, 210875, 210876, 210885, 210741, 210893, 209652, 210924, 210932, 210952, 210953, 210358, 210970, 210306, 210974, 210976, 210616, 210986, 210997, 211003, 211013, 211048, 211002, 211067, 210991, 211085, 210909, 211116, 205356, 211159, 211161, 211172, 211228, 197930, 211232, 180229, 211256, 211094, 211276, 149833, 211278, 211291, 211292, 211293, 211311, 211342, 211061, 211344, 211350, 193837, 211363, 211407, 211420, 211436, 211366, 211442, 211449, 211448, 211455, 211454, 211456, 211457, 211459, 211460, 211467, 211569, 211594, 211599, 211591, 211600, 211604, 211616, 211630, 210847, 211655, 211669, 211671, 199475, 211701, 209691, 211762, 211770, 211773, 211733, 211790, 211818, 211822, 211744, 211833, 211838, 211806, 211848, 211866, 211876, 211874, 211909, 211910, 132922, 211950, 211955, 211965, 211968, 204896, 211985, 211294, 211999, 211962, 212046, 212024, 212061, 211840, 212074, 212078, 212093, 212178, 212187, 205541, 212207, 212231, 212249, 212242, 212273, 212237, 212283, 212317, 212359, 212278, 212405, 212419, 212447, 212073, 209483, 212467, 212468, 205617, 212469, 212470, 212471, 212472, 205352, 212474, 210901, 212475, 212477, 212519, 212527, 207618, 212529, 212543, 211815, 212546, 212413, 212572, 211792, 212574, 212575, 211759, 212606, 212610, 212633, 212636, 209546, 212659, 212708, 203527, 212734, 212740, 212744, 212751, 127881, 212753, 212786, 212799, 212823, 212847, 212854, 196889, 212860, 212882, 212909, 212927, 212931, 212937, 212976, 211998, 212977, 212938, 208605, 212979, 211588, 213014, 213058, 213062, 213071, 213074, 213110, 209731, 213117, 212352, 213123, 212971, 213127, 213143, 213165, 213191, 213192, 213208, 213222, 213241, 213262, 213268, 211695, 213281, 213210, 213286, 213299, 213309, 213305, 213310, 213311, 213316, 213318, 212891, 213319, 213320, 213321, 213341, 204705, 213342, 213343, 205644, 213348, 213352, 213351, 213353, 213367, 213370, 166988, 213373, 213372, 213374, 213376, 213379, 213381, 207569, 213382, 213390, 213393, 213396, 213401, 213409, 207750, 213412, 201257, 213415, 213419, 213201, 213424, 213431, 213459, 151418, 213461, 177645, 213122, 213488, 213490, 213491, 213493, 213494, 198221, 213508, 213541, 213563, 213566, 209096, 213568, 204338, 213573, 213575, 212953, 213579, 212044, 213597, 213602, 206835, 213628, 213643, 210856, 213650, 213655, 213657, 213665, 213673, 213685, 213692, 213363, 213701, 213736, 213742, 213743, 213764, 203549, 213765, 213799, 213847, 213859, 213861, 176700, 213863, 213056, 213866, 213809, 213875, 213893, 213910, 211846, 213919, 209436, 211726, 213927, 212862, 200272, 213953, 213956, 213958, 213964, 213361, 213983, 213985, 214043, 196883, 214046, 214047, 214049, 214063, 214150, 214173, 212911, 214192, 209633, 214211, 214297, 214312, 214321, 214322, 214338, 214342, 214354, 214383, 214393, 214012, 214394, 214396, 214398, 214399, 214400, 214403, 212318, 214412, 214418, 214443, 203427, 214473, 214516, 214409, 214520, 214526, 214550, 211852, 214561, 214566, 214567, 214577, 214582, 214584, 210121, 214586, 214594, 214607, 214619, 214308, 214621, 214539, 214636, 214640, 211659, 214653, 214657, 214658, 214661, 214666, 214536, 214673, 213434, 214678, 199629, 214708, 214737, 214019, 214742, 214788, 214794, 214797, 214274, 214800, 212863, 214805, 214806, 214808, 214809, 214811, 214823, 214838, 214840, 214844, 201584, 214861, 214869, 214871, 214884, 207504, 214889, 214161, 214905, 213798, 214906, 214933, 213735, 214953, 214962, 214989, 214992, 215000, 214999, 215006, 213853, 215010, 215011, 215034, 215038, 215081, 215093, 215104, 214439, 215136, 198348, 215147, 213717, 215151, 215156, 214218, 215187, 215189, 215202, 215208, 215228, 215232, 208591, 215293, 215310, 215342, 215373, 215381, 209891, 215385, 215389, 215391, 214521, 215392, 209556, 215395, 215419, 215423, 215445, 215450, 215463, 215512, 215513, 214569, 215543, 215551, 215560, 215576, 215578, 215586, 215591, 215599, 215600, 215603, 215611, 215631, 215649, 215651, 215652, 215653, 215654, 215671, 214382, 215685, 215693, 215709, 215122, 215739, 215753, 215759, 188876, 215760, 215770, 215778, 215343, 215782, 215157, 215795, 215811, 215814, 215816, 215817, 213380, 215849, 215928, 215932, 214816, 215935, 215955, 215962, 208844, 215979, 215983, 215987, 216005, 216012, 216026, 215741, 216058, 216069, 214389, 216106, 216112, 212660, 216118, 216124, 210751, 216137, 216102, 216195, 216076, 216204, 216220, 167889, 216240, 216251, 216186, 216302, 215696, 216312, 213378, 216346, 214229, 216357, 213011, 216361, 216446, 216453, 216496, 216504, 216427, 216541, 216542, 216586, 166379, 216589, 215581, 216591, 216599, 216616, 214442, 216633, 216667, 216676, 216681, 213462, 216683, 216685, 216738, 214911, 216739, 216769, 216804, 216860, 216872, 214457, 216879, 216880, 216893, 216942, 215806, 216999, 217003, 206122, 217010, 217017, 214000, 217022, 215522, 217026, 217033, 217039, 217090, 215995, 217146, 217150, 216452, 217201, 216576, 217236, 217241, 217265, 217271, 211830, 217329, 217365, 217436, 217530, 217534, 217446, 217537, 217576, 217593, 217594, 215921, 217605, 216626, 217634, 217654, 217669, 217667, 217670, 217006, 217678, 212649, 217715, 217732, 203432, 217735, 216431, 217752, 217777, 217829, 217907, 216332, 217919, 217921, 202366, 217947, 217867, 217967, 217915, 217977, 214662, 218011, 218034, 218060, 218018, 218079, 218093, 216792, 218103, 218120, 218168, 215691, 218175, 212132, 218173, 218179, 212023, 218185, 218188, 217775, 218202, 218225, 217350, 218246, 218249, 218285, 218296, 218297, 218333, 167225, 218334, 218342, 218343, 166720, 207461, 218358, 218383, 218400, 214751, 218440, 218460, 218447, 218470, 218473, 218477, 218481, 218507, 218373, 218516, 218538, 217213, 218542, 215224, 218548, 218578, 218599, 218614, 218635, 218475, 218638, 214193, 218661, 217474, 218681, 218743, 218744, 218725, 218747, 218770, 217787, 218773, 218864, 218871, 218927, 218961, 218670, 219004, 219018, 219028, 219029, 219034, 219093, 219123, 219154, 218766, 219165, 219167, 219170, 219208, 219218, 219219, 170857, 219220, 219225, 219232, 216898, 219057, 219301, 219311, 219312, 219369, 218719, 219390, 219391, 218707, 219399, 219401, 219308, 219412, 219420, 218651, 219427, 218888, 219430, 219447, 219267, 219459, 219463, 219466, 219419, 219471, 219496, 219534, 219216, 219550, 213129, 219591, 219599, 219604, 219610, 219614, 219621, 219623, 219625, 219630, 219631, 219638, 219641, 219646, 219645, 219656, 218601, 219659, 219674, 217364, 219684, 219629, 219694, 216024, 219755, 219800, 219812, 219759, 219836, 219864, 215609, 219866, 219868, 219872, 219871, 219882, 219889, 219467, 219891, 219895, 219902, 219908, 219914, 219918, 219927, 219975, 219982, 214331, 219983, 219998, 220032, 218061, 220040, 220044, 220067, 220074, 220093, 220090, 220094, 220095, 213182, 220098, 220115, 219080, 220122, 220110, 220123, 220129, 220139, 220166, 220229, 220231, 220235, 218624, 220238, 220239, 217456, 220253, 220264, 220276, 185957, 217517, 220309, 219894, 220314, 220320, 220324, 220353, 220354, 220358, 220368, 220379, 220380, 220384, 220386, 220395, 220415, 220344, 220416, 220432, 220452, 220462, 220465, 220467, 220472, 220473, 220477, 220491, 218438, 220494, 220497, 220509, 220510, 220511, 220518, 220454, 220534, 220535, 220548, 220552, 220515, 220553, 220554, 220560, 220566, 220572, 220577, 220578, 220605, 220606, 215478, 220618, 220634, 220645, 220647, 220648, 220651, 220653, 220681, 220684, 220685, 220687, 212146, 220689, 219404, 220692, 220696, 220710, 220715, 220724, 220743, 220744, 220742, 220745, 220746, 220777, 220779, 220781, 220792, 220799, 220802, 220807, 219553, 220814, 220820, 220837, 217169, 220843, 220844, 220867, 219825, 220873, 206382, 220874, 220481, 220878, 220881, 220902, 220939, 216921, 220940, 220946, 220322, 220948, 220954, 220968, 220983, 220987, 220992, 220410, 221014, 221016, 220377, 221018, 221020, 211072, 221021, 221031, 221035, 221042, 221043, 221051, 217698, 221083, 219707, 221100, 221109, 218388, 221121, 221138, 221139, 221148, 221149, 221157, 221164, 221177, 221182, 221113, 221186, 221191, 221161, 221192, 221198, 221197, 221199, 221203, 221151, 221204, 221237, 221245, 221270, 221291, 221306, 220628, 221314, 221340, 221361, 221370, 221327, 221392, 221404, 221430, 221433, 221126, 221443, 221457, 221458, 221462, 221465, 221466, 221500, 220672, 221506, 221507, 218926, 221279, 221528, 221548, 221550, 216642, 221551, 221539, 221134, 221607, 221053, 221620, 221612, 221625, 221635, 221673, 221677, 221683, 221687, 215999, 221713, 219489, 221745, 221755, 218251, 221790, 201582, 221827, 221839, 221817, 221857, 216159, 221870, 221872, 221890, 221898, 221903, 221904, 221905, 221906, 221931, 221942, 221374, 221954, 208621, 221986, 221981, 222007, 222034, 222036, 222045, 222049, 222052, 222082, 222011, 222084, 219501, 222104, 222141, 222142, 222154, 222165, 222167, 222173, 221936, 222176, 222191, 222206, 222207, 222214, 174500, 222243, 222216, 222264, 222079, 222266, 222274, 221002, 222287, 222284, 222288, 217048, 222297, 221814, 222298, 218922, 222306, 222310, 222315, 222317, 222321, 222326, 222327, 222340, 222417, 220523, 222421, 222423, 222474, 189637, 222476, 222478, 222482, 222485, 222502, 222281, 222516, 222518, 222519, 222520, 222546, 221821, 222577, 222584, 214651, 222615, 222614, 222620, 221748, 222625, 220791, 222694, 222509, 222703, 222416, 222710, 221822, 222717, 222722, 222725, 222726, 222732, 222749, 222755, 222786, 222802, 222818, 222819, 222040, 222823, 221885, 222863, 222866, 222869, 214928, 222926, 222973, 222976, 223058, 223063, 223069, 223070, 223072, 223139, 223140, 223157, 223173, 210243, 223181, 223100, 223182, 223185, 222826, 223211, 223212, 218712, 206839, 223227, 218959, 223308, 223160, 223309, 221564, 223323, 223322, 223352, 223358, 223276, 223384, 223399, 223404, 222299, 223405, 223407, 202239, 223408, 223410, 223411, 223412, 223413, 223119, 223420, 222890, 223422, 223415, 223449, 223447, 223450, 223466, 214936, 223474, 223475, 223479, 221703, 223481, 223470, 222286, 223514, 223524, 200152, 223527, 223394, 221413, 223590, 219993, 223594, 223624, 223478, 223632, 223641, 223667, 223216, 223677, 223300, 223694, 220484, 223698, 223696, 223706, 223711, 220227, 223716, 215330, 223644, 223738, 223753, 223754, 223767, 222550, 223822, 223862, 223867, 218859, 223869, 222560, 223875, 223894, 223906, 223907, 223919, 223927, 223947, 223949, 223950, 206921, 223955, 223977, 223983, 222500, 224018, 223819, 224049, 224050, 205581, 224057, 224070, 224073, 224076, 224103, 224104, 224151, 222700, 224167, 224182, 224183, 224190, 224216, 195099, 224217, 224218, 224226, 223887, 224239, 224250, 224270, 223193, 224285, 224296, 222898, 224307, 224322, 224325, 223409, 224348, 224369, 224192, 224376, 224394, 219409, 224397, 224412, 218622, 224422, 224335, 224424, 224430, 224448, 222381, 224452, 222180, 224472, 224464, 224475, 224309, 224488, 215566, 224508, 224535, 224543, 224550, 219987, 224554, 224572, 210615, 224575, 224580, 224585, 224591, 224594, 224600, 221598, 224603, 224604, 219867, 224629, 224635, 224639, 224641, 224660, 223469, 224673, 224674, 224675, 224678, 224684, 224686, 224739, 224742, 218437, 224771, 224347, 224797, 224803, 224816, 219450, 219992, 224858, 224163, 224899, 224900, 224907, 224949, 222059, 224958, 224108, 224960, 224962, 224969, 224970, 224998, 225020, 219981, 225040, 225110, 216473, 225120, 222240, 225128, 225129, 225135, 224822, 225141, 225137, 225152, 222376, 225155, 206650, 225179, 221897, 225185, 225199, 225202, 219570, 225207, 221253, 225209, 225210, 221608, 225222, 194685, 225224, 225240, 221587, 225242, 225274, 225276, 225327, 217103, 225362, 225363, 225378, 225394, 225420, 225424, 207318, 225431, 225440, 225451, 225514, 225562, 210150, 225570, 225447, 225607, 176946, 225624, 225636, 224228, 225660, 225720, 225435, 225797, 225816, 225821, 225841, 225845, 222037, 225860, 225466, 225881, 225917, 215561, 225923, 217061, 225934, 226001, 226005, 226020, 226048, 226099, 226098, 226103, 226110, 226086, 226202, 226224, 225959, 226226, 226227, 226228, 226229, 226231, 226233, 226234, 226235, 226237, 226240, 226262, 226264, 224621, 226283, 225335, 226310, 225361, 226374, 226396, 226296, 226405, 226423, 226040, 226466, 226478, 225437, 226526, 226576, 226553, 226601, 226613, 226633, 226569, 226647, 226658, 226685, 226055, 226688, 226716, 217451, 225500, 226761, 226666, 226776, 226777, 226810, 224991, 226837, 226859, 226861, 209011, 226902, 226531, 226931, 226935, 226947, 226958, 226957, 226961, 227031, 227036, 226568, 227039, 227056, 227058, 226684, 227078, 227080, 227089, 213403, 227117, 227122, 227178, 227179, 227164, 227204, 227213, 227225, 226591, 227231, 227239, 226878, 227243, 227254, 227370, 227406, 227408, 227420, 226139, 227435, 227447, 227472, 227487, 227498, 209774, 227576, 226700, 227618, 227630, 227743, 227757, 227765, 227795, 227815, 227819, 227833, 225259, 227841, 225867, 227843, 227898, 227921, 219091, 227927, 227947, 227948, 227968, 216023, 227992, 227984, 227993, 228056, 228095, 220775, 228096, 228101, 225216, 228103, 228074, 228113, 228121, 227920, 228123, 228115, 228134, 228136, 228147, 228156, 228159, 225826, 228211, 228220, 228236, 227187, 228246, 228198, 228248, 228199, 228266, 228268, 228272, 228354, 228359, 228377, 228385, 228392, 226594, 228429, 226254, 228463, 228543, 228578, 227250, 228607, 228615, 228666, 228681, 228713, 228718, 228724, 228757, 228798, 228570, 228806, 228725, 228815, 228821, 228784, 228874, 228875, 228355, 228925, 228928, 206926, 228929, 226994, 228965, 214923, 227916, 228983, 228997, 229061, 215332, 229074, 229093, 229112, 229035, 229119, 229122, 229170, 229171, 229135, 229178, 229191, 229177, 229331, 229339, 229342, 229349, 229345, 229372, 229391, 229158, 229393, 229399, 216184, 229409, 229419, 229436, 229435, 229439, 229433, 229451, 229207, 229492, 229532, 229282, 229537, 228249, 229563, 226867, 229601, 229638, 229640, 229642, 227347, 229681, 229685, 229735, 229736, 229737, 229752, 229757, 229467, 229775, 229810, 229836, 224789, 229870, 229872, 229891, 229909, 229928, 229941, 229956, 229817, 230003, 229566, 230008, 229952, 230044, 230092, 230090, 230299, 230342, 230304, 230354, 230421, 230281, 230462, 230526, 225525, 230573, 230584, 230602, 230206, 230152, 230623, 229365, 230628, 230632, 224496, 230644, 216636, 230646, 224679, 230654, 230645, 230676, 230198, 230559, 230698, 230744, 230747, 230759, 230772, 225105, 230791, 230833, 230222, 230871, 229570, 230878, 230915, 231020, 231039, 230503, 231050, 230651, 231106, 231084, 231113, 230080, 231124, 231125, 231188, 231196, 231227, 231281, 209599, 231294, 231296, 231336, 231321, 231345, 226248, 231354, 230879, 231355, 231370, 231384, 231382, 231469, 231488, 231504, 225699, 231529, 230196, 231542, 229096, 231543, 231583, 231594, 209598, 231619, 231154, 231625, 231608, 231670, 231671, 217611, 231683, 229321, 231694, 231674, 231730, 231775, 231781, 231835, 231854, 231824, 231869, 231884, 231363, 231888, 231933, 231818, 231937, 231950, 231960, 231962, 230276, 231970, 231238, 232010, 231983, 232021, 230876, 232078, 228931, 232156, 232166, 225869, 232174, 232183, 232239, 232238, 232240, 231541, 232255, 232133, 232285, 231347, 225306, 232336, 227478, 232341, 232317, 232365, 232393, 232400, 230469, 232461, 231680, 232512, 229910, 232516, 232548, 232555, 232541, 232561, 229682, 232578, 232515, 232596, 232564, 232598, 232613, 232673, 226578, 232690, 232676, 232721, 232753, 232758, 232779, 212755, 232786, 232794, 232806, 232809, 232814, 232514, 232863, 232949, 232990, 232754, 232997, 232316, 233010, 233025, 233028, 233032, 233034, 233128, 233148, 233177, 233185, 233187, 232167, 233228, 233115, 233232, 230708, 233278, 233244, 233320, 233322, 233332, 230834, 229404, 233194, 233364, 233414, 233413, 233537, 233143, 233599, 232789, 233691, 233698, 233736, 233749, 233802, 233844, 233839, 233857, 233934, 233782, 232213, 233980, 230245, 233998, 233540, 232068, 234036, 234097, 233575, 234130, 232134, 234151, 234158, 234111, 234172, 233847, 234203, 233605, 234213, 234277, 234145, 234281, 234296, 234315, 234298, 234351, 217498, 234396, 186169, 234415, 234431, 216670, 234463, 234470, 231579, 234481, 208561, 234487, 234496, 234621, 234625, 234332, 234643, 234622, 234648, 234650, 234689, 234765, 234793, 234781, 234798, 234799, 217555, 234800, 232692, 234806, 234821, 234826, 227699, 234904, 233816, 234935, 229187, 234937, 213716, 234955, 219703, 234956, 235051, 235056, 235058, 235057, 235082, 235084, 235089, 233011, 235165, 235192, 224755, 235283, 235332, 235312, 235356, 221614, 235403, 235348, 235377, 235420, 235427, 235475, 233456, 235484, 235487, 235519, 235530, 235529, 235534, 235536, 235537, 231104, 235566, 233602, 235580, 235590, 235619, 235634, 233058, 235697, 235691, 235715, 226093, 235720, 235606, 235741, 235755, 234500, 235758, 234109, 235759, 235263, 235777, 235774, 235837, 235846, 235852, 226165, 235990, 235984, 235998, 236018, 236023, 236041, 236054, 219206, 235880, 236090, 236093, 236096, 236124, 236201, 236185, 236340, 236432, 236441, 236467, 235205, 236483, 236482, 236487, 236488, 236503, 236516, 236530, 232038, 236547, 236548, 236552, 236551, 236571, 236583, 236634, 236660, 236658, 236745, 236781, 236787, 236793, 236832, 235550, 236849, 236879, 236839, 236896, 237047, 236685, 237051, 237087, 237097, 237134, 237177, 236827, 236217, 237192, 237178, 237195, 237223, 235218, 237258, 232926, 237263, 237294, 237173, 237323, 237324, 237341, 237342, 237362, 237387, 237411, 237464, 237186, 237506, 237526, 237550, 237470, 237582, 236528, 237616, 236351, 237679, 237586, 237745, 237380, 237765, 237773, 237441, 237781, 237790, 237801, 237145, 237814, 237836, 237892, 236147, 237993, 236890, 238004, 235305, 238016, 238023, 238034, 237397, 238042, 237243, 238066, 238074, 238099, 229477, 233039, 238163, 238176, 236915, 238187, 238241, 238240, 238242, 238254, 235918, 238265, 238293, 235901, 238317, 238292, 238133, 238403, 234722, 238404, 236213, 238425, 238451, 238491, 238511, 224728, 238561, 238283, 238570, 238414, 238666, 238620, 238681, 209982, 238762, 238766, 238718, 238768, 238850, 238525, 238954, 239014, 239021, 239024, 239046, 239076, 239091, 188949, 239156, 238231, 239161, 238719, 239199, 239227, 239292, 239299, 236773, 239317, 239318, 236118, 239326, 239336, 239349, 239360, 229402, 239368, 239386, 239380, 239401, 238864, 239405, 239436, 239412, 239439, 239426, 239443, 239460, 239461, 237828, 239483, 239486, 239507, 239509, 225491, 239541, 239548, 239569, 239570, 239589, 236321, 239632, 239646, 239377, 239658, 239660, 230493, 239666, 239677, 237866, 239683, 239685, 234171, 224005, 239752, 236136, 239766, 239767, 239805, 235557, 239822, 239878, 239870, 239900, 239927, 239388, 239931, 238784, 239960, 239744, 239982, 239989, 237348, 239994, 240092, 239025, 240108, 240131, 240142, 239774, 240145, 238750, 240153, 240054, 240155, 240137, 240158, 240168, 240201, 240205, 240110, 240227, 233781, 240314, 240326, 240388, 239567, 240401, 231021, 240408, 240384, 240414, 240431, 240434, 239139, 240451, 240450, 240483, 233854, 240504, 239962, 240505, 240519, 239959, 240525, 240309, 240560, 240601, 240622, 240628, 240627, 240634, 225498, 240656, 240655, 240659, 240180, 240670, 238234, 240674, 240718, 240769, 240783, 240471, 240867, 240491, 240893, 240760, 240897, 240557, 240904, 240913, 232823, 240932, 240645, 240946, 240948, 240949, 240954, 240959, 240993, 236436, 241006, 241047, 241051, 241061, 241069, 241070, 241080, 241081, 241089, 241090, 241103, 241020, 241110, 241131, 241132, 241251, 241259, 241280, 241288, 241296, 241342, 241343, 241358, 241384, 241393, 240790, 241410, 241408, 241449, 241142, 241508, 241463, 235708, 241538, 241541, 241548, 204645, 241558, 241584, 240012, 241587, 238769, 241636, 241632, 241646, 241654, 241664, 241668, 240689, 241671, 241683, 241701, 240472, 241702, 241704, 241705, 241763, 241767, 237247, 241771, 240991, 241785, 232423, 241792, 241796, 241797, 241800, 241817, 241843, 241865, 241881, 241891, 240475, 241896, 241903, 223669, 241933, 241941, 241966, 240438, 241980, 241981, 241995, 242003, 242004, 242006, 236994, 242052, 241893, 242053, 242066, 240824, 242074, 242080, 241943, 242112, 242146, 237359, 242153, 242156, 242172, 242177, 241744, 242178, 242192, 242054, 242197, 241135, 242213, 242216, 242236, 242051, 242240, 236830, 242280, 242328, 242020, 242330, 238953, 242335, 242378, 242379, 242382, 242389, 242422, 242433, 242441, 240907, 242469, 242471, 242488, 242503, 242522, 242048, 242540, 242512, 242544, 242556, 242565, 242582, 242588, 234340, 242683, 242735, 242767, 242770, 217310, 242803, 242674, 242832, 242778, 242834, 242874, 242881, 241037, 242911, 242959, 242976, 240206, 242980, 242986, 240156, 233172, 243017, 243022, 243023, 243030, 242371, 243046, 242885, 243048, 243065, 241154, 243086, 241456, 243108, 242692, 243134, 236961, 243160, 243161, 238822, 243189, 239445, 243280, 243298, 242687, 243326, 243370, 243373, 243386, 243387, 243390, 243396, 232898, 243410, 243427, 242107, 243446, 243450, 243543, 243070, 243556, 243275, 243559, 243494, 243597, 243671, 243675, 243676, 243679, 242594, 243681, 243688, 243240, 243710, 243711, 243715, 242757, 243755, 242845, 243771, 242632, 243788, 243796, 243850, 244016, 236806, 244019, 244020, 243639, 244028, 244061, 242553, 244077, 243485, 244112, 244108, 244132, 244137, 244209, 238277, 244231, 244189, 244235, 244240, 244242, 244251, 244255, 244270, 244277, 244288, 244321, 244323, 244332, 235068, 244333, 244337, 244341, 244342, 244358, 244384, 244438, 244472, 244488, 244510, 244560, 238755, 244591, 244300, 244597, 244267, 244609, 244605, 244610, 244627, 240803, 244652, 213238, 244669, 244674, 244607, 244697, 244723, 242681, 244794, 244807, 244811, 242897, 244814, 244846, 244857, 244927, 244828, 244982, 233837, 244997, 245066, 237055, 245181, 245210, 245237, 245239, 242737, 245247, 245258, 245293, 244688, 245381, 244773, 245382, 243469, 245387, 245403, 245418, 245497, 245523, 245661, 245689, 241071, 245815, 245817, 245642, 245823, 245841, 245849, 243349, 245939, 245982, 245989, 245701, 246119, 241510, 246124, 243316, 246152, 245767, 246223, 246233, 246234, 246235, 246236, 246238, 246245, 246281, 246306, 246358, 246382, 246278, 246388, 246393, 245569, 246416, 238610, 246419, 246364, 246429, 246483, 246545, 236814, 246552, 246604, 246609, 245501, 246625, 246596, 243533, 246704, 246598, 246722, 229804, 246728, 246751, 245137, 246756, 246762, 246772, 246796, 246850, 246858, 243837, 246874, 246884, 246887, 241226, 246899, 243018, 246925, 246972, 246974, 246392, 246990, 246971, 247002, 247011, 247012, 247015, 247018, 247027, 246576, 247036, 246213, 247046, 247053, 247065, 247075, 247081, 247083, 247072, 247101, 247113, 247129, 247130, 246557, 247134, 220364, 247150, 247044, 247160, 247170, 247176, 247138, 247194, 247205, 243946, 247206, 243305, 247211, 247213, 247224, 245857, 247230, 247245, 247250, 247261, 247276, 247277, 247291, 247178, 247320, 247341, 247342, 247350, 247361, 247362, 224740, 247401, 247405, 247414, 247420, 247437, 247440, 247450, 247454, 247511, 247517, 246342, 247533, 246629, 247547, 247165, 247573, 246279, 247577, 247581, 247587, 247602, 247607, 246863, 247612, 247616, 246799, 247396, 247658, 247680, 247720, 247738, 247741, 247733, 247753, 247685, 247774, 247784, 246841, 247809, 247821, 247823, 205007, 222419, 247912, 247921, 247929, 247958, 237499, 247980, 247976, 247995, 248012, 248019, 248018, 248020, 248025, 247692, 248027, 248055, 248069, 245074, 248075, 246283, 248085, 248087, 248090, 220893, 248112, 248119, 248127, 248113, 248157, 248170, 247861, 248188, 243735, 248191, 248192, 237531, 248225, 247726, 248266, 248268, 248272, 248281, 248154, 248309, 248323, 248325, 248328, 248349, 248354, 246111, 248374, 248406, 248427, 248445, 248296, 248482, 248483, 248484, 242403, 248508, 246655, 248520, 243337, 248529, 248536, 248561, 248424, 248568, 248575, 248582, 248614, 248632, 248648, 248655, 248656, 248657, 248692, 248693, 248709, 248710, 248685, 248720, 239657, 248764, 244543, 219756, 248789, 248795, 248807, 248828, 247829, 248835, 248837, 248839, 248855, 247490, 244823, 248894, 247444, 248895, 247631, 248924, 238735, 248964, 248976, 249007, 249048, 249067, 249079, 249045, 249108, 248814, 249109, 249125, 249151, 249157, 245925, 249165, 244420, 249180, 249212, 249241, 249288, 249308, 241045, 249310, 249317, 249324, 249323, 249357, 249368, 249375, 248860, 249386, 247177, 249393, 242864, 249415, 249416, 249419, 249447, 249454, 249457, 249459, 249466, 244821, 249469, 249472, 249486, 247599, 249503, 249534, 249348, 249558, 249573, 249578, 246122, 249579, 249597, 249612, 248558, 249676, 249662, 249689, 249704, 236700, 249715, 245602, 249753, 203068, 249811, 249641, 249873, 249588, 249880, 249900, 248671, 249948, 249969, 249983, 249980, 249996, 243119, 250002, 250010, 250019, 250027, 250031, 248904, 250061, 250082, 250123, 248523, 250133, 225577, 250137, 249888, 250144, 249301, 250151, 250220, 250231, 250248, 250294, 250302, 250194, 250314, 250336, 250362, 250395, 250405, 250410, 250413, 250427, 247383, 250481, 250497, 250506, 250511, 250578, 247378, 250621, 250628, 250632, 250635, 250652, 250658, 250659, 248492, 250663, 250669, 250673, 247651, 250677, 250551, 250682, 250704, 250705, 250716, 248782, 250724, 250728, 250746, 250675, 250755, 250762, 250771, 250772, 250806, 250812, 250817, 250866, 250870, 184218, 250871, 249560, 250893, 250895, 250935, 250969, 249411, 250975, 250984, 236507, 251006, 251008, 251044, 251046, 247820, 251071, 251114, 251171, 250602, 251180, 251186, 251216, 245547, 251221, 251283, 251286, 251305, 249092, 251335, 251325, 251336, 251366, 251367, 251400, 251306, 251422, 251432, 251434, 241906, 250097, 251446, 251450, 251456, 251458, 251478, 251507, 225794, 251541, 251542, 251579, 251623, 246197, 251649, 210108, 251693, 251700, 251759, 251767, 251806, 251810, 251889, 251897, 251936, 246390, 251996, 251576, 252056, 252088, 248821, 252101, 252103, 252105, 252104, 252113, 252120, 247990, 252246, 251701, 252267, 252334, 252339, 252341, 248294, 252371, 252374, 252380, 252399, 252438, 252458, 252475, 252478, 252494, 244734, 252533, 232252, 252571, 252675, 252679, 252126, 252704, 252673, 252731, 229903, 252734, 252753, 242479, 252766, 252762, 252794, 252806, 252812, 252855, 252861, 252800, 252903, 252938, 252939, 249078, 252942, 252951, 252952, 252955, 252961, 252964, 252971, 252768, 252974, 252928, 252999, 253006, 253017, 253035, 253036, 248606, 253064, 253066, 253073, 253099, 253137, 253138, 240847, 253188, 253202, 253211, 253254, 123705, 252612, 253285, 253306, 253323, 252567, 253331, 253340, 253343, 253347, 253380, 253403, 240138, 253416, 253420, 252783, 253451, 253475, 253484, 253525, 253624, 253618, 253632, 253639, 253640, 253655, 253659, 253660, 253661, 253662, 253663, 249918, 253680, 239852, 253698, 253703, 253712, 253654, 253722, 253731, 253747, 253771, 253776, 253807, 253813, 253841, 253878, 237014, 253879, 253900, 253916, 253959, 252732, 253963, 253967, 253969, 253975, 253608, 254000, 253999, 254050, 253932, 254095, 236097, 254114, 254130, 252324, 254146, 254040, 254148, 254177, 254181, 254201, 254234, 254295, 254311, 216049, 254328, 250040, 254369, 254376, 249674, 254379, 249327, 254404, 254414, 254417, 238992, 254420, 247358, 254467, 254498, 254064, 254518, 251343, 254527, 254529, 249507, 254538, 235687, 254577, 254578, 254597, 254600, 247762, 254627, 254572, 254652, 254673, 247950, 254681, 254706, 254720, 254775, 254801, 254319, 254810, 245206, 254811, 252717, 254816, 249665, 254828, 254861, 254862, 254872, 254881, 254899, 254901, 254800, 254905, 254906, 254914, 254954, 254966, 254971, 254970, 254974, 250713, 254993, 254953, 255006, 255012, 255015, 255017, 255103, 255108, 255121, 255137, 255152, 255155, 249295, 255235, 255242, 255253, 255278, 255287, 255331, 255168, 255356, 255355, 255408, 255419, 255256, 255452, 251931, 255453, 205028, 255473, 255480, 255485, 255517, 255537, 255552, 255471, 255556, 255580, 255587, 255172, 255588, 255682, 255691, 255695, 255668, 255704, 255733, 255732, 255767, 255560, 255770, 255772, 255909, 255919, 245415, 255920, 220699, 255935, 255942, 255962, 256019, 249390, 256021, 256014, 256027, 255926, 256066, 256111, 256089, 256137, 256139, 256167, 256219, 256232, 256264, 256187, 256267, 256293, 256294, 256306, 256307, 256316, 256319, 256330, 256431, 248022, 256441, 255195, 256466, 256493, 256453, 256519, 256527, 256414, 256559, 256629, 256630, 256882, 256883, 256912, 256327, 256929, 256950, 256907, 256968, 251302, 257055, 257056, 249248, 256589, 257120, 257010, 257124, 256635, 257193, 257001, 257245, 256517, 257272, 257364, 257428, 256940, 257437, 257482, 257082, 257550, 257435, 257595, 257628, 244899, 257672, 257716, 257747, 257746, 257766, 255912, 257767, 257890, 257555, 257903, 256995, 258001, 257510, 258003, 258028, 258206, 258215, 257185, 258383, 255079, 258390, 248278, 256902, 258493, 258439, 258581, 255213, 258619, 258693, 258717, 258736, 258735, 258756, 258768, 247343, 258775, 258779, 258811, 258893, 251674, 258930, 258129, 258971, 258896, 258991, 259002, 259001, 259003, 259053, 256458, 259056, 259161, 248910, 259169, 260934, 261531, 262146, 262156, 262158, 258278, 262267, 262453, 262460, 262518, 262565, 255366, 262578, 262677, 262678, 262680, 262684, 262686, 262690, 262790, 262793, 256166, 262797, 262795, 262860, 247833, 267241, 267285, 267235, 267323, 247936, 267389, 267427, 267234, 267580, 267684, 262571, 267739, 267791, 267980, 262844, 267223, 268119, 268134, 268135, 268157, 267850, 268222, 268207, 268228, 268233, 268280, 268288, 268434, 268520, 268403, 268576, 268639, 268695, 268698, 268679, 268349, 268750, 268812, 252297, 269231])"
      ]
     },
     "execution_count": 152,
     "metadata": {},
     "output_type": "execute_result"
    }
   ],
   "source": [
    "disimilar_duplicates.keys()"
   ]
  },
  {
   "cell_type": "code",
   "execution_count": 162,
   "metadata": {},
   "outputs": [
    {
     "data": {
      "text/plain": [
       "[9350]"
      ]
     },
     "execution_count": 162,
     "metadata": {},
     "output_type": "execute_result"
    }
   ],
   "source": [
    "disimilar_duplicates[8868]"
   ]
  },
  {
   "cell_type": "code",
   "execution_count": 165,
   "metadata": {},
   "outputs": [
    {
     "data": {
      "text/plain": [
       "[9350, 8868]"
      ]
     },
     "execution_count": 165,
     "metadata": {},
     "output_type": "execute_result"
    }
   ],
   "source": [
    "union_find.get_children(8868)"
   ]
  },
  {
   "cell_type": "code",
   "execution_count": 169,
   "metadata": {},
   "outputs": [
    {
     "name": "stdout",
     "output_type": "stream",
     "text": [
      "System:\n",
      "Netbeans build 25\n",
      "JDK: blackdown jdk 1.3.0\n",
      "\n",
      "The problem can be duplicated as follows:\n",
      "\n",
      "1. Run a program by clicking the run button in the toolbar.\n",
      "\n",
      "2. Terminate the program by right-clicking the process in the\n",
      "   execution window and selecting terminate.\n",
      "\n",
      "3. return to the GUI editing workspace and run the program again.\n",
      "\n",
      "4. Terminate the program again using the execution window\n",
      "\n",
      "4. Return to the GUI editing workspace and once again run the program.\n",
      "\n",
      "After 2 or 3 times, an unexpected exception will occur.  I have pasted\n",
      "in the appropriate piece of the log file below (The last exception is the\n",
      "one that caused the window to pup up):\n",
      "\n",
      "-------------------------------------------------------------------------------\n",
      ">Log Session: Monday, December 11, 2000 8:52:03 AM PST\n",
      ">System Info:\n",
      "  Product Version          = NetBeans IDE 3.1beta (Build 25)\n",
      "  IDE Versioning           = IDE/1 spec=1.1.2 impl=Build 25\n",
      "  Operating System         = Linux Version 2.2.16-5 Running on i386\n",
      "  Java Version             = 1.3.0\n",
      "  Java VM Version          = Java HotSpot(TM) Client VM Blackdown-1.3.0-FCS\n",
      "  Java Vendor              = Blackdown Java-Linux Team\n",
      "  Java Vendor URL          = http://www.blackdown.org/\n",
      "  Java Home                = /opt/blackdown1.3.0/jre\n",
      "  Java Class Version       = 47.0\n",
      "  System Locale            = en_US\n",
      "  JIT                      = unknown or not used\n",
      "  Home Dir                 = /local/user/groskyd\n",
      "  Current Directory        = /local/user/groskyd/.gnome-desktop\n",
      "  IDE Home                 = /c/user/groskyd/netbeans31/25\n",
      "  IDE User Home            = /c/user/groskyd/netbeans31/25\n",
      "  System Directory         = /c/user/groskyd/netbeans31/25/system\n",
      "  CLASSPATH                =\n",
      ".\n",
      ".\n",
      ".\n",
      "-------------------------------------------------------------------------------\n",
      "[INFO] Loaded modules: org.apache.tools.ant.module (1.2/25);\n",
      "org.netbeans.modules.clazz/1 (1.4/25); org.netbeans.modules.html/1 (1.4/25);\n",
      "org.netbeans.modules.httpserver/1 (1.4/25); org.netbeans.modules.icebrowser/1\n",
      "(1.4/25); org.netbeans.modules.image/1 (1.4/25);\n",
      "org.netbeans.modules.properties/1 (1.4/25); org.netbeans.modules.i18n/1\n",
      "(1.4/25); org.netbeans.modules.text/1 (1.4/25);\n",
      "org.netbeans.modules.usersguide/1 (1.4/25); org.openidex.util/1 (1.4/25);\n",
      "org.netbeans.modules.autoupdate/1 (1.4/25); org.netbeans.modules.debugger.core/1\n",
      "(1.1.6/25); org.netbeans.modules.applet/1 (1.4/25);\n",
      "org.netbeans.modules.debugger.debug/1 (1.6/25);\n",
      "org.netbeans.modules.debugger.jpda/1 (1.6/25); org.netbeans.modules.editor/1\n",
      "(1.5/25); org.netbeans.modules.jarpackager/1 (1.4/25);\n",
      "org.netbeans.modules.java/1 (1.4/25); org.netbeans.modules.beans/1 (1.4/25);\n",
      "org.netbeans.modules.form/1 (1.4/25); org.netbeans.modules.javadoc/1 (1.4/25);\n",
      "org.netbeans.modules.objectbrowser/1 (1.4/25); org.netbeans.modules.projects/1\n",
      "(1.4/25); org.netbeans.modules.scripting/1 (1.1/001);\n",
      "org.netbeans.modules.utilities/1 (1.4/25); org.netbeans.modules.vcs.cmdline/1\n",
      "(1.5/25); org.netbeans.modules.web.core/1 (1.1.4/25);\n",
      "org.netbeans.modules.web.wizard/1 (1.1.4/25)\n",
      "[IDE-Exec] Executing:\n",
      "0 .= /opt/blackdown1.3.0/jre/bin/java\n",
      "1 .= -cp\n",
      "2 .=\n",
      "\n",
      ".\n",
      ".\n",
      ".\n",
      "\n",
      "*********** Exception occurred ************\n",
      "Mon Dec 11 08:56:24 PST 2000java.lang.IllegalThreadStateException: null\n",
      "java.lang.IllegalThreadStateException\n",
      "\tat java.lang.ThreadGroup.destroy(ThreadGroup.java:703)\n",
      "[catch] at\n",
      "org.netbeans.core.execution.DefaultSysProcess.stop(DefaultSysProcess.java:57)\n",
      "\tat org.netbeans.core.execution.ProcessNodeItem$2.run(ProcessNodeItem.java:164)\n",
      "\tat java.lang.Thread.run(Thread.java:484)\n",
      "[IDE-Exec] Executing:\n",
      "0 .= /opt/blackdown1.3.0/jre/bin/java\n",
      "1 .= -cp\n",
      "\n",
      ".\n",
      ".\n",
      ".\n",
      "\n",
      "3 .= kuksool\n",
      "\n",
      "*********** Exception occurred ************\n",
      "Mon Dec 11 08:56:51 PST 2000java.lang.IllegalThreadStateException: null\n",
      "java.lang.IllegalThreadStateException\n",
      "\tat java.lang.ThreadGroup.destroy(ThreadGroup.java:703)\n",
      "[catch] at\n",
      "org.netbeans.core.execution.DefaultSysProcess.stop(DefaultSysProcess.java:57)\n",
      "\tat org.netbeans.core.execution.ProcessNodeItem$2.run(ProcessNodeItem.java:164)\n",
      "\tat java.lang.Thread.run(Thread.java:484)\n",
      "[IDE-Exec] Executing:\n",
      "0 .= /opt/blackdown1.3.0/jre/bin/java\n",
      "1 .= -cp\n",
      "\n",
      ".\n",
      ".\n",
      ".\n",
      "\n",
      "3 .= kuksool\n",
      "\n",
      "*********** Exception occurred ************\n",
      "Mon Dec 11 08:56:59 PST 2000java.lang.IllegalArgumentException: A node selection\n",
      "cannot contain nodes (<No Processes Running>) not underneath the root\n",
      "(Processes).\n",
      "java.lang.IllegalArgumentException: A node selection cannot contain nodes (<No\n",
      "Processes Running>) not underneath the root (Processes).\n",
      "\tat\n",
      "org.openide.explorer.ExplorerManager.setSelectedNodes(ExplorerManager.java:138)\n",
      "\tat org.openide.explorer.view.ListView.selectionChanged(ListView.java:353)\n",
      "\tat org.openide.explorer.view.ListView$Listener.valueChanged(ListView.java:650)\n",
      "\tat\n",
      "javax.swing.DefaultListSelectionModel.fireValueChanged(DefaultListSelectionModel.java:170)\n",
      "\tat\n",
      "javax.swing.DefaultListSelectionModel.fireValueChanged(DefaultListSelectionModel.java:150)\n",
      "\tat\n",
      "javax.swing.DefaultListSelectionModel.fireValueChanged(DefaultListSelectionModel.java:197)\n",
      "\tat\n",
      "javax.swing.DefaultListSelectionModel.changeSelection(DefaultListSelectionModel.java:359)\n",
      "\tat\n",
      "javax.swing.DefaultListSelectionModel.changeSelection(DefaultListSelectionModel.java:368)\n",
      "\tat\n",
      "javax.swing.DefaultListSelectionModel.setSelectionInterval(DefaultListSelectionModel.java:392)\n",
      "\tat javax.swing.JList.setSelectedIndex(JList.java:1319)\n",
      "\tat\n",
      "org.openide.explorer.view.ListView$FocusAdapter.focusGained(ListView.java:587)\n",
      "\tat java.awt.AWTEventMulticaster.focusGained(AWTEventMulticaster.java:161)\n",
      "\tat java.awt.Component.processFocusEvent(Component.java:3641)\n",
      "\tat javax.swing.JComponent.processFocusEvent(JComponent.java:2058)\n",
      "\tat java.awt.Component.processEvent(Component.java:3537)\n",
      "\tat java.awt.Container.processEvent(Container.java:1164)\n",
      "\tat java.awt.Component.dispatchEventImpl(Component.java:2595)\n",
      "\tat java.awt.Container.dispatchEventImpl(Container.java:1213)\n",
      "\tat java.awt.Component.dispatchEvent(Component.java:2499)\n",
      "\tat java.awt.LightweightDispatcher.processFocusEvent(Container.java:2167)\n",
      "\tat java.awt.LightweightDispatcher.dispatchEvent(Container.java:2130)\n",
      "\tat java.awt.Container.dispatchEventImpl(Container.java:1200)\n",
      "\tat java.awt.Window.dispatchEventImpl(Window.java:912)\n",
      "\tat java.awt.Component.dispatchEvent(Component.java:2499)\n",
      "\tat java.awt.EventQueue.dispatchEvent(EventQueue.java:333)\n",
      "[catch] at\n",
      "java.awt.EventDispatchThread.pumpOneEvent(EventDispatchThread.java:103)\n",
      "\tat java.awt.EventDispatchThread.pumpEvents(EventDispatchThread.java:93)\n",
      "\tat java.awt.EventDispatchThread.run(EventDispatchThread.java:84)\n"
     ]
    }
   ],
   "source": [
    "print(dataset[idx_to_bug_id.index(8868)][\"description\"])"
   ]
  },
  {
   "cell_type": "code",
   "execution_count": 170,
   "metadata": {},
   "outputs": [
    {
     "name": "stdout",
     "output_type": "stream",
     "text": [
      "Obeying Exception dialog\n",
      "*********** Exception occurred ************\n",
      "Fri Feb 02 03:03:19 CET 2001java.lang.IllegalArgumentException: A node\n",
      "selection cannot contain nodes (<No Processes Running>) not underneath the root\n",
      "(Processes).\n",
      "java.lang.IllegalArgumentException: A node selection cannot contain nodes (<No\n",
      "Processes Running>) not underneath the root (Processes).\n",
      "\tat org.openide.explorer.ExplorerManager.setSelectedNodes\n",
      "(ExplorerManager.java:138)\n",
      "\tat org.openide.explorer.view.ListView.selectionChanged\n",
      "(ListView.java:353)\n",
      "\tat org.openide.explorer.view.ListView$Listener.valueChanged\n",
      "(ListView.java:650)\n",
      "\tat javax.swing.DefaultListSelectionModel.fireValueChanged\n",
      "(DefaultListSelectionModel.java:170)\n",
      "\tat javax.swing.DefaultListSelectionModel.fireValueChanged\n",
      "(DefaultListSelectionModel.java:150)\n",
      "\tat javax.swing.DefaultListSelectionModel.fireValueChanged\n",
      "(DefaultListSelectionModel.java:197)\n",
      "\tat javax.swing.DefaultListSelectionModel.changeSelection\n",
      "(DefaultListSelectionModel.java:359)\n",
      "\tat javax.swing.DefaultListSelectionModel.changeSelection\n",
      "(DefaultListSelectionModel.java:368)\n",
      "\tat javax.swing.DefaultListSelectionModel.setSelectionInterval\n",
      "(DefaultListSelectionModel.java:392)\n",
      "\tat javax.swing.JList.setSelectedIndex(JList.java:1319)\n",
      "\tat org.openide.explorer.view.ListView$FocusAdapter.focusGained\n",
      "(ListView.java:587)\n",
      "\tat java.awt.AWTEventMulticaster.focusGained\n",
      "(AWTEventMulticaster.java:161)\n",
      "\tat java.awt.Component.processFocusEvent(Component.java:3641)\n",
      "\tat javax.swing.JComponent.processFocusEvent(JComponent.java:2058)\n",
      "\tat java.awt.Component.processEvent(Component.java:3537)\n",
      "\tat java.awt.Container.processEvent(Container.java:1164)\n",
      "\tat java.awt.Component.dispatchEventImpl(Component.java:2595)\n",
      "\tat java.awt.Container.dispatchEventImpl(Container.java:1213)\n",
      "\tat java.awt.Component.dispatchEvent(Component.java:2499)\n",
      "\tat java.awt.LightweightDispatcher.processFocusEvent(Container.java:2167)\n",
      "\tat java.awt.LightweightDispatcher.dispatchEvent(Container.java:2130)\n",
      "\tat java.awt.Container.dispatchEventImpl(Container.java:1200)\n",
      "\tat java.awt.Window.dispatchEventImpl(Window.java:912)\n",
      "\tat java.awt.Component.dispatchEvent(Component.java:2499)\n",
      "\tat java.awt.EventQueue.dispatchEvent(EventQueue.java:319)\n",
      "[catch] at java.awt.EventDispatchThread.pumpOneEvent\n",
      "(EventDispatchThread.java:103)\n",
      "\tat java.awt.EventDispatchThread.pumpEvents(EventDispatchThread.java:93)\n",
      "\tat java.awt.EventDispatchThread.run(EventDispatchThread.java:84)\n",
      "[IDE-Exec] Executing:\n",
      "0 .= c:\\jdk\\jre\\bin\\java\n",
      "1 .= -cp\n",
      "2 .=\n",
      "E:\\netbeans\\system;E:\\netbeans\\beans\\TimerBean.jar;C:\\jdk\\lib\\tools.jar;C:\\jdk\\l\n",
      "ib\\crimson.jar;C:\\jdk\\lib\\jaxp.jar;C:\\jdk\\lib\\jsse.jar;C:\\jdk\\lib\\jnet.jar;C:\\jd\n",
      "k\\lib\\jcert.jar;E:\\tomcat\\jakarta-tomcat\\src\\facade22;E:\\tomcat\\jakarta-\n",
      "tomcat\\src\\share;E:\\netbeans\\lib\\patches\\corepatch.jar;E:\\netbeans\\lib\\patches\\o\n",
      "penide-\n",
      "compat.jar;E:\\netbeans\\lib\\locale\\core_ja.jar;E:\\netbeans\\lib\\locale\\openide_ja.\n",
      "jar;E:\\netbeans\\lib\\core.jar;E:\\netbeans\\lib\\openide.jar;E:\\netbeans\\lib\\updater\n",
      ".jar;E:\\netbeans\\lib\\ext\\locale\\openidex_ja.jar;E:\\netbeans\\lib\\ext\\locale\\vcsco\n",
      "re_ja.jar;E:\\netbeans\\lib\\ext\\AbsoluteLayout.jar;E:\\netbeans\\lib\\ext\\djava.jar;E\n",
      ":\\netbeans\\lib\\ext\\jaxp.jar;E:\\netbeans\\lib\\ext\\jh.jar;E:\\netbeans\\lib\\ext\\jpyth\n",
      "on.jar;E:\\netbeans\\lib\\ext\\openidex.jar;E:\\netbeans\\lib\\ext\\parser.jar;E:\\netbea\n",
      "ns\\lib\\ext\\regexp.jar;E:\\netbeans\\lib\\ext\\servlet.jar;E:\\netbeans\\lib\\ext\\vcscor\n",
      "e.jar;c:\\jdk\\lib\\dt.jar;c:\\jdk\\lib\\tools.jar;E:\\netbeans\\lib\\patches\\corepatch.j\n",
      "ar;E:\\netbeans\\lib\\patches\\corepatch.jar;E:\\netbeans\\lib\\core.jar;E:\\netbeans\\li\n",
      "b\\openide.jar;E:\\netbeans\\lib\\updater.jar;E:\\netbeans\\lib\\ext\\AbsoluteLayout.jar\n",
      ";E:\\netbeans\\lib\\ext\\djava.jar;E:\\netbeans\\lib\\ext\\jaxp.jar;E:\\netbeans\\lib\\ext\\\n",
      "jh.jar;E:\\netbeans\\lib\\ext\\jpython.jar;E:\\netbeans\\lib\\ext\\openidex.jar;E:\\netbe\n",
      "ans\\lib\\ext\\parser.jar;E:\\netbeans\\lib\\ext\\regexp.jar;E:\\netbeans\\lib\\ext\\servle\n",
      "t.jar;E:\\netbeans\\lib\\ext\\vcscore.jar;E:\\netbeans\\lib\\ext\\AbsoluteLayout.jar;E:\\\n",
      "netbeans\\lib\\ext\\djava.jar;E:\\netbeans\\lib\\ext\\jaxp.jar;E:\\netbeans\\lib\\ext\\jh.j\n",
      "ar;E:\\netbeans\\lib\\ext\\jpython.jar;E:\\netbeans\\lib\\ext\\openidex.jar;E:\\netbeans\\\n",
      "lib\\ext\\parser.jar;E:\\netbeans\\lib\\ext\\regexp.jar;E:\\netbeans\\lib\\ext\\servlet.ja\n",
      "r;E:\\netbeans\\lib\\ext\\vcscore.jar;E:\\netbeans\\modules\\ant.jar;E:\\netbeans\\module\n",
      "s\\applet.jar;E:\\netbeans\\modules\\autoupdate.jar;E:\\netbeans\\modules\\beans.jar;E:\n",
      "\\netbeans\\modules\\browser.jar;E:\\netbeans\\modules\\clazz.jar;E:\\netbeans\\modules\\\n",
      "cvs.jar;E:\\netbeans\\modules\\debuggerCore.jar;E:\\netbeans\\modules\\editor.jar;E:\\n\n",
      "etbeans\\modules\\form.jar;E:\\netbeans\\modules\\html.jar;E:\\netbeans\\modules\\httpse\n",
      "rver.jar;E:\\netbeans\\modules\\i18n.jar;E:\\netbeans\\modules\\icebrowser.jar;E:\\netb\n",
      "eans\\modules\\image.jar;E:\\netbeans\\modules\\jarpackager.jar;E:\\netbeans\\modules\\j\n",
      "ava.jar;E:\\netbeans\\modules\\javadoc.jar;E:\\netbeans\\modules\\jpdaDebugger.jar;E:\\\n",
      "netbeans\\modules\\jsp.jar;E:\\netbeans\\modules\\openidex.jar;E:\\netbeans\\modules\\pr\n",
      "ojects.jar;E:\\netbeans\\modules\\properties.jar;E:\\netbeans\\modules\\scripting.jar;\n",
      "E:\\netbeans\\modules\\text.jar;E:\\netbeans\\modules\\toolsDebugger.jar;E:\\netbeans\\m\n",
      "odules\\usersguide.jar;E:\\netbeans\\modules\\utilities.jar;E:\\netbeans\\modules\\ant.\n",
      "jar;E:\\netbeans\\modules\\applet.jar;E:\\netbeans\\modules\\autoupdate.jar;E:\\netbean\n",
      "s\\modules\\beans.jar;E:\\netbeans\\modules\\browser.jar;E:\\netbeans\\modules\\clazz.ja\n",
      "r;E:\\netbeans\\modules\\cvs.jar;E:\\netbeans\\modules\\debuggerCore.jar;E:\\netbeans\\m\n",
      "odules\\editor.jar;E:\\netbeans\\modules\\form.jar;E:\\netbeans\\modules\\html.jar;E:\\n\n",
      "etbeans\\modules\\httpserver.jar;E:\\netbeans\\modules\\i18n.jar;E:\\netbeans\\modules\\\n",
      "icebrowser.jar;E:\\netbeans\\modules\\image.jar;E:\\netbeans\\modules\\jarpackager.jar\n",
      ";E:\\netbeans\\modules\\java.jar;E:\\netbeans\\modules\\javadoc.jar;E:\\netbeans\\module\n",
      "s\\jpdaDebugger.jar;E:\\netbeans\\modules\\jsp.jar;E:\\netbeans\\modules\\openidex.jar;\n",
      "E:\\netbeans\\modules\\projects.jar;E:\\netbeans\\modules\\properties.jar;E:\\netbeans\\\n",
      "modules\\scripting.jar;E:\\netbeans\\modules\\text.jar;E:\\netbeans\\modules\\toolsDebu\n",
      "gger.jar;E:\\netbeans\\modules\\usersguide.jar;E:\\netbeans\\modules\\utilities.jar;E:\n",
      "\\netbeans\\modules\\ext\\ant.jar;E:\\netbeans\\modules\\ext\\icebrowserlitebean.jar;E:\\\n",
      "netbeans\\modules\\ext\\infobus.jar;E:\\netbeans\\modules\\ext\\jasper.jar;E:\\netbeans\\\n",
      "modules\\ext\\java-\n",
      "gj.jar;E:\\netbeans\\modules\\ext\\javac.jar;E:\\netbeans\\modules\\ext\\nb-\n",
      "editor.jar;E:\\netbeans\\modules\\ext\\webserver.jar;E:\\netbeans\\modules\\ext\\xalan.j\n",
      "ar;E:\\netbeans\\modules\\ext\\xerces.jar;E:\\netbeans\\modules\\ext\\ant.jar;E:\\netbean\n",
      "s\\modules\\ext\\icebrowserlitebean.jar;E:\\netbeans\\modules\\ext\\infobus.jar;E:\\netb\n",
      "eans\\modules\\ext\\jasper.jar;E:\\netbeans\\modules\\ext\\java-\n",
      "gj.jar;E:\\netbeans\\modules\\ext\\javac.jar;E:\\netbeans\\modules\\ext\\nb-\n",
      "editor.jar;E:\\netbeans\\modules\\ext\\webserver.jar;E:\\netbeans\\modules\\ext\\xalan.j\n",
      "ar;E:\\netbeans\\modules\\ext\\xerces.jar\n",
      "3 .= org.apache.tomcat.modules.monitor.TomcatGUI2\n"
     ]
    }
   ],
   "source": [
    "print(dataset[idx_to_bug_id.index(9350)][\"description\"])"
   ]
  },
  {
   "cell_type": "code",
   "execution_count": null,
   "metadata": {},
   "outputs": [],
   "source": []
  },
  {
   "cell_type": "markdown",
   "metadata": {},
   "source": [
    "## When stacktrace is used"
   ]
  },
  {
   "cell_type": "code",
   "execution_count": 171,
   "metadata": {},
   "outputs": [
    {
     "name": "stderr",
     "output_type": "stream",
     "text": [
      "100%|██████████| 65417/65417 [01:23<00:00, 783.14it/s]\n"
     ]
    }
   ],
   "source": [
    "loaded_data = np.load('netbeans_sbert_stacktrace.npz')\n",
    "vectors = [loaded_data[str(b)] for b in tqdm(idx_to_bug_id)]"
   ]
  },
  {
   "cell_type": "code",
   "execution_count": 172,
   "metadata": {},
   "outputs": [
    {
     "name": "stderr",
     "output_type": "stream",
     "text": [
      "100%|██████████| 20543/20543 [00:26<00:00, 788.58it/s]\n",
      "100%|██████████| 20543/20543 [00:27<00:00, 748.54it/s]\n"
     ]
    }
   ],
   "source": [
    "accuracies = []\n",
    "has_duplicate_in_top_5 = []\n",
    "\n",
    "index = pynndescent.NNDescent(np.array(vectors), n_neighbors=100, metric=\"cosine\")\n",
    "index.prepare()\n",
    "\n",
    "Q_vectors = np.array([loaded_data[str(bug_id)] for bug_id in tqdm(Q_set)])\n",
    "\n",
    "# children_lists = [union_find.get_children(bug_id) for bug_id in tqdm(Q_set)]\n",
    "children_lists = []\n",
    "for bug_id in tqdm(Q_set):\n",
    "    children = union_find.get_children(bug_id)\n",
    "    children.remove(bug_id)\n",
    "    children_lists.append(children)\n",
    "\n",
    "\n",
    "\n",
    "topk_indeces, distances = index.query(Q_vectors, 11)\n",
    "\n",
    "for children, topk_idx in zip(children_lists, topk_indeces):\n",
    "    topk = [idx_to_bug_id[i] for i in topk_idx]\n",
    "    children_in_top_k = list(set(children).intersection(set(topk)))\n",
    "    accuracy = len(children_in_top_k) / len(children)\n",
    "    accuracies.append(accuracy)\n",
    "\n",
    "topk_indeces, distances = index.query(Q_vectors, 6)\n",
    "for children, topk_idx in zip(children_lists, topk_indeces):\n",
    "    topk = [idx_to_bug_id[i] for i in topk_idx]\n",
    "    has_dup_in_top = False\n",
    "    for child in children:\n",
    "        if child in topk:\n",
    "            has_dup_in_top = True\n",
    "            break\n",
    "    if has_dup_in_top:\n",
    "        has_duplicate_in_top_5.append(1)\n",
    "    else:\n",
    "        has_duplicate_in_top_5.append(0)\n"
   ]
  },
  {
   "cell_type": "code",
   "execution_count": 173,
   "metadata": {},
   "outputs": [
    {
     "name": "stdout",
     "output_type": "stream",
     "text": [
      "0.6212318459953607 0.4244799036211423\n",
      "1.0 0.0\n"
     ]
    }
   ],
   "source": [
    "print(np.mean(accuracies), np.std(accuracies))\n",
    "print(np.max(accuracies), np.min(accuracies))"
   ]
  },
  {
   "cell_type": "code",
   "execution_count": 174,
   "metadata": {},
   "outputs": [
    {
     "data": {
      "text/plain": [
       "(array([ 4832.,    65.,   127.,   159.,   136.,   187.,   261.,   268.,\n",
       "          144.,   108.,   547.,    57.,   193.,    85.,    25.,  1273.,\n",
       "           45.,   127.,   185.,    43.,   607.,   103.,   357.,    63.,\n",
       "          179.,   151.,    38.,    52.,     0., 10126.]),\n",
       " array([0.        , 0.03333333, 0.06666667, 0.1       , 0.13333333,\n",
       "        0.16666667, 0.2       , 0.23333333, 0.26666667, 0.3       ,\n",
       "        0.33333333, 0.36666667, 0.4       , 0.43333333, 0.46666667,\n",
       "        0.5       , 0.53333333, 0.56666667, 0.6       , 0.63333333,\n",
       "        0.66666667, 0.7       , 0.73333333, 0.76666667, 0.8       ,\n",
       "        0.83333333, 0.86666667, 0.9       , 0.93333333, 0.96666667,\n",
       "        1.        ]),\n",
       " <BarContainer object of 30 artists>)"
      ]
     },
     "execution_count": 174,
     "metadata": {},
     "output_type": "execute_result"
    },
    {
     "data": {
      "image/png": "[encoded data removed]",
      "text/plain": [
       "<Figure size 640x480 with 1 Axes>"
      ]
     },
     "metadata": {},
     "output_type": "display_data"
    }
   ],
   "source": [
    "plt.hist(accuracies, color='lightblue', ec='black', bins=30)"
   ]
  },
  {
   "cell_type": "code",
   "execution_count": 175,
   "metadata": {},
   "outputs": [
    {
     "data": {
      "text/plain": [
       "0.724480358272891"
      ]
     },
     "execution_count": 175,
     "metadata": {},
     "output_type": "execute_result"
    }
   ],
   "source": [
    "np.mean(has_duplicate_in_top_5)"
   ]
  },
  {
   "cell_type": "code",
   "execution_count": 176,
   "metadata": {},
   "outputs": [
    {
     "data": {
      "text/plain": [
       "(array([ 5660., 14883.]),\n",
       " array([0. , 0.5, 1. ]),\n",
       " <BarContainer object of 2 artists>)"
      ]
     },
     "execution_count": 176,
     "metadata": {},
     "output_type": "execute_result"
    },
    {
     "data": {
      "image/png": "[encoded data removed]",
      "text/plain": [
       "<Figure size 640x480 with 1 Axes>"
      ]
     },
     "metadata": {},
     "output_type": "display_data"
    }
   ],
   "source": [
    "plt.hist(has_duplicate_in_top_5, color='lightblue', ec='black', bins=2)"
   ]
  },
  {
   "cell_type": "markdown",
   "metadata": {},
   "source": [
    "# Retry on eclipse 2018 dataset"
   ]
  },
  {
   "cell_type": "code",
   "execution_count": 7,
   "metadata": {},
   "outputs": [],
   "source": [
    "# loading netbeans 2016 dataset\n",
    "file_path = os.path.join(path_to_datasets, \"eclipse_2018\", projects[\"eclipse_2018\"])\n",
    "\n",
    "try:\n",
    "    with open(file_path, 'r') as json_file:\n",
    "        dataset = json.load(json_file)\n",
    "    # print(dataset)\n",
    "except json.JSONDecodeError as e:\n",
    "    print(f\"Error decoding JSON: {e}\")\n",
    "except FileNotFoundError:\n",
    "    print(f\"File not found: {file_path}\")"
   ]
  },
  {
   "cell_type": "code",
   "execution_count": 8,
   "metadata": {},
   "outputs": [
    {
     "data": {
      "text/plain": [
       "55968"
      ]
     },
     "execution_count": 8,
     "metadata": {},
     "output_type": "execute_result"
    }
   ],
   "source": [
    "len(dataset)"
   ]
  },
  {
   "cell_type": "code",
   "execution_count": 9,
   "metadata": {},
   "outputs": [
    {
     "name": "stdout",
     "output_type": "stream",
     "text": [
      "8332\n"
     ]
    }
   ],
   "source": [
    "num_br_withduplication = 0\n",
    "for point in dataset:\n",
    "    if point[\"dup_id\"] is not None:\n",
    "        num_br_withduplication += 1\n",
    "print(num_br_withduplication)"
   ]
  },
  {
   "cell_type": "code",
   "execution_count": 10,
   "metadata": {},
   "outputs": [],
   "source": [
    "idx_to_bug_id = []\n",
    "for point in dataset:\n",
    "    idx_to_bug_id.append(point[\"bug_id\"])"
   ]
  },
  {
   "cell_type": "code",
   "execution_count": 11,
   "metadata": {},
   "outputs": [],
   "source": [
    "union_find = my_utils.UnionFind()\n",
    "union_find.process_json_data(dataset, \"eclipse_2018\")"
   ]
  },
  {
   "cell_type": "code",
   "execution_count": 12,
   "metadata": {},
   "outputs": [],
   "source": [
    "Q_set = union_find.get_all_children()"
   ]
  },
  {
   "cell_type": "code",
   "execution_count": 13,
   "metadata": {},
   "outputs": [
    {
     "data": {
      "text/plain": [
       "4297"
      ]
     },
     "execution_count": 13,
     "metadata": {},
     "output_type": "execute_result"
    }
   ],
   "source": [
    "len(union_find.get_roots())"
   ]
  },
  {
   "cell_type": "code",
   "execution_count": 14,
   "metadata": {},
   "outputs": [
    {
     "name": "stderr",
     "output_type": "stream",
     "text": [
      "  1%|          | 387/55968 [00:00<00:17, 3265.43it/s]"
     ]
    },
    {
     "name": "stderr",
     "output_type": "stream",
     "text": [
      "100%|██████████| 55968/55968 [00:22<00:00, 2457.55it/s]\n"
     ]
    }
   ],
   "source": [
    "descs_wo_stacktraces = remove_stacktrace(dataset)"
   ]
  },
  {
   "cell_type": "markdown",
   "metadata": {},
   "source": [
    "## when shot desc is used"
   ]
  },
  {
   "cell_type": "markdown",
   "metadata": {},
   "source": [
    "### Calculate accuracy. Given a query br, see if all of their duplicates are in top 10"
   ]
  },
  {
   "cell_type": "code",
   "execution_count": 15,
   "metadata": {},
   "outputs": [
    {
     "name": "stderr",
     "output_type": "stream",
     "text": [
      "100%|██████████| 55968/55968 [01:04<00:00, 870.73it/s] \n"
     ]
    }
   ],
   "source": [
    "loaded_data = np.load('eclipse_sbert_short_desc.npz')\n",
    "vectors = [loaded_data[str(b)] for b in tqdm(idx_to_bug_id)]"
   ]
  },
  {
   "cell_type": "code",
   "execution_count": 16,
   "metadata": {},
   "outputs": [
    {
     "name": "stderr",
     "output_type": "stream",
     "text": [
      "/home/grads/t/tiendat.ng.cs/.local/lib/python3.8/site-packages/scipy/sparse/_index.py:146: SparseEfficiencyWarning: Changing the sparsity structure of a csr_matrix is expensive. lil_matrix is more efficient.\n",
      "  self._set_arrayXarray(i, j, x)\n",
      "100%|██████████| 12629/12629 [00:14<00:00, 877.22it/s]\n",
      "100%|██████████| 12629/12629 [00:10<00:00, 1261.44it/s]\n"
     ]
    }
   ],
   "source": [
    "accuracies = []\n",
    "has_duplicate_in_top_5 = []\n",
    "\n",
    "index = pynndescent.NNDescent(np.array(vectors), n_neighbors=100, metric=\"cosine\")\n",
    "index.prepare()\n",
    "\n",
    "Q_vectors = np.array([loaded_data[str(bug_id)] for bug_id in tqdm(Q_set)])\n",
    "\n",
    "# children_lists = [union_find.get_children(bug_id) for bug_id in tqdm(Q_set)]\n",
    "children_lists = []\n",
    "for bug_id in tqdm(Q_set):\n",
    "    children = union_find.get_children(bug_id)\n",
    "    children.remove(bug_id)\n",
    "    children_lists.append(children)\n",
    "\n",
    "\n",
    "\n",
    "topk_indeces, distances = index.query(Q_vectors, 11)\n",
    "\n",
    "for children, topk_idx in zip(children_lists, topk_indeces):\n",
    "    topk = [idx_to_bug_id[i] for i in topk_idx]\n",
    "    children_in_top_k = list(set(children).intersection(set(topk)))\n",
    "    accuracy = len(children_in_top_k) / len(children)\n",
    "    accuracies.append(accuracy)\n",
    "\n",
    "topk_indeces, distances = index.query(Q_vectors, 6)\n",
    "for children, topk_idx in zip(children_lists, topk_indeces):\n",
    "    topk = [idx_to_bug_id[i] for i in topk_idx]\n",
    "    has_dup_in_top = False\n",
    "    for child in children:\n",
    "        if child in topk:\n",
    "            has_dup_in_top = True\n",
    "            break\n",
    "    if has_dup_in_top:\n",
    "        has_duplicate_in_top_5.append(1)\n",
    "    else:\n",
    "        has_duplicate_in_top_5.append(0)\n"
   ]
  },
  {
   "cell_type": "code",
   "execution_count": 17,
   "metadata": {},
   "outputs": [
    {
     "name": "stdout",
     "output_type": "stream",
     "text": [
      "0.2588202147653705 0.3867473111168451\n",
      "1.0 0.0\n"
     ]
    }
   ],
   "source": [
    "print(np.mean(accuracies), np.std(accuracies))\n",
    "print(np.max(accuracies), np.min(accuracies))"
   ]
  },
  {
   "cell_type": "code",
   "execution_count": 18,
   "metadata": {},
   "outputs": [
    {
     "data": {
      "text/plain": [
       "(array([7.542e+03, 1.470e+02, 1.040e+02, 1.420e+02, 8.600e+01, 1.800e+02,\n",
       "        2.470e+02, 2.200e+02, 6.900e+01, 1.020e+02, 3.270e+02, 4.000e+01,\n",
       "        1.140e+02, 4.100e+01, 4.000e+00, 6.470e+02, 8.000e+00, 3.400e+01,\n",
       "        2.500e+01, 7.000e+00, 1.270e+02, 1.000e+01, 5.400e+01, 1.400e+01,\n",
       "        1.000e+01, 2.500e+01, 4.000e+00, 3.000e+00, 0.000e+00, 2.296e+03]),\n",
       " array([0.        , 0.03333333, 0.06666667, 0.1       , 0.13333333,\n",
       "        0.16666667, 0.2       , 0.23333333, 0.26666667, 0.3       ,\n",
       "        0.33333333, 0.36666667, 0.4       , 0.43333333, 0.46666667,\n",
       "        0.5       , 0.53333333, 0.56666667, 0.6       , 0.63333333,\n",
       "        0.66666667, 0.7       , 0.73333333, 0.76666667, 0.8       ,\n",
       "        0.83333333, 0.86666667, 0.9       , 0.93333333, 0.96666667,\n",
       "        1.        ]),\n",
       " <BarContainer object of 30 artists>)"
      ]
     },
     "execution_count": 18,
     "metadata": {},
     "output_type": "execute_result"
    },
    {
     "data": {
      "image/png": "[encoded data removed]",
      "text/plain": [
       "<Figure size 640x480 with 1 Axes>"
      ]
     },
     "metadata": {},
     "output_type": "display_data"
    }
   ],
   "source": [
    "plt.hist(accuracies, color='lightblue', ec='black', bins=30)"
   ]
  },
  {
   "cell_type": "code",
   "execution_count": 19,
   "metadata": {},
   "outputs": [
    {
     "data": {
      "text/plain": [
       "0.3611529020508354"
      ]
     },
     "execution_count": 19,
     "metadata": {},
     "output_type": "execute_result"
    }
   ],
   "source": [
    "np.mean(has_duplicate_in_top_5)"
   ]
  },
  {
   "cell_type": "code",
   "execution_count": 20,
   "metadata": {},
   "outputs": [
    {
     "data": {
      "text/plain": [
       "(array([8068., 4561.]),\n",
       " array([0. , 0.5, 1. ]),\n",
       " <BarContainer object of 2 artists>)"
      ]
     },
     "execution_count": 20,
     "metadata": {},
     "output_type": "execute_result"
    },
    {
     "data": {
      "image/png": "[encoded data removed]",
      "text/plain": [
       "<Figure size 640x480 with 1 Axes>"
      ]
     },
     "metadata": {},
     "output_type": "display_data"
    }
   ],
   "source": [
    "plt.hist(has_duplicate_in_top_5, color='lightblue', ec='black', bins=2)"
   ]
  },
  {
   "cell_type": "code",
   "execution_count": null,
   "metadata": {},
   "outputs": [],
   "source": []
  },
  {
   "cell_type": "markdown",
   "metadata": {},
   "source": [
    "## when desc with stacktrace is used"
   ]
  },
  {
   "cell_type": "code",
   "execution_count": 21,
   "metadata": {},
   "outputs": [
    {
     "name": "stderr",
     "output_type": "stream",
     "text": [
      "100%|██████████| 55968/55968 [01:07<00:00, 826.19it/s] \n"
     ]
    }
   ],
   "source": [
    "loaded_data = np.load('eclipse_sbert_description.npz')\n",
    "vectors = [loaded_data[str(b)] for b in tqdm(idx_to_bug_id)]"
   ]
  },
  {
   "cell_type": "code",
   "execution_count": 22,
   "metadata": {},
   "outputs": [
    {
     "name": "stderr",
     "output_type": "stream",
     "text": [
      "100%|██████████| 12629/12629 [00:15<00:00, 831.04it/s]\n",
      "100%|██████████| 12629/12629 [00:10<00:00, 1235.42it/s]\n"
     ]
    }
   ],
   "source": [
    "accuracies = []\n",
    "has_duplicate_in_top_5 = []\n",
    "\n",
    "index = pynndescent.NNDescent(np.array(vectors), n_neighbors=100, metric=\"cosine\")\n",
    "index.prepare()\n",
    "\n",
    "Q_vectors = np.array([loaded_data[str(bug_id)] for bug_id in tqdm(Q_set)])\n",
    "\n",
    "# children_lists = [union_find.get_children(bug_id) for bug_id in tqdm(Q_set)]\n",
    "children_lists = []\n",
    "for bug_id in tqdm(Q_set):\n",
    "    children = union_find.get_children(bug_id)\n",
    "    children.remove(bug_id)\n",
    "    children_lists.append(children)\n",
    "\n",
    "\n",
    "\n",
    "topk_indeces, distances = index.query(Q_vectors, 11)\n",
    "\n",
    "for children, topk_idx in zip(children_lists, topk_indeces):\n",
    "    topk = [idx_to_bug_id[i] for i in topk_idx]\n",
    "    children_in_top_k = list(set(children).intersection(set(topk)))\n",
    "    accuracy = len(children_in_top_k) / len(children)\n",
    "    accuracies.append(accuracy)\n",
    "\n",
    "topk_indeces, distances = index.query(Q_vectors, 6)\n",
    "for children, topk_idx in zip(children_lists, topk_indeces):\n",
    "    topk = [idx_to_bug_id[i] for i in topk_idx]\n",
    "    has_dup_in_top = False\n",
    "    for child in children:\n",
    "        if child in topk:\n",
    "            has_dup_in_top = True\n",
    "            break\n",
    "    if has_dup_in_top:\n",
    "        has_duplicate_in_top_5.append(1)\n",
    "    else:\n",
    "        has_duplicate_in_top_5.append(0)\n"
   ]
  },
  {
   "cell_type": "code",
   "execution_count": 23,
   "metadata": {},
   "outputs": [
    {
     "name": "stdout",
     "output_type": "stream",
     "text": [
      "0.36216240427025753 0.4222156530878482\n",
      "1.0 0.0\n"
     ]
    }
   ],
   "source": [
    "print(np.mean(accuracies), np.std(accuracies))\n",
    "print(np.max(accuracies), np.min(accuracies))"
   ]
  },
  {
   "cell_type": "code",
   "execution_count": 24,
   "metadata": {},
   "outputs": [
    {
     "data": {
      "text/plain": [
       "(array([5.901e+03, 1.190e+02, 2.560e+02, 1.170e+02, 9.500e+01, 1.650e+02,\n",
       "        2.040e+02, 2.780e+02, 7.500e+01, 4.500e+01, 4.600e+02, 3.600e+01,\n",
       "        1.420e+02, 2.300e+01, 6.000e+00, 8.700e+02, 2.100e+01, 1.200e+01,\n",
       "        7.500e+01, 0.000e+00, 2.420e+02, 1.600e+01, 8.400e+01, 1.700e+01,\n",
       "        4.200e+01, 1.900e+01, 5.000e+00, 1.000e+01, 0.000e+00, 3.294e+03]),\n",
       " array([0.        , 0.03333333, 0.06666667, 0.1       , 0.13333333,\n",
       "        0.16666667, 0.2       , 0.23333333, 0.26666667, 0.3       ,\n",
       "        0.33333333, 0.36666667, 0.4       , 0.43333333, 0.46666667,\n",
       "        0.5       , 0.53333333, 0.56666667, 0.6       , 0.63333333,\n",
       "        0.66666667, 0.7       , 0.73333333, 0.76666667, 0.8       ,\n",
       "        0.83333333, 0.86666667, 0.9       , 0.93333333, 0.96666667,\n",
       "        1.        ]),\n",
       " <BarContainer object of 30 artists>)"
      ]
     },
     "execution_count": 24,
     "metadata": {},
     "output_type": "execute_result"
    },
    {
     "data": {
      "image/png": "[encoded data removed]",
      "text/plain": [
       "<Figure size 640x480 with 1 Axes>"
      ]
     },
     "metadata": {},
     "output_type": "display_data"
    }
   ],
   "source": [
    "plt.hist(accuracies, color='lightblue', ec='black', bins=30)"
   ]
  },
  {
   "cell_type": "code",
   "execution_count": 25,
   "metadata": {},
   "outputs": [
    {
     "data": {
      "text/plain": [
       "0.4863409612795946"
      ]
     },
     "execution_count": 25,
     "metadata": {},
     "output_type": "execute_result"
    }
   ],
   "source": [
    "np.mean(has_duplicate_in_top_5)"
   ]
  },
  {
   "cell_type": "code",
   "execution_count": 26,
   "metadata": {},
   "outputs": [
    {
     "data": {
      "text/plain": [
       "(array([6487., 6142.]),\n",
       " array([0. , 0.5, 1. ]),\n",
       " <BarContainer object of 2 artists>)"
      ]
     },
     "execution_count": 26,
     "metadata": {},
     "output_type": "execute_result"
    },
    {
     "data": {
      "image/png": "[encoded data removed]",
      "text/plain": [
       "<Figure size 640x480 with 1 Axes>"
      ]
     },
     "metadata": {},
     "output_type": "display_data"
    }
   ],
   "source": [
    "plt.hist(has_duplicate_in_top_5, color='lightblue', ec='black', bins=2)"
   ]
  },
  {
   "cell_type": "markdown",
   "metadata": {},
   "source": [
    "## when desc without stacktrace is used"
   ]
  },
  {
   "cell_type": "code",
   "execution_count": 27,
   "metadata": {},
   "outputs": [
    {
     "name": "stderr",
     "output_type": "stream",
     "text": [
      "100%|██████████| 55968/55968 [01:05<00:00, 856.10it/s] \n"
     ]
    }
   ],
   "source": [
    "loaded_data = np.load('eclipse_sbert_description_wo_stacktrace.npz')\n",
    "vectors = [loaded_data[str(b)] for b in tqdm(idx_to_bug_id)]"
   ]
  },
  {
   "cell_type": "code",
   "execution_count": 28,
   "metadata": {},
   "outputs": [
    {
     "name": "stderr",
     "output_type": "stream",
     "text": [
      "/home/grads/t/tiendat.ng.cs/.local/lib/python3.8/site-packages/scipy/sparse/_index.py:146: SparseEfficiencyWarning: Changing the sparsity structure of a csr_matrix is expensive. lil_matrix is more efficient.\n",
      "  self._set_arrayXarray(i, j, x)\n",
      "100%|██████████| 12629/12629 [00:14<00:00, 880.62it/s]\n",
      "100%|██████████| 12629/12629 [00:10<00:00, 1249.06it/s]\n"
     ]
    }
   ],
   "source": [
    "accuracies = []\n",
    "has_duplicate_in_top_5 = []\n",
    "\n",
    "index = pynndescent.NNDescent(np.array(vectors), n_neighbors=100, metric=\"cosine\")\n",
    "index.prepare()\n",
    "\n",
    "Q_vectors = np.array([loaded_data[str(bug_id)] for bug_id in tqdm(Q_set)])\n",
    "\n",
    "# children_lists = [union_find.get_children(bug_id) for bug_id in tqdm(Q_set)]\n",
    "children_lists = []\n",
    "for bug_id in tqdm(Q_set):\n",
    "    children = union_find.get_children(bug_id)\n",
    "    children.remove(bug_id)\n",
    "    children_lists.append(children)\n",
    "\n",
    "\n",
    "\n",
    "topk_indeces, distances = index.query(Q_vectors, 11)\n",
    "\n",
    "for children, topk_idx in zip(children_lists, topk_indeces):\n",
    "    topk = [idx_to_bug_id[i] for i in topk_idx]\n",
    "    children_in_top_k = list(set(children).intersection(set(topk)))\n",
    "    accuracy = len(children_in_top_k) / len(children)\n",
    "    accuracies.append(accuracy)\n",
    "\n",
    "topk_indeces, distances = index.query(Q_vectors, 6)\n",
    "for children, topk_idx in zip(children_lists, topk_indeces):\n",
    "    topk = [idx_to_bug_id[i] for i in topk_idx]\n",
    "    has_dup_in_top = False\n",
    "    for child in children:\n",
    "        if child in topk:\n",
    "            has_dup_in_top = True\n",
    "            break\n",
    "    if has_dup_in_top:\n",
    "        has_duplicate_in_top_5.append(1)\n",
    "    else:\n",
    "        has_duplicate_in_top_5.append(0)\n"
   ]
  },
  {
   "cell_type": "code",
   "execution_count": 29,
   "metadata": {},
   "outputs": [
    {
     "name": "stdout",
     "output_type": "stream",
     "text": [
      "0.22192767337886696 0.3692333944230628\n",
      "1.0 0.0\n"
     ]
    }
   ],
   "source": [
    "print(np.mean(accuracies), np.std(accuracies))\n",
    "print(np.max(accuracies), np.min(accuracies))"
   ]
  },
  {
   "cell_type": "code",
   "execution_count": 30,
   "metadata": {},
   "outputs": [
    {
     "data": {
      "text/plain": [
       "(array([8.129e+03, 1.800e+02, 2.030e+02, 1.170e+02, 1.170e+02, 1.380e+02,\n",
       "        1.640e+02, 1.890e+02, 7.000e+01, 6.400e+01, 3.390e+02, 4.400e+01,\n",
       "        8.500e+01, 1.400e+01, 6.000e+00, 5.120e+02, 1.800e+01, 1.200e+01,\n",
       "        2.700e+01, 0.000e+00, 1.150e+02, 1.400e+01, 3.500e+01, 9.000e+00,\n",
       "        3.400e+01, 7.000e+00, 6.000e+00, 1.100e+01, 0.000e+00, 1.970e+03]),\n",
       " array([0.        , 0.03333333, 0.06666667, 0.1       , 0.13333333,\n",
       "        0.16666667, 0.2       , 0.23333333, 0.26666667, 0.3       ,\n",
       "        0.33333333, 0.36666667, 0.4       , 0.43333333, 0.46666667,\n",
       "        0.5       , 0.53333333, 0.56666667, 0.6       , 0.63333333,\n",
       "        0.66666667, 0.7       , 0.73333333, 0.76666667, 0.8       ,\n",
       "        0.83333333, 0.86666667, 0.9       , 0.93333333, 0.96666667,\n",
       "        1.        ]),\n",
       " <BarContainer object of 30 artists>)"
      ]
     },
     "execution_count": 30,
     "metadata": {},
     "output_type": "execute_result"
    },
    {
     "data": {
      "image/png": "[encoded data removed]",
      "text/plain": [
       "<Figure size 640x480 with 1 Axes>"
      ]
     },
     "metadata": {},
     "output_type": "display_data"
    }
   ],
   "source": [
    "plt.hist(accuracies, color='lightblue', ec='black', bins=30)"
   ]
  },
  {
   "cell_type": "code",
   "execution_count": 31,
   "metadata": {},
   "outputs": [
    {
     "data": {
      "text/plain": [
       "0.32393697046480324"
      ]
     },
     "execution_count": 31,
     "metadata": {},
     "output_type": "execute_result"
    }
   ],
   "source": [
    "np.mean(has_duplicate_in_top_5)"
   ]
  },
  {
   "cell_type": "code",
   "execution_count": 32,
   "metadata": {},
   "outputs": [
    {
     "data": {
      "text/plain": [
       "(array([8538., 4091.]),\n",
       " array([0. , 0.5, 1. ]),\n",
       " <BarContainer object of 2 artists>)"
      ]
     },
     "execution_count": 32,
     "metadata": {},
     "output_type": "execute_result"
    },
    {
     "data": {
      "image/png": "[encoded data removed]",
      "text/plain": [
       "<Figure size 640x480 with 1 Axes>"
      ]
     },
     "metadata": {},
     "output_type": "display_data"
    }
   ],
   "source": [
    "plt.hist(has_duplicate_in_top_5, color='lightblue', ec='black', bins=2)"
   ]
  },
  {
   "cell_type": "code",
   "execution_count": null,
   "metadata": {},
   "outputs": [],
   "source": []
  },
  {
   "cell_type": "markdown",
   "metadata": {},
   "source": [
    "## When stacktrace is used"
   ]
  },
  {
   "cell_type": "code",
   "execution_count": 33,
   "metadata": {},
   "outputs": [
    {
     "name": "stderr",
     "output_type": "stream",
     "text": [
      "100%|██████████| 55968/55968 [01:05<00:00, 856.35it/s] \n"
     ]
    }
   ],
   "source": [
    "loaded_data = np.load('eclipse_sbert_stacktrace.npz')\n",
    "vectors = [loaded_data[str(b)] for b in tqdm(idx_to_bug_id)]"
   ]
  },
  {
   "cell_type": "code",
   "execution_count": 34,
   "metadata": {},
   "outputs": [
    {
     "name": "stderr",
     "output_type": "stream",
     "text": [
      "/home/grads/t/tiendat.ng.cs/.local/lib/python3.8/site-packages/scipy/sparse/_index.py:146: SparseEfficiencyWarning: Changing the sparsity structure of a csr_matrix is expensive. lil_matrix is more efficient.\n",
      "  self._set_arrayXarray(i, j, x)\n",
      "100%|██████████| 12629/12629 [00:14<00:00, 872.22it/s]\n",
      "100%|██████████| 12629/12629 [00:09<00:00, 1280.73it/s]\n"
     ]
    }
   ],
   "source": [
    "accuracies = []\n",
    "has_duplicate_in_top_5 = []\n",
    "\n",
    "index = pynndescent.NNDescent(np.array(vectors), n_neighbors=100, metric=\"cosine\")\n",
    "index.prepare()\n",
    "\n",
    "Q_vectors = np.array([loaded_data[str(bug_id)] for bug_id in tqdm(Q_set)])\n",
    "\n",
    "# children_lists = [union_find.get_children(bug_id) for bug_id in tqdm(Q_set)]\n",
    "children_lists = []\n",
    "for bug_id in tqdm(Q_set):\n",
    "    children = union_find.get_children(bug_id)\n",
    "    children.remove(bug_id)\n",
    "    children_lists.append(children)\n",
    "\n",
    "\n",
    "\n",
    "topk_indeces, distances = index.query(Q_vectors, 11)\n",
    "\n",
    "for children, topk_idx in zip(children_lists, topk_indeces):\n",
    "    topk = [idx_to_bug_id[i] for i in topk_idx]\n",
    "    children_in_top_k = list(set(children).intersection(set(topk)))\n",
    "    accuracy = len(children_in_top_k) / len(children)\n",
    "    accuracies.append(accuracy)\n",
    "\n",
    "topk_indeces, distances = index.query(Q_vectors, 6)\n",
    "for children, topk_idx in zip(children_lists, topk_indeces):\n",
    "    topk = [idx_to_bug_id[i] for i in topk_idx]\n",
    "    has_dup_in_top = False\n",
    "    for child in children:\n",
    "        if child in topk:\n",
    "            has_dup_in_top = True\n",
    "            break\n",
    "    if has_dup_in_top:\n",
    "        has_duplicate_in_top_5.append(1)\n",
    "    else:\n",
    "        has_duplicate_in_top_5.append(0)\n"
   ]
  },
  {
   "cell_type": "code",
   "execution_count": 35,
   "metadata": {},
   "outputs": [
    {
     "name": "stdout",
     "output_type": "stream",
     "text": [
      "0.6561711197175603 0.4234963930003988\n",
      "1.0 0.0\n"
     ]
    }
   ],
   "source": [
    "print(np.mean(accuracies), np.std(accuracies))\n",
    "print(np.max(accuracies), np.min(accuracies))"
   ]
  },
  {
   "cell_type": "code",
   "execution_count": 36,
   "metadata": {},
   "outputs": [
    {
     "data": {
      "text/plain": [
       "(array([2.760e+03, 1.060e+02, 1.220e+02, 6.200e+01, 5.000e+01, 4.900e+01,\n",
       "        7.200e+01, 1.860e+02, 9.200e+01, 8.400e+01, 2.290e+02, 5.000e+01,\n",
       "        1.350e+02, 8.000e+01, 5.000e+00, 6.710e+02, 5.100e+01, 5.200e+01,\n",
       "        9.300e+01, 2.000e+00, 2.600e+02, 2.600e+01, 1.380e+02, 6.200e+01,\n",
       "        1.230e+02, 6.900e+01, 4.100e+01, 1.100e+01, 0.000e+00, 6.948e+03]),\n",
       " array([0.        , 0.03333333, 0.06666667, 0.1       , 0.13333333,\n",
       "        0.16666667, 0.2       , 0.23333333, 0.26666667, 0.3       ,\n",
       "        0.33333333, 0.36666667, 0.4       , 0.43333333, 0.46666667,\n",
       "        0.5       , 0.53333333, 0.56666667, 0.6       , 0.63333333,\n",
       "        0.66666667, 0.7       , 0.73333333, 0.76666667, 0.8       ,\n",
       "        0.83333333, 0.86666667, 0.9       , 0.93333333, 0.96666667,\n",
       "        1.        ]),\n",
       " <BarContainer object of 30 artists>)"
      ]
     },
     "execution_count": 36,
     "metadata": {},
     "output_type": "execute_result"
    },
    {
     "data": {
      "image/png": "[encoded data removed]",
      "text/plain": [
       "<Figure size 640x480 with 1 Axes>"
      ]
     },
     "metadata": {},
     "output_type": "display_data"
    }
   ],
   "source": [
    "plt.hist(accuracies, color='lightblue', ec='black', bins=30)"
   ]
  },
  {
   "cell_type": "code",
   "execution_count": 37,
   "metadata": {},
   "outputs": [
    {
     "data": {
      "text/plain": [
       "0.7542956686990261"
      ]
     },
     "execution_count": 37,
     "metadata": {},
     "output_type": "execute_result"
    }
   ],
   "source": [
    "np.mean(has_duplicate_in_top_5)"
   ]
  },
  {
   "cell_type": "code",
   "execution_count": 38,
   "metadata": {},
   "outputs": [
    {
     "data": {
      "text/plain": [
       "(array([3103., 9526.]),\n",
       " array([0. , 0.5, 1. ]),\n",
       " <BarContainer object of 2 artists>)"
      ]
     },
     "execution_count": 38,
     "metadata": {},
     "output_type": "execute_result"
    },
    {
     "data": {
      "image/png": "[encoded data removed]",
      "text/plain": [
       "<Figure size 640x480 with 1 Axes>"
      ]
     },
     "metadata": {},
     "output_type": "display_data"
    }
   ],
   "source": [
    "plt.hist(has_duplicate_in_top_5, color='lightblue', ec='black', bins=2)"
   ]
  },
  {
   "cell_type": "code",
   "execution_count": null,
   "metadata": {},
   "outputs": [],
   "source": []
  },
  {
   "cell_type": "code",
   "execution_count": null,
   "metadata": {},
   "outputs": [],
   "source": []
  }
 ],
 "metadata": {
  "kernelspec": {
   "display_name": "Python 3",
   "language": "python",
   "name": "python3"
  },
  "language_info": {
   "codemirror_mode": {
    "name": "ipython",
    "version": 3
   },
   "file_extension": ".py",
   "mimetype": "text/x-python",
   "name": "python",
   "nbconvert_exporter": "python",
   "pygments_lexer": "ipython3",
   "version": "3.8.10"
  }
 },
 "nbformat": 4,
 "nbformat_minor": 2
}
