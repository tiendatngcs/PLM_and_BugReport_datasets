{
 "cells": [
  {
   "cell_type": "code",
   "execution_count": null,
   "metadata": {},
   "outputs": [],
   "source": []
  },
  {
   "cell_type": "markdown",
   "metadata": {},
   "source": [
    "# imports"
   ]
  },
  {
   "cell_type": "code",
   "execution_count": 45,
   "metadata": {},
   "outputs": [],
   "source": [
    "from sentence_transformers import SentenceTransformer, util\n",
    "import torch\n",
    "from transformers import RobertaTokenizer, RobertaConfig, RobertaModel, AutoTokenizer, AutoModel, AutoModelForSequenceClassification, TextClassificationPipeline, DataCollatorWithPadding\n",
    "\n",
    "import sqlite3\n",
    "import argparse\n",
    "from tqdm import tqdm\n",
    "import numpy as np\n",
    "from matplotlib import pyplot as plt\n",
    "import os\n",
    "from numpy.linalg import norm\n",
    "import sys\n",
    "from itertools import combinations\n",
    "import random\n",
    "from sklearn.model_selection import train_test_split\n",
    "\n",
    "from datasets import load_dataset"
   ]
  },
  {
   "cell_type": "markdown",
   "metadata": {},
   "source": [
    "# Utils"
   ]
  },
  {
   "cell_type": "code",
   "execution_count": 2,
   "metadata": {},
   "outputs": [],
   "source": [
    "class UnionFind:\n",
    "    def __init__(self):\n",
    "        self.parent = {}  # Dictionary to store parent nodes\n",
    "        self.ranks = {}    # Dictionary to store rank (or size) of each set\n",
    "        self.processed = False\n",
    "        self.project_name = None\n",
    "\n",
    "    def find(self, x):\n",
    "        if x not in self.parent:\n",
    "            self.parent[x] = x\n",
    "            self.ranks[x] = 1\n",
    "            return x\n",
    "\n",
    "        # Path compression\n",
    "        if self.parent[x] != x:\n",
    "            self.parent[x] = self.find(self.parent[x])\n",
    "        return self.parent[x]\n",
    "\n",
    "    def union(self, x, y):\n",
    "        root_x = self.find(x)\n",
    "        root_y = self.find(y)\n",
    "\n",
    "        if root_x != root_y:\n",
    "            if self.ranks[root_x] < self.ranks[root_y]:\n",
    "                self.parent[root_x] = root_y\n",
    "                self.ranks[root_y] += self.ranks[root_x]\n",
    "            else:\n",
    "                self.parent[root_y] = root_x\n",
    "                self.ranks[root_x] += self.ranks[root_y]\n",
    "            \n",
    "    def process_project(self, conn, project_name):\n",
    "        cursor = conn.cursor()\n",
    "        self.project_name = project_name\n",
    "        \n",
    "        cursor.execute(f\"SELECT * FROM {project_name}\")\n",
    "        for row in cursor.fetchall():\n",
    "            dup_id = int(row[column_names.index(\"dup_id\")])\n",
    "            if dup_id == -1: continue\n",
    "            bug_id = int(row[column_names.index(\"bug_id\")])\n",
    "            if (dup_id == bug_id): continue\n",
    "            assert(dup_id != bug_id)\n",
    "            self.union(bug_id, dup_id)\n",
    "        self.processed = True\n",
    "            \n",
    "    def get_roots(self,):\n",
    "        assert(self.processed)\n",
    "        return list(set(self.parent.values()))\n",
    "    \n",
    "    def get_children(self, parent):\n",
    "        assert(self.processed)\n",
    "        parent = self.find(parent)\n",
    "        children = [key for key, value in self.parent.items() if value == parent]\n",
    "        return children\n",
    "    \n",
    "    def get_all_children(self, ):\n",
    "        return [key for key, value in self.parent.items()]\n",
    "    \n",
    "    def are_dups(this, bug_id1, bug_id2):\n",
    "        if (bug_id1 not in this.parent.keys() or bug_id2 not in this.parent.keys()):\n",
    "            return False\n",
    "        return this.parent[bug_id1] == this.parent[bug_id2]\n",
    "            "
   ]
  },
  {
   "cell_type": "code",
   "execution_count": 3,
   "metadata": {},
   "outputs": [],
   "source": [
    "def get_bug_ids(conn, table_name):\n",
    "    cursor = conn.cursor()\n",
    "    column_name = \"bug_id\"\n",
    "\n",
    "    # Fetch table names using SQL query\n",
    "    cursor.execute(f\"SELECT DISTINCT {column_name} FROM {table_name} ORDER BY {column_name};\")\n",
    "    distinct_values_sorted = cursor.fetchall()\n",
    "\n",
    "    # Extract table names from the result\n",
    "    return [value[0] for value in distinct_values_sorted]"
   ]
  },
  {
   "cell_type": "code",
   "execution_count": 4,
   "metadata": {},
   "outputs": [],
   "source": [
    "def get_column_names(conn, table_name):\n",
    "    cursor = conn.cursor()\n",
    "\n",
    "    # Execute a query to get information about the columns in the specified table\n",
    "    cursor.execute(f\"PRAGMA table_info({table_name});\")\n",
    "    columns_info = cursor.fetchall()\n",
    "\n",
    "    # Extract and return the column names\n",
    "    column_names = [column[1] for column in columns_info]\n",
    "    return column_names"
   ]
  },
  {
   "cell_type": "code",
   "execution_count": 5,
   "metadata": {},
   "outputs": [],
   "source": [
    "def get_code_feature(conn, project_name, bug_id):\n",
    "    cursor = conn.cursor()\n",
    "\n",
    "    # Fetch table names using SQL query\n",
    "    query = f\"SELECT * FROM {project_name} WHERE bug_id = {bug_id};\"\n",
    "    # print(query)\n",
    "    cursor.execute(query)\n",
    "    result = cursor.fetchall()[0]\n",
    "    return result[column_names.index(\"code_feature\")]"
   ]
  },
  {
   "cell_type": "code",
   "execution_count": 6,
   "metadata": {},
   "outputs": [],
   "source": [
    "def get_descriptions(conn, project_name, bug_id):\n",
    "    cursor = conn.cursor()\n",
    "\n",
    "    # Fetch table names using SQL query\n",
    "    query = f\"SELECT * FROM {project_name} WHERE bug_id = {bug_id};\"\n",
    "    # print(query)\n",
    "    cursor.execute(query)\n",
    "    result = cursor.fetchall()[0]\n",
    "    desc = result[column_names.index(\"description\")]\n",
    "    short_desc = result[column_names.index(\"short_desc\")]\n",
    "\n",
    "    # Extract table names from the result\n",
    "    return (desc + \" \\n \" + short_desc).replace(\"\\\\'\", \"'\")"
   ]
  },
  {
   "cell_type": "code",
   "execution_count": 7,
   "metadata": {},
   "outputs": [],
   "source": [
    "def get_text_feature_from_db(conn, project_name, bug_id, selected_columns):\n",
    "    cursor = conn.cursor()\n",
    "\n",
    "    # Fetch table names using SQL query\n",
    "    query = f\"SELECT * FROM {project_name} WHERE bug_id = {bug_id};\"\n",
    "    # print(query)\n",
    "    cursor.execute(query)\n",
    "    result = cursor.fetchall()[0]\n",
    "    ret = \"\"\n",
    "    for selected_column in selected_columns:\n",
    "        ret += result[column_names.index(selected_columns)] + \" \"\n",
    "\n",
    "    # Extract table names from the result\n",
    "    return ret.replace(\"\\\\'\", \"'\")"
   ]
  },
  {
   "cell_type": "code",
   "execution_count": 8,
   "metadata": {},
   "outputs": [],
   "source": [
    "def vectorize(description, stride_len, chunk_size):\n",
    "    tokens = tokenizer.tokenize(description)\n",
    "    # if len og token array is < 32, we do nothing as there is not enough information\n",
    "    if (len(tokens) < chunk_size // 2): return None\n",
    "\n",
    "    # remember to add cls and sep token at each chunk\n",
    "    token_ids = tokenizer.convert_tokens_to_ids([tokenizer.cls_token]+tokens+[tokenizer.sep_token])\n",
    "\n",
    "    # divide token ids into batche of chunks\n",
    "    chunk_list=[]\n",
    "    for i in range(0, len(token_ids), stride_len):\n",
    "        chunk = token_ids[i:min(i+chunk_size, len(token_ids))]\n",
    "        assert(len(chunk) <= chunk_size)\n",
    "        if len(chunk) < chunk_size:\n",
    "            # keep going\n",
    "            continue\n",
    "            # if (len(chunk) < chunk_size // 2): continue\n",
    "            # pad_length = chunk_size - len(chunk)\n",
    "            # chunk += [tokenizer.pad_token_id]*pad_length\n",
    "        assert(len(chunk) == chunk_size)\n",
    "        # print(chunk)\n",
    "        chunk_list.append(chunk)\n",
    "\n",
    "    if(len(chunk_list) == 0): return None\n",
    "    chunk_arr = np.array(chunk_list)\n",
    "    # print(\"Chunk arr size{}\".format(chunk_arr.shape))\n",
    "    # context_embedding = model(torch.tensor(token_ids[:512])[None, :])[0]\n",
    "    context_embedding = model(torch.tensor(chunk_arr)[:, :])[0]\n",
    "    return context_embedding.detach().numpy()"
   ]
  },
  {
   "cell_type": "code",
   "execution_count": 9,
   "metadata": {},
   "outputs": [],
   "source": [
    "def get_duplicated_pairs(union_find):\n",
    "    roots = union_find.get_roots()\n",
    "    pairs = []\n",
    "    for root in roots:\n",
    "        group = union_find.get_children(root)\n",
    "        pairs += list(combinations(group, 2))\n",
    "    return pairs"
   ]
  },
  {
   "cell_type": "code",
   "execution_count": 10,
   "metadata": {},
   "outputs": [],
   "source": [
    "def get_non_duplicated_pairs(union_find, conn, size):\n",
    "    from_dup = union_find.get_all_children()\n",
    "    #sample in some other single reports\n",
    "    assert(union_find.processed)\n",
    "    samples = random.sample(get_bug_ids(conn, union_find.project_name), len(from_dup))\n",
    "    \n",
    "    pairs = []\n",
    "    count = 0\n",
    "    while (count < size):\n",
    "        pair = random.sample(samples, 2)\n",
    "        if pair[0] == pair[1] or union_find.are_dups(pair[0], pair[1]):\n",
    "            continue\n",
    "        pairs += [(pair[0], pair[1]),]\n",
    "        count += 1\n",
    "    return pairs"
   ]
  },
  {
   "cell_type": "code",
   "execution_count": 11,
   "metadata": {},
   "outputs": [],
   "source": [
    "def get_mislabels(union_find, bug_ids, anchor_bug_id, threshold):\n",
    "    assert(threshold >= 0 and threshold <= 1)\n",
    "    ret = []\n",
    "    for bug_id in tqdm(bug_ids):\n",
    "        if not union_find.are_dups(anchor_bug_id, bug_id):\n",
    "            sim_score = get_similarity_of_pair((anchor_bug_id, bug_id),)\n",
    "            if sim_score > threshold:\n",
    "                ret += [bug_id]\n",
    "    return ret"
   ]
  },
  {
   "cell_type": "code",
   "execution_count": 46,
   "metadata": {},
   "outputs": [],
   "source": [
    "def preprocess_function(examples):\n",
    "        # Tokenize the texts\n",
    "        args = (\n",
    "            (examples[sentence1_key],) if sentence2_key is None else (examples[sentence1_key], examples[sentence2_key])\n",
    "        )\n",
    "        result = tokenizer(*args, padding=padding, max_length=max_seq_length, truncation=True)\n",
    "\n",
    "        # Map labels to IDs (not necessary for GLUE tasks)\n",
    "        if label_to_id is not None and \"label\" in examples:\n",
    "            result[\"label\"] = [(label_to_id[l] if l != -1 else -1) for l in examples[\"label\"]]\n",
    "        return result"
   ]
  },
  {
   "cell_type": "markdown",
   "metadata": {},
   "source": [
    "# Connect to the database"
   ]
  },
  {
   "cell_type": "code",
   "execution_count": 14,
   "metadata": {},
   "outputs": [],
   "source": [
    "database_path = \"./dbrd_w_tech_terms.db\"\n",
    "\n",
    "\n",
    "conn = sqlite3.connect(database_path)\n",
    "cursor = conn.cursor()"
   ]
  },
  {
   "cell_type": "markdown",
   "metadata": {},
   "source": [
    "## Structuring our dataset"
   ]
  },
  {
   "cell_type": "code",
   "execution_count": 61,
   "metadata": {},
   "outputs": [],
   "source": [
    "project_name = \"eclipse\"\n",
    "\n",
    "bug_ids = get_bug_ids(conn, project_name)\n",
    "\n",
    "column_names = get_column_names(conn, project_name)\n",
    "\n",
    "union_find = UnionFind()\n",
    "union_find.process_project(conn, project_name)"
   ]
  },
  {
   "cell_type": "code",
   "execution_count": 62,
   "metadata": {},
   "outputs": [],
   "source": [
    "positive_set = get_duplicated_pairs(union_find)\n",
    "positive_labels = [1]*len(positive_set)"
   ]
  },
  {
   "cell_type": "code",
   "execution_count": 63,
   "metadata": {},
   "outputs": [],
   "source": [
    "negative_set = get_non_duplicated_pairs(union_find, conn, len(positive_set)*3)\n",
    "negative_labels = [0]*len(negative_set)"
   ]
  },
  {
   "cell_type": "code",
   "execution_count": 64,
   "metadata": {},
   "outputs": [
    {
     "name": "stdout",
     "output_type": "stream",
     "text": [
      "2792 8376\n"
     ]
    }
   ],
   "source": [
    "print(len(positive_set), len(negative_set))"
   ]
  },
  {
   "cell_type": "markdown",
   "metadata": {},
   "source": [
    "Out training set is 80% of positive set and 80% of negative set"
   ]
  },
  {
   "cell_type": "code",
   "execution_count": 70,
   "metadata": {},
   "outputs": [],
   "source": [
    "X_train, X_test, y_train, y_test = train_test_split(positive_set+negative_set, positive_labels+negative_labels, test_size=0.2, random_state=42)"
   ]
  },
  {
   "cell_type": "code",
   "execution_count": 71,
   "metadata": {},
   "outputs": [
    {
     "data": {
      "text/plain": [
       "2230"
      ]
     },
     "execution_count": 71,
     "metadata": {},
     "output_type": "execute_result"
    }
   ],
   "source": [
    "y_train.count(1)"
   ]
  },
  {
   "cell_type": "code",
   "execution_count": 72,
   "metadata": {},
   "outputs": [
    {
     "data": {
      "text/plain": [
       "8934"
      ]
     },
     "execution_count": 72,
     "metadata": {},
     "output_type": "execute_result"
    }
   ],
   "source": [
    "len(y_train)"
   ]
  },
  {
   "cell_type": "code",
   "execution_count": 73,
   "metadata": {},
   "outputs": [
    {
     "data": {
      "text/plain": [
       "562"
      ]
     },
     "execution_count": 73,
     "metadata": {},
     "output_type": "execute_result"
    }
   ],
   "source": [
    "y_test.count(1)"
   ]
  },
  {
   "cell_type": "code",
   "execution_count": 74,
   "metadata": {},
   "outputs": [
    {
     "data": {
      "text/plain": [
       "2234"
      ]
     },
     "execution_count": 74,
     "metadata": {},
     "output_type": "execute_result"
    }
   ],
   "source": [
    "len(y_test)"
   ]
  },
  {
   "cell_type": "markdown",
   "metadata": {},
   "source": [
    "# getting model"
   ]
  },
  {
   "cell_type": "code",
   "execution_count": null,
   "metadata": {},
   "outputs": [],
   "source": []
  },
  {
   "cell_type": "code",
   "execution_count": 25,
   "metadata": {},
   "outputs": [],
   "source": [
    "model_path = \"/home/grads/t/tiendat.ng.cs/github_repos/RepresentThemALL/dupbrdet/openoffice_results\"\n",
    "\n",
    "tokenizer = AutoTokenizer.from_pretrained(model_path)\n",
    "model = AutoModelForSequenceClassification.from_pretrained(model_path)\n",
    "\n",
    "classifier = TextClassificationPipeline(model=model, tokenizer=tokenizer)"
   ]
  },
  {
   "cell_type": "code",
   "execution_count": 32,
   "metadata": {},
   "outputs": [
    {
     "name": "stderr",
     "output_type": "stream",
     "text": [
      "Downloading data files: 100%|██████████| 1/1 [00:00<00:00, 9039.45it/s]\n",
      "Extracting data files: 100%|██████████| 1/1 [00:00<00:00, 944.45it/s]\n",
      "Generating train split: 2406 examples [00:00, 31549.63 examples/s]\n"
     ]
    }
   ],
   "source": [
    "raw_datasets = load_dataset(\"csv\", data_files=\"./datasets/dup_br_data/hadoop_old_train.csv\")"
   ]
  },
  {
   "cell_type": "code",
   "execution_count": 48,
   "metadata": {},
   "outputs": [
    {
     "name": "stderr",
     "output_type": "stream",
     "text": [
      "Running tokenizer on dataset:   0%|          | 0/2406 [00:00<?, ? examples/s]\n"
     ]
    },
    {
     "ename": "NameError",
     "evalue": "name 'sentence2_key' is not defined",
     "output_type": "error",
     "traceback": [
      "\u001b[0;31m---------------------------------------------------------------------------\u001b[0m",
      "\u001b[0;31mNameError\u001b[0m                                 Traceback (most recent call last)",
      "\u001b[1;32m/home/grads/t/tiendat.ng.cs/github_repos/PLM_and_BugReport_datasets/apply_RTA.ipynb Cell 33\u001b[0m line \u001b[0;36m1\n\u001b[0;32m----> <a href='vscode-notebook-cell://ssh-remote%2Bcsce-nguyen-s4.engr.tamu.edu/home/grads/t/tiendat.ng.cs/github_repos/PLM_and_BugReport_datasets/apply_RTA.ipynb#X63sdnNjb2RlLXJlbW90ZQ%3D%3D?line=0'>1</a>\u001b[0m processed_raw_datasets \u001b[39m=\u001b[39m raw_datasets\u001b[39m.\u001b[39;49mmap(\n\u001b[1;32m      <a href='vscode-notebook-cell://ssh-remote%2Bcsce-nguyen-s4.engr.tamu.edu/home/grads/t/tiendat.ng.cs/github_repos/PLM_and_BugReport_datasets/apply_RTA.ipynb#X63sdnNjb2RlLXJlbW90ZQ%3D%3D?line=1'>2</a>\u001b[0m         preprocess_function,\n\u001b[1;32m      <a href='vscode-notebook-cell://ssh-remote%2Bcsce-nguyen-s4.engr.tamu.edu/home/grads/t/tiendat.ng.cs/github_repos/PLM_and_BugReport_datasets/apply_RTA.ipynb#X63sdnNjb2RlLXJlbW90ZQ%3D%3D?line=2'>3</a>\u001b[0m         batched\u001b[39m=\u001b[39;49m\u001b[39mTrue\u001b[39;49;00m,\n\u001b[1;32m      <a href='vscode-notebook-cell://ssh-remote%2Bcsce-nguyen-s4.engr.tamu.edu/home/grads/t/tiendat.ng.cs/github_repos/PLM_and_BugReport_datasets/apply_RTA.ipynb#X63sdnNjb2RlLXJlbW90ZQ%3D%3D?line=3'>4</a>\u001b[0m         desc\u001b[39m=\u001b[39;49m\u001b[39m\"\u001b[39;49m\u001b[39mRunning tokenizer on dataset\u001b[39;49m\u001b[39m\"\u001b[39;49m,\n\u001b[1;32m      <a href='vscode-notebook-cell://ssh-remote%2Bcsce-nguyen-s4.engr.tamu.edu/home/grads/t/tiendat.ng.cs/github_repos/PLM_and_BugReport_datasets/apply_RTA.ipynb#X63sdnNjb2RlLXJlbW90ZQ%3D%3D?line=4'>5</a>\u001b[0m     )\n",
      "File \u001b[0;32m~/.local/lib/python3.8/site-packages/datasets/dataset_dict.py:853\u001b[0m, in \u001b[0;36mDatasetDict.map\u001b[0;34m(self, function, with_indices, with_rank, input_columns, batched, batch_size, drop_last_batch, remove_columns, keep_in_memory, load_from_cache_file, cache_file_names, writer_batch_size, features, disable_nullable, fn_kwargs, num_proc, desc)\u001b[0m\n\u001b[1;32m    850\u001b[0m \u001b[39mif\u001b[39;00m cache_file_names \u001b[39mis\u001b[39;00m \u001b[39mNone\u001b[39;00m:\n\u001b[1;32m    851\u001b[0m     cache_file_names \u001b[39m=\u001b[39m {k: \u001b[39mNone\u001b[39;00m \u001b[39mfor\u001b[39;00m k \u001b[39min\u001b[39;00m \u001b[39mself\u001b[39m}\n\u001b[1;32m    852\u001b[0m \u001b[39mreturn\u001b[39;00m DatasetDict(\n\u001b[0;32m--> 853\u001b[0m     {\n\u001b[1;32m    854\u001b[0m         k: dataset\u001b[39m.\u001b[39mmap(\n\u001b[1;32m    855\u001b[0m             function\u001b[39m=\u001b[39mfunction,\n\u001b[1;32m    856\u001b[0m             with_indices\u001b[39m=\u001b[39mwith_indices,\n\u001b[1;32m    857\u001b[0m             with_rank\u001b[39m=\u001b[39mwith_rank,\n\u001b[1;32m    858\u001b[0m             input_columns\u001b[39m=\u001b[39minput_columns,\n\u001b[1;32m    859\u001b[0m             batched\u001b[39m=\u001b[39mbatched,\n\u001b[1;32m    860\u001b[0m             batch_size\u001b[39m=\u001b[39mbatch_size,\n\u001b[1;32m    861\u001b[0m             drop_last_batch\u001b[39m=\u001b[39mdrop_last_batch,\n\u001b[1;32m    862\u001b[0m             remove_columns\u001b[39m=\u001b[39mremove_columns,\n\u001b[1;32m    863\u001b[0m             keep_in_memory\u001b[39m=\u001b[39mkeep_in_memory,\n\u001b[1;32m    864\u001b[0m             load_from_cache_file\u001b[39m=\u001b[39mload_from_cache_file,\n\u001b[1;32m    865\u001b[0m             cache_file_name\u001b[39m=\u001b[39mcache_file_names[k],\n\u001b[1;32m    866\u001b[0m             writer_batch_size\u001b[39m=\u001b[39mwriter_batch_size,\n\u001b[1;32m    867\u001b[0m             features\u001b[39m=\u001b[39mfeatures,\n\u001b[1;32m    868\u001b[0m             disable_nullable\u001b[39m=\u001b[39mdisable_nullable,\n\u001b[1;32m    869\u001b[0m             fn_kwargs\u001b[39m=\u001b[39mfn_kwargs,\n\u001b[1;32m    870\u001b[0m             num_proc\u001b[39m=\u001b[39mnum_proc,\n\u001b[1;32m    871\u001b[0m             desc\u001b[39m=\u001b[39mdesc,\n\u001b[1;32m    872\u001b[0m         )\n\u001b[1;32m    873\u001b[0m         \u001b[39mfor\u001b[39;00m k, dataset \u001b[39min\u001b[39;00m \u001b[39mself\u001b[39m\u001b[39m.\u001b[39mitems()\n\u001b[1;32m    874\u001b[0m     }\n\u001b[1;32m    875\u001b[0m )\n",
      "File \u001b[0;32m~/.local/lib/python3.8/site-packages/datasets/dataset_dict.py:854\u001b[0m, in \u001b[0;36m<dictcomp>\u001b[0;34m(.0)\u001b[0m\n\u001b[1;32m    850\u001b[0m \u001b[39mif\u001b[39;00m cache_file_names \u001b[39mis\u001b[39;00m \u001b[39mNone\u001b[39;00m:\n\u001b[1;32m    851\u001b[0m     cache_file_names \u001b[39m=\u001b[39m {k: \u001b[39mNone\u001b[39;00m \u001b[39mfor\u001b[39;00m k \u001b[39min\u001b[39;00m \u001b[39mself\u001b[39m}\n\u001b[1;32m    852\u001b[0m \u001b[39mreturn\u001b[39;00m DatasetDict(\n\u001b[1;32m    853\u001b[0m     {\n\u001b[0;32m--> 854\u001b[0m         k: dataset\u001b[39m.\u001b[39;49mmap(\n\u001b[1;32m    855\u001b[0m             function\u001b[39m=\u001b[39;49mfunction,\n\u001b[1;32m    856\u001b[0m             with_indices\u001b[39m=\u001b[39;49mwith_indices,\n\u001b[1;32m    857\u001b[0m             with_rank\u001b[39m=\u001b[39;49mwith_rank,\n\u001b[1;32m    858\u001b[0m             input_columns\u001b[39m=\u001b[39;49minput_columns,\n\u001b[1;32m    859\u001b[0m             batched\u001b[39m=\u001b[39;49mbatched,\n\u001b[1;32m    860\u001b[0m             batch_size\u001b[39m=\u001b[39;49mbatch_size,\n\u001b[1;32m    861\u001b[0m             drop_last_batch\u001b[39m=\u001b[39;49mdrop_last_batch,\n\u001b[1;32m    862\u001b[0m             remove_columns\u001b[39m=\u001b[39;49mremove_columns,\n\u001b[1;32m    863\u001b[0m             keep_in_memory\u001b[39m=\u001b[39;49mkeep_in_memory,\n\u001b[1;32m    864\u001b[0m             load_from_cache_file\u001b[39m=\u001b[39;49mload_from_cache_file,\n\u001b[1;32m    865\u001b[0m             cache_file_name\u001b[39m=\u001b[39;49mcache_file_names[k],\n\u001b[1;32m    866\u001b[0m             writer_batch_size\u001b[39m=\u001b[39;49mwriter_batch_size,\n\u001b[1;32m    867\u001b[0m             features\u001b[39m=\u001b[39;49mfeatures,\n\u001b[1;32m    868\u001b[0m             disable_nullable\u001b[39m=\u001b[39;49mdisable_nullable,\n\u001b[1;32m    869\u001b[0m             fn_kwargs\u001b[39m=\u001b[39;49mfn_kwargs,\n\u001b[1;32m    870\u001b[0m             num_proc\u001b[39m=\u001b[39;49mnum_proc,\n\u001b[1;32m    871\u001b[0m             desc\u001b[39m=\u001b[39;49mdesc,\n\u001b[1;32m    872\u001b[0m         )\n\u001b[1;32m    873\u001b[0m         \u001b[39mfor\u001b[39;00m k, dataset \u001b[39min\u001b[39;00m \u001b[39mself\u001b[39m\u001b[39m.\u001b[39mitems()\n\u001b[1;32m    874\u001b[0m     }\n\u001b[1;32m    875\u001b[0m )\n",
      "File \u001b[0;32m~/.local/lib/python3.8/site-packages/datasets/arrow_dataset.py:592\u001b[0m, in \u001b[0;36mtransmit_tasks.<locals>.wrapper\u001b[0;34m(*args, **kwargs)\u001b[0m\n\u001b[1;32m    590\u001b[0m     \u001b[39mself\u001b[39m: \u001b[39m\"\u001b[39m\u001b[39mDataset\u001b[39m\u001b[39m\"\u001b[39m \u001b[39m=\u001b[39m kwargs\u001b[39m.\u001b[39mpop(\u001b[39m\"\u001b[39m\u001b[39mself\u001b[39m\u001b[39m\"\u001b[39m)\n\u001b[1;32m    591\u001b[0m \u001b[39m# apply actual function\u001b[39;00m\n\u001b[0;32m--> 592\u001b[0m out: Union[\u001b[39m\"\u001b[39m\u001b[39mDataset\u001b[39m\u001b[39m\"\u001b[39m, \u001b[39m\"\u001b[39m\u001b[39mDatasetDict\u001b[39m\u001b[39m\"\u001b[39m] \u001b[39m=\u001b[39m func(\u001b[39mself\u001b[39;49m, \u001b[39m*\u001b[39;49margs, \u001b[39m*\u001b[39;49m\u001b[39m*\u001b[39;49mkwargs)\n\u001b[1;32m    593\u001b[0m datasets: List[\u001b[39m\"\u001b[39m\u001b[39mDataset\u001b[39m\u001b[39m\"\u001b[39m] \u001b[39m=\u001b[39m \u001b[39mlist\u001b[39m(out\u001b[39m.\u001b[39mvalues()) \u001b[39mif\u001b[39;00m \u001b[39misinstance\u001b[39m(out, \u001b[39mdict\u001b[39m) \u001b[39melse\u001b[39;00m [out]\n\u001b[1;32m    594\u001b[0m \u001b[39mfor\u001b[39;00m dataset \u001b[39min\u001b[39;00m datasets:\n\u001b[1;32m    595\u001b[0m     \u001b[39m# Remove task templates if a column mapping of the template is no longer valid\u001b[39;00m\n",
      "File \u001b[0;32m~/.local/lib/python3.8/site-packages/datasets/arrow_dataset.py:557\u001b[0m, in \u001b[0;36mtransmit_format.<locals>.wrapper\u001b[0;34m(*args, **kwargs)\u001b[0m\n\u001b[1;32m    550\u001b[0m self_format \u001b[39m=\u001b[39m {\n\u001b[1;32m    551\u001b[0m     \u001b[39m\"\u001b[39m\u001b[39mtype\u001b[39m\u001b[39m\"\u001b[39m: \u001b[39mself\u001b[39m\u001b[39m.\u001b[39m_format_type,\n\u001b[1;32m    552\u001b[0m     \u001b[39m\"\u001b[39m\u001b[39mformat_kwargs\u001b[39m\u001b[39m\"\u001b[39m: \u001b[39mself\u001b[39m\u001b[39m.\u001b[39m_format_kwargs,\n\u001b[1;32m    553\u001b[0m     \u001b[39m\"\u001b[39m\u001b[39mcolumns\u001b[39m\u001b[39m\"\u001b[39m: \u001b[39mself\u001b[39m\u001b[39m.\u001b[39m_format_columns,\n\u001b[1;32m    554\u001b[0m     \u001b[39m\"\u001b[39m\u001b[39moutput_all_columns\u001b[39m\u001b[39m\"\u001b[39m: \u001b[39mself\u001b[39m\u001b[39m.\u001b[39m_output_all_columns,\n\u001b[1;32m    555\u001b[0m }\n\u001b[1;32m    556\u001b[0m \u001b[39m# apply actual function\u001b[39;00m\n\u001b[0;32m--> 557\u001b[0m out: Union[\u001b[39m\"\u001b[39m\u001b[39mDataset\u001b[39m\u001b[39m\"\u001b[39m, \u001b[39m\"\u001b[39m\u001b[39mDatasetDict\u001b[39m\u001b[39m\"\u001b[39m] \u001b[39m=\u001b[39m func(\u001b[39mself\u001b[39;49m, \u001b[39m*\u001b[39;49margs, \u001b[39m*\u001b[39;49m\u001b[39m*\u001b[39;49mkwargs)\n\u001b[1;32m    558\u001b[0m datasets: List[\u001b[39m\"\u001b[39m\u001b[39mDataset\u001b[39m\u001b[39m\"\u001b[39m] \u001b[39m=\u001b[39m \u001b[39mlist\u001b[39m(out\u001b[39m.\u001b[39mvalues()) \u001b[39mif\u001b[39;00m \u001b[39misinstance\u001b[39m(out, \u001b[39mdict\u001b[39m) \u001b[39melse\u001b[39;00m [out]\n\u001b[1;32m    559\u001b[0m \u001b[39m# re-apply format to the output\u001b[39;00m\n",
      "File \u001b[0;32m~/.local/lib/python3.8/site-packages/datasets/arrow_dataset.py:3097\u001b[0m, in \u001b[0;36mDataset.map\u001b[0;34m(self, function, with_indices, with_rank, input_columns, batched, batch_size, drop_last_batch, remove_columns, keep_in_memory, load_from_cache_file, cache_file_name, writer_batch_size, features, disable_nullable, fn_kwargs, num_proc, suffix_template, new_fingerprint, desc)\u001b[0m\n\u001b[1;32m   3090\u001b[0m \u001b[39mif\u001b[39;00m transformed_dataset \u001b[39mis\u001b[39;00m \u001b[39mNone\u001b[39;00m:\n\u001b[1;32m   3091\u001b[0m     \u001b[39mwith\u001b[39;00m logging\u001b[39m.\u001b[39mtqdm(\n\u001b[1;32m   3092\u001b[0m         disable\u001b[39m=\u001b[39m\u001b[39mnot\u001b[39;00m logging\u001b[39m.\u001b[39mis_progress_bar_enabled(),\n\u001b[1;32m   3093\u001b[0m         unit\u001b[39m=\u001b[39m\u001b[39m\"\u001b[39m\u001b[39m examples\u001b[39m\u001b[39m\"\u001b[39m,\n\u001b[1;32m   3094\u001b[0m         total\u001b[39m=\u001b[39mpbar_total,\n\u001b[1;32m   3095\u001b[0m         desc\u001b[39m=\u001b[39mdesc \u001b[39mor\u001b[39;00m \u001b[39m\"\u001b[39m\u001b[39mMap\u001b[39m\u001b[39m\"\u001b[39m,\n\u001b[1;32m   3096\u001b[0m     ) \u001b[39mas\u001b[39;00m pbar:\n\u001b[0;32m-> 3097\u001b[0m         \u001b[39mfor\u001b[39;00m rank, done, content \u001b[39min\u001b[39;00m Dataset\u001b[39m.\u001b[39m_map_single(\u001b[39m*\u001b[39m\u001b[39m*\u001b[39mdataset_kwargs):\n\u001b[1;32m   3098\u001b[0m             \u001b[39mif\u001b[39;00m done:\n\u001b[1;32m   3099\u001b[0m                 shards_done \u001b[39m+\u001b[39m\u001b[39m=\u001b[39m \u001b[39m1\u001b[39m\n",
      "File \u001b[0;32m~/.local/lib/python3.8/site-packages/datasets/arrow_dataset.py:3474\u001b[0m, in \u001b[0;36mDataset._map_single\u001b[0;34m(shard, function, with_indices, with_rank, input_columns, batched, batch_size, drop_last_batch, remove_columns, keep_in_memory, cache_file_name, writer_batch_size, features, disable_nullable, fn_kwargs, new_fingerprint, rank, offset)\u001b[0m\n\u001b[1;32m   3470\u001b[0m indices \u001b[39m=\u001b[39m \u001b[39mlist\u001b[39m(\n\u001b[1;32m   3471\u001b[0m     \u001b[39mrange\u001b[39m(\u001b[39m*\u001b[39m(\u001b[39mslice\u001b[39m(i, i \u001b[39m+\u001b[39m batch_size)\u001b[39m.\u001b[39mindices(shard\u001b[39m.\u001b[39mnum_rows)))\n\u001b[1;32m   3472\u001b[0m )  \u001b[39m# Something simpler?\u001b[39;00m\n\u001b[1;32m   3473\u001b[0m \u001b[39mtry\u001b[39;00m:\n\u001b[0;32m-> 3474\u001b[0m     batch \u001b[39m=\u001b[39m apply_function_on_filtered_inputs(\n\u001b[1;32m   3475\u001b[0m         batch,\n\u001b[1;32m   3476\u001b[0m         indices,\n\u001b[1;32m   3477\u001b[0m         check_same_num_examples\u001b[39m=\u001b[39;49m\u001b[39mlen\u001b[39;49m(shard\u001b[39m.\u001b[39;49mlist_indexes()) \u001b[39m>\u001b[39;49m \u001b[39m0\u001b[39;49m,\n\u001b[1;32m   3478\u001b[0m         offset\u001b[39m=\u001b[39;49moffset,\n\u001b[1;32m   3479\u001b[0m     )\n\u001b[1;32m   3480\u001b[0m \u001b[39mexcept\u001b[39;00m NumExamplesMismatchError:\n\u001b[1;32m   3481\u001b[0m     \u001b[39mraise\u001b[39;00m DatasetTransformationNotAllowedError(\n\u001b[1;32m   3482\u001b[0m         \u001b[39m\"\u001b[39m\u001b[39mUsing `.map` in batched mode on a dataset with attached indexes is allowed only if it doesn\u001b[39m\u001b[39m'\u001b[39m\u001b[39mt create or remove existing examples. You can first run `.drop_index() to remove your index and then re-add it.\u001b[39m\u001b[39m\"\u001b[39m\n\u001b[1;32m   3483\u001b[0m     ) \u001b[39mfrom\u001b[39;00m \u001b[39mNone\u001b[39;00m\n",
      "File \u001b[0;32m~/.local/lib/python3.8/site-packages/datasets/arrow_dataset.py:3353\u001b[0m, in \u001b[0;36mDataset._map_single.<locals>.apply_function_on_filtered_inputs\u001b[0;34m(pa_inputs, indices, check_same_num_examples, offset)\u001b[0m\n\u001b[1;32m   3351\u001b[0m \u001b[39mif\u001b[39;00m with_rank:\n\u001b[1;32m   3352\u001b[0m     additional_args \u001b[39m+\u001b[39m\u001b[39m=\u001b[39m (rank,)\n\u001b[0;32m-> 3353\u001b[0m processed_inputs \u001b[39m=\u001b[39m function(\u001b[39m*\u001b[39;49mfn_args, \u001b[39m*\u001b[39;49madditional_args, \u001b[39m*\u001b[39;49m\u001b[39m*\u001b[39;49mfn_kwargs)\n\u001b[1;32m   3354\u001b[0m \u001b[39mif\u001b[39;00m \u001b[39misinstance\u001b[39m(processed_inputs, LazyDict):\n\u001b[1;32m   3355\u001b[0m     processed_inputs \u001b[39m=\u001b[39m {\n\u001b[1;32m   3356\u001b[0m         k: v \u001b[39mfor\u001b[39;00m k, v \u001b[39min\u001b[39;00m processed_inputs\u001b[39m.\u001b[39mdata\u001b[39m.\u001b[39mitems() \u001b[39mif\u001b[39;00m k \u001b[39mnot\u001b[39;00m \u001b[39min\u001b[39;00m processed_inputs\u001b[39m.\u001b[39mkeys_to_format\n\u001b[1;32m   3357\u001b[0m     }\n",
      "\u001b[1;32m/home/grads/t/tiendat.ng.cs/github_repos/PLM_and_BugReport_datasets/apply_RTA.ipynb Cell 33\u001b[0m line \u001b[0;36m4\n\u001b[1;32m      <a href='vscode-notebook-cell://ssh-remote%2Bcsce-nguyen-s4.engr.tamu.edu/home/grads/t/tiendat.ng.cs/github_repos/PLM_and_BugReport_datasets/apply_RTA.ipynb#X63sdnNjb2RlLXJlbW90ZQ%3D%3D?line=0'>1</a>\u001b[0m \u001b[39mdef\u001b[39;00m \u001b[39mpreprocess_function\u001b[39m(examples):\n\u001b[1;32m      <a href='vscode-notebook-cell://ssh-remote%2Bcsce-nguyen-s4.engr.tamu.edu/home/grads/t/tiendat.ng.cs/github_repos/PLM_and_BugReport_datasets/apply_RTA.ipynb#X63sdnNjb2RlLXJlbW90ZQ%3D%3D?line=1'>2</a>\u001b[0m         \u001b[39m# Tokenize the texts\u001b[39;00m\n\u001b[1;32m      <a href='vscode-notebook-cell://ssh-remote%2Bcsce-nguyen-s4.engr.tamu.edu/home/grads/t/tiendat.ng.cs/github_repos/PLM_and_BugReport_datasets/apply_RTA.ipynb#X63sdnNjb2RlLXJlbW90ZQ%3D%3D?line=2'>3</a>\u001b[0m         args \u001b[39m=\u001b[39m (\n\u001b[0;32m----> <a href='vscode-notebook-cell://ssh-remote%2Bcsce-nguyen-s4.engr.tamu.edu/home/grads/t/tiendat.ng.cs/github_repos/PLM_and_BugReport_datasets/apply_RTA.ipynb#X63sdnNjb2RlLXJlbW90ZQ%3D%3D?line=3'>4</a>\u001b[0m             (examples[sentence1_key],) \u001b[39mif\u001b[39;00m sentence2_key \u001b[39mis\u001b[39;00m \u001b[39mNone\u001b[39;00m \u001b[39melse\u001b[39;00m (examples[sentence1_key], examples[sentence2_key])\n\u001b[1;32m      <a href='vscode-notebook-cell://ssh-remote%2Bcsce-nguyen-s4.engr.tamu.edu/home/grads/t/tiendat.ng.cs/github_repos/PLM_and_BugReport_datasets/apply_RTA.ipynb#X63sdnNjb2RlLXJlbW90ZQ%3D%3D?line=4'>5</a>\u001b[0m         )\n\u001b[1;32m      <a href='vscode-notebook-cell://ssh-remote%2Bcsce-nguyen-s4.engr.tamu.edu/home/grads/t/tiendat.ng.cs/github_repos/PLM_and_BugReport_datasets/apply_RTA.ipynb#X63sdnNjb2RlLXJlbW90ZQ%3D%3D?line=5'>6</a>\u001b[0m         result \u001b[39m=\u001b[39m tokenizer(\u001b[39m*\u001b[39margs, padding\u001b[39m=\u001b[39mpadding, max_length\u001b[39m=\u001b[39mmax_seq_length, truncation\u001b[39m=\u001b[39m\u001b[39mTrue\u001b[39;00m)\n\u001b[1;32m      <a href='vscode-notebook-cell://ssh-remote%2Bcsce-nguyen-s4.engr.tamu.edu/home/grads/t/tiendat.ng.cs/github_repos/PLM_and_BugReport_datasets/apply_RTA.ipynb#X63sdnNjb2RlLXJlbW90ZQ%3D%3D?line=7'>8</a>\u001b[0m         \u001b[39m# Map labels to IDs (not necessary for GLUE tasks)\u001b[39;00m\n",
      "\u001b[0;31mNameError\u001b[0m: name 'sentence2_key' is not defined"
     ]
    }
   ],
   "source": [
    "processed_raw_datasets = raw_datasets.map(\n",
    "        preprocess_function,\n",
    "        batched=True,\n",
    "        desc=\"Running tokenizer on dataset\",\n",
    "    )"
   ]
  },
  {
   "cell_type": "code",
   "execution_count": 44,
   "metadata": {},
   "outputs": [
    {
     "data": {
      "text/plain": [
       "[{'label': 'yes', 'score': 0.9999542236328125}]"
      ]
     },
     "execution_count": 44,
     "metadata": {},
     "output_type": "execute_result"
    }
   ],
   "source": [
    "classifier(raw_datasets[\"train\"][0][\"bug1\"] + raw_datasets[\"train\"][0][\"bug2\"])"
   ]
  },
  {
   "cell_type": "markdown",
   "metadata": {},
   "source": [
    "## Hadoop"
   ]
  },
  {
   "cell_type": "code",
   "execution_count": 15,
   "metadata": {},
   "outputs": [],
   "source": [
    "project_name = \"hadoop\"\n",
    "\n",
    "bug_ids = get_bug_ids(conn, project_name)\n",
    "\n",
    "column_names = get_column_names(conn, project_name)\n",
    "\n",
    "union_find = UnionFind()\n",
    "union_find.process_project(conn, project_name)"
   ]
  },
  {
   "cell_type": "code",
   "execution_count": 16,
   "metadata": {},
   "outputs": [],
   "source": [
    "positive_set = get_duplicated_pairs(union_find)"
   ]
  },
  {
   "cell_type": "code",
   "execution_count": 17,
   "metadata": {},
   "outputs": [],
   "source": [
    "negative_set = get_non_duplicated_pairs(union_find, conn, len(positive_set)*5)"
   ]
  },
  {
   "cell_type": "code",
   "execution_count": 18,
   "metadata": {},
   "outputs": [
    {
     "data": {
      "text/plain": [
       "431"
      ]
     },
     "execution_count": 18,
     "metadata": {},
     "output_type": "execute_result"
    }
   ],
   "source": [
    "len(positive_set)"
   ]
  },
  {
   "cell_type": "code",
   "execution_count": 19,
   "metadata": {},
   "outputs": [
    {
     "data": {
      "text/plain": [
       "2155"
      ]
     },
     "execution_count": 19,
     "metadata": {},
     "output_type": "execute_result"
    }
   ],
   "source": [
    "len(negative_set)"
   ]
  },
  {
   "cell_type": "code",
   "execution_count": null,
   "metadata": {},
   "outputs": [
    {
     "ename": "NameError",
     "evalue": "name 'get_similarity_of_pair_with_code_feature' is not defined",
     "output_type": "error",
     "traceback": [
      "\u001b[0;31m---------------------------------------------------------------------------\u001b[0m\n",
      "\u001b[0;31mNameError\u001b[0m                                 Traceback (most recent call last)\n",
      "\u001b[1;32m/home/grads/t/tiendat.ng.cs/github_repos/PLM_and_BugReport_datasets/apply_sentence_transformer.ipynb Cell 47\u001b[0m line \u001b[0;36m1\n",
      "\u001b[0;32m----> <a href='vscode-notebook-cell://ssh-remote%2Bcsce-nguyen-s4.engr.tamu.edu/home/grads/t/tiendat.ng.cs/github_repos/PLM_and_BugReport_datasets/apply_sentence_transformer.ipynb#X64sdnNjb2RlLXJlbW90ZQ%3D%3D?line=0'>1</a>\u001b[0m sim_scores_pos \u001b[39m=\u001b[39m np\u001b[39m.\u001b[39marray([get_similarity_of_pair_with_code_feature(pair) \u001b[39mfor\u001b[39;00m pair \u001b[39min\u001b[39;00m positive_set])\n",
      "\n",
      "\u001b[1;32m/home/grads/t/tiendat.ng.cs/github_repos/PLM_and_BugReport_datasets/apply_sentence_transformer.ipynb Cell 47\u001b[0m line \u001b[0;36m1\n",
      "\u001b[0;32m----> <a href='vscode-notebook-cell://ssh-remote%2Bcsce-nguyen-s4.engr.tamu.edu/home/grads/t/tiendat.ng.cs/github_repos/PLM_and_BugReport_datasets/apply_sentence_transformer.ipynb#X64sdnNjb2RlLXJlbW90ZQ%3D%3D?line=0'>1</a>\u001b[0m sim_scores_pos \u001b[39m=\u001b[39m np\u001b[39m.\u001b[39marray([get_similarity_of_pair_with_code_feature(pair) \u001b[39mfor\u001b[39;00m pair \u001b[39min\u001b[39;00m positive_set])\n",
      "\n",
      "\u001b[0;31mNameError\u001b[0m: name 'get_similarity_of_pair_with_code_feature' is not defined"
     ]
    }
   ],
   "source": [
    "sim_scores_pos = np.array([get_similarity_of_pair_with_code_feature(pair) for pair in positive_set])"
   ]
  },
  {
   "cell_type": "code",
   "execution_count": null,
   "metadata": {},
   "outputs": [],
   "source": [
    "sim_scores_neg = np.array([get_similarity_of_pair_with_code_feature(pair) for pair in negative_set])"
   ]
  },
  {
   "cell_type": "code",
   "execution_count": null,
   "metadata": {},
   "outputs": [
    {
     "name": "stdout",
     "output_type": "stream",
     "text": [
      "0.57726604 0.25344652\n",
      "0.16706899 0.13918407\n"
     ]
    }
   ],
   "source": [
    "print(sim_scores_pos.mean(), sim_scores_pos.std())\n",
    "print(sim_scores_neg.mean(), sim_scores_neg.std())"
   ]
  },
  {
   "cell_type": "code",
   "execution_count": null,
   "metadata": {},
   "outputs": [
    {
     "data": {
      "text/plain": [
       "(array([ 5.,  1.,  6.,  7.,  5.,  7.,  6.,  6., 10., 13., 19., 14., 13.,\n",
       "        15., 17., 22., 12., 28., 23., 23., 14., 28., 18., 16., 28., 16.,\n",
       "        16.,  7.,  8., 28.]),\n",
       " array([-0.04722407, -0.0123166 ,  0.02259088,  0.05749836,  0.09240583,\n",
       "         0.12731332,  0.16222079,  0.19712827,  0.23203574,  0.26694322,\n",
       "         0.30185071,  0.33675817,  0.37166566,  0.40657312,  0.44148061,\n",
       "         0.4763881 ,  0.51129556,  0.54620302,  0.58111054,  0.616018  ,\n",
       "         0.65092546,  0.68583292,  0.72074044,  0.7556479 ,  0.79055536,\n",
       "         0.82546288,  0.86037034,  0.8952778 ,  0.93018526,  0.96509278,\n",
       "         1.00000024]),\n",
       " <BarContainer object of 30 artists>)"
      ]
     },
     "metadata": {},
     "output_type": "display_data"
    },
    {
     "data": {
      "image/png": "[encoded data removed]",
      "text/plain": [
       "<Figure size 640x480 with 1 Axes>"
      ]
     },
     "metadata": {},
     "output_type": "display_data"
    }
   ],
   "source": [
    "plt.hist(sim_scores_pos, color='lightblue', ec='black', bins=30)"
   ]
  },
  {
   "cell_type": "code",
   "execution_count": null,
   "metadata": {},
   "outputs": [
    {
     "data": {
      "text/plain": [
       "(array([  1.,   6.,  32.,  49., 112., 160., 199., 238., 216., 232., 159.,\n",
       "        168., 126., 108.,  80.,  65.,  37.,  49.,  41.,  26.,  16.,   9.,\n",
       "         15.,   4.,   2.,   2.,   0.,   2.,   0.,   1.]),\n",
       " array([-0.15785135, -0.1252148 , -0.09257824, -0.05994168, -0.02730512,\n",
       "         0.00533143,  0.03796799,  0.07060455,  0.10324111,  0.13587767,\n",
       "         0.16851422,  0.20115077,  0.23378734,  0.26642388,  0.29906046,\n",
       "         0.33169702,  0.36433357,  0.39697012,  0.42960668,  0.46224323,\n",
       "         0.49487978,  0.52751637,  0.56015289,  0.59278947,  0.62542605,\n",
       "         0.65806258,  0.69069916,  0.72333568,  0.75597227,  0.78860879,\n",
       "         0.82124537]),\n",
       " <BarContainer object of 30 artists>)"
      ]
     },
     "metadata": {},
     "output_type": "display_data"
    },
    {
     "data": {
      "image/png": "[encoded data removed]",
      "text/plain": [
       "<Figure size 640x480 with 1 Axes>"
      ]
     },
     "metadata": {},
     "output_type": "display_data"
    }
   ],
   "source": [
    "plt.hist(sim_scores_neg, color='lightyellow', ec='black', bins=30)"
   ]
  }
 ],
 "metadata": {
  "kernelspec": {
   "display_name": "Python 3",
   "language": "python",
   "name": "python3"
  },
  "language_info": {
   "codemirror_mode": {
    "name": "ipython",
    "version": 3
   },
   "file_extension": ".py",
   "mimetype": "text/x-python",
   "name": "python",
   "nbconvert_exporter": "python",
   "pygments_lexer": "ipython3",
   "version": "3.8.10"
  }
 },
 "nbformat": 4,
 "nbformat_minor": 2
}
