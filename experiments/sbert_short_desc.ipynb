{
 "cells": [
  {
   "cell_type": "code",
   "execution_count": 14,
   "metadata": {},
   "outputs": [
    {
     "name": "stderr",
     "output_type": "stream",
     "text": [
      "/home/grads/t/tiendat.ng.cs/.local/lib/python3.8/site-packages/tqdm/auto.py:21: TqdmWarning: IProgress not found. Please update jupyter and ipywidgets. See https://ipywidgets.readthedocs.io/en/stable/user_install.html\n",
      "  from .autonotebook import tqdm as notebook_tqdm\n"
     ]
    }
   ],
   "source": [
    "from sentence_transformers import SentenceTransformer, util\n",
    "import torch\n",
    "from transformers import RobertaTokenizer, RobertaConfig, RobertaModel\n",
    "\n",
    "import pynndescent\n",
    "import numpy as np\n",
    "import sys\n",
    "import os\n",
    "from tqdm import tqdm\n",
    "import sqlite3\n",
    "sys.path.insert(0, '..')\n",
    "sys.path.insert(0, '../data_processing')\n",
    "sys.path.insert(0, '../datasets')\n",
    "import my_utils\n",
    "from ComponentAutoExtractor import ComponentAutoExtractor\n"
   ]
  },
  {
   "cell_type": "markdown",
   "metadata": {},
   "source": [
    "# This experiment assert the how well sbert perform given only the short desc of BR"
   ]
  },
  {
   "cell_type": "markdown",
   "metadata": {},
   "source": [
    "## Preparation"
   ]
  },
  {
   "cell_type": "code",
   "execution_count": 11,
   "metadata": {},
   "outputs": [],
   "source": [
    "home_path = \"/home/grads/t/tiendat.ng.cs/github_repos/PLM_and_BugReport_datasets\"\n",
    "data_path = os.path.join(home_path, \"datasets\", \"hand-gen-datasets\")\n",
    "\n",
    "# connect to db\n",
    "database_path = os.path.join(home_path, \"dbrd_processed.db\")\n",
    "conn = sqlite3.connect(database_path)\n",
    "cursor = conn.cursor()"
   ]
  },
  {
   "cell_type": "code",
   "execution_count": 12,
   "metadata": {},
   "outputs": [
    {
     "name": "stdout",
     "output_type": "stream",
     "text": [
      "Folder '/home/grads/t/tiendat.ng.cs/github_repos/PLM_and_BugReport_datasets/datasets/hand-gen-datasets/spark' already exists.\n",
      "Processing spark\n"
     ]
    },
    {
     "name": "stderr",
     "output_type": "stream",
     "text": [
      "100%|██████████| 9579/9579 [00:00<00:00, 83428.14it/s]\n"
     ]
    },
    {
     "name": "stdout",
     "output_type": "stream",
     "text": [
      "Number of bug_ids before filter:  9577\n",
      "Number of bug_ids after filter:  124\n"
     ]
    }
   ],
   "source": [
    "# process db table, create save folder\n",
    "table = \"spark\"\n",
    "save_path = os.path.join(data_path, table)\n",
    "my_utils.create_folder(save_path)\n",
    "\n",
    "union_find = my_utils.UnionFind()\n",
    "union_find.process_project(conn, table, min_desc_length=10)\n",
    "bug_ids = my_utils.get_bug_ids(conn, table)\n",
    "bug_ids_w_duplicates = union_find.get_all_children()\n",
    "\n",
    "# loop through each desc extract components, and save to file\n",
    "print(\"Number of bug_ids before filter: \", len(bug_ids))\n",
    "# remove bug_ids that are of very short desc and those that does not have log\n",
    "to_remove_ids = []\n",
    "for bug_id in bug_ids:\n",
    "    desc = my_utils.get_description(conn, table, bug_id)\n",
    "    short_desc = my_utils.get_short_desc(conn, table, bug_id)\n",
    "    auto_extractor = ComponentAutoExtractor(desc)\n",
    "    if len(desc) < 50 or not auto_extractor.has_log() or bug_id not in bug_ids_w_duplicates:\n",
    "        to_remove_ids.append(bug_id)\n",
    "\n",
    "for to_remove_id in to_remove_ids:\n",
    "    bug_ids.remove(to_remove_id)\n",
    "\n",
    "print(\"Number of bug_ids after filter: \", len(bug_ids))"
   ]
  },
  {
   "cell_type": "markdown",
   "metadata": {},
   "source": [
    "## Load model"
   ]
  },
  {
   "cell_type": "code",
   "execution_count": 15,
   "metadata": {},
   "outputs": [],
   "source": [
    "model = SentenceTransformer('all-MiniLM-L6-v2')"
   ]
  },
  {
   "cell_type": "code",
   "execution_count": 18,
   "metadata": {},
   "outputs": [
    {
     "name": "stderr",
     "output_type": "stream",
     "text": [
      "100%|██████████| 124/124 [00:00<00:00, 48196.99it/s]\n"
     ]
    }
   ],
   "source": [
    "# finalize search space by adding duplicates of bug_ids_w_duplicates_and_stacktrace\n",
    "search_space = bug_ids.copy()\n",
    "for bug_id in tqdm(bug_ids):\n",
    "    dups = union_find.get_children(bug_id)\n",
    "    for dup in dups:\n",
    "        if dup != bug_id and dup not in search_space:\n",
    "            search_space.append(dup)"
   ]
  },
  {
   "cell_type": "code",
   "execution_count": 22,
   "metadata": {},
   "outputs": [
    {
     "name": "stderr",
     "output_type": "stream",
     "text": [
      "100%|██████████| 175/175 [00:01<00:00, 87.83it/s]\n"
     ]
    }
   ],
   "source": [
    "# convert to vectors\n",
    "\n",
    "search_space_vects = {}\n",
    "for bug_id in tqdm(search_space):\n",
    "    short_desc = my_utils.get_short_desc(conn, table, bug_id)\n",
    "    vect = model.encode(short_desc,convert_to_tensor=True).numpy()\n",
    "    search_space_vects[bug_id] = vect"
   ]
  },
  {
   "cell_type": "code",
   "execution_count": 23,
   "metadata": {},
   "outputs": [],
   "source": [
    "index = pynndescent.NNDescent(np.array(list(search_space_vects.values())), n_neighbors=50, metric=\"cosine\")\n",
    "index.prepare()"
   ]
  },
  {
   "cell_type": "code",
   "execution_count": 25,
   "metadata": {},
   "outputs": [
    {
     "name": "stderr",
     "output_type": "stream",
     "text": [
      "100%|██████████| 124/124 [00:00<00:00, 382985.05it/s]\n"
     ]
    }
   ],
   "source": [
    "\n",
    "Q_vects = []\n",
    "Q_indices = [search_space.index(bug_id) for bug_id in bug_ids]\n",
    "for bug_id in tqdm(bug_ids):\n",
    "    # eng = segregate_log_and_stacktrace(my_utils.get_descriptions(conn, table, bug_id))[0]\n",
    "    vect = search_space_vects[bug_id]\n",
    "    Q_vects.append(vect)"
   ]
  },
  {
   "cell_type": "code",
   "execution_count": 26,
   "metadata": {},
   "outputs": [],
   "source": [
    "neighbors = index.query(np.array(Q_vects), 11)"
   ]
  },
  {
   "cell_type": "code",
   "execution_count": 30,
   "metadata": {},
   "outputs": [
    {
     "name": "stderr",
     "output_type": "stream",
     "text": [
      "100%|██████████| 124/124 [00:00<00:00, 33112.22it/s]\n"
     ]
    }
   ],
   "source": [
    "found_in_top_k_wo_stacktrace = np.array([0, 0, 0, 0, 0, 0, 0, 0, 0, 0, 0])\n",
    "for i in tqdm(range(len(bug_ids))):\n",
    "    q = bug_ids[i]\n",
    "    # print(\"Q = \", q)\n",
    "    # print(\"Index of query \", Q_indices[i])\n",
    "    # print(\"Index of neighbors \", neighbors[0][i])\n",
    "    # print(\"Duplicates \", union_find.get_children(q))\n",
    "    index_of_duplicates = [search_space.index(id) for id in union_find.get_children(q)]\n",
    "    # print(\"Index of duplicates \", index_of_duplicates)\n",
    "    for result_k in range(1, len(neighbors[0][i][:])):\n",
    "        if neighbors[0][i][result_k] in index_of_duplicates:\n",
    "            # increment from k to 10\n",
    "            for f in range(result_k, len(found_in_top_k_wo_stacktrace)):\n",
    "                found_in_top_k_wo_stacktrace[f] += 1\n",
    "            break\n",
    "        "
   ]
  },
  {
   "cell_type": "code",
   "execution_count": 31,
   "metadata": {},
   "outputs": [
    {
     "data": {
      "text/plain": [
       "array([0.        , 0.60483871, 0.67741935, 0.7016129 , 0.72580645,\n",
       "       0.73387097, 0.75      , 0.76612903, 0.77419355, 0.79032258,\n",
       "       0.7983871 ])"
      ]
     },
     "execution_count": 31,
     "metadata": {},
     "output_type": "execute_result"
    }
   ],
   "source": [
    "found_in_top_k_wo_stacktrace / len(bug_ids)"
   ]
  },
  {
   "cell_type": "code",
   "execution_count": null,
   "metadata": {},
   "outputs": [],
   "source": []
  }
 ],
 "metadata": {
  "kernelspec": {
   "display_name": "Python 3",
   "language": "python",
   "name": "python3"
  },
  "language_info": {
   "codemirror_mode": {
    "name": "ipython",
    "version": 3
   },
   "file_extension": ".py",
   "mimetype": "text/x-python",
   "name": "python",
   "nbconvert_exporter": "python",
   "pygments_lexer": "ipython3",
   "version": "3.8.10"
  }
 },
 "nbformat": 4,
 "nbformat_minor": 2
}
