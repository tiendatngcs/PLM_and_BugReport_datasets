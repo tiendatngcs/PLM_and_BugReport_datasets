{
 "cells": [
  {
   "cell_type": "code",
   "execution_count": 1,
   "metadata": {},
   "outputs": [],
   "source": [
    "from pyspark.ml.feature import Word2Vec\n",
    "from pyspark.sql import SparkSession\n",
    "from pyspark import SparkContext\n",
    "import pyspark\n",
    "from pyspark.sql.functions import col"
   ]
  },
  {
   "cell_type": "code",
   "execution_count": 2,
   "metadata": {},
   "outputs": [
    {
     "name": "stderr",
     "output_type": "stream",
     "text": [
      "WARNING: An illegal reflective access operation has occurred\n",
      "WARNING: Illegal reflective access by org.apache.spark.unsafe.Platform (file:/home/grads/t/tiendat.ng.cs/.local/lib/python3.8/site-packages/pyspark/jars/spark-unsafe_2.12-3.2.3.jar) to constructor java.nio.DirectByteBuffer(long,int)\n",
      "WARNING: Please consider reporting this to the maintainers of org.apache.spark.unsafe.Platform\n",
      "WARNING: Use --illegal-access=warn to enable warnings of further illegal reflective access operations\n",
      "WARNING: All illegal access operations will be denied in a future release\n",
      "Setting default log level to \"WARN\".\n",
      "To adjust logging level use sc.setLogLevel(newLevel). For SparkR, use setLogLevel(newLevel).\n",
      "2023-11-28 21:14:09,282 WARN util.Utils: Service 'SparkUI' could not bind on port 4040. Attempting port 4041.\n",
      "/home/grads/t/tiendat.ng.cs/.local/lib/python3.8/site-packages/pyspark/sql/context.py:77: FutureWarning: Deprecated in 3.0.0. Use SparkSession.builder.getOrCreate() instead.\n",
      "  warnings.warn(\n"
     ]
    }
   ],
   "source": [
    "# Import Libraries\n",
    "from pyspark.sql.types import StructType, StructField, FloatType, BooleanType\n",
    "from pyspark.sql.types import DoubleType, IntegerType, StringType\n",
    "import pyspark\n",
    "from pyspark import SQLContext\n",
    "# Setup the Configuration\n",
    "conf = pyspark.SparkConf()\n",
    "# conf.setMaster('spark://csce-nguyen-s4:7077')\n",
    "spark_context = SparkSession.builder.config(conf=conf).getOrCreate()\n",
    "sqlcontext = SQLContext(spark_context)\n",
    "# Setup the Schema\n",
    "schema = StructType([\n",
    "StructField(\"User ID\", IntegerType(),True),\n",
    "StructField(\"Username\", StringType(),True),\n",
    "StructField(\"Browser\", StringType(),True),\n",
    "StructField(\"OS\", StringType(),True),\n",
    "])\n",
    "# Add Data\n",
    "data = ([(1580, \"Barry\", \"FireFox\", \"Windows\" ),\n",
    "(5820, \"Sam\", \"MS Edge\", \"Linux\"),\n",
    "(2340, \"Harry\", \"Vivaldi\", \"Windows\"),\n",
    "(7860, \"Albert\", \"Chrome\", \"Windows\"),\n",
    "(1123, \"May\", \"Safari\", \"macOS\")\n",
    "])\n",
    "# Setup the Data Frame\n",
    "user_data_df = sqlcontext.createDataFrame(data,schema=schema)"
   ]
  },
  {
   "cell_type": "code",
   "execution_count": 3,
   "metadata": {},
   "outputs": [],
   "source": [
    "spark = SparkSession.builder \\\n",
    "    .appName(\"YourAppName\") \\\n",
    "    .config(\"spark.master\", \"spark://csce-nguyen-s4:7077\") \\\n",
    "    .getOrCreate()"
   ]
  },
  {
   "cell_type": "code",
   "execution_count": 4,
   "metadata": {},
   "outputs": [
    {
     "data": {
      "text/plain": [
       "[('spark.driver.host', 'csce-nguyen-s4.engr.tamu.edu'),\n",
       " ('spark.rdd.compress', 'True'),\n",
       " ('spark.serializer.objectStreamReset', '100'),\n",
       " ('spark.sql.warehouse.dir',\n",
       "  'file:/home/grads/t/tiendat.ng.cs/github_repos/PLM_and_BugReport_datasets/spark-warehouse'),\n",
       " ('spark.master', 'local[*]'),\n",
       " ('spark.submit.pyFiles', ''),\n",
       " ('spark.executor.id', 'driver'),\n",
       " ('spark.submit.deployMode', 'client'),\n",
       " ('spark.app.id', 'local-1701227649425'),\n",
       " ('spark.driver.port', '38109'),\n",
       " ('spark.ui.showConsoleProgress', 'true'),\n",
       " ('spark.app.name', 'pyspark-shell'),\n",
       " ('spark.app.startTime', '1701227648517')]"
      ]
     },
     "execution_count": 4,
     "metadata": {},
     "output_type": "execute_result"
    }
   ],
   "source": [
    "spark.sparkContext.getConf().getAll()"
   ]
  },
  {
   "cell_type": "code",
   "execution_count": 5,
   "metadata": {},
   "outputs": [
    {
     "name": "stderr",
     "output_type": "stream",
     "text": [
      "                                                                                \r"
     ]
    }
   ],
   "source": [
    "df = spark.read.csv(\"/itineraries.csv\", header=True, inferSchema=True)\n"
   ]
  },
  {
   "cell_type": "code",
   "execution_count": 6,
   "metadata": {},
   "outputs": [
    {
     "name": "stderr",
     "output_type": "stream",
     "text": [
      "                                                                                \r"
     ]
    },
    {
     "data": {
      "text/plain": [
       "82138753"
      ]
     },
     "execution_count": 6,
     "metadata": {},
     "output_type": "execute_result"
    }
   ],
   "source": [
    "df.count()"
   ]
  },
  {
   "cell_type": "code",
   "execution_count": 7,
   "metadata": {},
   "outputs": [
    {
     "name": "stderr",
     "output_type": "stream",
     "text": [
      "2023-11-28 21:23:11,531 WARN util.package: Truncated the string representation of a plan since it was too large. This behavior can be adjusted by setting 'spark.sql.debug.maxToStringFields'.\n"
     ]
    },
    {
     "data": {
      "text/plain": [
       "[Row(legId='9ca0e81111c683bec1012473feefd28f', searchDate='2022-04-16', flightDate='2022-04-17', startingAirport='ATL', destinationAirport='BOS', fareBasisCode='LA0NX0MC', travelDuration='PT2H29M', elapsedDays=0, isBasicEconomy=False, isRefundable=False, isNonStop=True, baseFare=217.67, totalFare=248.6, seatsRemaining=9, totalTravelDistance=947, segmentsDepartureTimeEpochSeconds='1650214620', segmentsDepartureTimeRaw='2022-04-17T12:57:00.000-04:00', segmentsArrivalTimeEpochSeconds='1650223560', segmentsArrivalTimeRaw='2022-04-17T15:26:00.000-04:00', segmentsArrivalAirportCode='BOS', segmentsDepartureAirportCode='ATL', segmentsAirlineName='Delta', segmentsAirlineCode='DL', segmentsEquipmentDescription='Airbus A321', segmentsDurationInSeconds='8940', segmentsDistance='947', segmentsCabinCode='coach'),\n",
       " Row(legId='98685953630e772a098941b71906592b', searchDate='2022-04-16', flightDate='2022-04-17', startingAirport='ATL', destinationAirport='BOS', fareBasisCode='LA0NX0MC', travelDuration='PT2H30M', elapsedDays=0, isBasicEconomy=False, isRefundable=False, isNonStop=True, baseFare=217.67, totalFare=248.6, seatsRemaining=4, totalTravelDistance=947, segmentsDepartureTimeEpochSeconds='1650191400', segmentsDepartureTimeRaw='2022-04-17T06:30:00.000-04:00', segmentsArrivalTimeEpochSeconds='1650200400', segmentsArrivalTimeRaw='2022-04-17T09:00:00.000-04:00', segmentsArrivalAirportCode='BOS', segmentsDepartureAirportCode='ATL', segmentsAirlineName='Delta', segmentsAirlineCode='DL', segmentsEquipmentDescription='Airbus A321', segmentsDurationInSeconds='9000', segmentsDistance='947', segmentsCabinCode='coach'),\n",
       " Row(legId='98d90cbc32bfbb05c2fc32897c7c1087', searchDate='2022-04-16', flightDate='2022-04-17', startingAirport='ATL', destinationAirport='BOS', fareBasisCode='LA0NX0MC', travelDuration='PT2H30M', elapsedDays=0, isBasicEconomy=False, isRefundable=False, isNonStop=True, baseFare=217.67, totalFare=248.6, seatsRemaining=9, totalTravelDistance=947, segmentsDepartureTimeEpochSeconds='1650209700', segmentsDepartureTimeRaw='2022-04-17T11:35:00.000-04:00', segmentsArrivalTimeEpochSeconds='1650218700', segmentsArrivalTimeRaw='2022-04-17T14:05:00.000-04:00', segmentsArrivalAirportCode='BOS', segmentsDepartureAirportCode='ATL', segmentsAirlineName='Delta', segmentsAirlineCode='DL', segmentsEquipmentDescription='Boeing 757-200', segmentsDurationInSeconds='9000', segmentsDistance='947', segmentsCabinCode='coach'),\n",
       " Row(legId='969a269d38eae583f455486fa90877b4', searchDate='2022-04-16', flightDate='2022-04-17', startingAirport='ATL', destinationAirport='BOS', fareBasisCode='LA0NX0MC', travelDuration='PT2H32M', elapsedDays=0, isBasicEconomy=False, isRefundable=False, isNonStop=True, baseFare=217.67, totalFare=248.6, seatsRemaining=8, totalTravelDistance=947, segmentsDepartureTimeEpochSeconds='1650218340', segmentsDepartureTimeRaw='2022-04-17T13:59:00.000-04:00', segmentsArrivalTimeEpochSeconds='1650227460', segmentsArrivalTimeRaw='2022-04-17T16:31:00.000-04:00', segmentsArrivalAirportCode='BOS', segmentsDepartureAirportCode='ATL', segmentsAirlineName='Delta', segmentsAirlineCode='DL', segmentsEquipmentDescription='Airbus A321', segmentsDurationInSeconds='9120', segmentsDistance='947', segmentsCabinCode='coach'),\n",
       " Row(legId='980370cf27c89b40d2833a1d5afc9751', searchDate='2022-04-16', flightDate='2022-04-17', startingAirport='ATL', destinationAirport='BOS', fareBasisCode='LA0NX0MC', travelDuration='PT2H34M', elapsedDays=0, isBasicEconomy=False, isRefundable=False, isNonStop=True, baseFare=217.67, totalFare=248.6, seatsRemaining=9, totalTravelDistance=947, segmentsDepartureTimeEpochSeconds='1650203940', segmentsDepartureTimeRaw='2022-04-17T09:59:00.000-04:00', segmentsArrivalTimeEpochSeconds='1650213180', segmentsArrivalTimeRaw='2022-04-17T12:33:00.000-04:00', segmentsArrivalAirportCode='BOS', segmentsDepartureAirportCode='ATL', segmentsAirlineName='Delta', segmentsAirlineCode='DL', segmentsEquipmentDescription='Airbus A321', segmentsDurationInSeconds='9240', segmentsDistance='947', segmentsCabinCode='coach'),\n",
       " Row(legId='79eda9f841e226a1e2121d74211e595c', searchDate='2022-04-16', flightDate='2022-04-17', startingAirport='ATL', destinationAirport='BOS', fareBasisCode='VH0AUEL1', travelDuration='PT2H38M', elapsedDays=0, isBasicEconomy=False, isRefundable=False, isNonStop=True, baseFare=217.67, totalFare=248.6, seatsRemaining=7, totalTravelDistance=947, segmentsDepartureTimeEpochSeconds='1650206700', segmentsDepartureTimeRaw='2022-04-17T10:45:00.000-04:00', segmentsArrivalTimeEpochSeconds='1650216180', segmentsArrivalTimeRaw='2022-04-17T13:23:00.000-04:00', segmentsArrivalAirportCode='BOS', segmentsDepartureAirportCode='ATL', segmentsAirlineName='JetBlue Airways', segmentsAirlineCode='B6', segmentsEquipmentDescription=None, segmentsDurationInSeconds='9480', segmentsDistance='947', segmentsCabinCode='coach'),\n",
       " Row(legId='9335fae376c38bb61263281779f469ec', searchDate='2022-04-16', flightDate='2022-04-17', startingAirport='ATL', destinationAirport='BOS', fareBasisCode='V0AJZNN1', travelDuration='PT4H12M', elapsedDays=0, isBasicEconomy=False, isRefundable=False, isNonStop=False, baseFare=213.02, totalFare=251.1, seatsRemaining=3, totalTravelDistance=956, segmentsDepartureTimeEpochSeconds='1650198000||1650205620', segmentsDepartureTimeRaw='2022-04-17T08:20:00.000-04:00||2022-04-17T10:27:00.000-04:00', segmentsArrivalTimeEpochSeconds='1650203400||1650213120', segmentsArrivalTimeRaw='2022-04-17T09:50:00.000-04:00||2022-04-17T12:32:00.000-04:00', segmentsArrivalAirportCode='CLT||BOS', segmentsDepartureAirportCode='ATL||CLT', segmentsAirlineName='American Airlines||American Airlines', segmentsAirlineCode='AA||AA', segmentsEquipmentDescription='Airbus A320||Airbus A320', segmentsDurationInSeconds='5400||7500', segmentsDistance='228||728', segmentsCabinCode='coach||coach'),\n",
       " Row(legId='3904bf87f2d1daf334f1ae7e3b876028', searchDate='2022-04-16', flightDate='2022-04-17', startingAirport='ATL', destinationAirport='BOS', fareBasisCode='V0AJZNN1', travelDuration='PT5H18M', elapsedDays=0, isBasicEconomy=False, isRefundable=False, isNonStop=False, baseFare=213.02, totalFare=251.1, seatsRemaining=3, totalTravelDistance=956, segmentsDepartureTimeEpochSeconds='1650198000||1650208800', segmentsDepartureTimeRaw='2022-04-17T08:20:00.000-04:00||2022-04-17T11:20:00.000-04:00', segmentsArrivalTimeEpochSeconds='1650203400||1650217080', segmentsArrivalTimeRaw='2022-04-17T09:50:00.000-04:00||2022-04-17T13:38:00.000-04:00', segmentsArrivalAirportCode='CLT||BOS', segmentsDepartureAirportCode='ATL||CLT', segmentsAirlineName='American Airlines||American Airlines', segmentsAirlineCode='AA||AA', segmentsEquipmentDescription='Airbus A320||Boeing 737-800', segmentsDurationInSeconds='5400||8280', segmentsDistance='228||728', segmentsCabinCode='coach||coach'),\n",
       " Row(legId='d93988734c44a3c075d9efe373352507', searchDate='2022-04-16', flightDate='2022-04-17', startingAirport='ATL', destinationAirport='BOS', fareBasisCode='V0AJZNN1', travelDuration='PT5H32M', elapsedDays=0, isBasicEconomy=False, isRefundable=False, isNonStop=False, baseFare=213.02, totalFare=251.1, seatsRemaining=7, totalTravelDistance=956, segmentsDepartureTimeEpochSeconds='1650193200||1650205620', segmentsDepartureTimeRaw='2022-04-17T07:00:00.000-04:00||2022-04-17T10:27:00.000-04:00', segmentsArrivalTimeEpochSeconds='1650198060||1650213120', segmentsArrivalTimeRaw='2022-04-17T08:21:00.000-04:00||2022-04-17T12:32:00.000-04:00', segmentsArrivalAirportCode='CLT||BOS', segmentsDepartureAirportCode='ATL||CLT', segmentsAirlineName='American Airlines||American Airlines', segmentsAirlineCode='AA||AA', segmentsEquipmentDescription='Airbus A319||Airbus A320', segmentsDurationInSeconds='4860||7500', segmentsDistance='228||728', segmentsCabinCode='coach||coach'),\n",
       " Row(legId='562e7d5dd6ecbf1509c0c19711dbdca9', searchDate='2022-04-16', flightDate='2022-04-17', startingAirport='ATL', destinationAirport='BOS', fareBasisCode='V0AJZNN1', travelDuration='PT6H38M', elapsedDays=0, isBasicEconomy=False, isRefundable=False, isNonStop=False, baseFare=213.02, totalFare=251.1, seatsRemaining=7, totalTravelDistance=956, segmentsDepartureTimeEpochSeconds='1650193200||1650208800', segmentsDepartureTimeRaw='2022-04-17T07:00:00.000-04:00||2022-04-17T11:20:00.000-04:00', segmentsArrivalTimeEpochSeconds='1650198060||1650217080', segmentsArrivalTimeRaw='2022-04-17T08:21:00.000-04:00||2022-04-17T13:38:00.000-04:00', segmentsArrivalAirportCode='CLT||BOS', segmentsDepartureAirportCode='ATL||CLT', segmentsAirlineName='American Airlines||American Airlines', segmentsAirlineCode='AA||AA', segmentsEquipmentDescription='Airbus A319||Boeing 737-800', segmentsDurationInSeconds='4860||8280', segmentsDistance='228||728', segmentsCabinCode='coach||coach')]"
      ]
     },
     "execution_count": 7,
     "metadata": {},
     "output_type": "execute_result"
    }
   ],
   "source": [
    "df.head(10)"
   ]
  },
  {
   "cell_type": "code",
   "execution_count": 8,
   "metadata": {},
   "outputs": [],
   "source": [
    "filtereddf = df.select(\"legId\", \"startingAirport\").filter((col(\"elapsedDays\") > 0) & (col(\"seatsRemaining\") < 10))"
   ]
  },
  {
   "cell_type": "code",
   "execution_count": 9,
   "metadata": {},
   "outputs": [
    {
     "data": {
      "text/plain": [
       "DataFrame[legId: string, startingAirport: string]"
      ]
     },
     "execution_count": 9,
     "metadata": {},
     "output_type": "execute_result"
    }
   ],
   "source": [
    "filtereddf.unpersist()"
   ]
  },
  {
   "cell_type": "code",
   "execution_count": 10,
   "metadata": {},
   "outputs": [
    {
     "name": "stderr",
     "output_type": "stream",
     "text": [
      "                                                                                \r"
     ]
    },
    {
     "data": {
      "text/plain": [
       "12266709"
      ]
     },
     "execution_count": 10,
     "metadata": {},
     "output_type": "execute_result"
    }
   ],
   "source": [
    "filtereddf.count()"
   ]
  },
  {
   "cell_type": "code",
   "execution_count": 11,
   "metadata": {},
   "outputs": [
    {
     "data": {
      "text/plain": [
       "DataFrame[legId: string, startingAirport: string]"
      ]
     },
     "execution_count": 11,
     "metadata": {},
     "output_type": "execute_result"
    }
   ],
   "source": [
    "filtereddf.cache()"
   ]
  },
  {
   "cell_type": "code",
   "execution_count": 12,
   "metadata": {},
   "outputs": [
    {
     "name": "stderr",
     "output_type": "stream",
     "text": [
      "                                                                                \r"
     ]
    },
    {
     "data": {
      "text/plain": [
       "12266709"
      ]
     },
     "execution_count": 12,
     "metadata": {},
     "output_type": "execute_result"
    }
   ],
   "source": [
    "filtereddf.count()"
   ]
  },
  {
   "cell_type": "code",
   "execution_count": 13,
   "metadata": {},
   "outputs": [
    {
     "data": {
      "text/plain": [
       "12266709"
      ]
     },
     "execution_count": 13,
     "metadata": {},
     "output_type": "execute_result"
    }
   ],
   "source": [
    "filtereddf.count()"
   ]
  },
  {
   "cell_type": "code",
   "execution_count": 14,
   "metadata": {},
   "outputs": [],
   "source": [
    "filtereddf2 = df.select(\"legId\", \"startingAirport\").filter((col(\"elapsedDays\") > 1) & (col(\"seatsRemaining\") < 10))"
   ]
  },
  {
   "cell_type": "code",
   "execution_count": 15,
   "metadata": {},
   "outputs": [
    {
     "name": "stderr",
     "output_type": "stream",
     "text": [
      "                                                                                \r"
     ]
    },
    {
     "data": {
      "text/plain": [
       "753"
      ]
     },
     "execution_count": 15,
     "metadata": {},
     "output_type": "execute_result"
    }
   ],
   "source": [
    "filtereddf2.count()"
   ]
  },
  {
   "cell_type": "code",
   "execution_count": 21,
   "metadata": {},
   "outputs": [],
   "source": [
    "filtereddf3 = df.select(\"legId\", \"startingAirport\").filter((col(\"elapsedDays\") > 0) & (col(\"seatsRemaining\") < 10))"
   ]
  },
  {
   "cell_type": "code",
   "execution_count": 22,
   "metadata": {},
   "outputs": [
    {
     "data": {
      "text/plain": [
       "12266709"
      ]
     },
     "execution_count": 22,
     "metadata": {},
     "output_type": "execute_result"
    }
   ],
   "source": [
    "filtereddf3.count()"
   ]
  },
  {
   "cell_type": "code",
   "execution_count": 25,
   "metadata": {},
   "outputs": [],
   "source": [
    "filtereddf4 = filtereddf3.select(\"startingAirport\")"
   ]
  },
  {
   "cell_type": "code",
   "execution_count": 26,
   "metadata": {},
   "outputs": [
    {
     "data": {
      "text/plain": [
       "12266709"
      ]
     },
     "execution_count": 26,
     "metadata": {},
     "output_type": "execute_result"
    }
   ],
   "source": [
    "filtereddf4.count()"
   ]
  },
  {
   "cell_type": "code",
   "execution_count": 28,
   "metadata": {},
   "outputs": [
    {
     "name": "stdout",
     "output_type": "stream",
     "text": [
      "== Physical Plan ==\n",
      "InMemoryTableScan [startingAirport#27]\n",
      "   +- InMemoryRelation [legId#24, startingAirport#27], StorageLevel(disk, memory, deserialized, 1 replicas)\n",
      "         +- *(1) Project [legId#24, startingAirport#27]\n",
      "            +- *(1) Filter (((isnotnull(elapsedDays#31) AND isnotnull(seatsRemaining#37)) AND (elapsedDays#31 > 0)) AND (seatsRemaining#37 < 10))\n",
      "               +- FileScan csv [legId#24,startingAirport#27,elapsedDays#31,seatsRemaining#37] Batched: false, DataFilters: [isnotnull(elapsedDays#31), isnotnull(seatsRemaining#37), (elapsedDays#31 > 0), (seatsRemaining#3..., Format: CSV, Location: InMemoryFileIndex(1 paths)[hdfs://csce-nguyen-s1.engr.tamu.edu:9000/itineraries.csv], PartitionFilters: [], PushedFilters: [IsNotNull(elapsedDays), IsNotNull(seatsRemaining), GreaterThan(elapsedDays,0), LessThan(seatsRem..., ReadSchema: struct<legId:string,startingAirport:string,elapsedDays:int,seatsRemaining:int>\n",
      "\n",
      "\n"
     ]
    }
   ],
   "source": [
    "filtereddf4.explain()"
   ]
  },
  {
   "cell_type": "code",
   "execution_count": 29,
   "metadata": {},
   "outputs": [
    {
     "name": "stdout",
     "output_type": "stream",
     "text": [
      "== Physical Plan ==\n",
      "InMemoryTableScan [legId#24, startingAirport#27]\n",
      "   +- InMemoryRelation [legId#24, startingAirport#27], StorageLevel(disk, memory, deserialized, 1 replicas)\n",
      "         +- *(1) Project [legId#24, startingAirport#27]\n",
      "            +- *(1) Filter (((isnotnull(elapsedDays#31) AND isnotnull(seatsRemaining#37)) AND (elapsedDays#31 > 0)) AND (seatsRemaining#37 < 10))\n",
      "               +- FileScan csv [legId#24,startingAirport#27,elapsedDays#31,seatsRemaining#37] Batched: false, DataFilters: [isnotnull(elapsedDays#31), isnotnull(seatsRemaining#37), (elapsedDays#31 > 0), (seatsRemaining#3..., Format: CSV, Location: InMemoryFileIndex(1 paths)[hdfs://csce-nguyen-s1.engr.tamu.edu:9000/itineraries.csv], PartitionFilters: [], PushedFilters: [IsNotNull(elapsedDays), IsNotNull(seatsRemaining), GreaterThan(elapsedDays,0), LessThan(seatsRem..., ReadSchema: struct<legId:string,startingAirport:string,elapsedDays:int,seatsRemaining:int>\n",
      "\n",
      "\n"
     ]
    }
   ],
   "source": [
    "filtereddf3.explain()"
   ]
  },
  {
   "cell_type": "code",
   "execution_count": 32,
   "metadata": {},
   "outputs": [],
   "source": [
    "filtereddf5 = filtereddf3.filter((col(\"startingAirport\") == \"ATL\"))"
   ]
  },
  {
   "cell_type": "code",
   "execution_count": 33,
   "metadata": {},
   "outputs": [
    {
     "name": "stdout",
     "output_type": "stream",
     "text": [
      "== Physical Plan ==\n",
      "*(1) Filter (isnotnull(startingAirport#27) AND (startingAirport#27 = ATL))\n",
      "+- InMemoryTableScan [legId#24, startingAirport#27], [isnotnull(startingAirport#27), (startingAirport#27 = ATL)]\n",
      "      +- InMemoryRelation [legId#24, startingAirport#27], StorageLevel(disk, memory, deserialized, 1 replicas)\n",
      "            +- *(1) Project [legId#24, startingAirport#27]\n",
      "               +- *(1) Filter (((isnotnull(elapsedDays#31) AND isnotnull(seatsRemaining#37)) AND (elapsedDays#31 > 0)) AND (seatsRemaining#37 < 10))\n",
      "                  +- FileScan csv [legId#24,startingAirport#27,elapsedDays#31,seatsRemaining#37] Batched: false, DataFilters: [isnotnull(elapsedDays#31), isnotnull(seatsRemaining#37), (elapsedDays#31 > 0), (seatsRemaining#3..., Format: CSV, Location: InMemoryFileIndex(1 paths)[hdfs://csce-nguyen-s1.engr.tamu.edu:9000/itineraries.csv], PartitionFilters: [], PushedFilters: [IsNotNull(elapsedDays), IsNotNull(seatsRemaining), GreaterThan(elapsedDays,0), LessThan(seatsRem..., ReadSchema: struct<legId:string,startingAirport:string,elapsedDays:int,seatsRemaining:int>\n",
      "\n",
      "\n"
     ]
    }
   ],
   "source": [
    "filtereddf5.explain()"
   ]
  },
  {
   "cell_type": "code",
   "execution_count": 34,
   "metadata": {},
   "outputs": [
    {
     "data": {
      "text/plain": [
       "491326"
      ]
     },
     "execution_count": 34,
     "metadata": {},
     "output_type": "execute_result"
    }
   ],
   "source": [
    "filtereddf5.count()"
   ]
  },
  {
   "cell_type": "code",
   "execution_count": 36,
   "metadata": {},
   "outputs": [
    {
     "name": "stdout",
     "output_type": "stream",
     "text": [
      "== Physical Plan ==\n",
      "*(1) Project [legId#24, startingAirport#27]\n",
      "+- *(1) Filter (((isnotnull(elapsedDays#31) AND isnotnull(seatsRemaining#37)) AND (elapsedDays#31 > 1)) AND (seatsRemaining#37 < 10))\n",
      "   +- FileScan csv [legId#24,startingAirport#27,elapsedDays#31,seatsRemaining#37] Batched: false, DataFilters: [isnotnull(elapsedDays#31), isnotnull(seatsRemaining#37), (elapsedDays#31 > 1), (seatsRemaining#3..., Format: CSV, Location: InMemoryFileIndex(1 paths)[hdfs://csce-nguyen-s1.engr.tamu.edu:9000/itineraries.csv], PartitionFilters: [], PushedFilters: [IsNotNull(elapsedDays), IsNotNull(seatsRemaining), GreaterThan(elapsedDays,1), LessThan(seatsRem..., ReadSchema: struct<legId:string,startingAirport:string,elapsedDays:int,seatsRemaining:int>\n",
      "\n",
      "\n"
     ]
    }
   ],
   "source": [
    "filtereddf2.explain()"
   ]
  },
  {
   "cell_type": "code",
   "execution_count": null,
   "metadata": {},
   "outputs": [],
   "source": []
  }
 ],
 "metadata": {
  "kernelspec": {
   "display_name": "Python 3",
   "language": "python",
   "name": "python3"
  },
  "language_info": {
   "codemirror_mode": {
    "name": "ipython",
    "version": 3
   },
   "file_extension": ".py",
   "mimetype": "text/x-python",
   "name": "python",
   "nbconvert_exporter": "python",
   "pygments_lexer": "ipython3",
   "version": "3.8.10"
  }
 },
 "nbformat": 4,
 "nbformat_minor": 2
}
